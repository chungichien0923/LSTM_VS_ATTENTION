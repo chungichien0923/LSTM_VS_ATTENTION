{
  "cells": [
    {
      "cell_type": "code",
      "execution_count": 1,
      "metadata": {
        "colab": {
          "base_uri": "https://localhost:8080/"
        },
        "id": "BTyqFImCp4Bs",
        "outputId": "44bde1e4-fab7-4ef8-d926-f0febedcff7f"
      },
      "outputs": [
        {
          "output_type": "stream",
          "name": "stdout",
          "text": [
            "Fri Feb  4 16:06:31 2022       \n",
            "+-----------------------------------------------------------------------------+\n",
            "| NVIDIA-SMI 460.32.03    Driver Version: 460.32.03    CUDA Version: 11.2     |\n",
            "|-------------------------------+----------------------+----------------------+\n",
            "| GPU  Name        Persistence-M| Bus-Id        Disp.A | Volatile Uncorr. ECC |\n",
            "| Fan  Temp  Perf  Pwr:Usage/Cap|         Memory-Usage | GPU-Util  Compute M. |\n",
            "|                               |                      |               MIG M. |\n",
            "|===============================+======================+======================|\n",
            "|   0  Tesla P100-PCIE...  Off  | 00000000:00:04.0 Off |                    0 |\n",
            "| N/A   50C    P0    30W / 250W |      0MiB / 16280MiB |      0%      Default |\n",
            "|                               |                      |                  N/A |\n",
            "+-------------------------------+----------------------+----------------------+\n",
            "                                                                               \n",
            "+-----------------------------------------------------------------------------+\n",
            "| Processes:                                                                  |\n",
            "|  GPU   GI   CI        PID   Type   Process name                  GPU Memory |\n",
            "|        ID   ID                                                   Usage      |\n",
            "|=============================================================================|\n",
            "|  No running processes found                                                 |\n",
            "+-----------------------------------------------------------------------------+\n"
          ]
        }
      ],
      "source": [
        "!nvidia-smi"
      ]
    },
    {
      "cell_type": "markdown",
      "metadata": {
        "id": "lFXXv86wjyXW"
      },
      "source": [
        "# 匯入函式庫"
      ]
    },
    {
      "cell_type": "code",
      "source": [
        "!pip install openpyxl==3.0.9"
      ],
      "metadata": {
        "id": "3E40gN1retMV",
        "outputId": "fde279fb-ceff-4ed7-8842-2fad21ccc715",
        "colab": {
          "base_uri": "https://localhost:8080/"
        }
      },
      "execution_count": 2,
      "outputs": [
        {
          "output_type": "stream",
          "name": "stdout",
          "text": [
            "Requirement already satisfied: openpyxl==3.0.9 in /usr/local/lib/python3.7/dist-packages (3.0.9)\n",
            "Requirement already satisfied: et-xmlfile in /usr/local/lib/python3.7/dist-packages (from openpyxl==3.0.9) (1.1.0)\n"
          ]
        }
      ]
    },
    {
      "cell_type": "code",
      "execution_count": 3,
      "metadata": {
        "id": "Y6JbId_ijyXa"
      },
      "outputs": [],
      "source": [
        "import numpy as np\n",
        "import pandas as pd\n",
        "import random\n",
        "import torch\n",
        "import torch.nn as nn\n",
        "import torch.optim as optim\n",
        "from torch.utils.data import Dataset\n",
        "from torch.utils.data import DataLoader\n"
      ]
    },
    {
      "cell_type": "markdown",
      "metadata": {
        "id": "j5BJLLNqjyXf"
      },
      "source": [
        "# CPU/GPU、自定義資料集、模型、訓練函數"
      ]
    },
    {
      "cell_type": "code",
      "execution_count": 4,
      "metadata": {
        "id": "1Vci4FKYjyXf"
      },
      "outputs": [],
      "source": [
        "device = 'cuda' if torch.cuda.is_available() else 'cpu'"
      ]
    },
    {
      "cell_type": "code",
      "execution_count": 5,
      "metadata": {
        "id": "oeOCV01qjyXg"
      },
      "outputs": [],
      "source": [
        "def SetSeed(myseed):\n",
        "    # Python random module\n",
        "    random.seed(myseed)\n",
        "    # Numpy\n",
        "    np.random.seed(myseed)\n",
        "    # Torch\n",
        "    torch.manual_seed(myseed)\n",
        "    if torch.cuda.is_available():\n",
        "        torch.cuda.manual_seed(myseed)\n",
        "        torch.cuda.manual_seed_all(myseed)\n",
        "    torch.backends.cudnn.deterministic = True\n",
        "    torch.backends.cudnn.benchmark = False"
      ]
    },
    {
      "cell_type": "code",
      "execution_count": 6,
      "metadata": {
        "id": "h51i_qiLjyXh"
      },
      "outputs": [],
      "source": [
        "class TimeSeriesDataset(Dataset):\n",
        "    def __init__(self, X, WindowSize):\n",
        "        X = np.expand_dims(X, 1)\n",
        "        self.X = torch.from_numpy(X)\n",
        "        self.WindowSize = WindowSize\n",
        "        \n",
        "    def __len__(self):\n",
        "        return len(self.X) - self.WindowSize\n",
        "\n",
        "    def __getitem__(self, idx):\n",
        "        return (self.X[idx:idx+self.WindowSize], self.X[idx+self.WindowSize])\n",
        "        # return (X = [seqs, features], y)"
      ]
    },
    {
      "cell_type": "code",
      "execution_count": 7,
      "metadata": {
        "id": "FrOMyTWrjyXi"
      },
      "outputs": [],
      "source": [
        "class LSTM(nn.Module):\n",
        "    def __init__(self, num_layers, hidden_size):\n",
        "        super().__init__()\n",
        "        \n",
        "        self.Input_HiddenLayer = nn.LSTM(input_size=1, hidden_size=hidden_size, num_layers=num_layers)\n",
        "\n",
        "        self.OutputLayer = nn.Linear(hidden_size, 1)\n",
        "\n",
        "    def forward(self, input):\n",
        "        # input.shape = [BatchSize, WindowSize, 1]\n",
        "        input = input.permute(1, 0, 2)\n",
        "        # input.shape = [WindowSize, BatchSize, 1]\n",
        "        hidden, _ = self.Input_HiddenLayer(input)\n",
        "        # hidden.shape = [WindowSize, BatchSize, HiddenSize]\n",
        "        hidden = hidden[-1]\n",
        "        # hidden.shape = [BatchSize, HiddenSize]\n",
        "        output = self.OutputLayer(hidden)\n",
        "        \n",
        "        return output"
      ]
    },
    {
      "cell_type": "code",
      "execution_count": 8,
      "metadata": {
        "id": "7Pyb_Ie1p4Bz"
      },
      "outputs": [],
      "source": [
        "class Self_Attention(nn.Module):\n",
        "    def __init__(self, num_layers, hidden_size, length_input_sequence):\n",
        "        super().__init__()\n",
        "        self.num_layers = num_layers\n",
        "        \n",
        "        self.Input_First_HiddenLayer = nn.MultiheadAttention(embed_dim=hidden_size, num_heads=1)\n",
        "        self.Query_Key_Value_1 = nn.ModuleList([nn.Linear(1, hidden_size), nn.Linear(1, hidden_size), nn.Linear(1, hidden_size)])\n",
        "\n",
        "        self.Second_And_Following_HiddenLayer = nn.ModuleList([nn.MultiheadAttention(embed_dim=hidden_size, num_heads=1) for i in range(num_layers - 1)])\n",
        "        self.List_of_Query_Key_Value = nn.ModuleList([nn.ModuleList([nn.Linear(hidden_size, hidden_size) for q_k_v in range(3)]) for i in range(num_layers - 1)])\n",
        "\n",
        "        self.OutputLayer = nn.Linear(hidden_size, 1)\n",
        "\n",
        "        # generate mask\n",
        "        mask = (torch.triu(torch.ones(length_input_sequence, length_input_sequence)) == 1).transpose(0, 1)\n",
        "        mask = mask.float().masked_fill(mask == 0, float('-inf')).masked_fill(mask == 1, float(0.0)).to(device)\n",
        "        self.register_buffer('mask', mask)\n",
        "\n",
        "    def forward(self, input):\n",
        "        # input.shape = [BatchSize, WindowSize, 1]\n",
        "        input = input.permute(1, 0, 2)\n",
        "        # input.shape = [WindowSize, BatchSize, 1]\n",
        "        Query1 = self.Query_Key_Value_1[0](input)\n",
        "        Key1 = self.Query_Key_Value_1[1](input)\n",
        "        Value1 = self.Query_Key_Value_1[2](input)\n",
        "        hidden, _ = self.Input_First_HiddenLayer(Query1, Key1, Value1, attn_mask=self.mask)\n",
        "        # hidden.shape = [WindowSize, BatchSize, HiddenSize]\n",
        "        if self.num_layers > 1:\n",
        "            for i, Second_And_Following_HiddenLayer in enumerate(self.Second_And_Following_HiddenLayer):\n",
        "                Query = self.List_of_Query_Key_Value[i][0](hidden)\n",
        "                Key = self.List_of_Query_Key_Value[i][1](hidden)\n",
        "                Value = self.List_of_Query_Key_Value[i][2](hidden)\n",
        "                hidden, _ = Second_And_Following_HiddenLayer(Query, Key, Value, attn_mask=self.mask)\n",
        "        # hidden.shape = [WindowSize, BatchSize, HiddenSize]\n",
        "        hidden = hidden[-1]\n",
        "        # hidden.shape = [BatchSize, HiddenSize]\n",
        "        output = self.OutputLayer(hidden)\n",
        "        \n",
        "        return output"
      ]
    },
    {
      "cell_type": "code",
      "execution_count": 9,
      "metadata": {
        "id": "kyiiEJqhjyXj"
      },
      "outputs": [],
      "source": [
        "def train_under_config(model_type,\n",
        "                       forex_data,\n",
        "                       length_input_sequence,\n",
        "                       num_epochs,\n",
        "                       num_hidden_layers,\n",
        "                       num_hidden_sizes,\n",
        "                       batch_sizes,\n",
        "                       device):\n",
        "    '''\n",
        "    model_type: LSTM or Self_Attention,\n",
        "    forex_data,\n",
        "    length_input_sequence,\n",
        "    num_epochs,\n",
        "    learning_rate,\n",
        "    num_hidden_layers,\n",
        "    num_hidden_sizes,\n",
        "    batch_sizes,\n",
        "    device\n",
        "    '''\n",
        "    # setseed\n",
        "    SetSeed(9527)\n",
        "    # dataset\n",
        "    training_data = forex_data.loc['1981-01-01':'2016-12-31'] # training_data = training set + validation set\n",
        "    training_dataset = TimeSeriesDataset(training_data, length_input_sequence)\n",
        "    # dataloader\n",
        "    training_dataloader = DataLoader(training_dataset, batch_size=batch_sizes, shuffle=True)\n",
        "    # model\n",
        "    if model_type == Self_Attention:\n",
        "        model = model_type(num_hidden_layers, num_hidden_sizes, length_input_sequence).double()\n",
        "    else:\n",
        "        model = model_type(num_hidden_layers, num_hidden_sizes).double()\n",
        "    # criterion & optimizer\n",
        "    criterion = nn.MSELoss()\n",
        "    optimizer = optim.Adam(model.parameters())\n",
        "    # training\n",
        "    model.to(device)\n",
        "    model.train()\n",
        "    for epoch in range(num_epochs):\n",
        "        for X, y in training_dataloader:\n",
        "            optimizer.zero_grad()\n",
        "            X, y = X.to(device), y.to(device)\n",
        "            ypred = model(X)\n",
        "            loss = criterion(ypred, y)\n",
        "            loss.backward()\n",
        "            optimizer.step()\n",
        "    \n",
        "    return model"
      ]
    },
    {
      "cell_type": "code",
      "execution_count": 10,
      "metadata": {
        "id": "8J8O5cBfjyXm"
      },
      "outputs": [],
      "source": [
        "# residue pred\n",
        "def ypred(data, length_input_sequence, model, device):\n",
        "    '''\n",
        "    data,\n",
        "    length_input_sequence,\n",
        "    model,\n",
        "    device\n",
        "    '''\n",
        "    # dataset\n",
        "    testing_start_index = len(data.loc['1981-01-01':'2016-12-31']) - length_input_sequence\n",
        "    testing_end_index = len(data.loc['1981-01-01':'2020-12-31'])\n",
        "    testing_data = data[testing_start_index:testing_end_index]\n",
        "    testing_dataset = TimeSeriesDataset(testing_data, length_input_sequence)\n",
        "    # dataloader\n",
        "    data_len = len(testing_dataset)\n",
        "    testing_dataloader = DataLoader(testing_dataset, batch_size=data_len, shuffle=False)\n",
        "    # evaluating\n",
        "    model.to(device)\n",
        "    model.eval()\n",
        "    for X, y in  testing_dataloader:\n",
        "        X, y = X.to(device), y.to(device)\n",
        "        with torch.no_grad():\n",
        "            ypred = model(X)\n",
        "            ypred = np.array(ypred.cpu()).flatten()\n",
        "    return ypred"
      ]
    },
    {
      "cell_type": "code",
      "execution_count": 11,
      "metadata": {
        "id": "zeYZ3F8Dp4B1"
      },
      "outputs": [],
      "source": [
        "def prediction_on_testset(model_type, linear_data, residue_data, length_input_sequence, num_hidden_layers, num_hidden_sizes, batch_sizes, num_epochs):\n",
        "    model = train_under_config(model_type,\n",
        "                               residue_data,\n",
        "                               length_input_sequence,\n",
        "                               num_epochs,\n",
        "                               num_hidden_layers,\n",
        "                               num_hidden_sizes,\n",
        "                               batch_sizes,\n",
        "                               device)\n",
        "    model_type_linear_pred = np.array(linear_data.loc['2017-01-01':'2020-12-31'])\n",
        "    model_type_residue_pred = ypred(residue_data, length_input_sequence, model, device)\n",
        "    model_type_pred = model_type_linear_pred + model_type_residue_pred\n",
        "    return model_type_pred"
      ]
    },
    {
      "cell_type": "code",
      "execution_count": 12,
      "metadata": {
        "id": "86CVXSTup4B1"
      },
      "outputs": [],
      "source": [
        "# random walk prediction\n",
        "def rw_pred(testing_data):\n",
        "    return np.zeros(len(testing_data))"
      ]
    },
    {
      "cell_type": "code",
      "execution_count": 13,
      "metadata": {
        "id": "WCct3FFYp4B1"
      },
      "outputs": [],
      "source": [
        "def root_mean_squared_error(ypred, ytrue):\n",
        "    squared_error = (ypred - ytrue) ** 2\n",
        "    mean_squared_error = sum(squared_error) / len(squared_error)\n",
        "    return np.sqrt(mean_squared_error)"
      ]
    },
    {
      "cell_type": "code",
      "execution_count": 14,
      "metadata": {
        "id": "204p71Kgp4B2"
      },
      "outputs": [],
      "source": [
        "def mean_absolute_error(ypred, ytrue):\n",
        "    absolute_error = abs(ypred - ytrue)\n",
        "    return sum(absolute_error) / len(absolute_error)"
      ]
    },
    {
      "cell_type": "code",
      "execution_count": 15,
      "metadata": {
        "id": "LPjT8I0gp4B2"
      },
      "outputs": [],
      "source": [
        "def direction_accuracy(ypred, ytrue):\n",
        "    ypred_elementwise_dot_ytrue = ypred * ytrue\n",
        "    same_direction_rate = sum(ypred_elementwise_dot_ytrue > 0) / len(ypred_elementwise_dot_ytrue)\n",
        "    return same_direction_rate"
      ]
    },
    {
      "cell_type": "markdown",
      "metadata": {
        "id": "dGMt4b9ujyXd"
      },
      "source": [
        "# 匯入訓練資料（訓練加驗證集）訓練，並產生模型預測值"
      ]
    },
    {
      "cell_type": "markdown",
      "metadata": {
        "id": "j9cl_ZaVp4B2"
      },
      "source": [
        "## Recursive window"
      ]
    },
    {
      "cell_type": "code",
      "execution_count": 16,
      "metadata": {
        "colab": {
          "base_uri": "https://localhost:8080/",
          "height": 0
        },
        "id": "Wo-SFA1np4B2",
        "outputId": "08bb699b-65c4-4860-bc26-f838f4451130"
      },
      "outputs": [
        {
          "output_type": "execute_result",
          "data": {
            "text/html": [
              "\n",
              "  <div id=\"df-780d0d96-9023-4e8e-8fad-7ae1a0237b90\">\n",
              "    <div class=\"colab-df-container\">\n",
              "      <div>\n",
              "<style scoped>\n",
              "    .dataframe tbody tr th:only-of-type {\n",
              "        vertical-align: middle;\n",
              "    }\n",
              "\n",
              "    .dataframe tbody tr th {\n",
              "        vertical-align: top;\n",
              "    }\n",
              "\n",
              "    .dataframe thead th {\n",
              "        text-align: right;\n",
              "    }\n",
              "</style>\n",
              "<table border=\"1\" class=\"dataframe\">\n",
              "  <thead>\n",
              "    <tr style=\"text-align: right;\">\n",
              "      <th></th>\n",
              "      <th>cad_recursive_linear_prediction</th>\n",
              "      <th>aud_recursive_linear_prediction</th>\n",
              "      <th>gbp_recursive_linear_prediction</th>\n",
              "    </tr>\n",
              "  </thead>\n",
              "  <tbody>\n",
              "    <tr>\n",
              "      <th>1981-01-02</th>\n",
              "      <td>-0.000018</td>\n",
              "      <td>-0.000058</td>\n",
              "      <td>-0.000071</td>\n",
              "    </tr>\n",
              "    <tr>\n",
              "      <th>1981-01-05</th>\n",
              "      <td>-0.000018</td>\n",
              "      <td>-0.000058</td>\n",
              "      <td>-0.000167</td>\n",
              "    </tr>\n",
              "    <tr>\n",
              "      <th>1981-01-06</th>\n",
              "      <td>-0.000018</td>\n",
              "      <td>-0.000058</td>\n",
              "      <td>0.000401</td>\n",
              "    </tr>\n",
              "    <tr>\n",
              "      <th>1981-01-07</th>\n",
              "      <td>-0.000018</td>\n",
              "      <td>-0.000058</td>\n",
              "      <td>0.000029</td>\n",
              "    </tr>\n",
              "    <tr>\n",
              "      <th>1981-01-08</th>\n",
              "      <td>-0.000018</td>\n",
              "      <td>-0.000058</td>\n",
              "      <td>-0.000221</td>\n",
              "    </tr>\n",
              "    <tr>\n",
              "      <th>...</th>\n",
              "      <td>...</td>\n",
              "      <td>...</td>\n",
              "      <td>...</td>\n",
              "    </tr>\n",
              "    <tr>\n",
              "      <th>2020-12-25</th>\n",
              "      <td>-0.000012</td>\n",
              "      <td>-0.000047</td>\n",
              "      <td>0.000109</td>\n",
              "    </tr>\n",
              "    <tr>\n",
              "      <th>2020-12-28</th>\n",
              "      <td>-0.000012</td>\n",
              "      <td>-0.000047</td>\n",
              "      <td>-0.000048</td>\n",
              "    </tr>\n",
              "    <tr>\n",
              "      <th>2020-12-29</th>\n",
              "      <td>-0.000012</td>\n",
              "      <td>-0.000048</td>\n",
              "      <td>-0.000323</td>\n",
              "    </tr>\n",
              "    <tr>\n",
              "      <th>2020-12-30</th>\n",
              "      <td>-0.000012</td>\n",
              "      <td>-0.000047</td>\n",
              "      <td>0.000074</td>\n",
              "    </tr>\n",
              "    <tr>\n",
              "      <th>2020-12-31</th>\n",
              "      <td>-0.000011</td>\n",
              "      <td>-0.000046</td>\n",
              "      <td>0.000251</td>\n",
              "    </tr>\n",
              "  </tbody>\n",
              "</table>\n",
              "<p>10435 rows × 3 columns</p>\n",
              "</div>\n",
              "      <button class=\"colab-df-convert\" onclick=\"convertToInteractive('df-780d0d96-9023-4e8e-8fad-7ae1a0237b90')\"\n",
              "              title=\"Convert this dataframe to an interactive table.\"\n",
              "              style=\"display:none;\">\n",
              "        \n",
              "  <svg xmlns=\"http://www.w3.org/2000/svg\" height=\"24px\"viewBox=\"0 0 24 24\"\n",
              "       width=\"24px\">\n",
              "    <path d=\"M0 0h24v24H0V0z\" fill=\"none\"/>\n",
              "    <path d=\"M18.56 5.44l.94 2.06.94-2.06 2.06-.94-2.06-.94-.94-2.06-.94 2.06-2.06.94zm-11 1L8.5 8.5l.94-2.06 2.06-.94-2.06-.94L8.5 2.5l-.94 2.06-2.06.94zm10 10l.94 2.06.94-2.06 2.06-.94-2.06-.94-.94-2.06-.94 2.06-2.06.94z\"/><path d=\"M17.41 7.96l-1.37-1.37c-.4-.4-.92-.59-1.43-.59-.52 0-1.04.2-1.43.59L10.3 9.45l-7.72 7.72c-.78.78-.78 2.05 0 2.83L4 21.41c.39.39.9.59 1.41.59.51 0 1.02-.2 1.41-.59l7.78-7.78 2.81-2.81c.8-.78.8-2.07 0-2.86zM5.41 20L4 18.59l7.72-7.72 1.47 1.35L5.41 20z\"/>\n",
              "  </svg>\n",
              "      </button>\n",
              "      \n",
              "  <style>\n",
              "    .colab-df-container {\n",
              "      display:flex;\n",
              "      flex-wrap:wrap;\n",
              "      gap: 12px;\n",
              "    }\n",
              "\n",
              "    .colab-df-convert {\n",
              "      background-color: #E8F0FE;\n",
              "      border: none;\n",
              "      border-radius: 50%;\n",
              "      cursor: pointer;\n",
              "      display: none;\n",
              "      fill: #1967D2;\n",
              "      height: 32px;\n",
              "      padding: 0 0 0 0;\n",
              "      width: 32px;\n",
              "    }\n",
              "\n",
              "    .colab-df-convert:hover {\n",
              "      background-color: #E2EBFA;\n",
              "      box-shadow: 0px 1px 2px rgba(60, 64, 67, 0.3), 0px 1px 3px 1px rgba(60, 64, 67, 0.15);\n",
              "      fill: #174EA6;\n",
              "    }\n",
              "\n",
              "    [theme=dark] .colab-df-convert {\n",
              "      background-color: #3B4455;\n",
              "      fill: #D2E3FC;\n",
              "    }\n",
              "\n",
              "    [theme=dark] .colab-df-convert:hover {\n",
              "      background-color: #434B5C;\n",
              "      box-shadow: 0px 1px 3px 1px rgba(0, 0, 0, 0.15);\n",
              "      filter: drop-shadow(0px 1px 2px rgba(0, 0, 0, 0.3));\n",
              "      fill: #FFFFFF;\n",
              "    }\n",
              "  </style>\n",
              "\n",
              "      <script>\n",
              "        const buttonEl =\n",
              "          document.querySelector('#df-780d0d96-9023-4e8e-8fad-7ae1a0237b90 button.colab-df-convert');\n",
              "        buttonEl.style.display =\n",
              "          google.colab.kernel.accessAllowed ? 'block' : 'none';\n",
              "\n",
              "        async function convertToInteractive(key) {\n",
              "          const element = document.querySelector('#df-780d0d96-9023-4e8e-8fad-7ae1a0237b90');\n",
              "          const dataTable =\n",
              "            await google.colab.kernel.invokeFunction('convertToInteractive',\n",
              "                                                     [key], {});\n",
              "          if (!dataTable) return;\n",
              "\n",
              "          const docLinkHtml = 'Like what you see? Visit the ' +\n",
              "            '<a target=\"_blank\" href=https://colab.research.google.com/notebooks/data_table.ipynb>data table notebook</a>'\n",
              "            + ' to learn more about interactive tables.';\n",
              "          element.innerHTML = '';\n",
              "          dataTable['output_type'] = 'display_data';\n",
              "          await google.colab.output.renderOutput(dataTable, element);\n",
              "          const docLink = document.createElement('div');\n",
              "          docLink.innerHTML = docLinkHtml;\n",
              "          element.appendChild(docLink);\n",
              "        }\n",
              "      </script>\n",
              "    </div>\n",
              "  </div>\n",
              "  "
            ],
            "text/plain": [
              "            cad_recursive_linear_prediction  ...  gbp_recursive_linear_prediction\n",
              "1981-01-02                        -0.000018  ...                        -0.000071\n",
              "1981-01-05                        -0.000018  ...                        -0.000167\n",
              "1981-01-06                        -0.000018  ...                         0.000401\n",
              "1981-01-07                        -0.000018  ...                         0.000029\n",
              "1981-01-08                        -0.000018  ...                        -0.000221\n",
              "...                                     ...  ...                              ...\n",
              "2020-12-25                        -0.000012  ...                         0.000109\n",
              "2020-12-28                        -0.000012  ...                        -0.000048\n",
              "2020-12-29                        -0.000012  ...                        -0.000323\n",
              "2020-12-30                        -0.000012  ...                         0.000074\n",
              "2020-12-31                        -0.000011  ...                         0.000251\n",
              "\n",
              "[10435 rows x 3 columns]"
            ]
          },
          "metadata": {},
          "execution_count": 16
        }
      ],
      "source": [
        "recursive_linear = pd.read_csv('./recursive_linear_prediction.csv', index_col=0)\n",
        "recursive_linear = recursive_linear.astype('float64')\n",
        "recursive_linear.index = pd.to_datetime(recursive_linear.index)\n",
        "\n",
        "cad_recursive_linear = recursive_linear.iloc[:,0]\n",
        "aud_recursive_linear = recursive_linear.iloc[:,1]\n",
        "gbp_recursive_linear = recursive_linear.iloc[:,2]\n",
        "\n",
        "recursive_linear"
      ]
    },
    {
      "cell_type": "code",
      "execution_count": 17,
      "metadata": {
        "colab": {
          "base_uri": "https://localhost:8080/",
          "height": 0
        },
        "id": "UICkwjZ8p4B2",
        "outputId": "3985ca74-1a35-4f04-b6b1-f290dbd12ed9"
      },
      "outputs": [
        {
          "output_type": "execute_result",
          "data": {
            "text/html": [
              "\n",
              "  <div id=\"df-4cc65dbe-a34f-43d3-9343-df95d384f1b6\">\n",
              "    <div class=\"colab-df-container\">\n",
              "      <div>\n",
              "<style scoped>\n",
              "    .dataframe tbody tr th:only-of-type {\n",
              "        vertical-align: middle;\n",
              "    }\n",
              "\n",
              "    .dataframe tbody tr th {\n",
              "        vertical-align: top;\n",
              "    }\n",
              "\n",
              "    .dataframe thead th {\n",
              "        text-align: right;\n",
              "    }\n",
              "</style>\n",
              "<table border=\"1\" class=\"dataframe\">\n",
              "  <thead>\n",
              "    <tr style=\"text-align: right;\">\n",
              "      <th></th>\n",
              "      <th>cad_recursive_linear_residue</th>\n",
              "      <th>aud_recursive_linear_residue</th>\n",
              "      <th>gbp_recursive_linear_residue</th>\n",
              "    </tr>\n",
              "  </thead>\n",
              "  <tbody>\n",
              "    <tr>\n",
              "      <th>1981-01-02</th>\n",
              "      <td>-0.000221</td>\n",
              "      <td>-0.000959</td>\n",
              "      <td>-0.002864</td>\n",
              "    </tr>\n",
              "    <tr>\n",
              "      <th>1981-01-05</th>\n",
              "      <td>0.005142</td>\n",
              "      <td>0.003863</td>\n",
              "      <td>0.014132</td>\n",
              "    </tr>\n",
              "    <tr>\n",
              "      <th>1981-01-06</th>\n",
              "      <td>0.000374</td>\n",
              "      <td>0.003681</td>\n",
              "      <td>0.002493</td>\n",
              "    </tr>\n",
              "    <tr>\n",
              "      <th>1981-01-07</th>\n",
              "      <td>0.000255</td>\n",
              "      <td>0.000058</td>\n",
              "      <td>-0.004580</td>\n",
              "    </tr>\n",
              "    <tr>\n",
              "      <th>1981-01-08</th>\n",
              "      <td>0.000018</td>\n",
              "      <td>-0.002047</td>\n",
              "      <td>-0.003102</td>\n",
              "    </tr>\n",
              "    <tr>\n",
              "      <th>...</th>\n",
              "      <td>...</td>\n",
              "      <td>...</td>\n",
              "      <td>...</td>\n",
              "    </tr>\n",
              "    <tr>\n",
              "      <th>2020-12-25</th>\n",
              "      <td>-0.000117</td>\n",
              "      <td>0.001100</td>\n",
              "      <td>0.000038</td>\n",
              "    </tr>\n",
              "    <tr>\n",
              "      <th>2020-12-28</th>\n",
              "      <td>0.001426</td>\n",
              "      <td>-0.003377</td>\n",
              "      <td>-0.007949</td>\n",
              "    </tr>\n",
              "    <tr>\n",
              "      <th>2020-12-29</th>\n",
              "      <td>0.002194</td>\n",
              "      <td>0.003604</td>\n",
              "      <td>0.004107</td>\n",
              "    </tr>\n",
              "    <tr>\n",
              "      <th>2020-12-30</th>\n",
              "      <td>0.005254</td>\n",
              "      <td>0.010510</td>\n",
              "      <td>0.008920</td>\n",
              "    </tr>\n",
              "    <tr>\n",
              "      <th>2020-12-31</th>\n",
              "      <td>0.001413</td>\n",
              "      <td>0.001087</td>\n",
              "      <td>0.003047</td>\n",
              "    </tr>\n",
              "  </tbody>\n",
              "</table>\n",
              "<p>10435 rows × 3 columns</p>\n",
              "</div>\n",
              "      <button class=\"colab-df-convert\" onclick=\"convertToInteractive('df-4cc65dbe-a34f-43d3-9343-df95d384f1b6')\"\n",
              "              title=\"Convert this dataframe to an interactive table.\"\n",
              "              style=\"display:none;\">\n",
              "        \n",
              "  <svg xmlns=\"http://www.w3.org/2000/svg\" height=\"24px\"viewBox=\"0 0 24 24\"\n",
              "       width=\"24px\">\n",
              "    <path d=\"M0 0h24v24H0V0z\" fill=\"none\"/>\n",
              "    <path d=\"M18.56 5.44l.94 2.06.94-2.06 2.06-.94-2.06-.94-.94-2.06-.94 2.06-2.06.94zm-11 1L8.5 8.5l.94-2.06 2.06-.94-2.06-.94L8.5 2.5l-.94 2.06-2.06.94zm10 10l.94 2.06.94-2.06 2.06-.94-2.06-.94-.94-2.06-.94 2.06-2.06.94z\"/><path d=\"M17.41 7.96l-1.37-1.37c-.4-.4-.92-.59-1.43-.59-.52 0-1.04.2-1.43.59L10.3 9.45l-7.72 7.72c-.78.78-.78 2.05 0 2.83L4 21.41c.39.39.9.59 1.41.59.51 0 1.02-.2 1.41-.59l7.78-7.78 2.81-2.81c.8-.78.8-2.07 0-2.86zM5.41 20L4 18.59l7.72-7.72 1.47 1.35L5.41 20z\"/>\n",
              "  </svg>\n",
              "      </button>\n",
              "      \n",
              "  <style>\n",
              "    .colab-df-container {\n",
              "      display:flex;\n",
              "      flex-wrap:wrap;\n",
              "      gap: 12px;\n",
              "    }\n",
              "\n",
              "    .colab-df-convert {\n",
              "      background-color: #E8F0FE;\n",
              "      border: none;\n",
              "      border-radius: 50%;\n",
              "      cursor: pointer;\n",
              "      display: none;\n",
              "      fill: #1967D2;\n",
              "      height: 32px;\n",
              "      padding: 0 0 0 0;\n",
              "      width: 32px;\n",
              "    }\n",
              "\n",
              "    .colab-df-convert:hover {\n",
              "      background-color: #E2EBFA;\n",
              "      box-shadow: 0px 1px 2px rgba(60, 64, 67, 0.3), 0px 1px 3px 1px rgba(60, 64, 67, 0.15);\n",
              "      fill: #174EA6;\n",
              "    }\n",
              "\n",
              "    [theme=dark] .colab-df-convert {\n",
              "      background-color: #3B4455;\n",
              "      fill: #D2E3FC;\n",
              "    }\n",
              "\n",
              "    [theme=dark] .colab-df-convert:hover {\n",
              "      background-color: #434B5C;\n",
              "      box-shadow: 0px 1px 3px 1px rgba(0, 0, 0, 0.15);\n",
              "      filter: drop-shadow(0px 1px 2px rgba(0, 0, 0, 0.3));\n",
              "      fill: #FFFFFF;\n",
              "    }\n",
              "  </style>\n",
              "\n",
              "      <script>\n",
              "        const buttonEl =\n",
              "          document.querySelector('#df-4cc65dbe-a34f-43d3-9343-df95d384f1b6 button.colab-df-convert');\n",
              "        buttonEl.style.display =\n",
              "          google.colab.kernel.accessAllowed ? 'block' : 'none';\n",
              "\n",
              "        async function convertToInteractive(key) {\n",
              "          const element = document.querySelector('#df-4cc65dbe-a34f-43d3-9343-df95d384f1b6');\n",
              "          const dataTable =\n",
              "            await google.colab.kernel.invokeFunction('convertToInteractive',\n",
              "                                                     [key], {});\n",
              "          if (!dataTable) return;\n",
              "\n",
              "          const docLinkHtml = 'Like what you see? Visit the ' +\n",
              "            '<a target=\"_blank\" href=https://colab.research.google.com/notebooks/data_table.ipynb>data table notebook</a>'\n",
              "            + ' to learn more about interactive tables.';\n",
              "          element.innerHTML = '';\n",
              "          dataTable['output_type'] = 'display_data';\n",
              "          await google.colab.output.renderOutput(dataTable, element);\n",
              "          const docLink = document.createElement('div');\n",
              "          docLink.innerHTML = docLinkHtml;\n",
              "          element.appendChild(docLink);\n",
              "        }\n",
              "      </script>\n",
              "    </div>\n",
              "  </div>\n",
              "  "
            ],
            "text/plain": [
              "            cad_recursive_linear_residue  ...  gbp_recursive_linear_residue\n",
              "1981-01-02                     -0.000221  ...                     -0.002864\n",
              "1981-01-05                      0.005142  ...                      0.014132\n",
              "1981-01-06                      0.000374  ...                      0.002493\n",
              "1981-01-07                      0.000255  ...                     -0.004580\n",
              "1981-01-08                      0.000018  ...                     -0.003102\n",
              "...                                  ...  ...                           ...\n",
              "2020-12-25                     -0.000117  ...                      0.000038\n",
              "2020-12-28                      0.001426  ...                     -0.007949\n",
              "2020-12-29                      0.002194  ...                      0.004107\n",
              "2020-12-30                      0.005254  ...                      0.008920\n",
              "2020-12-31                      0.001413  ...                      0.003047\n",
              "\n",
              "[10435 rows x 3 columns]"
            ]
          },
          "metadata": {},
          "execution_count": 17
        }
      ],
      "source": [
        "recursive_residue = pd.read_csv('./recursive_linear_residue.csv', index_col=0)\n",
        "recursive_residue = recursive_residue.astype('float64')\n",
        "recursive_residue.index = pd.to_datetime(recursive_residue.index)\n",
        "\n",
        "cad_recursive_residue = recursive_residue.iloc[:,0]\n",
        "aud_recursive_residue = recursive_residue.iloc[:,1]\n",
        "gbp_recursive_residue = recursive_residue.iloc[:,2]\n",
        "\n",
        "recursive_residue"
      ]
    },
    {
      "cell_type": "markdown",
      "metadata": {
        "id": "yvryYFufp4B3"
      },
      "source": [
        "### LSTM"
      ]
    },
    {
      "cell_type": "code",
      "execution_count": 18,
      "metadata": {
        "id": "RfMK4EIap4B3"
      },
      "outputs": [],
      "source": [
        "model_type = LSTM"
      ]
    },
    {
      "cell_type": "markdown",
      "metadata": {
        "id": "f0wCxPDKp4B3"
      },
      "source": [
        "#### cad"
      ]
    },
    {
      "cell_type": "code",
      "execution_count": 19,
      "metadata": {
        "colab": {
          "base_uri": "https://localhost:8080/"
        },
        "id": "E2qm2kMbp4B3",
        "outputId": "86369b7c-67fe-482f-8392-160ade4f7070"
      },
      "outputs": [
        {
          "output_type": "execute_result",
          "data": {
            "text/plain": [
              "1981-01-02   -0.000018\n",
              "1981-01-05   -0.000018\n",
              "1981-01-06   -0.000018\n",
              "1981-01-07   -0.000018\n",
              "1981-01-08   -0.000018\n",
              "                ...   \n",
              "2020-12-25   -0.000012\n",
              "2020-12-28   -0.000012\n",
              "2020-12-29   -0.000012\n",
              "2020-12-30   -0.000012\n",
              "2020-12-31   -0.000011\n",
              "Name: cad_recursive_linear_prediction, Length: 10435, dtype: float64"
            ]
          },
          "metadata": {},
          "execution_count": 19
        }
      ],
      "source": [
        "cad_recursive_linear"
      ]
    },
    {
      "cell_type": "code",
      "execution_count": 20,
      "metadata": {
        "colab": {
          "base_uri": "https://localhost:8080/"
        },
        "id": "NeOEOqhHp4B3",
        "outputId": "e5552a04-d90c-49e5-cc0a-42eef9ca06ec"
      },
      "outputs": [
        {
          "output_type": "execute_result",
          "data": {
            "text/plain": [
              "1981-01-02   -0.000221\n",
              "1981-01-05    0.005142\n",
              "1981-01-06    0.000374\n",
              "1981-01-07    0.000255\n",
              "1981-01-08    0.000018\n",
              "                ...   \n",
              "2020-12-25   -0.000117\n",
              "2020-12-28    0.001426\n",
              "2020-12-29    0.002194\n",
              "2020-12-30    0.005254\n",
              "2020-12-31    0.001413\n",
              "Name: cad_recursive_linear_residue, Length: 10435, dtype: float64"
            ]
          },
          "metadata": {},
          "execution_count": 20
        }
      ],
      "source": [
        "cad_recursive_residue"
      ]
    },
    {
      "cell_type": "code",
      "execution_count": 21,
      "metadata": {
        "id": "x5R7U2zpp4B3"
      },
      "outputs": [],
      "source": [
        "# optim hyperparameters obtained by grid search\n",
        "length_input_sequence = 5\n",
        "num_hidden_layers = 2\n",
        "num_hidden_sizes = 1600\n",
        "batch_sizes = 16\n",
        "num_epochs = 5"
      ]
    },
    {
      "cell_type": "code",
      "execution_count": 22,
      "metadata": {
        "id": "ZtPuR4B8p4B3"
      },
      "outputs": [],
      "source": [
        "cad_recursive_LSTM_pred = prediction_on_testset(model_type, cad_recursive_linear, cad_recursive_residue, length_input_sequence, num_hidden_layers, num_hidden_sizes, batch_sizes, num_epochs)"
      ]
    },
    {
      "cell_type": "markdown",
      "metadata": {
        "id": "HsDAO82hp4B3"
      },
      "source": [
        "#### aud"
      ]
    },
    {
      "cell_type": "code",
      "execution_count": 23,
      "metadata": {
        "colab": {
          "base_uri": "https://localhost:8080/"
        },
        "id": "XqxDtmh6p4B4",
        "outputId": "c0bbafce-db0d-45c8-f646-e70ab87e2bb3"
      },
      "outputs": [
        {
          "output_type": "execute_result",
          "data": {
            "text/plain": [
              "1981-01-02   -0.000058\n",
              "1981-01-05   -0.000058\n",
              "1981-01-06   -0.000058\n",
              "1981-01-07   -0.000058\n",
              "1981-01-08   -0.000058\n",
              "                ...   \n",
              "2020-12-25   -0.000047\n",
              "2020-12-28   -0.000047\n",
              "2020-12-29   -0.000048\n",
              "2020-12-30   -0.000047\n",
              "2020-12-31   -0.000046\n",
              "Name: aud_recursive_linear_prediction, Length: 10435, dtype: float64"
            ]
          },
          "metadata": {},
          "execution_count": 23
        }
      ],
      "source": [
        "aud_recursive_linear"
      ]
    },
    {
      "cell_type": "code",
      "execution_count": 24,
      "metadata": {
        "colab": {
          "base_uri": "https://localhost:8080/"
        },
        "id": "sE5xnnNJp4B4",
        "outputId": "768a54e2-1a40-4aa7-aed4-6c12eb32cd1b"
      },
      "outputs": [
        {
          "output_type": "execute_result",
          "data": {
            "text/plain": [
              "1981-01-02   -0.000959\n",
              "1981-01-05    0.003863\n",
              "1981-01-06    0.003681\n",
              "1981-01-07    0.000058\n",
              "1981-01-08   -0.002047\n",
              "                ...   \n",
              "2020-12-25    0.001100\n",
              "2020-12-28   -0.003377\n",
              "2020-12-29    0.003604\n",
              "2020-12-30    0.010510\n",
              "2020-12-31    0.001087\n",
              "Name: aud_recursive_linear_residue, Length: 10435, dtype: float64"
            ]
          },
          "metadata": {},
          "execution_count": 24
        }
      ],
      "source": [
        "aud_recursive_residue"
      ]
    },
    {
      "cell_type": "code",
      "execution_count": 25,
      "metadata": {
        "id": "pGPRs3u_p4B4"
      },
      "outputs": [],
      "source": [
        "# optim hyperparameters obtained by grid search\n",
        "length_input_sequence = 10\n",
        "num_hidden_layers = 3\n",
        "num_hidden_sizes = 1600\n",
        "batch_sizes = 128\n",
        "num_epochs = 15"
      ]
    },
    {
      "cell_type": "code",
      "execution_count": 26,
      "metadata": {
        "id": "i-SY4rm5p4B4"
      },
      "outputs": [],
      "source": [
        "aud_recursive_LSTM_pred = prediction_on_testset(model_type, aud_recursive_linear, aud_recursive_residue, length_input_sequence, num_hidden_layers, num_hidden_sizes, batch_sizes, num_epochs)"
      ]
    },
    {
      "cell_type": "markdown",
      "metadata": {
        "id": "2BtD9vY_p4B4"
      },
      "source": [
        "#### gbp"
      ]
    },
    {
      "cell_type": "code",
      "execution_count": 27,
      "metadata": {
        "colab": {
          "base_uri": "https://localhost:8080/"
        },
        "id": "cUsg1bnVp4B4",
        "outputId": "85e65187-9c12-4223-9359-0ab264057fad"
      },
      "outputs": [
        {
          "data": {
            "text/plain": [
              "1981-01-02   -0.000071\n",
              "1981-01-05   -0.000167\n",
              "1981-01-06    0.000401\n",
              "1981-01-07    0.000029\n",
              "1981-01-08   -0.000221\n",
              "                ...   \n",
              "2020-12-25    0.000109\n",
              "2020-12-28   -0.000048\n",
              "2020-12-29   -0.000323\n",
              "2020-12-30    0.000074\n",
              "2020-12-31    0.000251\n",
              "Name: gbp_recursive_linear_prediction, Length: 10435, dtype: float64"
            ]
          },
          "execution_count": null,
          "metadata": {},
          "output_type": "execute_result"
        }
      ],
      "source": [
        "gbp_recursive_linear"
      ]
    },
    {
      "cell_type": "code",
      "execution_count": 28,
      "metadata": {
        "colab": {
          "base_uri": "https://localhost:8080/"
        },
        "id": "PL_HKKtLp4B4",
        "outputId": "a2387020-6b2a-4677-ac6a-a970a8b3394a"
      },
      "outputs": [
        {
          "data": {
            "text/plain": [
              "1981-01-02   -0.002864\n",
              "1981-01-05    0.014132\n",
              "1981-01-06    0.002493\n",
              "1981-01-07   -0.004580\n",
              "1981-01-08   -0.003102\n",
              "                ...   \n",
              "2020-12-25    0.000038\n",
              "2020-12-28   -0.007949\n",
              "2020-12-29    0.004107\n",
              "2020-12-30    0.008920\n",
              "2020-12-31    0.003047\n",
              "Name: gbp_recursive_linear_residue, Length: 10435, dtype: float64"
            ]
          },
          "execution_count": null,
          "metadata": {},
          "output_type": "execute_result"
        }
      ],
      "source": [
        "gbp_recursive_residue"
      ]
    },
    {
      "cell_type": "code",
      "execution_count": 29,
      "metadata": {
        "id": "AF7ttxI5p4B4"
      },
      "outputs": [],
      "source": [
        "# optim hyperparameters obtained by grid search\n",
        "length_input_sequence = 5\n",
        "num_hidden_layers = 2\n",
        "num_hidden_sizes = 25\n",
        "batch_sizes = 256\n",
        "num_epochs = 5"
      ]
    },
    {
      "cell_type": "code",
      "execution_count": 30,
      "metadata": {
        "id": "Nmhcb7bSp4B4"
      },
      "outputs": [],
      "source": [
        "gbp_recursive_LSTM_pred = prediction_on_testset(model_type, gbp_recursive_linear, gbp_recursive_residue, length_input_sequence, num_hidden_layers, num_hidden_sizes, batch_sizes, num_epochs)"
      ]
    },
    {
      "cell_type": "markdown",
      "metadata": {
        "id": "T3pxBIcxp4B4"
      },
      "source": [
        "### Self-Attention"
      ]
    },
    {
      "cell_type": "code",
      "execution_count": 31,
      "metadata": {
        "id": "XpISzmO2p4B4"
      },
      "outputs": [],
      "source": [
        "model_type = Self_Attention"
      ]
    },
    {
      "cell_type": "markdown",
      "metadata": {
        "id": "J1qCDcCMp4B4"
      },
      "source": [
        "#### cad"
      ]
    },
    {
      "cell_type": "code",
      "execution_count": 32,
      "metadata": {
        "colab": {
          "base_uri": "https://localhost:8080/"
        },
        "id": "aWmUYhIFp4B4",
        "outputId": "d38384d3-b7da-47e2-fdb8-92d2f6c0b826"
      },
      "outputs": [
        {
          "data": {
            "text/plain": [
              "1981-01-02   -0.000018\n",
              "1981-01-05   -0.000018\n",
              "1981-01-06   -0.000018\n",
              "1981-01-07   -0.000018\n",
              "1981-01-08   -0.000018\n",
              "                ...   \n",
              "2020-12-25   -0.000012\n",
              "2020-12-28   -0.000012\n",
              "2020-12-29   -0.000012\n",
              "2020-12-30   -0.000012\n",
              "2020-12-31   -0.000011\n",
              "Name: cad_recursive_linear_prediction, Length: 10435, dtype: float64"
            ]
          },
          "execution_count": null,
          "metadata": {},
          "output_type": "execute_result"
        }
      ],
      "source": [
        "cad_recursive_linear"
      ]
    },
    {
      "cell_type": "code",
      "execution_count": 33,
      "metadata": {
        "colab": {
          "base_uri": "https://localhost:8080/"
        },
        "id": "RWpdVvZJp4B5",
        "outputId": "32de64c5-fb04-4d73-a9d2-38094e8522d9"
      },
      "outputs": [
        {
          "data": {
            "text/plain": [
              "1981-01-02   -0.000221\n",
              "1981-01-05    0.005142\n",
              "1981-01-06    0.000374\n",
              "1981-01-07    0.000255\n",
              "1981-01-08    0.000018\n",
              "                ...   \n",
              "2020-12-25   -0.000117\n",
              "2020-12-28    0.001426\n",
              "2020-12-29    0.002194\n",
              "2020-12-30    0.005254\n",
              "2020-12-31    0.001413\n",
              "Name: cad_recursive_linear_residue, Length: 10435, dtype: float64"
            ]
          },
          "execution_count": null,
          "metadata": {},
          "output_type": "execute_result"
        }
      ],
      "source": [
        "cad_recursive_residue"
      ]
    },
    {
      "cell_type": "code",
      "execution_count": 34,
      "metadata": {
        "id": "rjIeL6r6p4B5"
      },
      "outputs": [],
      "source": [
        "# optim hyperparameters obtained by grid search\n",
        "length_input_sequence = 5\n",
        "num_hidden_layers = 1\n",
        "num_hidden_sizes = 200\n",
        "batch_sizes = 256\n",
        "num_epochs = 15"
      ]
    },
    {
      "cell_type": "code",
      "execution_count": 35,
      "metadata": {
        "id": "d0C39XN9p4B5"
      },
      "outputs": [],
      "source": [
        "cad_recursive_Self_Attention_pred = prediction_on_testset(model_type, cad_recursive_linear, cad_recursive_residue, length_input_sequence, num_hidden_layers, num_hidden_sizes, batch_sizes, num_epochs)"
      ]
    },
    {
      "cell_type": "markdown",
      "metadata": {
        "id": "YuObh9zNp4B5"
      },
      "source": [
        "#### aud"
      ]
    },
    {
      "cell_type": "code",
      "execution_count": 36,
      "metadata": {
        "colab": {
          "base_uri": "https://localhost:8080/"
        },
        "id": "fKoiciMNp4B5",
        "outputId": "1dff5a9a-dbcd-4df6-d51c-60e64ae1d8e8"
      },
      "outputs": [
        {
          "data": {
            "text/plain": [
              "1981-01-02   -0.000058\n",
              "1981-01-05   -0.000058\n",
              "1981-01-06   -0.000058\n",
              "1981-01-07   -0.000058\n",
              "1981-01-08   -0.000058\n",
              "                ...   \n",
              "2020-12-25   -0.000047\n",
              "2020-12-28   -0.000047\n",
              "2020-12-29   -0.000048\n",
              "2020-12-30   -0.000047\n",
              "2020-12-31   -0.000046\n",
              "Name: aud_recursive_linear_prediction, Length: 10435, dtype: float64"
            ]
          },
          "execution_count": null,
          "metadata": {},
          "output_type": "execute_result"
        }
      ],
      "source": [
        "aud_recursive_linear"
      ]
    },
    {
      "cell_type": "code",
      "execution_count": 37,
      "metadata": {
        "colab": {
          "base_uri": "https://localhost:8080/"
        },
        "id": "P2h9LK9Pp4B5",
        "outputId": "435c3e9c-5c34-4a07-918d-941415923da6"
      },
      "outputs": [
        {
          "data": {
            "text/plain": [
              "1981-01-02   -0.000959\n",
              "1981-01-05    0.003863\n",
              "1981-01-06    0.003681\n",
              "1981-01-07    0.000058\n",
              "1981-01-08   -0.002047\n",
              "                ...   \n",
              "2020-12-25    0.001100\n",
              "2020-12-28   -0.003377\n",
              "2020-12-29    0.003604\n",
              "2020-12-30    0.010510\n",
              "2020-12-31    0.001087\n",
              "Name: aud_recursive_linear_residue, Length: 10435, dtype: float64"
            ]
          },
          "execution_count": null,
          "metadata": {},
          "output_type": "execute_result"
        }
      ],
      "source": [
        "aud_recursive_residue"
      ]
    },
    {
      "cell_type": "code",
      "execution_count": 38,
      "metadata": {
        "id": "SttmFSKcp4B5"
      },
      "outputs": [],
      "source": [
        "# optim hyperparameters obtained by grid search\n",
        "length_input_sequence = 10\n",
        "num_hidden_layers = 1\n",
        "num_hidden_sizes = 800\n",
        "batch_sizes = 16\n",
        "num_epochs = 30"
      ]
    },
    {
      "cell_type": "code",
      "execution_count": 39,
      "metadata": {
        "id": "vi-rMB8jp4B5"
      },
      "outputs": [],
      "source": [
        "aud_recursive_Self_Attention_pred = prediction_on_testset(model_type, aud_recursive_linear, aud_recursive_residue, length_input_sequence, num_hidden_layers, num_hidden_sizes, batch_sizes, num_epochs)"
      ]
    },
    {
      "cell_type": "markdown",
      "metadata": {
        "id": "kVd7krebp4B5"
      },
      "source": [
        "#### gbp"
      ]
    },
    {
      "cell_type": "code",
      "execution_count": 40,
      "metadata": {
        "colab": {
          "base_uri": "https://localhost:8080/"
        },
        "id": "M-1YGfW4p4B5",
        "outputId": "154d9ca9-9b10-4ca9-8230-cba3076c8cef"
      },
      "outputs": [
        {
          "data": {
            "text/plain": [
              "1981-01-02   -0.000071\n",
              "1981-01-05   -0.000167\n",
              "1981-01-06    0.000401\n",
              "1981-01-07    0.000029\n",
              "1981-01-08   -0.000221\n",
              "                ...   \n",
              "2020-12-25    0.000109\n",
              "2020-12-28   -0.000048\n",
              "2020-12-29   -0.000323\n",
              "2020-12-30    0.000074\n",
              "2020-12-31    0.000251\n",
              "Name: gbp_recursive_linear_prediction, Length: 10435, dtype: float64"
            ]
          },
          "execution_count": null,
          "metadata": {},
          "output_type": "execute_result"
        }
      ],
      "source": [
        "gbp_recursive_linear"
      ]
    },
    {
      "cell_type": "code",
      "execution_count": 41,
      "metadata": {
        "colab": {
          "base_uri": "https://localhost:8080/"
        },
        "id": "Ll2FlUCrp4B5",
        "outputId": "ba049b20-549e-494b-910f-4b678ed8c038"
      },
      "outputs": [
        {
          "data": {
            "text/plain": [
              "1981-01-02   -0.002864\n",
              "1981-01-05    0.014132\n",
              "1981-01-06    0.002493\n",
              "1981-01-07   -0.004580\n",
              "1981-01-08   -0.003102\n",
              "                ...   \n",
              "2020-12-25    0.000038\n",
              "2020-12-28   -0.007949\n",
              "2020-12-29    0.004107\n",
              "2020-12-30    0.008920\n",
              "2020-12-31    0.003047\n",
              "Name: gbp_recursive_linear_residue, Length: 10435, dtype: float64"
            ]
          },
          "execution_count": null,
          "metadata": {},
          "output_type": "execute_result"
        }
      ],
      "source": [
        "gbp_recursive_residue"
      ]
    },
    {
      "cell_type": "code",
      "execution_count": 42,
      "metadata": {
        "id": "nDAyMKV1p4B5"
      },
      "outputs": [],
      "source": [
        "# optim hyperparameters obtained by grid search\n",
        "length_input_sequence = 5\n",
        "num_hidden_layers = 1\n",
        "num_hidden_sizes = 200\n",
        "batch_sizes = 256\n",
        "num_epochs = 20"
      ]
    },
    {
      "cell_type": "code",
      "execution_count": 43,
      "metadata": {
        "id": "OEMIpYj4p4B5"
      },
      "outputs": [],
      "source": [
        "gbp_recursive_Self_Attention_pred = prediction_on_testset(model_type, gbp_recursive_linear, gbp_recursive_residue, length_input_sequence, num_hidden_layers, num_hidden_sizes, batch_sizes, num_epochs)"
      ]
    },
    {
      "cell_type": "markdown",
      "metadata": {
        "id": "OOR6lfWNp4B5"
      },
      "source": [
        "## Rolling window"
      ]
    },
    {
      "cell_type": "code",
      "execution_count": 44,
      "metadata": {
        "colab": {
          "base_uri": "https://localhost:8080/",
          "height": 0
        },
        "id": "8kPTWGOxp4B5",
        "outputId": "28b09a06-a168-4cdb-a6d5-c9a68832f811"
      },
      "outputs": [
        {
          "data": {
            "text/html": [
              "\n",
              "  <div id=\"df-2bcc2113-f0d5-4867-af67-92a6a8b592d4\">\n",
              "    <div class=\"colab-df-container\">\n",
              "      <div>\n",
              "<style scoped>\n",
              "    .dataframe tbody tr th:only-of-type {\n",
              "        vertical-align: middle;\n",
              "    }\n",
              "\n",
              "    .dataframe tbody tr th {\n",
              "        vertical-align: top;\n",
              "    }\n",
              "\n",
              "    .dataframe thead th {\n",
              "        text-align: right;\n",
              "    }\n",
              "</style>\n",
              "<table border=\"1\" class=\"dataframe\">\n",
              "  <thead>\n",
              "    <tr style=\"text-align: right;\">\n",
              "      <th></th>\n",
              "      <th>cad_rolling_linear_prediction</th>\n",
              "      <th>aud_rolling_linear_prediction</th>\n",
              "      <th>gbp_rolling_linear_prediction</th>\n",
              "    </tr>\n",
              "  </thead>\n",
              "  <tbody>\n",
              "    <tr>\n",
              "      <th>1981-01-02</th>\n",
              "      <td>-0.000018</td>\n",
              "      <td>-0.000058</td>\n",
              "      <td>-0.000071</td>\n",
              "    </tr>\n",
              "    <tr>\n",
              "      <th>1981-01-05</th>\n",
              "      <td>-0.000018</td>\n",
              "      <td>-0.000058</td>\n",
              "      <td>-0.000167</td>\n",
              "    </tr>\n",
              "    <tr>\n",
              "      <th>1981-01-06</th>\n",
              "      <td>-0.000018</td>\n",
              "      <td>-0.000058</td>\n",
              "      <td>0.000401</td>\n",
              "    </tr>\n",
              "    <tr>\n",
              "      <th>1981-01-07</th>\n",
              "      <td>-0.000018</td>\n",
              "      <td>-0.000058</td>\n",
              "      <td>0.000029</td>\n",
              "    </tr>\n",
              "    <tr>\n",
              "      <th>1981-01-08</th>\n",
              "      <td>-0.000018</td>\n",
              "      <td>-0.000058</td>\n",
              "      <td>-0.000221</td>\n",
              "    </tr>\n",
              "    <tr>\n",
              "      <th>...</th>\n",
              "      <td>...</td>\n",
              "      <td>...</td>\n",
              "      <td>...</td>\n",
              "    </tr>\n",
              "    <tr>\n",
              "      <th>2020-12-25</th>\n",
              "      <td>-0.000002</td>\n",
              "      <td>-0.000015</td>\n",
              "      <td>0.000171</td>\n",
              "    </tr>\n",
              "    <tr>\n",
              "      <th>2020-12-28</th>\n",
              "      <td>-0.000002</td>\n",
              "      <td>-0.000014</td>\n",
              "      <td>0.000020</td>\n",
              "    </tr>\n",
              "    <tr>\n",
              "      <th>2020-12-29</th>\n",
              "      <td>-0.000002</td>\n",
              "      <td>-0.000014</td>\n",
              "      <td>-0.000245</td>\n",
              "    </tr>\n",
              "    <tr>\n",
              "      <th>2020-12-30</th>\n",
              "      <td>-0.000002</td>\n",
              "      <td>-0.000014</td>\n",
              "      <td>0.000138</td>\n",
              "    </tr>\n",
              "    <tr>\n",
              "      <th>2020-12-31</th>\n",
              "      <td>-0.000001</td>\n",
              "      <td>-0.000013</td>\n",
              "      <td>0.000309</td>\n",
              "    </tr>\n",
              "  </tbody>\n",
              "</table>\n",
              "<p>10435 rows × 3 columns</p>\n",
              "</div>\n",
              "      <button class=\"colab-df-convert\" onclick=\"convertToInteractive('df-2bcc2113-f0d5-4867-af67-92a6a8b592d4')\"\n",
              "              title=\"Convert this dataframe to an interactive table.\"\n",
              "              style=\"display:none;\">\n",
              "        \n",
              "  <svg xmlns=\"http://www.w3.org/2000/svg\" height=\"24px\"viewBox=\"0 0 24 24\"\n",
              "       width=\"24px\">\n",
              "    <path d=\"M0 0h24v24H0V0z\" fill=\"none\"/>\n",
              "    <path d=\"M18.56 5.44l.94 2.06.94-2.06 2.06-.94-2.06-.94-.94-2.06-.94 2.06-2.06.94zm-11 1L8.5 8.5l.94-2.06 2.06-.94-2.06-.94L8.5 2.5l-.94 2.06-2.06.94zm10 10l.94 2.06.94-2.06 2.06-.94-2.06-.94-.94-2.06-.94 2.06-2.06.94z\"/><path d=\"M17.41 7.96l-1.37-1.37c-.4-.4-.92-.59-1.43-.59-.52 0-1.04.2-1.43.59L10.3 9.45l-7.72 7.72c-.78.78-.78 2.05 0 2.83L4 21.41c.39.39.9.59 1.41.59.51 0 1.02-.2 1.41-.59l7.78-7.78 2.81-2.81c.8-.78.8-2.07 0-2.86zM5.41 20L4 18.59l7.72-7.72 1.47 1.35L5.41 20z\"/>\n",
              "  </svg>\n",
              "      </button>\n",
              "      \n",
              "  <style>\n",
              "    .colab-df-container {\n",
              "      display:flex;\n",
              "      flex-wrap:wrap;\n",
              "      gap: 12px;\n",
              "    }\n",
              "\n",
              "    .colab-df-convert {\n",
              "      background-color: #E8F0FE;\n",
              "      border: none;\n",
              "      border-radius: 50%;\n",
              "      cursor: pointer;\n",
              "      display: none;\n",
              "      fill: #1967D2;\n",
              "      height: 32px;\n",
              "      padding: 0 0 0 0;\n",
              "      width: 32px;\n",
              "    }\n",
              "\n",
              "    .colab-df-convert:hover {\n",
              "      background-color: #E2EBFA;\n",
              "      box-shadow: 0px 1px 2px rgba(60, 64, 67, 0.3), 0px 1px 3px 1px rgba(60, 64, 67, 0.15);\n",
              "      fill: #174EA6;\n",
              "    }\n",
              "\n",
              "    [theme=dark] .colab-df-convert {\n",
              "      background-color: #3B4455;\n",
              "      fill: #D2E3FC;\n",
              "    }\n",
              "\n",
              "    [theme=dark] .colab-df-convert:hover {\n",
              "      background-color: #434B5C;\n",
              "      box-shadow: 0px 1px 3px 1px rgba(0, 0, 0, 0.15);\n",
              "      filter: drop-shadow(0px 1px 2px rgba(0, 0, 0, 0.3));\n",
              "      fill: #FFFFFF;\n",
              "    }\n",
              "  </style>\n",
              "\n",
              "      <script>\n",
              "        const buttonEl =\n",
              "          document.querySelector('#df-2bcc2113-f0d5-4867-af67-92a6a8b592d4 button.colab-df-convert');\n",
              "        buttonEl.style.display =\n",
              "          google.colab.kernel.accessAllowed ? 'block' : 'none';\n",
              "\n",
              "        async function convertToInteractive(key) {\n",
              "          const element = document.querySelector('#df-2bcc2113-f0d5-4867-af67-92a6a8b592d4');\n",
              "          const dataTable =\n",
              "            await google.colab.kernel.invokeFunction('convertToInteractive',\n",
              "                                                     [key], {});\n",
              "          if (!dataTable) return;\n",
              "\n",
              "          const docLinkHtml = 'Like what you see? Visit the ' +\n",
              "            '<a target=\"_blank\" href=https://colab.research.google.com/notebooks/data_table.ipynb>data table notebook</a>'\n",
              "            + ' to learn more about interactive tables.';\n",
              "          element.innerHTML = '';\n",
              "          dataTable['output_type'] = 'display_data';\n",
              "          await google.colab.output.renderOutput(dataTable, element);\n",
              "          const docLink = document.createElement('div');\n",
              "          docLink.innerHTML = docLinkHtml;\n",
              "          element.appendChild(docLink);\n",
              "        }\n",
              "      </script>\n",
              "    </div>\n",
              "  </div>\n",
              "  "
            ],
            "text/plain": [
              "            cad_rolling_linear_prediction  ...  gbp_rolling_linear_prediction\n",
              "1981-01-02                      -0.000018  ...                      -0.000071\n",
              "1981-01-05                      -0.000018  ...                      -0.000167\n",
              "1981-01-06                      -0.000018  ...                       0.000401\n",
              "1981-01-07                      -0.000018  ...                       0.000029\n",
              "1981-01-08                      -0.000018  ...                      -0.000221\n",
              "...                                   ...  ...                            ...\n",
              "2020-12-25                      -0.000002  ...                       0.000171\n",
              "2020-12-28                      -0.000002  ...                       0.000020\n",
              "2020-12-29                      -0.000002  ...                      -0.000245\n",
              "2020-12-30                      -0.000002  ...                       0.000138\n",
              "2020-12-31                      -0.000001  ...                       0.000309\n",
              "\n",
              "[10435 rows x 3 columns]"
            ]
          },
          "execution_count": null,
          "metadata": {},
          "output_type": "execute_result"
        }
      ],
      "source": [
        "rolling_linear = pd.read_csv('./rolling_linear_prediction.csv', index_col=0)\n",
        "rolling_linear = rolling_linear.astype('float64')\n",
        "rolling_linear.index = pd.to_datetime(rolling_linear.index)\n",
        "\n",
        "cad_rolling_linear = rolling_linear.iloc[:,0]\n",
        "aud_rolling_linear = rolling_linear.iloc[:,1]\n",
        "gbp_rolling_linear = rolling_linear.iloc[:,2]\n",
        "\n",
        "rolling_linear"
      ]
    },
    {
      "cell_type": "code",
      "execution_count": 45,
      "metadata": {
        "colab": {
          "base_uri": "https://localhost:8080/",
          "height": 0
        },
        "id": "LwBE-jUnp4B6",
        "outputId": "c2b19221-d709-4753-df3c-0d7c124d4c2e"
      },
      "outputs": [
        {
          "data": {
            "text/html": [
              "\n",
              "  <div id=\"df-9f5a47e2-ccb3-4a4b-b2f3-e4a760830221\">\n",
              "    <div class=\"colab-df-container\">\n",
              "      <div>\n",
              "<style scoped>\n",
              "    .dataframe tbody tr th:only-of-type {\n",
              "        vertical-align: middle;\n",
              "    }\n",
              "\n",
              "    .dataframe tbody tr th {\n",
              "        vertical-align: top;\n",
              "    }\n",
              "\n",
              "    .dataframe thead th {\n",
              "        text-align: right;\n",
              "    }\n",
              "</style>\n",
              "<table border=\"1\" class=\"dataframe\">\n",
              "  <thead>\n",
              "    <tr style=\"text-align: right;\">\n",
              "      <th></th>\n",
              "      <th>cad_rolling_linear_residue</th>\n",
              "      <th>aud_rolling_linear_residue</th>\n",
              "      <th>gbp_rolling_linear_residue</th>\n",
              "    </tr>\n",
              "  </thead>\n",
              "  <tbody>\n",
              "    <tr>\n",
              "      <th>1981-01-02</th>\n",
              "      <td>-0.000221</td>\n",
              "      <td>-0.000959</td>\n",
              "      <td>-0.002864</td>\n",
              "    </tr>\n",
              "    <tr>\n",
              "      <th>1981-01-05</th>\n",
              "      <td>0.005142</td>\n",
              "      <td>0.003863</td>\n",
              "      <td>0.014132</td>\n",
              "    </tr>\n",
              "    <tr>\n",
              "      <th>1981-01-06</th>\n",
              "      <td>0.000374</td>\n",
              "      <td>0.003681</td>\n",
              "      <td>0.002493</td>\n",
              "    </tr>\n",
              "    <tr>\n",
              "      <th>1981-01-07</th>\n",
              "      <td>0.000255</td>\n",
              "      <td>0.000058</td>\n",
              "      <td>-0.004580</td>\n",
              "    </tr>\n",
              "    <tr>\n",
              "      <th>1981-01-08</th>\n",
              "      <td>0.000018</td>\n",
              "      <td>-0.002047</td>\n",
              "      <td>-0.003102</td>\n",
              "    </tr>\n",
              "    <tr>\n",
              "      <th>...</th>\n",
              "      <td>...</td>\n",
              "      <td>...</td>\n",
              "      <td>...</td>\n",
              "    </tr>\n",
              "    <tr>\n",
              "      <th>2020-12-25</th>\n",
              "      <td>-0.000126</td>\n",
              "      <td>0.001068</td>\n",
              "      <td>-0.000024</td>\n",
              "    </tr>\n",
              "    <tr>\n",
              "      <th>2020-12-28</th>\n",
              "      <td>0.001416</td>\n",
              "      <td>-0.003410</td>\n",
              "      <td>-0.008017</td>\n",
              "    </tr>\n",
              "    <tr>\n",
              "      <th>2020-12-29</th>\n",
              "      <td>0.002184</td>\n",
              "      <td>0.003571</td>\n",
              "      <td>0.004029</td>\n",
              "    </tr>\n",
              "    <tr>\n",
              "      <th>2020-12-30</th>\n",
              "      <td>0.005244</td>\n",
              "      <td>0.010477</td>\n",
              "      <td>0.008856</td>\n",
              "    </tr>\n",
              "    <tr>\n",
              "      <th>2020-12-31</th>\n",
              "      <td>0.001403</td>\n",
              "      <td>0.001053</td>\n",
              "      <td>0.002988</td>\n",
              "    </tr>\n",
              "  </tbody>\n",
              "</table>\n",
              "<p>10435 rows × 3 columns</p>\n",
              "</div>\n",
              "      <button class=\"colab-df-convert\" onclick=\"convertToInteractive('df-9f5a47e2-ccb3-4a4b-b2f3-e4a760830221')\"\n",
              "              title=\"Convert this dataframe to an interactive table.\"\n",
              "              style=\"display:none;\">\n",
              "        \n",
              "  <svg xmlns=\"http://www.w3.org/2000/svg\" height=\"24px\"viewBox=\"0 0 24 24\"\n",
              "       width=\"24px\">\n",
              "    <path d=\"M0 0h24v24H0V0z\" fill=\"none\"/>\n",
              "    <path d=\"M18.56 5.44l.94 2.06.94-2.06 2.06-.94-2.06-.94-.94-2.06-.94 2.06-2.06.94zm-11 1L8.5 8.5l.94-2.06 2.06-.94-2.06-.94L8.5 2.5l-.94 2.06-2.06.94zm10 10l.94 2.06.94-2.06 2.06-.94-2.06-.94-.94-2.06-.94 2.06-2.06.94z\"/><path d=\"M17.41 7.96l-1.37-1.37c-.4-.4-.92-.59-1.43-.59-.52 0-1.04.2-1.43.59L10.3 9.45l-7.72 7.72c-.78.78-.78 2.05 0 2.83L4 21.41c.39.39.9.59 1.41.59.51 0 1.02-.2 1.41-.59l7.78-7.78 2.81-2.81c.8-.78.8-2.07 0-2.86zM5.41 20L4 18.59l7.72-7.72 1.47 1.35L5.41 20z\"/>\n",
              "  </svg>\n",
              "      </button>\n",
              "      \n",
              "  <style>\n",
              "    .colab-df-container {\n",
              "      display:flex;\n",
              "      flex-wrap:wrap;\n",
              "      gap: 12px;\n",
              "    }\n",
              "\n",
              "    .colab-df-convert {\n",
              "      background-color: #E8F0FE;\n",
              "      border: none;\n",
              "      border-radius: 50%;\n",
              "      cursor: pointer;\n",
              "      display: none;\n",
              "      fill: #1967D2;\n",
              "      height: 32px;\n",
              "      padding: 0 0 0 0;\n",
              "      width: 32px;\n",
              "    }\n",
              "\n",
              "    .colab-df-convert:hover {\n",
              "      background-color: #E2EBFA;\n",
              "      box-shadow: 0px 1px 2px rgba(60, 64, 67, 0.3), 0px 1px 3px 1px rgba(60, 64, 67, 0.15);\n",
              "      fill: #174EA6;\n",
              "    }\n",
              "\n",
              "    [theme=dark] .colab-df-convert {\n",
              "      background-color: #3B4455;\n",
              "      fill: #D2E3FC;\n",
              "    }\n",
              "\n",
              "    [theme=dark] .colab-df-convert:hover {\n",
              "      background-color: #434B5C;\n",
              "      box-shadow: 0px 1px 3px 1px rgba(0, 0, 0, 0.15);\n",
              "      filter: drop-shadow(0px 1px 2px rgba(0, 0, 0, 0.3));\n",
              "      fill: #FFFFFF;\n",
              "    }\n",
              "  </style>\n",
              "\n",
              "      <script>\n",
              "        const buttonEl =\n",
              "          document.querySelector('#df-9f5a47e2-ccb3-4a4b-b2f3-e4a760830221 button.colab-df-convert');\n",
              "        buttonEl.style.display =\n",
              "          google.colab.kernel.accessAllowed ? 'block' : 'none';\n",
              "\n",
              "        async function convertToInteractive(key) {\n",
              "          const element = document.querySelector('#df-9f5a47e2-ccb3-4a4b-b2f3-e4a760830221');\n",
              "          const dataTable =\n",
              "            await google.colab.kernel.invokeFunction('convertToInteractive',\n",
              "                                                     [key], {});\n",
              "          if (!dataTable) return;\n",
              "\n",
              "          const docLinkHtml = 'Like what you see? Visit the ' +\n",
              "            '<a target=\"_blank\" href=https://colab.research.google.com/notebooks/data_table.ipynb>data table notebook</a>'\n",
              "            + ' to learn more about interactive tables.';\n",
              "          element.innerHTML = '';\n",
              "          dataTable['output_type'] = 'display_data';\n",
              "          await google.colab.output.renderOutput(dataTable, element);\n",
              "          const docLink = document.createElement('div');\n",
              "          docLink.innerHTML = docLinkHtml;\n",
              "          element.appendChild(docLink);\n",
              "        }\n",
              "      </script>\n",
              "    </div>\n",
              "  </div>\n",
              "  "
            ],
            "text/plain": [
              "            cad_rolling_linear_residue  ...  gbp_rolling_linear_residue\n",
              "1981-01-02                   -0.000221  ...                   -0.002864\n",
              "1981-01-05                    0.005142  ...                    0.014132\n",
              "1981-01-06                    0.000374  ...                    0.002493\n",
              "1981-01-07                    0.000255  ...                   -0.004580\n",
              "1981-01-08                    0.000018  ...                   -0.003102\n",
              "...                                ...  ...                         ...\n",
              "2020-12-25                   -0.000126  ...                   -0.000024\n",
              "2020-12-28                    0.001416  ...                   -0.008017\n",
              "2020-12-29                    0.002184  ...                    0.004029\n",
              "2020-12-30                    0.005244  ...                    0.008856\n",
              "2020-12-31                    0.001403  ...                    0.002988\n",
              "\n",
              "[10435 rows x 3 columns]"
            ]
          },
          "execution_count": null,
          "metadata": {},
          "output_type": "execute_result"
        }
      ],
      "source": [
        "rolling_residue = pd.read_csv('./rolling_linear_residue.csv', index_col=0)\n",
        "rolling_residue = rolling_residue.astype('float64')\n",
        "rolling_residue.index = pd.to_datetime(rolling_residue.index)\n",
        "\n",
        "cad_rolling_residue = rolling_residue.iloc[:,0]\n",
        "aud_rolling_residue = rolling_residue.iloc[:,1]\n",
        "gbp_rolling_residue = rolling_residue.iloc[:,2]\n",
        "\n",
        "rolling_residue"
      ]
    },
    {
      "cell_type": "markdown",
      "metadata": {
        "id": "Lxgm5U3Wp4B6"
      },
      "source": [
        "### LSTM"
      ]
    },
    {
      "cell_type": "code",
      "execution_count": 46,
      "metadata": {
        "id": "ooUo1WT7p4B6"
      },
      "outputs": [],
      "source": [
        "model_type = LSTM"
      ]
    },
    {
      "cell_type": "markdown",
      "metadata": {
        "id": "773Ll5Sgp4B6"
      },
      "source": [
        "#### cad"
      ]
    },
    {
      "cell_type": "code",
      "execution_count": 47,
      "metadata": {
        "colab": {
          "base_uri": "https://localhost:8080/"
        },
        "id": "ONojzoMTp4B6",
        "outputId": "71c5cb40-2bd4-4155-842a-26cff01c8af8"
      },
      "outputs": [
        {
          "data": {
            "text/plain": [
              "1981-01-02   -0.000018\n",
              "1981-01-05   -0.000018\n",
              "1981-01-06   -0.000018\n",
              "1981-01-07   -0.000018\n",
              "1981-01-08   -0.000018\n",
              "                ...   \n",
              "2020-12-25   -0.000002\n",
              "2020-12-28   -0.000002\n",
              "2020-12-29   -0.000002\n",
              "2020-12-30   -0.000002\n",
              "2020-12-31   -0.000001\n",
              "Name: cad_rolling_linear_prediction, Length: 10435, dtype: float64"
            ]
          },
          "execution_count": null,
          "metadata": {},
          "output_type": "execute_result"
        }
      ],
      "source": [
        "cad_rolling_linear"
      ]
    },
    {
      "cell_type": "code",
      "execution_count": 48,
      "metadata": {
        "colab": {
          "base_uri": "https://localhost:8080/"
        },
        "id": "RsCB-C2Wp4B6",
        "outputId": "15cf8091-3aa0-4fe3-bb77-b3924cc4fcc6"
      },
      "outputs": [
        {
          "data": {
            "text/plain": [
              "1981-01-02   -0.000221\n",
              "1981-01-05    0.005142\n",
              "1981-01-06    0.000374\n",
              "1981-01-07    0.000255\n",
              "1981-01-08    0.000018\n",
              "                ...   \n",
              "2020-12-25   -0.000126\n",
              "2020-12-28    0.001416\n",
              "2020-12-29    0.002184\n",
              "2020-12-30    0.005244\n",
              "2020-12-31    0.001403\n",
              "Name: cad_rolling_linear_residue, Length: 10435, dtype: float64"
            ]
          },
          "execution_count": null,
          "metadata": {},
          "output_type": "execute_result"
        }
      ],
      "source": [
        "cad_rolling_residue"
      ]
    },
    {
      "cell_type": "code",
      "execution_count": 49,
      "metadata": {
        "id": "QA2CSBqsp4B6"
      },
      "outputs": [],
      "source": [
        "# optim hyperparameters obtained by grid search\n",
        "length_input_sequence = 5\n",
        "num_hidden_layers = 2\n",
        "num_hidden_sizes = 1600\n",
        "batch_sizes = 16\n",
        "num_epochs = 5"
      ]
    },
    {
      "cell_type": "code",
      "execution_count": 50,
      "metadata": {
        "id": "rbb7l-3Ep4B6"
      },
      "outputs": [],
      "source": [
        "cad_rolling_LSTM_pred = prediction_on_testset(model_type, cad_rolling_linear, cad_rolling_residue, length_input_sequence, num_hidden_layers, num_hidden_sizes, batch_sizes, num_epochs)"
      ]
    },
    {
      "cell_type": "markdown",
      "metadata": {
        "id": "lwNN_BSGp4B6"
      },
      "source": [
        "#### aud"
      ]
    },
    {
      "cell_type": "code",
      "execution_count": 51,
      "metadata": {
        "colab": {
          "base_uri": "https://localhost:8080/"
        },
        "id": "7kOwxEZzp4B6",
        "outputId": "68d4a95c-2212-40a5-c33b-e7852df8d18a"
      },
      "outputs": [
        {
          "output_type": "execute_result",
          "data": {
            "text/plain": [
              "1981-01-02   -0.000058\n",
              "1981-01-05   -0.000058\n",
              "1981-01-06   -0.000058\n",
              "1981-01-07   -0.000058\n",
              "1981-01-08   -0.000058\n",
              "                ...   \n",
              "2020-12-25   -0.000015\n",
              "2020-12-28   -0.000014\n",
              "2020-12-29   -0.000014\n",
              "2020-12-30   -0.000014\n",
              "2020-12-31   -0.000013\n",
              "Name: aud_rolling_linear_prediction, Length: 10435, dtype: float64"
            ]
          },
          "metadata": {},
          "execution_count": 51
        }
      ],
      "source": [
        "aud_rolling_linear"
      ]
    },
    {
      "cell_type": "code",
      "execution_count": 52,
      "metadata": {
        "colab": {
          "base_uri": "https://localhost:8080/"
        },
        "id": "1hfMKFVip4B6",
        "outputId": "c060eb80-27bc-44c3-95de-51d7ece8a307"
      },
      "outputs": [
        {
          "output_type": "execute_result",
          "data": {
            "text/plain": [
              "1981-01-02   -0.000959\n",
              "1981-01-05    0.003863\n",
              "1981-01-06    0.003681\n",
              "1981-01-07    0.000058\n",
              "1981-01-08   -0.002047\n",
              "                ...   \n",
              "2020-12-25    0.001068\n",
              "2020-12-28   -0.003410\n",
              "2020-12-29    0.003571\n",
              "2020-12-30    0.010477\n",
              "2020-12-31    0.001053\n",
              "Name: aud_rolling_linear_residue, Length: 10435, dtype: float64"
            ]
          },
          "metadata": {},
          "execution_count": 52
        }
      ],
      "source": [
        "aud_rolling_residue"
      ]
    },
    {
      "cell_type": "code",
      "execution_count": 53,
      "metadata": {
        "id": "RKm8MMxcp4B6"
      },
      "outputs": [],
      "source": [
        "# optim hyperparameters obtained by grid search\n",
        "length_input_sequence = 5\n",
        "num_hidden_layers = 2\n",
        "num_hidden_sizes = 1600\n",
        "batch_sizes = 256\n",
        "num_epochs = 25"
      ]
    },
    {
      "cell_type": "code",
      "execution_count": 54,
      "metadata": {
        "id": "v4s9uKWkp4B7"
      },
      "outputs": [],
      "source": [
        "aud_rolling_LSTM_pred = prediction_on_testset(model_type, aud_rolling_linear, aud_rolling_residue, length_input_sequence, num_hidden_layers, num_hidden_sizes, batch_sizes, num_epochs)"
      ]
    },
    {
      "cell_type": "markdown",
      "metadata": {
        "id": "3hNsiBx3p4B7"
      },
      "source": [
        "#### gbp"
      ]
    },
    {
      "cell_type": "code",
      "execution_count": 55,
      "metadata": {
        "colab": {
          "base_uri": "https://localhost:8080/"
        },
        "id": "izseD1wcp4B7",
        "outputId": "0d23190a-d989-4bf1-cbe4-7f991ec12f8f"
      },
      "outputs": [
        {
          "output_type": "execute_result",
          "data": {
            "text/plain": [
              "1981-01-02   -0.000071\n",
              "1981-01-05   -0.000167\n",
              "1981-01-06    0.000401\n",
              "1981-01-07    0.000029\n",
              "1981-01-08   -0.000221\n",
              "                ...   \n",
              "2020-12-25    0.000171\n",
              "2020-12-28    0.000020\n",
              "2020-12-29   -0.000245\n",
              "2020-12-30    0.000138\n",
              "2020-12-31    0.000309\n",
              "Name: gbp_rolling_linear_prediction, Length: 10435, dtype: float64"
            ]
          },
          "metadata": {},
          "execution_count": 55
        }
      ],
      "source": [
        "gbp_rolling_linear"
      ]
    },
    {
      "cell_type": "code",
      "execution_count": 56,
      "metadata": {
        "colab": {
          "base_uri": "https://localhost:8080/"
        },
        "id": "P5Cb00Jtp4B7",
        "outputId": "4c9becc5-e929-4b59-b6c5-02214efb11d2"
      },
      "outputs": [
        {
          "output_type": "execute_result",
          "data": {
            "text/plain": [
              "1981-01-02   -0.002864\n",
              "1981-01-05    0.014132\n",
              "1981-01-06    0.002493\n",
              "1981-01-07   -0.004580\n",
              "1981-01-08   -0.003102\n",
              "                ...   \n",
              "2020-12-25   -0.000024\n",
              "2020-12-28   -0.008017\n",
              "2020-12-29    0.004029\n",
              "2020-12-30    0.008856\n",
              "2020-12-31    0.002988\n",
              "Name: gbp_rolling_linear_residue, Length: 10435, dtype: float64"
            ]
          },
          "metadata": {},
          "execution_count": 56
        }
      ],
      "source": [
        "gbp_rolling_residue"
      ]
    },
    {
      "cell_type": "code",
      "execution_count": 57,
      "metadata": {
        "id": "373EYKymp4B7"
      },
      "outputs": [],
      "source": [
        "# optim hyperparameters obtained by grid search\n",
        "length_input_sequence = 5\n",
        "num_hidden_layers = 2\n",
        "num_hidden_sizes = 25\n",
        "batch_sizes = 256\n",
        "num_epochs = 5"
      ]
    },
    {
      "cell_type": "code",
      "execution_count": 58,
      "metadata": {
        "id": "ENzy-bQup4B7"
      },
      "outputs": [],
      "source": [
        "gbp_rolling_LSTM_pred = prediction_on_testset(model_type, gbp_rolling_linear, gbp_rolling_residue, length_input_sequence, num_hidden_layers, num_hidden_sizes, batch_sizes, num_epochs)"
      ]
    },
    {
      "cell_type": "markdown",
      "metadata": {
        "id": "GVh5Qz4Np4B7"
      },
      "source": [
        "### Self-Attention"
      ]
    },
    {
      "cell_type": "code",
      "execution_count": 59,
      "metadata": {
        "id": "JdHwLOPCp4B7"
      },
      "outputs": [],
      "source": [
        "model_type = Self_Attention"
      ]
    },
    {
      "cell_type": "markdown",
      "metadata": {
        "id": "VT7lpU3-p4B7"
      },
      "source": [
        "#### cad"
      ]
    },
    {
      "cell_type": "code",
      "execution_count": 60,
      "metadata": {
        "colab": {
          "base_uri": "https://localhost:8080/"
        },
        "id": "5JkU3TWVp4B7",
        "outputId": "00d02016-9e29-4d69-cf9d-5de1199f6910"
      },
      "outputs": [
        {
          "output_type": "execute_result",
          "data": {
            "text/plain": [
              "1981-01-02   -0.000018\n",
              "1981-01-05   -0.000018\n",
              "1981-01-06   -0.000018\n",
              "1981-01-07   -0.000018\n",
              "1981-01-08   -0.000018\n",
              "                ...   \n",
              "2020-12-25   -0.000002\n",
              "2020-12-28   -0.000002\n",
              "2020-12-29   -0.000002\n",
              "2020-12-30   -0.000002\n",
              "2020-12-31   -0.000001\n",
              "Name: cad_rolling_linear_prediction, Length: 10435, dtype: float64"
            ]
          },
          "metadata": {},
          "execution_count": 60
        }
      ],
      "source": [
        "cad_rolling_linear"
      ]
    },
    {
      "cell_type": "code",
      "execution_count": 61,
      "metadata": {
        "colab": {
          "base_uri": "https://localhost:8080/"
        },
        "id": "utWyfZNOp4B7",
        "outputId": "8fd12187-1d3d-4756-f5f1-7a92bf44b0ba"
      },
      "outputs": [
        {
          "output_type": "execute_result",
          "data": {
            "text/plain": [
              "1981-01-02   -0.000221\n",
              "1981-01-05    0.005142\n",
              "1981-01-06    0.000374\n",
              "1981-01-07    0.000255\n",
              "1981-01-08    0.000018\n",
              "                ...   \n",
              "2020-12-25   -0.000126\n",
              "2020-12-28    0.001416\n",
              "2020-12-29    0.002184\n",
              "2020-12-30    0.005244\n",
              "2020-12-31    0.001403\n",
              "Name: cad_rolling_linear_residue, Length: 10435, dtype: float64"
            ]
          },
          "metadata": {},
          "execution_count": 61
        }
      ],
      "source": [
        "cad_rolling_residue"
      ]
    },
    {
      "cell_type": "code",
      "execution_count": 62,
      "metadata": {
        "id": "Ae_wUqarp4B7"
      },
      "outputs": [],
      "source": [
        "# optim hyperparameters obtained by grid search\n",
        "length_input_sequence = 5\n",
        "num_hidden_layers = 1\n",
        "num_hidden_sizes = 200\n",
        "batch_sizes = 256\n",
        "num_epochs = 15"
      ]
    },
    {
      "cell_type": "code",
      "execution_count": 63,
      "metadata": {
        "id": "PcU4kZaXp4B7"
      },
      "outputs": [],
      "source": [
        "cad_rolling_Self_Attention_pred = prediction_on_testset(model_type, cad_rolling_linear, cad_rolling_residue, length_input_sequence, num_hidden_layers, num_hidden_sizes, batch_sizes, num_epochs)"
      ]
    },
    {
      "cell_type": "markdown",
      "metadata": {
        "id": "SWzy2wfFp4B7"
      },
      "source": [
        "#### aud"
      ]
    },
    {
      "cell_type": "code",
      "execution_count": 64,
      "metadata": {
        "colab": {
          "base_uri": "https://localhost:8080/"
        },
        "id": "Fvtxwjafp4B7",
        "outputId": "6fb2ecfb-ede2-407c-f0f5-2c44dc58089f"
      },
      "outputs": [
        {
          "output_type": "execute_result",
          "data": {
            "text/plain": [
              "1981-01-02   -0.000058\n",
              "1981-01-05   -0.000058\n",
              "1981-01-06   -0.000058\n",
              "1981-01-07   -0.000058\n",
              "1981-01-08   -0.000058\n",
              "                ...   \n",
              "2020-12-25   -0.000015\n",
              "2020-12-28   -0.000014\n",
              "2020-12-29   -0.000014\n",
              "2020-12-30   -0.000014\n",
              "2020-12-31   -0.000013\n",
              "Name: aud_rolling_linear_prediction, Length: 10435, dtype: float64"
            ]
          },
          "metadata": {},
          "execution_count": 64
        }
      ],
      "source": [
        "aud_rolling_linear"
      ]
    },
    {
      "cell_type": "code",
      "execution_count": 65,
      "metadata": {
        "colab": {
          "base_uri": "https://localhost:8080/"
        },
        "id": "kGxMxzoHp4B7",
        "outputId": "63e2d9f6-c807-4186-c65c-65800f5e59cb"
      },
      "outputs": [
        {
          "output_type": "execute_result",
          "data": {
            "text/plain": [
              "1981-01-02   -0.000959\n",
              "1981-01-05    0.003863\n",
              "1981-01-06    0.003681\n",
              "1981-01-07    0.000058\n",
              "1981-01-08   -0.002047\n",
              "                ...   \n",
              "2020-12-25    0.001068\n",
              "2020-12-28   -0.003410\n",
              "2020-12-29    0.003571\n",
              "2020-12-30    0.010477\n",
              "2020-12-31    0.001053\n",
              "Name: aud_rolling_linear_residue, Length: 10435, dtype: float64"
            ]
          },
          "metadata": {},
          "execution_count": 65
        }
      ],
      "source": [
        "aud_rolling_residue"
      ]
    },
    {
      "cell_type": "code",
      "execution_count": 66,
      "metadata": {
        "id": "f37rwoY3p4B8"
      },
      "outputs": [],
      "source": [
        "# optim hyperparameters obtained by grid search\n",
        "length_input_sequence = 10\n",
        "num_hidden_layers = 1\n",
        "num_hidden_sizes = 800\n",
        "batch_sizes = 16\n",
        "num_epochs = 30"
      ]
    },
    {
      "cell_type": "code",
      "execution_count": 67,
      "metadata": {
        "id": "bb3xujUop4B8"
      },
      "outputs": [],
      "source": [
        "aud_rolling_Self_Attention_pred = prediction_on_testset(model_type, aud_rolling_linear, aud_rolling_residue, length_input_sequence, num_hidden_layers, num_hidden_sizes, batch_sizes, num_epochs)"
      ]
    },
    {
      "cell_type": "markdown",
      "metadata": {
        "id": "REzp53A0p4B8"
      },
      "source": [
        "#### gbp"
      ]
    },
    {
      "cell_type": "code",
      "execution_count": 68,
      "metadata": {
        "colab": {
          "base_uri": "https://localhost:8080/"
        },
        "id": "kBG8CNNUp4B8",
        "outputId": "4869de64-c24c-42ab-dd44-2f59e4c0d309"
      },
      "outputs": [
        {
          "output_type": "execute_result",
          "data": {
            "text/plain": [
              "1981-01-02   -0.000071\n",
              "1981-01-05   -0.000167\n",
              "1981-01-06    0.000401\n",
              "1981-01-07    0.000029\n",
              "1981-01-08   -0.000221\n",
              "                ...   \n",
              "2020-12-25    0.000171\n",
              "2020-12-28    0.000020\n",
              "2020-12-29   -0.000245\n",
              "2020-12-30    0.000138\n",
              "2020-12-31    0.000309\n",
              "Name: gbp_rolling_linear_prediction, Length: 10435, dtype: float64"
            ]
          },
          "metadata": {},
          "execution_count": 68
        }
      ],
      "source": [
        "gbp_rolling_linear"
      ]
    },
    {
      "cell_type": "code",
      "execution_count": 69,
      "metadata": {
        "colab": {
          "base_uri": "https://localhost:8080/"
        },
        "id": "HTfpQVttp4B8",
        "outputId": "2c672afe-bcf0-4c0d-89b2-cd31524a2c42"
      },
      "outputs": [
        {
          "output_type": "execute_result",
          "data": {
            "text/plain": [
              "1981-01-02   -0.002864\n",
              "1981-01-05    0.014132\n",
              "1981-01-06    0.002493\n",
              "1981-01-07   -0.004580\n",
              "1981-01-08   -0.003102\n",
              "                ...   \n",
              "2020-12-25   -0.000024\n",
              "2020-12-28   -0.008017\n",
              "2020-12-29    0.004029\n",
              "2020-12-30    0.008856\n",
              "2020-12-31    0.002988\n",
              "Name: gbp_rolling_linear_residue, Length: 10435, dtype: float64"
            ]
          },
          "metadata": {},
          "execution_count": 69
        }
      ],
      "source": [
        "gbp_rolling_residue"
      ]
    },
    {
      "cell_type": "code",
      "execution_count": 70,
      "metadata": {
        "id": "mdaWhByap4B8"
      },
      "outputs": [],
      "source": [
        "# optim hyperparameters obtained by grid search\n",
        "length_input_sequence = 5\n",
        "num_hidden_layers = 1\n",
        "num_hidden_sizes = 200\n",
        "batch_sizes = 256\n",
        "num_epochs = 20"
      ]
    },
    {
      "cell_type": "code",
      "execution_count": 71,
      "metadata": {
        "id": "ZOkO9ydBp4B8"
      },
      "outputs": [],
      "source": [
        "gbp_rolling_Self_Attention_pred = prediction_on_testset(model_type, gbp_rolling_linear, gbp_rolling_residue, length_input_sequence, num_hidden_layers, num_hidden_sizes, batch_sizes, num_epochs)"
      ]
    },
    {
      "cell_type": "markdown",
      "metadata": {
        "id": "ddsvFmS_p4B8"
      },
      "source": [
        "# 輸出模型預測與比較"
      ]
    },
    {
      "cell_type": "markdown",
      "metadata": {
        "id": "Vd6hQ4u-p4B8"
      },
      "source": [
        "## 輸出模型預測"
      ]
    },
    {
      "cell_type": "code",
      "execution_count": 72,
      "metadata": {
        "colab": {
          "base_uri": "https://localhost:8080/",
          "height": 0
        },
        "id": "Amb3yJsEp4B8",
        "outputId": "d74a88d1-2b17-44ee-a408-cbbd5a16e47f"
      },
      "outputs": [
        {
          "output_type": "execute_result",
          "data": {
            "text/html": [
              "\n",
              "  <div id=\"df-d5f9f2c5-5823-4a44-abfd-63cfbf1ff39a\">\n",
              "    <div class=\"colab-df-container\">\n",
              "      <div>\n",
              "<style scoped>\n",
              "    .dataframe tbody tr th:only-of-type {\n",
              "        vertical-align: middle;\n",
              "    }\n",
              "\n",
              "    .dataframe tbody tr th {\n",
              "        vertical-align: top;\n",
              "    }\n",
              "\n",
              "    .dataframe thead th {\n",
              "        text-align: right;\n",
              "    }\n",
              "</style>\n",
              "<table border=\"1\" class=\"dataframe\">\n",
              "  <thead>\n",
              "    <tr style=\"text-align: right;\">\n",
              "      <th></th>\n",
              "      <th>cad_recursive_LSTM_pred</th>\n",
              "      <th>aud_recursive_LSTM_pred</th>\n",
              "      <th>gbp_recursive_LSTM_pred</th>\n",
              "    </tr>\n",
              "  </thead>\n",
              "  <tbody>\n",
              "    <tr>\n",
              "      <th>0</th>\n",
              "      <td>-0.000065</td>\n",
              "      <td>0.000897</td>\n",
              "      <td>-0.000205</td>\n",
              "    </tr>\n",
              "    <tr>\n",
              "      <th>1</th>\n",
              "      <td>0.000016</td>\n",
              "      <td>0.000791</td>\n",
              "      <td>-0.000549</td>\n",
              "    </tr>\n",
              "    <tr>\n",
              "      <th>2</th>\n",
              "      <td>-0.000044</td>\n",
              "      <td>0.000818</td>\n",
              "      <td>-0.000460</td>\n",
              "    </tr>\n",
              "    <tr>\n",
              "      <th>3</th>\n",
              "      <td>-0.000117</td>\n",
              "      <td>0.000821</td>\n",
              "      <td>-0.000176</td>\n",
              "    </tr>\n",
              "    <tr>\n",
              "      <th>4</th>\n",
              "      <td>-0.000008</td>\n",
              "      <td>0.000760</td>\n",
              "      <td>-0.000203</td>\n",
              "    </tr>\n",
              "    <tr>\n",
              "      <th>...</th>\n",
              "      <td>...</td>\n",
              "      <td>...</td>\n",
              "      <td>...</td>\n",
              "    </tr>\n",
              "    <tr>\n",
              "      <th>1039</th>\n",
              "      <td>0.000027</td>\n",
              "      <td>0.000976</td>\n",
              "      <td>-0.000232</td>\n",
              "    </tr>\n",
              "    <tr>\n",
              "      <th>1040</th>\n",
              "      <td>-0.000058</td>\n",
              "      <td>0.000683</td>\n",
              "      <td>-0.000402</td>\n",
              "    </tr>\n",
              "    <tr>\n",
              "      <th>1041</th>\n",
              "      <td>-0.000027</td>\n",
              "      <td>0.000869</td>\n",
              "      <td>-0.000611</td>\n",
              "    </tr>\n",
              "    <tr>\n",
              "      <th>1042</th>\n",
              "      <td>-0.000045</td>\n",
              "      <td>0.000745</td>\n",
              "      <td>-0.000250</td>\n",
              "    </tr>\n",
              "    <tr>\n",
              "      <th>1043</th>\n",
              "      <td>-0.000068</td>\n",
              "      <td>0.000846</td>\n",
              "      <td>-0.000121</td>\n",
              "    </tr>\n",
              "  </tbody>\n",
              "</table>\n",
              "<p>1044 rows × 3 columns</p>\n",
              "</div>\n",
              "      <button class=\"colab-df-convert\" onclick=\"convertToInteractive('df-d5f9f2c5-5823-4a44-abfd-63cfbf1ff39a')\"\n",
              "              title=\"Convert this dataframe to an interactive table.\"\n",
              "              style=\"display:none;\">\n",
              "        \n",
              "  <svg xmlns=\"http://www.w3.org/2000/svg\" height=\"24px\"viewBox=\"0 0 24 24\"\n",
              "       width=\"24px\">\n",
              "    <path d=\"M0 0h24v24H0V0z\" fill=\"none\"/>\n",
              "    <path d=\"M18.56 5.44l.94 2.06.94-2.06 2.06-.94-2.06-.94-.94-2.06-.94 2.06-2.06.94zm-11 1L8.5 8.5l.94-2.06 2.06-.94-2.06-.94L8.5 2.5l-.94 2.06-2.06.94zm10 10l.94 2.06.94-2.06 2.06-.94-2.06-.94-.94-2.06-.94 2.06-2.06.94z\"/><path d=\"M17.41 7.96l-1.37-1.37c-.4-.4-.92-.59-1.43-.59-.52 0-1.04.2-1.43.59L10.3 9.45l-7.72 7.72c-.78.78-.78 2.05 0 2.83L4 21.41c.39.39.9.59 1.41.59.51 0 1.02-.2 1.41-.59l7.78-7.78 2.81-2.81c.8-.78.8-2.07 0-2.86zM5.41 20L4 18.59l7.72-7.72 1.47 1.35L5.41 20z\"/>\n",
              "  </svg>\n",
              "      </button>\n",
              "      \n",
              "  <style>\n",
              "    .colab-df-container {\n",
              "      display:flex;\n",
              "      flex-wrap:wrap;\n",
              "      gap: 12px;\n",
              "    }\n",
              "\n",
              "    .colab-df-convert {\n",
              "      background-color: #E8F0FE;\n",
              "      border: none;\n",
              "      border-radius: 50%;\n",
              "      cursor: pointer;\n",
              "      display: none;\n",
              "      fill: #1967D2;\n",
              "      height: 32px;\n",
              "      padding: 0 0 0 0;\n",
              "      width: 32px;\n",
              "    }\n",
              "\n",
              "    .colab-df-convert:hover {\n",
              "      background-color: #E2EBFA;\n",
              "      box-shadow: 0px 1px 2px rgba(60, 64, 67, 0.3), 0px 1px 3px 1px rgba(60, 64, 67, 0.15);\n",
              "      fill: #174EA6;\n",
              "    }\n",
              "\n",
              "    [theme=dark] .colab-df-convert {\n",
              "      background-color: #3B4455;\n",
              "      fill: #D2E3FC;\n",
              "    }\n",
              "\n",
              "    [theme=dark] .colab-df-convert:hover {\n",
              "      background-color: #434B5C;\n",
              "      box-shadow: 0px 1px 3px 1px rgba(0, 0, 0, 0.15);\n",
              "      filter: drop-shadow(0px 1px 2px rgba(0, 0, 0, 0.3));\n",
              "      fill: #FFFFFF;\n",
              "    }\n",
              "  </style>\n",
              "\n",
              "      <script>\n",
              "        const buttonEl =\n",
              "          document.querySelector('#df-d5f9f2c5-5823-4a44-abfd-63cfbf1ff39a button.colab-df-convert');\n",
              "        buttonEl.style.display =\n",
              "          google.colab.kernel.accessAllowed ? 'block' : 'none';\n",
              "\n",
              "        async function convertToInteractive(key) {\n",
              "          const element = document.querySelector('#df-d5f9f2c5-5823-4a44-abfd-63cfbf1ff39a');\n",
              "          const dataTable =\n",
              "            await google.colab.kernel.invokeFunction('convertToInteractive',\n",
              "                                                     [key], {});\n",
              "          if (!dataTable) return;\n",
              "\n",
              "          const docLinkHtml = 'Like what you see? Visit the ' +\n",
              "            '<a target=\"_blank\" href=https://colab.research.google.com/notebooks/data_table.ipynb>data table notebook</a>'\n",
              "            + ' to learn more about interactive tables.';\n",
              "          element.innerHTML = '';\n",
              "          dataTable['output_type'] = 'display_data';\n",
              "          await google.colab.output.renderOutput(dataTable, element);\n",
              "          const docLink = document.createElement('div');\n",
              "          docLink.innerHTML = docLinkHtml;\n",
              "          element.appendChild(docLink);\n",
              "        }\n",
              "      </script>\n",
              "    </div>\n",
              "  </div>\n",
              "  "
            ],
            "text/plain": [
              "      cad_recursive_LSTM_pred  aud_recursive_LSTM_pred  gbp_recursive_LSTM_pred\n",
              "0                   -0.000065                 0.000897                -0.000205\n",
              "1                    0.000016                 0.000791                -0.000549\n",
              "2                   -0.000044                 0.000818                -0.000460\n",
              "3                   -0.000117                 0.000821                -0.000176\n",
              "4                   -0.000008                 0.000760                -0.000203\n",
              "...                       ...                      ...                      ...\n",
              "1039                 0.000027                 0.000976                -0.000232\n",
              "1040                -0.000058                 0.000683                -0.000402\n",
              "1041                -0.000027                 0.000869                -0.000611\n",
              "1042                -0.000045                 0.000745                -0.000250\n",
              "1043                -0.000068                 0.000846                -0.000121\n",
              "\n",
              "[1044 rows x 3 columns]"
            ]
          },
          "metadata": {},
          "execution_count": 72
        }
      ],
      "source": [
        "LSTM_recursive_prediction = pd.DataFrame(np.column_stack((cad_recursive_LSTM_pred, aud_recursive_LSTM_pred, gbp_recursive_LSTM_pred)))\n",
        "LSTM_recursive_prediction.columns = ['cad_recursive_LSTM_pred', 'aud_recursive_LSTM_pred', 'gbp_recursive_LSTM_pred']\n",
        "LSTM_recursive_prediction.to_csv('./LSTM_recursive_prediction.csv')\n",
        "LSTM_recursive_prediction"
      ]
    },
    {
      "cell_type": "code",
      "execution_count": 73,
      "metadata": {
        "colab": {
          "base_uri": "https://localhost:8080/",
          "height": 0
        },
        "id": "Phs_Qbcgp4B8",
        "outputId": "b34df968-a323-4c87-9311-54da153329a3"
      },
      "outputs": [
        {
          "output_type": "execute_result",
          "data": {
            "text/html": [
              "\n",
              "  <div id=\"df-4e7eef07-7831-4155-99c1-7ba5c1c1a6c4\">\n",
              "    <div class=\"colab-df-container\">\n",
              "      <div>\n",
              "<style scoped>\n",
              "    .dataframe tbody tr th:only-of-type {\n",
              "        vertical-align: middle;\n",
              "    }\n",
              "\n",
              "    .dataframe tbody tr th {\n",
              "        vertical-align: top;\n",
              "    }\n",
              "\n",
              "    .dataframe thead th {\n",
              "        text-align: right;\n",
              "    }\n",
              "</style>\n",
              "<table border=\"1\" class=\"dataframe\">\n",
              "  <thead>\n",
              "    <tr style=\"text-align: right;\">\n",
              "      <th></th>\n",
              "      <th>cad_rolling_LSTM_pred</th>\n",
              "      <th>aud_rolling_LSTM_pred</th>\n",
              "      <th>gbp_rolling_LSTM_pred</th>\n",
              "    </tr>\n",
              "  </thead>\n",
              "  <tbody>\n",
              "    <tr>\n",
              "      <th>0</th>\n",
              "      <td>-0.000065</td>\n",
              "      <td>0.001197</td>\n",
              "      <td>-0.000205</td>\n",
              "    </tr>\n",
              "    <tr>\n",
              "      <th>1</th>\n",
              "      <td>0.000016</td>\n",
              "      <td>0.001142</td>\n",
              "      <td>-0.000549</td>\n",
              "    </tr>\n",
              "    <tr>\n",
              "      <th>2</th>\n",
              "      <td>-0.000045</td>\n",
              "      <td>0.001312</td>\n",
              "      <td>-0.000462</td>\n",
              "    </tr>\n",
              "    <tr>\n",
              "      <th>3</th>\n",
              "      <td>-0.000117</td>\n",
              "      <td>0.001169</td>\n",
              "      <td>-0.000177</td>\n",
              "    </tr>\n",
              "    <tr>\n",
              "      <th>4</th>\n",
              "      <td>-0.000008</td>\n",
              "      <td>0.001096</td>\n",
              "      <td>-0.000204</td>\n",
              "    </tr>\n",
              "    <tr>\n",
              "      <th>...</th>\n",
              "      <td>...</td>\n",
              "      <td>...</td>\n",
              "      <td>...</td>\n",
              "    </tr>\n",
              "    <tr>\n",
              "      <th>1039</th>\n",
              "      <td>0.000036</td>\n",
              "      <td>0.001275</td>\n",
              "      <td>-0.000168</td>\n",
              "    </tr>\n",
              "    <tr>\n",
              "      <th>1040</th>\n",
              "      <td>-0.000048</td>\n",
              "      <td>0.001076</td>\n",
              "      <td>-0.000332</td>\n",
              "    </tr>\n",
              "    <tr>\n",
              "      <th>1041</th>\n",
              "      <td>-0.000017</td>\n",
              "      <td>0.001384</td>\n",
              "      <td>-0.000531</td>\n",
              "    </tr>\n",
              "    <tr>\n",
              "      <th>1042</th>\n",
              "      <td>-0.000035</td>\n",
              "      <td>0.001236</td>\n",
              "      <td>-0.000184</td>\n",
              "    </tr>\n",
              "    <tr>\n",
              "      <th>1043</th>\n",
              "      <td>-0.000058</td>\n",
              "      <td>0.001268</td>\n",
              "      <td>-0.000061</td>\n",
              "    </tr>\n",
              "  </tbody>\n",
              "</table>\n",
              "<p>1044 rows × 3 columns</p>\n",
              "</div>\n",
              "      <button class=\"colab-df-convert\" onclick=\"convertToInteractive('df-4e7eef07-7831-4155-99c1-7ba5c1c1a6c4')\"\n",
              "              title=\"Convert this dataframe to an interactive table.\"\n",
              "              style=\"display:none;\">\n",
              "        \n",
              "  <svg xmlns=\"http://www.w3.org/2000/svg\" height=\"24px\"viewBox=\"0 0 24 24\"\n",
              "       width=\"24px\">\n",
              "    <path d=\"M0 0h24v24H0V0z\" fill=\"none\"/>\n",
              "    <path d=\"M18.56 5.44l.94 2.06.94-2.06 2.06-.94-2.06-.94-.94-2.06-.94 2.06-2.06.94zm-11 1L8.5 8.5l.94-2.06 2.06-.94-2.06-.94L8.5 2.5l-.94 2.06-2.06.94zm10 10l.94 2.06.94-2.06 2.06-.94-2.06-.94-.94-2.06-.94 2.06-2.06.94z\"/><path d=\"M17.41 7.96l-1.37-1.37c-.4-.4-.92-.59-1.43-.59-.52 0-1.04.2-1.43.59L10.3 9.45l-7.72 7.72c-.78.78-.78 2.05 0 2.83L4 21.41c.39.39.9.59 1.41.59.51 0 1.02-.2 1.41-.59l7.78-7.78 2.81-2.81c.8-.78.8-2.07 0-2.86zM5.41 20L4 18.59l7.72-7.72 1.47 1.35L5.41 20z\"/>\n",
              "  </svg>\n",
              "      </button>\n",
              "      \n",
              "  <style>\n",
              "    .colab-df-container {\n",
              "      display:flex;\n",
              "      flex-wrap:wrap;\n",
              "      gap: 12px;\n",
              "    }\n",
              "\n",
              "    .colab-df-convert {\n",
              "      background-color: #E8F0FE;\n",
              "      border: none;\n",
              "      border-radius: 50%;\n",
              "      cursor: pointer;\n",
              "      display: none;\n",
              "      fill: #1967D2;\n",
              "      height: 32px;\n",
              "      padding: 0 0 0 0;\n",
              "      width: 32px;\n",
              "    }\n",
              "\n",
              "    .colab-df-convert:hover {\n",
              "      background-color: #E2EBFA;\n",
              "      box-shadow: 0px 1px 2px rgba(60, 64, 67, 0.3), 0px 1px 3px 1px rgba(60, 64, 67, 0.15);\n",
              "      fill: #174EA6;\n",
              "    }\n",
              "\n",
              "    [theme=dark] .colab-df-convert {\n",
              "      background-color: #3B4455;\n",
              "      fill: #D2E3FC;\n",
              "    }\n",
              "\n",
              "    [theme=dark] .colab-df-convert:hover {\n",
              "      background-color: #434B5C;\n",
              "      box-shadow: 0px 1px 3px 1px rgba(0, 0, 0, 0.15);\n",
              "      filter: drop-shadow(0px 1px 2px rgba(0, 0, 0, 0.3));\n",
              "      fill: #FFFFFF;\n",
              "    }\n",
              "  </style>\n",
              "\n",
              "      <script>\n",
              "        const buttonEl =\n",
              "          document.querySelector('#df-4e7eef07-7831-4155-99c1-7ba5c1c1a6c4 button.colab-df-convert');\n",
              "        buttonEl.style.display =\n",
              "          google.colab.kernel.accessAllowed ? 'block' : 'none';\n",
              "\n",
              "        async function convertToInteractive(key) {\n",
              "          const element = document.querySelector('#df-4e7eef07-7831-4155-99c1-7ba5c1c1a6c4');\n",
              "          const dataTable =\n",
              "            await google.colab.kernel.invokeFunction('convertToInteractive',\n",
              "                                                     [key], {});\n",
              "          if (!dataTable) return;\n",
              "\n",
              "          const docLinkHtml = 'Like what you see? Visit the ' +\n",
              "            '<a target=\"_blank\" href=https://colab.research.google.com/notebooks/data_table.ipynb>data table notebook</a>'\n",
              "            + ' to learn more about interactive tables.';\n",
              "          element.innerHTML = '';\n",
              "          dataTable['output_type'] = 'display_data';\n",
              "          await google.colab.output.renderOutput(dataTable, element);\n",
              "          const docLink = document.createElement('div');\n",
              "          docLink.innerHTML = docLinkHtml;\n",
              "          element.appendChild(docLink);\n",
              "        }\n",
              "      </script>\n",
              "    </div>\n",
              "  </div>\n",
              "  "
            ],
            "text/plain": [
              "      cad_rolling_LSTM_pred  aud_rolling_LSTM_pred  gbp_rolling_LSTM_pred\n",
              "0                 -0.000065               0.001197              -0.000205\n",
              "1                  0.000016               0.001142              -0.000549\n",
              "2                 -0.000045               0.001312              -0.000462\n",
              "3                 -0.000117               0.001169              -0.000177\n",
              "4                 -0.000008               0.001096              -0.000204\n",
              "...                     ...                    ...                    ...\n",
              "1039               0.000036               0.001275              -0.000168\n",
              "1040              -0.000048               0.001076              -0.000332\n",
              "1041              -0.000017               0.001384              -0.000531\n",
              "1042              -0.000035               0.001236              -0.000184\n",
              "1043              -0.000058               0.001268              -0.000061\n",
              "\n",
              "[1044 rows x 3 columns]"
            ]
          },
          "metadata": {},
          "execution_count": 73
        }
      ],
      "source": [
        "LSTM_rolling_prediction = pd.DataFrame(np.column_stack((cad_rolling_LSTM_pred, aud_rolling_LSTM_pred, gbp_rolling_LSTM_pred)))\n",
        "LSTM_rolling_prediction.columns = ['cad_rolling_LSTM_pred', 'aud_rolling_LSTM_pred', 'gbp_rolling_LSTM_pred']\n",
        "LSTM_rolling_prediction.to_csv('./LSTM_rolling_prediction.csv')\n",
        "LSTM_rolling_prediction"
      ]
    },
    {
      "cell_type": "code",
      "execution_count": 74,
      "metadata": {
        "colab": {
          "base_uri": "https://localhost:8080/",
          "height": 0
        },
        "id": "uX5aVIhop4B8",
        "outputId": "9fe7312a-8f5e-46a8-c912-661b22aa6a65"
      },
      "outputs": [
        {
          "output_type": "execute_result",
          "data": {
            "text/html": [
              "\n",
              "  <div id=\"df-b76fbf7b-3e04-4e8a-985f-b90b8c6d774e\">\n",
              "    <div class=\"colab-df-container\">\n",
              "      <div>\n",
              "<style scoped>\n",
              "    .dataframe tbody tr th:only-of-type {\n",
              "        vertical-align: middle;\n",
              "    }\n",
              "\n",
              "    .dataframe tbody tr th {\n",
              "        vertical-align: top;\n",
              "    }\n",
              "\n",
              "    .dataframe thead th {\n",
              "        text-align: right;\n",
              "    }\n",
              "</style>\n",
              "<table border=\"1\" class=\"dataframe\">\n",
              "  <thead>\n",
              "    <tr style=\"text-align: right;\">\n",
              "      <th></th>\n",
              "      <th>cad_recursive_Self_Attention_pred</th>\n",
              "      <th>aud_recursive_Self_Attention_pred</th>\n",
              "      <th>gbp_recursive_Self_Attention_pred</th>\n",
              "    </tr>\n",
              "  </thead>\n",
              "  <tbody>\n",
              "    <tr>\n",
              "      <th>0</th>\n",
              "      <td>0.000123</td>\n",
              "      <td>-0.001629</td>\n",
              "      <td>-0.000229</td>\n",
              "    </tr>\n",
              "    <tr>\n",
              "      <th>1</th>\n",
              "      <td>0.000154</td>\n",
              "      <td>-0.001620</td>\n",
              "      <td>-0.000563</td>\n",
              "    </tr>\n",
              "    <tr>\n",
              "      <th>2</th>\n",
              "      <td>0.000076</td>\n",
              "      <td>-0.001619</td>\n",
              "      <td>-0.000485</td>\n",
              "    </tr>\n",
              "    <tr>\n",
              "      <th>3</th>\n",
              "      <td>-0.000028</td>\n",
              "      <td>-0.001618</td>\n",
              "      <td>-0.000241</td>\n",
              "    </tr>\n",
              "    <tr>\n",
              "      <th>4</th>\n",
              "      <td>-0.000047</td>\n",
              "      <td>-0.001618</td>\n",
              "      <td>-0.000258</td>\n",
              "    </tr>\n",
              "    <tr>\n",
              "      <th>...</th>\n",
              "      <td>...</td>\n",
              "      <td>...</td>\n",
              "      <td>...</td>\n",
              "    </tr>\n",
              "    <tr>\n",
              "      <th>1039</th>\n",
              "      <td>0.000366</td>\n",
              "      <td>-0.001620</td>\n",
              "      <td>-0.000203</td>\n",
              "    </tr>\n",
              "    <tr>\n",
              "      <th>1040</th>\n",
              "      <td>0.000302</td>\n",
              "      <td>-0.001620</td>\n",
              "      <td>-0.000405</td>\n",
              "    </tr>\n",
              "    <tr>\n",
              "      <th>1041</th>\n",
              "      <td>0.000212</td>\n",
              "      <td>-0.001621</td>\n",
              "      <td>-0.000644</td>\n",
              "    </tr>\n",
              "    <tr>\n",
              "      <th>1042</th>\n",
              "      <td>0.000135</td>\n",
              "      <td>-0.001620</td>\n",
              "      <td>-0.000358</td>\n",
              "    </tr>\n",
              "    <tr>\n",
              "      <th>1043</th>\n",
              "      <td>0.000131</td>\n",
              "      <td>-0.001619</td>\n",
              "      <td>-0.000169</td>\n",
              "    </tr>\n",
              "  </tbody>\n",
              "</table>\n",
              "<p>1044 rows × 3 columns</p>\n",
              "</div>\n",
              "      <button class=\"colab-df-convert\" onclick=\"convertToInteractive('df-b76fbf7b-3e04-4e8a-985f-b90b8c6d774e')\"\n",
              "              title=\"Convert this dataframe to an interactive table.\"\n",
              "              style=\"display:none;\">\n",
              "        \n",
              "  <svg xmlns=\"http://www.w3.org/2000/svg\" height=\"24px\"viewBox=\"0 0 24 24\"\n",
              "       width=\"24px\">\n",
              "    <path d=\"M0 0h24v24H0V0z\" fill=\"none\"/>\n",
              "    <path d=\"M18.56 5.44l.94 2.06.94-2.06 2.06-.94-2.06-.94-.94-2.06-.94 2.06-2.06.94zm-11 1L8.5 8.5l.94-2.06 2.06-.94-2.06-.94L8.5 2.5l-.94 2.06-2.06.94zm10 10l.94 2.06.94-2.06 2.06-.94-2.06-.94-.94-2.06-.94 2.06-2.06.94z\"/><path d=\"M17.41 7.96l-1.37-1.37c-.4-.4-.92-.59-1.43-.59-.52 0-1.04.2-1.43.59L10.3 9.45l-7.72 7.72c-.78.78-.78 2.05 0 2.83L4 21.41c.39.39.9.59 1.41.59.51 0 1.02-.2 1.41-.59l7.78-7.78 2.81-2.81c.8-.78.8-2.07 0-2.86zM5.41 20L4 18.59l7.72-7.72 1.47 1.35L5.41 20z\"/>\n",
              "  </svg>\n",
              "      </button>\n",
              "      \n",
              "  <style>\n",
              "    .colab-df-container {\n",
              "      display:flex;\n",
              "      flex-wrap:wrap;\n",
              "      gap: 12px;\n",
              "    }\n",
              "\n",
              "    .colab-df-convert {\n",
              "      background-color: #E8F0FE;\n",
              "      border: none;\n",
              "      border-radius: 50%;\n",
              "      cursor: pointer;\n",
              "      display: none;\n",
              "      fill: #1967D2;\n",
              "      height: 32px;\n",
              "      padding: 0 0 0 0;\n",
              "      width: 32px;\n",
              "    }\n",
              "\n",
              "    .colab-df-convert:hover {\n",
              "      background-color: #E2EBFA;\n",
              "      box-shadow: 0px 1px 2px rgba(60, 64, 67, 0.3), 0px 1px 3px 1px rgba(60, 64, 67, 0.15);\n",
              "      fill: #174EA6;\n",
              "    }\n",
              "\n",
              "    [theme=dark] .colab-df-convert {\n",
              "      background-color: #3B4455;\n",
              "      fill: #D2E3FC;\n",
              "    }\n",
              "\n",
              "    [theme=dark] .colab-df-convert:hover {\n",
              "      background-color: #434B5C;\n",
              "      box-shadow: 0px 1px 3px 1px rgba(0, 0, 0, 0.15);\n",
              "      filter: drop-shadow(0px 1px 2px rgba(0, 0, 0, 0.3));\n",
              "      fill: #FFFFFF;\n",
              "    }\n",
              "  </style>\n",
              "\n",
              "      <script>\n",
              "        const buttonEl =\n",
              "          document.querySelector('#df-b76fbf7b-3e04-4e8a-985f-b90b8c6d774e button.colab-df-convert');\n",
              "        buttonEl.style.display =\n",
              "          google.colab.kernel.accessAllowed ? 'block' : 'none';\n",
              "\n",
              "        async function convertToInteractive(key) {\n",
              "          const element = document.querySelector('#df-b76fbf7b-3e04-4e8a-985f-b90b8c6d774e');\n",
              "          const dataTable =\n",
              "            await google.colab.kernel.invokeFunction('convertToInteractive',\n",
              "                                                     [key], {});\n",
              "          if (!dataTable) return;\n",
              "\n",
              "          const docLinkHtml = 'Like what you see? Visit the ' +\n",
              "            '<a target=\"_blank\" href=https://colab.research.google.com/notebooks/data_table.ipynb>data table notebook</a>'\n",
              "            + ' to learn more about interactive tables.';\n",
              "          element.innerHTML = '';\n",
              "          dataTable['output_type'] = 'display_data';\n",
              "          await google.colab.output.renderOutput(dataTable, element);\n",
              "          const docLink = document.createElement('div');\n",
              "          docLink.innerHTML = docLinkHtml;\n",
              "          element.appendChild(docLink);\n",
              "        }\n",
              "      </script>\n",
              "    </div>\n",
              "  </div>\n",
              "  "
            ],
            "text/plain": [
              "      cad_recursive_Self_Attention_pred  ...  gbp_recursive_Self_Attention_pred\n",
              "0                              0.000123  ...                          -0.000229\n",
              "1                              0.000154  ...                          -0.000563\n",
              "2                              0.000076  ...                          -0.000485\n",
              "3                             -0.000028  ...                          -0.000241\n",
              "4                             -0.000047  ...                          -0.000258\n",
              "...                                 ...  ...                                ...\n",
              "1039                           0.000366  ...                          -0.000203\n",
              "1040                           0.000302  ...                          -0.000405\n",
              "1041                           0.000212  ...                          -0.000644\n",
              "1042                           0.000135  ...                          -0.000358\n",
              "1043                           0.000131  ...                          -0.000169\n",
              "\n",
              "[1044 rows x 3 columns]"
            ]
          },
          "metadata": {},
          "execution_count": 74
        }
      ],
      "source": [
        "Self_Attention_recursive_prediction = pd.DataFrame(np.column_stack((cad_recursive_Self_Attention_pred, aud_recursive_Self_Attention_pred, gbp_recursive_Self_Attention_pred)))\n",
        "Self_Attention_recursive_prediction.columns = ['cad_recursive_Self_Attention_pred', 'aud_recursive_Self_Attention_pred', 'gbp_recursive_Self_Attention_pred']\n",
        "Self_Attention_recursive_prediction.to_csv('./Self_Attention_recursive_prediction.csv')\n",
        "Self_Attention_recursive_prediction"
      ]
    },
    {
      "cell_type": "code",
      "execution_count": 75,
      "metadata": {
        "colab": {
          "base_uri": "https://localhost:8080/",
          "height": 0
        },
        "id": "XCYxRSnRp4B8",
        "outputId": "a2726e4a-7f44-4f6a-e12a-67a09803c68f"
      },
      "outputs": [
        {
          "output_type": "execute_result",
          "data": {
            "text/html": [
              "\n",
              "  <div id=\"df-1c1e6067-e0f0-4e1a-87ca-76dc4fc75db2\">\n",
              "    <div class=\"colab-df-container\">\n",
              "      <div>\n",
              "<style scoped>\n",
              "    .dataframe tbody tr th:only-of-type {\n",
              "        vertical-align: middle;\n",
              "    }\n",
              "\n",
              "    .dataframe tbody tr th {\n",
              "        vertical-align: top;\n",
              "    }\n",
              "\n",
              "    .dataframe thead th {\n",
              "        text-align: right;\n",
              "    }\n",
              "</style>\n",
              "<table border=\"1\" class=\"dataframe\">\n",
              "  <thead>\n",
              "    <tr style=\"text-align: right;\">\n",
              "      <th></th>\n",
              "      <th>cad_rolling_Self_Attention_pred</th>\n",
              "      <th>aud_rolling_Self_Attention_pred</th>\n",
              "      <th>gbp_rolling_Self_Attention_pred</th>\n",
              "    </tr>\n",
              "  </thead>\n",
              "  <tbody>\n",
              "    <tr>\n",
              "      <th>0</th>\n",
              "      <td>0.000123</td>\n",
              "      <td>-0.001629</td>\n",
              "      <td>-0.000229</td>\n",
              "    </tr>\n",
              "    <tr>\n",
              "      <th>1</th>\n",
              "      <td>0.000154</td>\n",
              "      <td>-0.001620</td>\n",
              "      <td>-0.000563</td>\n",
              "    </tr>\n",
              "    <tr>\n",
              "      <th>2</th>\n",
              "      <td>0.000076</td>\n",
              "      <td>-0.001620</td>\n",
              "      <td>-0.000486</td>\n",
              "    </tr>\n",
              "    <tr>\n",
              "      <th>3</th>\n",
              "      <td>-0.000029</td>\n",
              "      <td>-0.001619</td>\n",
              "      <td>-0.000242</td>\n",
              "    </tr>\n",
              "    <tr>\n",
              "      <th>4</th>\n",
              "      <td>-0.000048</td>\n",
              "      <td>-0.001618</td>\n",
              "      <td>-0.000259</td>\n",
              "    </tr>\n",
              "    <tr>\n",
              "      <th>...</th>\n",
              "      <td>...</td>\n",
              "      <td>...</td>\n",
              "      <td>...</td>\n",
              "    </tr>\n",
              "    <tr>\n",
              "      <th>1039</th>\n",
              "      <td>0.000376</td>\n",
              "      <td>-0.001588</td>\n",
              "      <td>-0.000137</td>\n",
              "    </tr>\n",
              "    <tr>\n",
              "      <th>1040</th>\n",
              "      <td>0.000313</td>\n",
              "      <td>-0.001588</td>\n",
              "      <td>-0.000334</td>\n",
              "    </tr>\n",
              "    <tr>\n",
              "      <th>1041</th>\n",
              "      <td>0.000223</td>\n",
              "      <td>-0.001588</td>\n",
              "      <td>-0.000563</td>\n",
              "    </tr>\n",
              "    <tr>\n",
              "      <th>1042</th>\n",
              "      <td>0.000146</td>\n",
              "      <td>-0.001587</td>\n",
              "      <td>-0.000290</td>\n",
              "    </tr>\n",
              "    <tr>\n",
              "      <th>1043</th>\n",
              "      <td>0.000142</td>\n",
              "      <td>-0.001586</td>\n",
              "      <td>-0.000108</td>\n",
              "    </tr>\n",
              "  </tbody>\n",
              "</table>\n",
              "<p>1044 rows × 3 columns</p>\n",
              "</div>\n",
              "      <button class=\"colab-df-convert\" onclick=\"convertToInteractive('df-1c1e6067-e0f0-4e1a-87ca-76dc4fc75db2')\"\n",
              "              title=\"Convert this dataframe to an interactive table.\"\n",
              "              style=\"display:none;\">\n",
              "        \n",
              "  <svg xmlns=\"http://www.w3.org/2000/svg\" height=\"24px\"viewBox=\"0 0 24 24\"\n",
              "       width=\"24px\">\n",
              "    <path d=\"M0 0h24v24H0V0z\" fill=\"none\"/>\n",
              "    <path d=\"M18.56 5.44l.94 2.06.94-2.06 2.06-.94-2.06-.94-.94-2.06-.94 2.06-2.06.94zm-11 1L8.5 8.5l.94-2.06 2.06-.94-2.06-.94L8.5 2.5l-.94 2.06-2.06.94zm10 10l.94 2.06.94-2.06 2.06-.94-2.06-.94-.94-2.06-.94 2.06-2.06.94z\"/><path d=\"M17.41 7.96l-1.37-1.37c-.4-.4-.92-.59-1.43-.59-.52 0-1.04.2-1.43.59L10.3 9.45l-7.72 7.72c-.78.78-.78 2.05 0 2.83L4 21.41c.39.39.9.59 1.41.59.51 0 1.02-.2 1.41-.59l7.78-7.78 2.81-2.81c.8-.78.8-2.07 0-2.86zM5.41 20L4 18.59l7.72-7.72 1.47 1.35L5.41 20z\"/>\n",
              "  </svg>\n",
              "      </button>\n",
              "      \n",
              "  <style>\n",
              "    .colab-df-container {\n",
              "      display:flex;\n",
              "      flex-wrap:wrap;\n",
              "      gap: 12px;\n",
              "    }\n",
              "\n",
              "    .colab-df-convert {\n",
              "      background-color: #E8F0FE;\n",
              "      border: none;\n",
              "      border-radius: 50%;\n",
              "      cursor: pointer;\n",
              "      display: none;\n",
              "      fill: #1967D2;\n",
              "      height: 32px;\n",
              "      padding: 0 0 0 0;\n",
              "      width: 32px;\n",
              "    }\n",
              "\n",
              "    .colab-df-convert:hover {\n",
              "      background-color: #E2EBFA;\n",
              "      box-shadow: 0px 1px 2px rgba(60, 64, 67, 0.3), 0px 1px 3px 1px rgba(60, 64, 67, 0.15);\n",
              "      fill: #174EA6;\n",
              "    }\n",
              "\n",
              "    [theme=dark] .colab-df-convert {\n",
              "      background-color: #3B4455;\n",
              "      fill: #D2E3FC;\n",
              "    }\n",
              "\n",
              "    [theme=dark] .colab-df-convert:hover {\n",
              "      background-color: #434B5C;\n",
              "      box-shadow: 0px 1px 3px 1px rgba(0, 0, 0, 0.15);\n",
              "      filter: drop-shadow(0px 1px 2px rgba(0, 0, 0, 0.3));\n",
              "      fill: #FFFFFF;\n",
              "    }\n",
              "  </style>\n",
              "\n",
              "      <script>\n",
              "        const buttonEl =\n",
              "          document.querySelector('#df-1c1e6067-e0f0-4e1a-87ca-76dc4fc75db2 button.colab-df-convert');\n",
              "        buttonEl.style.display =\n",
              "          google.colab.kernel.accessAllowed ? 'block' : 'none';\n",
              "\n",
              "        async function convertToInteractive(key) {\n",
              "          const element = document.querySelector('#df-1c1e6067-e0f0-4e1a-87ca-76dc4fc75db2');\n",
              "          const dataTable =\n",
              "            await google.colab.kernel.invokeFunction('convertToInteractive',\n",
              "                                                     [key], {});\n",
              "          if (!dataTable) return;\n",
              "\n",
              "          const docLinkHtml = 'Like what you see? Visit the ' +\n",
              "            '<a target=\"_blank\" href=https://colab.research.google.com/notebooks/data_table.ipynb>data table notebook</a>'\n",
              "            + ' to learn more about interactive tables.';\n",
              "          element.innerHTML = '';\n",
              "          dataTable['output_type'] = 'display_data';\n",
              "          await google.colab.output.renderOutput(dataTable, element);\n",
              "          const docLink = document.createElement('div');\n",
              "          docLink.innerHTML = docLinkHtml;\n",
              "          element.appendChild(docLink);\n",
              "        }\n",
              "      </script>\n",
              "    </div>\n",
              "  </div>\n",
              "  "
            ],
            "text/plain": [
              "      cad_rolling_Self_Attention_pred  ...  gbp_rolling_Self_Attention_pred\n",
              "0                            0.000123  ...                        -0.000229\n",
              "1                            0.000154  ...                        -0.000563\n",
              "2                            0.000076  ...                        -0.000486\n",
              "3                           -0.000029  ...                        -0.000242\n",
              "4                           -0.000048  ...                        -0.000259\n",
              "...                               ...  ...                              ...\n",
              "1039                         0.000376  ...                        -0.000137\n",
              "1040                         0.000313  ...                        -0.000334\n",
              "1041                         0.000223  ...                        -0.000563\n",
              "1042                         0.000146  ...                        -0.000290\n",
              "1043                         0.000142  ...                        -0.000108\n",
              "\n",
              "[1044 rows x 3 columns]"
            ]
          },
          "metadata": {},
          "execution_count": 75
        }
      ],
      "source": [
        "Self_Attention_rolling_prediction = pd.DataFrame(np.column_stack((cad_rolling_Self_Attention_pred, aud_rolling_Self_Attention_pred, gbp_rolling_Self_Attention_pred)))\n",
        "Self_Attention_rolling_prediction.columns = ['cad_rolling_Self_Attention_pred', 'aud_rolling_Self_Attention_pred', 'gbp_rolling_Self_Attention_pred']\n",
        "Self_Attention_rolling_prediction.to_csv('./Self_Attention_rolling_prediction.csv')\n",
        "Self_Attention_rolling_prediction"
      ]
    },
    {
      "cell_type": "markdown",
      "metadata": {
        "id": "f5k6MQuBp4B8"
      },
      "source": [
        "## 載入實際匯率變動率（取對數後一階差分）"
      ]
    },
    {
      "cell_type": "code",
      "execution_count": 76,
      "metadata": {
        "colab": {
          "base_uri": "https://localhost:8080/",
          "height": 424
        },
        "id": "zVjp6NJWp4B8",
        "outputId": "9b402849-f4be-4e20-81f1-97cb79c600b3"
      },
      "outputs": [
        {
          "output_type": "execute_result",
          "data": {
            "text/html": [
              "\n",
              "  <div id=\"df-e4d34b12-1fdb-46d5-963d-9056525467c1\">\n",
              "    <div class=\"colab-df-container\">\n",
              "      <div>\n",
              "<style scoped>\n",
              "    .dataframe tbody tr th:only-of-type {\n",
              "        vertical-align: middle;\n",
              "    }\n",
              "\n",
              "    .dataframe tbody tr th {\n",
              "        vertical-align: top;\n",
              "    }\n",
              "\n",
              "    .dataframe thead th {\n",
              "        text-align: right;\n",
              "    }\n",
              "</style>\n",
              "<table border=\"1\" class=\"dataframe\">\n",
              "  <thead>\n",
              "    <tr style=\"text-align: right;\">\n",
              "      <th></th>\n",
              "      <th>CADUSD Curncy</th>\n",
              "      <th>AUDUSD Curncy</th>\n",
              "      <th>GBPUSD Curncy</th>\n",
              "    </tr>\n",
              "  </thead>\n",
              "  <tbody>\n",
              "    <tr>\n",
              "      <th>2017-01-02</th>\n",
              "      <td>-0.000269</td>\n",
              "      <td>-0.003335</td>\n",
              "      <td>-0.005037</td>\n",
              "    </tr>\n",
              "    <tr>\n",
              "      <th>2017-01-03</th>\n",
              "      <td>0.001209</td>\n",
              "      <td>0.004860</td>\n",
              "      <td>-0.003345</td>\n",
              "    </tr>\n",
              "    <tr>\n",
              "      <th>2017-01-04</th>\n",
              "      <td>0.009488</td>\n",
              "      <td>0.008826</td>\n",
              "      <td>0.007003</td>\n",
              "    </tr>\n",
              "    <tr>\n",
              "      <th>2017-01-05</th>\n",
              "      <td>0.005703</td>\n",
              "      <td>0.007523</td>\n",
              "      <td>0.007760</td>\n",
              "    </tr>\n",
              "    <tr>\n",
              "      <th>2017-01-06</th>\n",
              "      <td>-0.000926</td>\n",
              "      <td>-0.005055</td>\n",
              "      <td>-0.010686</td>\n",
              "    </tr>\n",
              "    <tr>\n",
              "      <th>...</th>\n",
              "      <td>...</td>\n",
              "      <td>...</td>\n",
              "      <td>...</td>\n",
              "    </tr>\n",
              "    <tr>\n",
              "      <th>2020-12-25</th>\n",
              "      <td>-0.000129</td>\n",
              "      <td>0.001052</td>\n",
              "      <td>0.000148</td>\n",
              "    </tr>\n",
              "    <tr>\n",
              "      <th>2020-12-28</th>\n",
              "      <td>0.001414</td>\n",
              "      <td>-0.003425</td>\n",
              "      <td>-0.007996</td>\n",
              "    </tr>\n",
              "    <tr>\n",
              "      <th>2020-12-29</th>\n",
              "      <td>0.002182</td>\n",
              "      <td>0.003556</td>\n",
              "      <td>0.003784</td>\n",
              "    </tr>\n",
              "    <tr>\n",
              "      <th>2020-12-30</th>\n",
              "      <td>0.005242</td>\n",
              "      <td>0.010463</td>\n",
              "      <td>0.008994</td>\n",
              "    </tr>\n",
              "    <tr>\n",
              "      <th>2020-12-31</th>\n",
              "      <td>0.001402</td>\n",
              "      <td>0.001040</td>\n",
              "      <td>0.003297</td>\n",
              "    </tr>\n",
              "  </tbody>\n",
              "</table>\n",
              "<p>1044 rows × 3 columns</p>\n",
              "</div>\n",
              "      <button class=\"colab-df-convert\" onclick=\"convertToInteractive('df-e4d34b12-1fdb-46d5-963d-9056525467c1')\"\n",
              "              title=\"Convert this dataframe to an interactive table.\"\n",
              "              style=\"display:none;\">\n",
              "        \n",
              "  <svg xmlns=\"http://www.w3.org/2000/svg\" height=\"24px\"viewBox=\"0 0 24 24\"\n",
              "       width=\"24px\">\n",
              "    <path d=\"M0 0h24v24H0V0z\" fill=\"none\"/>\n",
              "    <path d=\"M18.56 5.44l.94 2.06.94-2.06 2.06-.94-2.06-.94-.94-2.06-.94 2.06-2.06.94zm-11 1L8.5 8.5l.94-2.06 2.06-.94-2.06-.94L8.5 2.5l-.94 2.06-2.06.94zm10 10l.94 2.06.94-2.06 2.06-.94-2.06-.94-.94-2.06-.94 2.06-2.06.94z\"/><path d=\"M17.41 7.96l-1.37-1.37c-.4-.4-.92-.59-1.43-.59-.52 0-1.04.2-1.43.59L10.3 9.45l-7.72 7.72c-.78.78-.78 2.05 0 2.83L4 21.41c.39.39.9.59 1.41.59.51 0 1.02-.2 1.41-.59l7.78-7.78 2.81-2.81c.8-.78.8-2.07 0-2.86zM5.41 20L4 18.59l7.72-7.72 1.47 1.35L5.41 20z\"/>\n",
              "  </svg>\n",
              "      </button>\n",
              "      \n",
              "  <style>\n",
              "    .colab-df-container {\n",
              "      display:flex;\n",
              "      flex-wrap:wrap;\n",
              "      gap: 12px;\n",
              "    }\n",
              "\n",
              "    .colab-df-convert {\n",
              "      background-color: #E8F0FE;\n",
              "      border: none;\n",
              "      border-radius: 50%;\n",
              "      cursor: pointer;\n",
              "      display: none;\n",
              "      fill: #1967D2;\n",
              "      height: 32px;\n",
              "      padding: 0 0 0 0;\n",
              "      width: 32px;\n",
              "    }\n",
              "\n",
              "    .colab-df-convert:hover {\n",
              "      background-color: #E2EBFA;\n",
              "      box-shadow: 0px 1px 2px rgba(60, 64, 67, 0.3), 0px 1px 3px 1px rgba(60, 64, 67, 0.15);\n",
              "      fill: #174EA6;\n",
              "    }\n",
              "\n",
              "    [theme=dark] .colab-df-convert {\n",
              "      background-color: #3B4455;\n",
              "      fill: #D2E3FC;\n",
              "    }\n",
              "\n",
              "    [theme=dark] .colab-df-convert:hover {\n",
              "      background-color: #434B5C;\n",
              "      box-shadow: 0px 1px 3px 1px rgba(0, 0, 0, 0.15);\n",
              "      filter: drop-shadow(0px 1px 2px rgba(0, 0, 0, 0.3));\n",
              "      fill: #FFFFFF;\n",
              "    }\n",
              "  </style>\n",
              "\n",
              "      <script>\n",
              "        const buttonEl =\n",
              "          document.querySelector('#df-e4d34b12-1fdb-46d5-963d-9056525467c1 button.colab-df-convert');\n",
              "        buttonEl.style.display =\n",
              "          google.colab.kernel.accessAllowed ? 'block' : 'none';\n",
              "\n",
              "        async function convertToInteractive(key) {\n",
              "          const element = document.querySelector('#df-e4d34b12-1fdb-46d5-963d-9056525467c1');\n",
              "          const dataTable =\n",
              "            await google.colab.kernel.invokeFunction('convertToInteractive',\n",
              "                                                     [key], {});\n",
              "          if (!dataTable) return;\n",
              "\n",
              "          const docLinkHtml = 'Like what you see? Visit the ' +\n",
              "            '<a target=\"_blank\" href=https://colab.research.google.com/notebooks/data_table.ipynb>data table notebook</a>'\n",
              "            + ' to learn more about interactive tables.';\n",
              "          element.innerHTML = '';\n",
              "          dataTable['output_type'] = 'display_data';\n",
              "          await google.colab.output.renderOutput(dataTable, element);\n",
              "          const docLink = document.createElement('div');\n",
              "          docLink.innerHTML = docLinkHtml;\n",
              "          element.appendChild(docLink);\n",
              "        }\n",
              "      </script>\n",
              "    </div>\n",
              "  </div>\n",
              "  "
            ],
            "text/plain": [
              "            CADUSD Curncy  AUDUSD Curncy  GBPUSD Curncy\n",
              "2017-01-02      -0.000269      -0.003335      -0.005037\n",
              "2017-01-03       0.001209       0.004860      -0.003345\n",
              "2017-01-04       0.009488       0.008826       0.007003\n",
              "2017-01-05       0.005703       0.007523       0.007760\n",
              "2017-01-06      -0.000926      -0.005055      -0.010686\n",
              "...                   ...            ...            ...\n",
              "2020-12-25      -0.000129       0.001052       0.000148\n",
              "2020-12-28       0.001414      -0.003425      -0.007996\n",
              "2020-12-29       0.002182       0.003556       0.003784\n",
              "2020-12-30       0.005242       0.010463       0.008994\n",
              "2020-12-31       0.001402       0.001040       0.003297\n",
              "\n",
              "[1044 rows x 3 columns]"
            ]
          },
          "metadata": {},
          "execution_count": 76
        }
      ],
      "source": [
        "groundtruth = pd.read_excel('./CAD_AUD_GBP.xlsx', index_col=0, skiprows=3)\n",
        "groundtruth = groundtruth.iloc[1:,:]\n",
        "groundtruth = groundtruth.astype('float64')\n",
        "groundtruth.index = pd.to_datetime(groundtruth.index)\n",
        "groundtruth = np.log(groundtruth)\n",
        "groundtruth = groundtruth.diff().dropna()\n",
        "\n",
        "groundtruth = groundtruth.loc['2017-01-01':'2020-12-31']\n",
        "cad_groundtruth = groundtruth.iloc[:,0]\n",
        "aud_groundtruth = groundtruth.iloc[:,1]\n",
        "gbp_groundtruth = groundtruth.iloc[:,2]\n",
        "\n",
        "groundtruth"
      ]
    },
    {
      "cell_type": "markdown",
      "metadata": {
        "id": "PhXlyzkbp4B8"
      },
      "source": [
        "## 模型比較（計算模型的 RMSE, MAE, DA）"
      ]
    },
    {
      "cell_type": "markdown",
      "metadata": {
        "id": "pmFIgZ-Lp4B8"
      },
      "source": [
        "### Random walk pred"
      ]
    },
    {
      "cell_type": "code",
      "execution_count": 77,
      "metadata": {
        "id": "TBX6NK1ip4B9"
      },
      "outputs": [],
      "source": [
        "random_walk_pred = rw_pred(cad_groundtruth)\n",
        "\n",
        "cad_random_walk_RMSE = root_mean_squared_error(random_walk_pred, cad_groundtruth)\n",
        "cad_random_walk_MAE = mean_absolute_error(random_walk_pred, cad_groundtruth)\n",
        "cad_random_walk_DA = 0.5\n",
        "aud_random_walk_RMSE = root_mean_squared_error(random_walk_pred, aud_groundtruth)\n",
        "aud_random_walk_MAE = mean_absolute_error(random_walk_pred, aud_groundtruth)\n",
        "aud_random_walk_DA = 0.5\n",
        "gbp_random_walk_RMSE = root_mean_squared_error(random_walk_pred, gbp_groundtruth)\n",
        "gbp_random_walk_MAE = mean_absolute_error(random_walk_pred, gbp_groundtruth)\n",
        "gbp_random_walk_DA = 0.5"
      ]
    },
    {
      "cell_type": "code",
      "execution_count": 78,
      "metadata": {
        "colab": {
          "base_uri": "https://localhost:8080/"
        },
        "id": "vXIAdYWjp4B9",
        "outputId": "e4dc09a7-fb69-4c50-d444-283c21ae3aea"
      },
      "outputs": [
        {
          "output_type": "execute_result",
          "data": {
            "text/plain": [
              "(0.004365277893580916, 0.0032165540648211085, 0.5)"
            ]
          },
          "metadata": {},
          "execution_count": 78
        }
      ],
      "source": [
        "cad_random_walk_RMSE, cad_random_walk_MAE, cad_random_walk_DA"
      ]
    },
    {
      "cell_type": "code",
      "execution_count": 79,
      "metadata": {
        "colab": {
          "base_uri": "https://localhost:8080/"
        },
        "id": "8vhPxvRvp4B9",
        "outputId": "7608f251-d6e6-43fd-f4b8-7b0816b08575"
      },
      "outputs": [
        {
          "output_type": "execute_result",
          "data": {
            "text/plain": [
              "(0.005655793284191722, 0.00416259953667118, 0.5)"
            ]
          },
          "metadata": {},
          "execution_count": 79
        }
      ],
      "source": [
        "aud_random_walk_RMSE, aud_random_walk_MAE, aud_random_walk_DA"
      ]
    },
    {
      "cell_type": "code",
      "execution_count": 80,
      "metadata": {
        "colab": {
          "base_uri": "https://localhost:8080/"
        },
        "id": "y3EyxKppp4B9",
        "outputId": "a631180d-e09d-45cc-cc19-0b8a572bff79"
      },
      "outputs": [
        {
          "output_type": "execute_result",
          "data": {
            "text/plain": [
              "(0.0056882604301849125, 0.004202877474568311, 0.5)"
            ]
          },
          "metadata": {},
          "execution_count": 80
        }
      ],
      "source": [
        "gbp_random_walk_RMSE, gbp_random_walk_MAE, gbp_random_walk_DA"
      ]
    },
    {
      "cell_type": "markdown",
      "metadata": {
        "id": "-mSAxC05p4B9"
      },
      "source": [
        "### Recursive LSTM pred"
      ]
    },
    {
      "cell_type": "code",
      "execution_count": 81,
      "metadata": {
        "id": "93k-K1uEp4B9"
      },
      "outputs": [],
      "source": [
        "cad_recursive_LSTM_RMSE = root_mean_squared_error(cad_recursive_LSTM_pred, cad_groundtruth)\n",
        "cad_recursive_LSTM_MAE = mean_absolute_error(cad_recursive_LSTM_pred, cad_groundtruth)\n",
        "cad_recursive_LSTM_DA = direction_accuracy(cad_recursive_LSTM_pred, cad_groundtruth)\n",
        "aud_recursive_LSTM_RMSE = root_mean_squared_error(aud_recursive_LSTM_pred, aud_groundtruth)\n",
        "aud_recursive_LSTM_MAE = mean_absolute_error(aud_recursive_LSTM_pred, aud_groundtruth)\n",
        "aud_recursive_LSTM_DA = direction_accuracy(aud_recursive_LSTM_pred, aud_groundtruth)\n",
        "gbp_recursive_LSTM_RMSE = root_mean_squared_error(gbp_recursive_LSTM_pred, gbp_groundtruth)\n",
        "gbp_recursive_LSTM_MAE = mean_absolute_error(gbp_recursive_LSTM_pred, gbp_groundtruth)\n",
        "gbp_recursive_LSTM_DA = direction_accuracy(gbp_recursive_LSTM_pred, gbp_groundtruth)"
      ]
    },
    {
      "cell_type": "code",
      "execution_count": 82,
      "metadata": {
        "colab": {
          "base_uri": "https://localhost:8080/"
        },
        "id": "hcPAxld7p4B9",
        "outputId": "29eb0758-606d-4e46-90ed-1fa8e9f72885"
      },
      "outputs": [
        {
          "output_type": "execute_result",
          "data": {
            "text/plain": [
              "(0.004366953448165288, 0.0032166379683476027, 0.49616858237547895)"
            ]
          },
          "metadata": {},
          "execution_count": 82
        }
      ],
      "source": [
        "cad_recursive_LSTM_RMSE, cad_recursive_LSTM_MAE, cad_recursive_LSTM_DA"
      ]
    },
    {
      "cell_type": "code",
      "execution_count": 83,
      "metadata": {
        "colab": {
          "base_uri": "https://localhost:8080/"
        },
        "id": "umfIDXEip4B9",
        "outputId": "10911ccb-e8ab-47d5-d82c-f41b201cf058"
      },
      "outputs": [
        {
          "output_type": "execute_result",
          "data": {
            "text/plain": [
              "(0.005716025064109846, 0.00420648458967849, 0.5067049808429118)"
            ]
          },
          "metadata": {},
          "execution_count": 83
        }
      ],
      "source": [
        "aud_recursive_LSTM_RMSE, aud_recursive_LSTM_MAE, aud_recursive_LSTM_DA"
      ]
    },
    {
      "cell_type": "code",
      "execution_count": 84,
      "metadata": {
        "colab": {
          "base_uri": "https://localhost:8080/"
        },
        "id": "ru9M87NZp4B9",
        "outputId": "7e275e8f-5dac-4003-bdf1-3b0ebd270af4"
      },
      "outputs": [
        {
          "output_type": "execute_result",
          "data": {
            "text/plain": [
              "(0.005707144618527106, 0.004224464636170401, 0.4827586206896552)"
            ]
          },
          "metadata": {},
          "execution_count": 84
        }
      ],
      "source": [
        "gbp_recursive_LSTM_RMSE, gbp_recursive_LSTM_MAE, gbp_recursive_LSTM_DA"
      ]
    },
    {
      "cell_type": "markdown",
      "metadata": {
        "id": "4Jkwak57p4B9"
      },
      "source": [
        "### Rolling LSTM pred"
      ]
    },
    {
      "cell_type": "code",
      "execution_count": 85,
      "metadata": {
        "id": "VxGhz6IPp4B9"
      },
      "outputs": [],
      "source": [
        "cad_rolling_LSTM_RMSE = root_mean_squared_error(cad_rolling_LSTM_pred, cad_groundtruth)\n",
        "cad_rolling_LSTM_MAE = mean_absolute_error(cad_rolling_LSTM_pred, cad_groundtruth)\n",
        "cad_rolling_LSTM_DA = direction_accuracy(cad_rolling_LSTM_pred, cad_groundtruth)\n",
        "aud_rolling_LSTM_RMSE = root_mean_squared_error(aud_rolling_LSTM_pred, aud_groundtruth)\n",
        "aud_rolling_LSTM_MAE = mean_absolute_error(aud_rolling_LSTM_pred, aud_groundtruth)\n",
        "aud_rolling_LSTM_DA = direction_accuracy(aud_rolling_LSTM_pred, aud_groundtruth)\n",
        "gbp_rolling_LSTM_RMSE = root_mean_squared_error(gbp_rolling_LSTM_pred, gbp_groundtruth)\n",
        "gbp_rolling_LSTM_MAE = mean_absolute_error(gbp_rolling_LSTM_pred, gbp_groundtruth)\n",
        "gbp_rolling_LSTM_DA = direction_accuracy(gbp_rolling_LSTM_pred, gbp_groundtruth)"
      ]
    },
    {
      "cell_type": "code",
      "execution_count": 86,
      "metadata": {
        "colab": {
          "base_uri": "https://localhost:8080/"
        },
        "id": "BLZTqstHp4B9",
        "outputId": "a081719d-c8bd-4a77-f14f-d9a6fe0fc914"
      },
      "outputs": [
        {
          "output_type": "execute_result",
          "data": {
            "text/plain": [
              "(0.004366874890696316, 0.003216533494752228, 0.4942528735632184)"
            ]
          },
          "metadata": {},
          "execution_count": 86
        }
      ],
      "source": [
        "cad_rolling_LSTM_RMSE, cad_rolling_LSTM_MAE, cad_rolling_LSTM_DA"
      ]
    },
    {
      "cell_type": "code",
      "execution_count": 87,
      "metadata": {
        "colab": {
          "base_uri": "https://localhost:8080/"
        },
        "id": "7gtbSQL6p4B9",
        "outputId": "8963c665-703c-4976-abf5-3634df7b83c5"
      },
      "outputs": [
        {
          "output_type": "execute_result",
          "data": {
            "text/plain": [
              "(0.00577983214485462, 0.0042638320321405545, 0.5067049808429118)"
            ]
          },
          "metadata": {},
          "execution_count": 87
        }
      ],
      "source": [
        "aud_rolling_LSTM_RMSE, aud_rolling_LSTM_MAE, aud_rolling_LSTM_DA"
      ]
    },
    {
      "cell_type": "code",
      "execution_count": 88,
      "metadata": {
        "colab": {
          "base_uri": "https://localhost:8080/"
        },
        "id": "6AQn1KaKp4B-",
        "outputId": "120c3247-f18f-49c6-f964-2a9f056d330f"
      },
      "outputs": [
        {
          "output_type": "execute_result",
          "data": {
            "text/plain": [
              "(0.005705038932962677, 0.004221539465330905, 0.4827586206896552)"
            ]
          },
          "metadata": {},
          "execution_count": 88
        }
      ],
      "source": [
        "gbp_rolling_LSTM_RMSE, gbp_rolling_LSTM_MAE, gbp_rolling_LSTM_DA"
      ]
    },
    {
      "cell_type": "markdown",
      "metadata": {
        "id": "cqYWW_GFp4B-"
      },
      "source": [
        "### Recursive Self-Attention pred"
      ]
    },
    {
      "cell_type": "code",
      "execution_count": 89,
      "metadata": {
        "id": "Vg4WEtOOp4B-"
      },
      "outputs": [],
      "source": [
        "cad_recursive_Self_Attention_RMSE = root_mean_squared_error(cad_recursive_Self_Attention_pred, cad_groundtruth)\n",
        "cad_recursive_Self_Attention_MAE = mean_absolute_error(cad_recursive_Self_Attention_pred, cad_groundtruth)\n",
        "cad_recursive_Self_Attention_DA = direction_accuracy(cad_recursive_Self_Attention_pred, cad_groundtruth)\n",
        "aud_recursive_Self_Attention_RMSE = root_mean_squared_error(aud_recursive_Self_Attention_pred, aud_groundtruth)\n",
        "aud_recursive_Self_Attention_MAE = mean_absolute_error(aud_recursive_Self_Attention_pred, aud_groundtruth)\n",
        "aud_recursive_Self_Attention_DA = direction_accuracy(aud_recursive_Self_Attention_pred, aud_groundtruth)\n",
        "gbp_recursive_Self_Attention_RMSE = root_mean_squared_error(gbp_recursive_Self_Attention_pred, gbp_groundtruth)\n",
        "gbp_recursive_Self_Attention_MAE = mean_absolute_error(gbp_recursive_Self_Attention_pred, gbp_groundtruth)\n",
        "gbp_recursive_Self_Attention_DA = direction_accuracy(gbp_recursive_Self_Attention_pred, gbp_groundtruth)"
      ]
    },
    {
      "cell_type": "code",
      "execution_count": 90,
      "metadata": {
        "colab": {
          "base_uri": "https://localhost:8080/"
        },
        "id": "57WBk3Jup4B-",
        "outputId": "ddb3db7b-444e-4e35-b10d-212a6d0041ac"
      },
      "outputs": [
        {
          "output_type": "execute_result",
          "data": {
            "text/plain": [
              "(0.004372101752788658, 0.0032285911199098063, 0.4827586206896552)"
            ]
          },
          "metadata": {},
          "execution_count": 90
        }
      ],
      "source": [
        "cad_recursive_Self_Attention_RMSE, cad_recursive_Self_Attention_MAE, cad_recursive_Self_Attention_DA"
      ]
    },
    {
      "cell_type": "code",
      "execution_count": 91,
      "metadata": {
        "colab": {
          "base_uri": "https://localhost:8080/"
        },
        "id": "CTLn_DTQp4B-",
        "outputId": "276e1e27-970c-4a45-de9f-d19d2d0fe7e9"
      },
      "outputs": [
        {
          "output_type": "execute_result",
          "data": {
            "text/plain": [
              "(0.005902485725115945, 0.004439521080075167, 0.4779693486590038)"
            ]
          },
          "metadata": {},
          "execution_count": 91
        }
      ],
      "source": [
        "aud_recursive_Self_Attention_RMSE, aud_recursive_Self_Attention_MAE, aud_recursive_Self_Attention_DA"
      ]
    },
    {
      "cell_type": "code",
      "execution_count": 92,
      "metadata": {
        "colab": {
          "base_uri": "https://localhost:8080/"
        },
        "id": "XqtAsFSEp4B-",
        "outputId": "4d98b792-55b6-4225-c7a5-990591b24e7c"
      },
      "outputs": [
        {
          "output_type": "execute_result",
          "data": {
            "text/plain": [
              "(0.005711377556770118, 0.004226133230130188, 0.4827586206896552)"
            ]
          },
          "metadata": {},
          "execution_count": 92
        }
      ],
      "source": [
        "gbp_recursive_Self_Attention_RMSE, gbp_recursive_Self_Attention_MAE, gbp_recursive_Self_Attention_DA"
      ]
    },
    {
      "cell_type": "markdown",
      "metadata": {
        "id": "yaVBG_71p4B-"
      },
      "source": [
        "### Rolling Self-Attention pred"
      ]
    },
    {
      "cell_type": "code",
      "execution_count": 93,
      "metadata": {
        "id": "7FnwfC_Gp4B-"
      },
      "outputs": [],
      "source": [
        "cad_rolling_Self_Attention_RMSE = root_mean_squared_error(cad_rolling_Self_Attention_pred, cad_groundtruth)\n",
        "cad_rolling_Self_Attention_MAE = mean_absolute_error(cad_rolling_Self_Attention_pred, cad_groundtruth)\n",
        "cad_rolling_Self_Attention_DA = direction_accuracy(cad_rolling_Self_Attention_pred, cad_groundtruth)\n",
        "aud_rolling_Self_Attention_RMSE = root_mean_squared_error(aud_rolling_Self_Attention_pred, aud_groundtruth)\n",
        "aud_rolling_Self_Attention_MAE = mean_absolute_error(aud_rolling_Self_Attention_pred, aud_groundtruth)\n",
        "aud_rolling_Self_Attention_DA = direction_accuracy(aud_rolling_Self_Attention_pred, aud_groundtruth)\n",
        "gbp_rolling_Self_Attention_RMSE = root_mean_squared_error(gbp_rolling_Self_Attention_pred, gbp_groundtruth)\n",
        "gbp_rolling_Self_Attention_MAE = mean_absolute_error(gbp_rolling_Self_Attention_pred, gbp_groundtruth)\n",
        "gbp_rolling_Self_Attention_DA = direction_accuracy(gbp_rolling_Self_Attention_pred, gbp_groundtruth)"
      ]
    },
    {
      "cell_type": "code",
      "execution_count": 94,
      "metadata": {
        "colab": {
          "base_uri": "https://localhost:8080/"
        },
        "id": "HZuI1SRgp4B-",
        "outputId": "f5a2e099-32d8-498b-8f07-8a026241e0c9"
      },
      "outputs": [
        {
          "output_type": "execute_result",
          "data": {
            "text/plain": [
              "(0.004372219300351518, 0.003228707155933871, 0.4827586206896552)"
            ]
          },
          "metadata": {},
          "execution_count": 94
        }
      ],
      "source": [
        "cad_rolling_Self_Attention_RMSE, cad_rolling_Self_Attention_MAE, cad_rolling_Self_Attention_DA"
      ]
    },
    {
      "cell_type": "code",
      "execution_count": 95,
      "metadata": {
        "colab": {
          "base_uri": "https://localhost:8080/"
        },
        "id": "b7C0zDi4p4B-",
        "outputId": "6aed4549-4cf9-4716-87de-a7dbb573504d"
      },
      "outputs": [
        {
          "output_type": "execute_result",
          "data": {
            "text/plain": [
              "(0.005897562861361657, 0.004434635820803504, 0.4779693486590038)"
            ]
          },
          "metadata": {},
          "execution_count": 95
        }
      ],
      "source": [
        "aud_rolling_Self_Attention_RMSE, aud_rolling_Self_Attention_MAE, aud_rolling_Self_Attention_DA"
      ]
    },
    {
      "cell_type": "code",
      "execution_count": 96,
      "metadata": {
        "colab": {
          "base_uri": "https://localhost:8080/"
        },
        "id": "ej1D9HiUp4B-",
        "outputId": "6b1194f9-7b5f-41d6-f537-a18b4bc78839"
      },
      "outputs": [
        {
          "output_type": "execute_result",
          "data": {
            "text/plain": [
              "(0.005709054168491827, 0.004223106621892312, 0.48563218390804597)"
            ]
          },
          "metadata": {},
          "execution_count": 96
        }
      ],
      "source": [
        "gbp_rolling_Self_Attention_RMSE, gbp_rolling_Self_Attention_MAE, gbp_rolling_Self_Attention_DA"
      ]
    }
  ],
  "metadata": {
    "accelerator": "GPU",
    "colab": {
      "name": "3_Prediction_Performance.ipynb",
      "provenance": []
    },
    "interpreter": {
      "hash": "df7b5488ca770e51839d47babcf4bff43b3ec2d4a9964e05f9d2336b92830421"
    },
    "kernelspec": {
      "display_name": "Python 3.8.8 64-bit ('quant': conda)",
      "language": "python",
      "name": "python3"
    },
    "language_info": {
      "codemirror_mode": {
        "name": "ipython",
        "version": 3
      },
      "file_extension": ".py",
      "mimetype": "text/x-python",
      "name": "python",
      "nbconvert_exporter": "python",
      "pygments_lexer": "ipython3",
      "version": "3.8.8"
    },
    "orig_nbformat": 4
  },
  "nbformat": 4,
  "nbformat_minor": 0
}