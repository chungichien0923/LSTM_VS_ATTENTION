{
 "cells": [
  {
   "cell_type": "code",
   "execution_count": null,
   "metadata": {},
   "outputs": [],
   "source": [
    "!nvidia-smi"
   ]
  },
  {
   "cell_type": "markdown",
   "metadata": {
    "id": "lFXXv86wjyXW"
   },
   "source": [
    "# 匯入函式庫"
   ]
  },
  {
   "cell_type": "code",
   "execution_count": null,
   "metadata": {
    "executionInfo": {
     "elapsed": 4589,
     "status": "ok",
     "timestamp": 1640544478119,
     "user": {
      "displayName": "簡崇益",
      "photoUrl": "https://lh3.googleusercontent.com/a-/AOh14GgcDTBHfS21hHdrhReaQLqpeMbV5ZrPvPchQE8DPQ=s64",
      "userId": "00011288093613366882"
     },
     "user_tz": -480
    },
    "id": "Y6JbId_ijyXa"
   },
   "outputs": [],
   "source": [
    "import numpy as np\n",
    "import pandas as pd\n",
    "import random\n",
    "import torch\n",
    "import torch.nn as nn\n",
    "import torch.optim as optim\n",
    "from torch.utils.data import Dataset\n",
    "from torch.utils.data import DataLoader\n"
   ]
  },
  {
   "cell_type": "markdown",
   "metadata": {
    "id": "j5BJLLNqjyXf"
   },
   "source": [
    "# CPU/GPU、自定義資料集、模型、訓練函數"
   ]
  },
  {
   "cell_type": "code",
   "execution_count": null,
   "metadata": {
    "executionInfo": {
     "elapsed": 11,
     "status": "ok",
     "timestamp": 1640544478953,
     "user": {
      "displayName": "簡崇益",
      "photoUrl": "https://lh3.googleusercontent.com/a-/AOh14GgcDTBHfS21hHdrhReaQLqpeMbV5ZrPvPchQE8DPQ=s64",
      "userId": "00011288093613366882"
     },
     "user_tz": -480
    },
    "id": "1Vci4FKYjyXf"
   },
   "outputs": [],
   "source": [
    "device = 'cuda' if torch.cuda.is_available() else 'cpu'"
   ]
  },
  {
   "cell_type": "code",
   "execution_count": null,
   "metadata": {
    "executionInfo": {
     "elapsed": 11,
     "status": "ok",
     "timestamp": 1640544478953,
     "user": {
      "displayName": "簡崇益",
      "photoUrl": "https://lh3.googleusercontent.com/a-/AOh14GgcDTBHfS21hHdrhReaQLqpeMbV5ZrPvPchQE8DPQ=s64",
      "userId": "00011288093613366882"
     },
     "user_tz": -480
    },
    "id": "oeOCV01qjyXg"
   },
   "outputs": [],
   "source": [
    "def SetSeed(myseed):\n",
    "    # Python random module\n",
    "    random.seed(myseed)\n",
    "    # Numpy\n",
    "    np.random.seed(myseed)\n",
    "    # Torch\n",
    "    torch.manual_seed(myseed)\n",
    "    if torch.cuda.is_available():\n",
    "        torch.cuda.manual_seed(myseed)\n",
    "        torch.cuda.manual_seed_all(myseed)\n",
    "    torch.backends.cudnn.deterministic = True\n",
    "    torch.backends.cudnn.benchmark = False"
   ]
  },
  {
   "cell_type": "code",
   "execution_count": null,
   "metadata": {
    "executionInfo": {
     "elapsed": 10,
     "status": "ok",
     "timestamp": 1640544478953,
     "user": {
      "displayName": "簡崇益",
      "photoUrl": "https://lh3.googleusercontent.com/a-/AOh14GgcDTBHfS21hHdrhReaQLqpeMbV5ZrPvPchQE8DPQ=s64",
      "userId": "00011288093613366882"
     },
     "user_tz": -480
    },
    "id": "h51i_qiLjyXh"
   },
   "outputs": [],
   "source": [
    "class TimeSeriesDataset(Dataset):\n",
    "    def __init__(self, X, WindowSize):\n",
    "        X = np.expand_dims(X, 1)\n",
    "        self.X = torch.from_numpy(X)\n",
    "        self.WindowSize = WindowSize\n",
    "        \n",
    "    def __len__(self):\n",
    "        return len(self.X) - self.WindowSize\n",
    "\n",
    "    def __getitem__(self, idx):\n",
    "        return (self.X[idx:idx+self.WindowSize], self.X[idx+self.WindowSize])\n",
    "        # return (X = [seqs, features], y)"
   ]
  },
  {
   "cell_type": "code",
   "execution_count": null,
   "metadata": {
    "executionInfo": {
     "elapsed": 10,
     "status": "ok",
     "timestamp": 1640544478953,
     "user": {
      "displayName": "簡崇益",
      "photoUrl": "https://lh3.googleusercontent.com/a-/AOh14GgcDTBHfS21hHdrhReaQLqpeMbV5ZrPvPchQE8DPQ=s64",
      "userId": "00011288093613366882"
     },
     "user_tz": -480
    },
    "id": "FrOMyTWrjyXi"
   },
   "outputs": [],
   "source": [
    "class LSTM(nn.Module):\n",
    "    def __init__(self, num_layers, hidden_size):\n",
    "        super().__init__()\n",
    "        \n",
    "        self.Input_HiddenLayer = nn.LSTM(input_size=1, hidden_size=hidden_size, num_layers=num_layers)\n",
    "\n",
    "        self.OutputLayer = nn.Linear(hidden_size, 1)\n",
    "\n",
    "    def forward(self, input):\n",
    "        # input.shape = [BatchSize, WindowSize, 1]\n",
    "        input = input.permute(1, 0, 2)\n",
    "        # input.shape = [WindowSize, BatchSize, 1]\n",
    "        hidden, _ = self.Input_HiddenLayer(input)\n",
    "        # hidden.shape = [WindowSize, BatchSize, HiddenSize]\n",
    "        hidden = hidden[-1]\n",
    "        # hidden.shape = [BatchSize, HiddenSize]\n",
    "        output = self.OutputLayer(hidden)\n",
    "        \n",
    "        return output"
   ]
  },
  {
   "cell_type": "code",
   "execution_count": null,
   "metadata": {},
   "outputs": [],
   "source": [
    "class Self_Attention(nn.Module):\n",
    "    def __init__(self, num_layers, hidden_size):\n",
    "        super().__init__()\n",
    "        self.num_layers = num_layers\n",
    "        \n",
    "        self.Input_First_HiddenLayer = nn.MultiheadAttention(embed_dim=hidden_size, num_heads=1)\n",
    "        self.Query_Key_Value_1 = nn.ModuleList([nn.Linear(1, hidden_size), nn.Linear(1, hidden_size), nn.Linear(1, hidden_size)])\n",
    "\n",
    "        self.Second_And_Following_HiddenLayer = nn.ModuleList([nn.MultiheadAttention(embed_dim=hidden_size, num_heads=1) for i in range(num_layers - 1)])\n",
    "        self.List_of_Query_Key_Value = [nn.ModuleList([nn.Linear(hidden_size, hidden_size) for q_k_v in range(3)]) for i in range(num_layers - 1)]\n",
    "\n",
    "        self.OutputLayer = nn.Linear(hidden_size, 1)\n",
    "\n",
    "    def forward(self, input):\n",
    "        # input.shape = [BatchSize, WindowSize, 1]\n",
    "        input = input.permute(1, 0, 2)\n",
    "        # input.shape = [WindowSize, BatchSize, 1]\n",
    "        Query1 = self.Query_Key_Value_1[0](input)\n",
    "        Key1 = self.Query_Key_Value_1[1](input)\n",
    "        Value1 = self.Query_Key_Value_1[2](input)\n",
    "        hidden, _ = self.Input_First_HiddenLayer(Query1, Key1, Value1)\n",
    "        # hidden.shape = [WindowSize, BatchSize, HiddenSize]\n",
    "        if self.num_layers > 1:\n",
    "            for i, Second_And_Following_HiddenLayer in enumerate(self.Second_And_Following_HiddenLayer):\n",
    "                Query = self.List_of_Query_Key_Value[i][0](hidden)\n",
    "                Key = self.List_of_Query_Key_Value[i][1](hidden)\n",
    "                Value = self.List_of_Query_Key_Value[i][2](hidden)\n",
    "                hidden, _ = Second_And_Following_HiddenLayer(Query, Key, Value)\n",
    "        # hidden.shape = [WindowSize, BatchSize, HiddenSize]\n",
    "        hidden = hidden[-1]\n",
    "        # hidden.shape = [BatchSize, HiddenSize]\n",
    "        output = self.OutputLayer(hidden)\n",
    "        \n",
    "        return output"
   ]
  },
  {
   "cell_type": "code",
   "execution_count": null,
   "metadata": {
    "executionInfo": {
     "elapsed": 11,
     "status": "ok",
     "timestamp": 1640544478954,
     "user": {
      "displayName": "簡崇益",
      "photoUrl": "https://lh3.googleusercontent.com/a-/AOh14GgcDTBHfS21hHdrhReaQLqpeMbV5ZrPvPchQE8DPQ=s64",
      "userId": "00011288093613366882"
     },
     "user_tz": -480
    },
    "id": "kyiiEJqhjyXj"
   },
   "outputs": [],
   "source": [
    "def train_under_config(model_type,\n",
    "                       forex_data,\n",
    "                       length_input_sequence,\n",
    "                       num_epochs,\n",
    "                       num_hidden_layers,\n",
    "                       num_hidden_sizes,\n",
    "                       batch_sizes,\n",
    "                       device):\n",
    "    '''\n",
    "    model_type: LSTM or Self_Attention,\n",
    "    forex_data,\n",
    "    length_input_sequence,\n",
    "    num_epochs,\n",
    "    learning_rate,\n",
    "    num_hidden_layers,\n",
    "    num_hidden_sizes,\n",
    "    batch_sizes,\n",
    "    device\n",
    "    '''\n",
    "    # setseed\n",
    "    SetSeed(9527)\n",
    "    # dataset\n",
    "    training_data = forex_data.loc['1981-01-01':'2016-12-31'] # training_data = training set + validation set\n",
    "    training_dataset = TimeSeriesDataset(training_data, length_input_sequence)\n",
    "    # dataloader\n",
    "    training_dataloader = DataLoader(training_dataset, batch_size=batch_sizes, shuffle=True)\n",
    "    # model\n",
    "    model = model_type(num_hidden_layers, num_hidden_sizes).double()\n",
    "    # criterion & optimizer\n",
    "    criterion = nn.MSELoss()\n",
    "    optimizer = optim.Adam(model.parameters())\n",
    "    # training\n",
    "    model.to(device)\n",
    "    model.train()\n",
    "    for epoch in range(num_epochs):\n",
    "        for X, y in training_dataloader:\n",
    "            optimizer.zero_grad()\n",
    "            X, y = X.to(device), y.to(device)\n",
    "            ypred = model(X)\n",
    "            loss = criterion(ypred, y)\n",
    "            loss.backward()\n",
    "            optimizer.step()\n",
    "    \n",
    "    return model"
   ]
  },
  {
   "cell_type": "code",
   "execution_count": null,
   "metadata": {
    "executionInfo": {
     "elapsed": 10,
     "status": "ok",
     "timestamp": 1640544478954,
     "user": {
      "displayName": "簡崇益",
      "photoUrl": "https://lh3.googleusercontent.com/a-/AOh14GgcDTBHfS21hHdrhReaQLqpeMbV5ZrPvPchQE8DPQ=s64",
      "userId": "00011288093613366882"
     },
     "user_tz": -480
    },
    "id": "8J8O5cBfjyXm"
   },
   "outputs": [],
   "source": [
    "# residue pred\n",
    "def ypred(data, length_input_sequence, model, device):\n",
    "    '''\n",
    "    data,\n",
    "    length_input_sequence,\n",
    "    model,\n",
    "    device\n",
    "    '''\n",
    "    # dataset\n",
    "    testing_start_index = len(data.loc['1981-01-01':'2016-12-31']) - length_input_sequence\n",
    "    testing_end_index = len(data.loc['1981-01-01':'2020-12-31'])\n",
    "    testing_data = data[testing_start_index:testing_end_index]\n",
    "    testing_dataset = TimeSeriesDataset(testing_data, length_input_sequence)\n",
    "    # dataloader\n",
    "    data_len = len(testing_dataset)\n",
    "    testing_dataloader = DataLoader(testing_dataset, batch_size=data_len, shuffle=False)\n",
    "    # evaluating\n",
    "    model.to(device)\n",
    "    model.eval()\n",
    "    for X, y in  testing_dataloader:\n",
    "        X, y = X.to(device), y.to(device)\n",
    "        with torch.no_grad():\n",
    "            ypred = model(X)\n",
    "            ypred = np.array(ypred.cpu())\n",
    "    return ypred"
   ]
  },
  {
   "cell_type": "code",
   "execution_count": null,
   "metadata": {},
   "outputs": [],
   "source": [
    "def prediction_on_testset(model_type, linear_data, residue_data, length_input_sequence, num_hidden_layers, num_hidden_sizes, batch_sizes, num_epochs):\n",
    "    model = train_under_config(model_type,\n",
    "                               residue_data,\n",
    "                               length_input_sequence,\n",
    "                               num_epochs,\n",
    "                               num_hidden_layers,\n",
    "                               num_hidden_sizes,\n",
    "                               batch_sizes,\n",
    "                               device)\n",
    "    model_type_residue_pred = ypred(residue_data, length_input_sequence, model, device)\n",
    "    model_type_pred = linear_data + model_type_residue_pred\n",
    "    return model_type_pred"
   ]
  },
  {
   "cell_type": "code",
   "execution_count": null,
   "metadata": {},
   "outputs": [],
   "source": [
    "# random walk prediction\n",
    "def rw_pred(testing_data, length_input_sequence):\n",
    "    return np.zeros(len(testing_data[length_input_sequence:]))"
   ]
  },
  {
   "cell_type": "code",
   "execution_count": null,
   "metadata": {},
   "outputs": [],
   "source": [
    "def root_mean_squared_error(ypred, ytrue):\n",
    "    squared_error = (ypred - ytrue) ** 2\n",
    "    mean_squared_error = sum(squared_error) / len(squared_error)\n",
    "    return np.sqrt(mean_squared_error)"
   ]
  },
  {
   "cell_type": "code",
   "execution_count": null,
   "metadata": {},
   "outputs": [],
   "source": [
    "def mean_absolute_error(ypred, ytrue):\n",
    "    absolute_error = abs(ypred - ytrue)\n",
    "    return sum(absolute_error) / len(absolute_error)"
   ]
  },
  {
   "cell_type": "code",
   "execution_count": null,
   "metadata": {},
   "outputs": [],
   "source": [
    "def direction_accuracy(ypred, ytrue):\n",
    "    ypred_elementwise_dot_ytrue = ypred * ytrue\n",
    "    same_direction_rate = sum(ypred_elementwise_dot_ytrue > 0) / len(ypred_elementwise_dot_ytrue)\n",
    "    return same_direction_rate"
   ]
  },
  {
   "cell_type": "markdown",
   "metadata": {
    "id": "dGMt4b9ujyXd"
   },
   "source": [
    "# 匯入訓練資料（訓練加驗證集）訓練，產生預測資料並計算模型的 RMSE, MAE, DA"
   ]
  },
  {
   "cell_type": "markdown",
   "metadata": {},
   "source": [
    "## Recursive window"
   ]
  },
  {
   "cell_type": "code",
   "execution_count": null,
   "metadata": {},
   "outputs": [],
   "source": [
    "recursive_linear = pd.read_csv('./recursive_linear_prediction.csv', index_col=0)\n",
    "recursive_linear = recursive_linear.astype('float64')\n",
    "recursive_linear.index = pd.to_datetime(recursive_linear.index)\n",
    "\n",
    "cad_recursive_linear = recursive_linear.iloc[:,0]\n",
    "aud_recursive_linear = recursive_linear.iloc[:,1]\n",
    "gbp_recursive_linear = recursive_linear.iloc[:,2]\n",
    "\n",
    "recursive_linear"
   ]
  },
  {
   "cell_type": "code",
   "execution_count": null,
   "metadata": {},
   "outputs": [],
   "source": [
    "recursive_residue = pd.read_csv('./recursive_linear_residue.csv', index_col=0)\n",
    "recursive_residue = recursive_residue.astype('float64')\n",
    "recursive_residue.index = pd.to_datetime(recursive_residue.index)\n",
    "\n",
    "cad_recursive_residue = recursive_residue.iloc[:,0]\n",
    "aud_recursive_residue = recursive_residue.iloc[:,1]\n",
    "gbp_recursive_residue = recursive_residue.iloc[:,2]\n",
    "\n",
    "recursive_residue"
   ]
  },
  {
   "cell_type": "markdown",
   "metadata": {},
   "source": [
    "### LSTM"
   ]
  },
  {
   "cell_type": "code",
   "execution_count": null,
   "metadata": {},
   "outputs": [],
   "source": [
    "model_type = LSTM"
   ]
  },
  {
   "cell_type": "markdown",
   "metadata": {},
   "source": [
    "#### cad"
   ]
  },
  {
   "cell_type": "code",
   "execution_count": null,
   "metadata": {},
   "outputs": [],
   "source": [
    "cad_recursive_linear"
   ]
  },
  {
   "cell_type": "code",
   "execution_count": null,
   "metadata": {},
   "outputs": [],
   "source": [
    "cad_recursive_residue"
   ]
  },
  {
   "cell_type": "code",
   "execution_count": null,
   "metadata": {},
   "outputs": [],
   "source": [
    "# optim hyperparameters obtained by grid search\n",
    "length_input_sequence = 5\n",
    "num_hidden_layers = 2\n",
    "num_hidden_sizes = 1600\n",
    "batch_sizes = 16\n",
    "num_epochs = 5"
   ]
  },
  {
   "cell_type": "code",
   "execution_count": null,
   "metadata": {},
   "outputs": [],
   "source": [
    "cad_recursive_LSTM_pred = prediction_on_testset(model_type, cad_recursive_linear, cad_recursive_residue, length_input_sequence, num_hidden_layers, num_hidden_sizes, batch_sizes, num_epochs)"
   ]
  },
  {
   "cell_type": "markdown",
   "metadata": {},
   "source": [
    "#### aud"
   ]
  },
  {
   "cell_type": "code",
   "execution_count": null,
   "metadata": {},
   "outputs": [],
   "source": [
    "aud_recursive_linear"
   ]
  },
  {
   "cell_type": "code",
   "execution_count": null,
   "metadata": {},
   "outputs": [],
   "source": [
    "aud_recursive_residue"
   ]
  },
  {
   "cell_type": "code",
   "execution_count": null,
   "metadata": {},
   "outputs": [],
   "source": [
    "# optim hyperparameters obtained by grid search\n",
    "length_input_sequence = 5\n",
    "num_hidden_layers = 2\n",
    "num_hidden_sizes = 1600\n",
    "batch_sizes = 16\n",
    "num_epochs = 5"
   ]
  },
  {
   "cell_type": "code",
   "execution_count": null,
   "metadata": {},
   "outputs": [],
   "source": [
    "aud_recursive_LSTM_pred = prediction_on_testset(model_type, aud_recursive_linear, aud_recursive_residue, length_input_sequence, num_hidden_layers, num_hidden_sizes, batch_sizes, num_epochs)"
   ]
  },
  {
   "cell_type": "markdown",
   "metadata": {},
   "source": [
    "#### gbp"
   ]
  },
  {
   "cell_type": "code",
   "execution_count": null,
   "metadata": {},
   "outputs": [],
   "source": [
    "gbp_recursive_linear"
   ]
  },
  {
   "cell_type": "code",
   "execution_count": null,
   "metadata": {},
   "outputs": [],
   "source": [
    "gbp_recursive_residue"
   ]
  },
  {
   "cell_type": "code",
   "execution_count": null,
   "metadata": {},
   "outputs": [],
   "source": [
    "# optim hyperparameters obtained by grid search\n",
    "length_input_sequence = 5\n",
    "num_hidden_layers = 2\n",
    "num_hidden_sizes = 1600\n",
    "batch_sizes = 16\n",
    "num_epochs = 5"
   ]
  },
  {
   "cell_type": "code",
   "execution_count": null,
   "metadata": {},
   "outputs": [],
   "source": [
    "gbp_recursive_LSTM_pred = prediction_on_testset(model_type, gbp_recursive_linear, gbp_recursive_residue, length_input_sequence, num_hidden_layers, num_hidden_sizes, batch_sizes, num_epochs)"
   ]
  },
  {
   "cell_type": "markdown",
   "metadata": {},
   "source": [
    "### Self-Attention"
   ]
  },
  {
   "cell_type": "code",
   "execution_count": null,
   "metadata": {},
   "outputs": [],
   "source": [
    "model_type = Self_Attention"
   ]
  },
  {
   "cell_type": "markdown",
   "metadata": {},
   "source": [
    "#### cad"
   ]
  },
  {
   "cell_type": "code",
   "execution_count": null,
   "metadata": {},
   "outputs": [],
   "source": [
    "cad_recursive_linear"
   ]
  },
  {
   "cell_type": "code",
   "execution_count": null,
   "metadata": {},
   "outputs": [],
   "source": [
    "cad_recursive_residue"
   ]
  },
  {
   "cell_type": "code",
   "execution_count": null,
   "metadata": {},
   "outputs": [],
   "source": [
    "# optim hyperparameters obtained by grid search\n",
    "length_input_sequence = 5\n",
    "num_hidden_layers = 2\n",
    "num_hidden_sizes = 1600\n",
    "batch_sizes = 16\n",
    "num_epochs = 5"
   ]
  },
  {
   "cell_type": "code",
   "execution_count": null,
   "metadata": {},
   "outputs": [],
   "source": [
    "cad_recursive_Self_Attention_pred = prediction_on_testset(model_type, cad_recursive_linear, cad_recursive_residue, length_input_sequence, num_hidden_layers, num_hidden_sizes, batch_sizes, num_epochs)"
   ]
  },
  {
   "cell_type": "markdown",
   "metadata": {},
   "source": [
    "#### aud"
   ]
  },
  {
   "cell_type": "code",
   "execution_count": null,
   "metadata": {},
   "outputs": [],
   "source": [
    "aud_recursive_linear"
   ]
  },
  {
   "cell_type": "code",
   "execution_count": null,
   "metadata": {},
   "outputs": [],
   "source": [
    "aud_recursive_residue"
   ]
  },
  {
   "cell_type": "code",
   "execution_count": null,
   "metadata": {},
   "outputs": [],
   "source": [
    "# optim hyperparameters obtained by grid search\n",
    "length_input_sequence = 5\n",
    "num_hidden_layers = 2\n",
    "num_hidden_sizes = 1600\n",
    "batch_sizes = 16\n",
    "num_epochs = 5"
   ]
  },
  {
   "cell_type": "code",
   "execution_count": null,
   "metadata": {},
   "outputs": [],
   "source": [
    "aud_recursive_Self_Attention_pred = prediction_on_testset(model_type, aud_recursive_linear, aud_recursive_residue, length_input_sequence, num_hidden_layers, num_hidden_sizes, batch_sizes, num_epochs)"
   ]
  },
  {
   "cell_type": "markdown",
   "metadata": {},
   "source": [
    "#### gbp"
   ]
  },
  {
   "cell_type": "code",
   "execution_count": null,
   "metadata": {},
   "outputs": [],
   "source": [
    "gbp_recursive_linear"
   ]
  },
  {
   "cell_type": "code",
   "execution_count": null,
   "metadata": {},
   "outputs": [],
   "source": [
    "gbp_recursive_residue"
   ]
  },
  {
   "cell_type": "code",
   "execution_count": null,
   "metadata": {},
   "outputs": [],
   "source": [
    "# optim hyperparameters obtained by grid search\n",
    "length_input_sequence = 5\n",
    "num_hidden_layers = 2\n",
    "num_hidden_sizes = 1600\n",
    "batch_sizes = 16\n",
    "num_epochs = 5"
   ]
  },
  {
   "cell_type": "code",
   "execution_count": null,
   "metadata": {},
   "outputs": [],
   "source": [
    "gbp_recursive_Self_Attention_pred = prediction_on_testset(model_type, gbp_recursive_linear, gbp_recursive_residue, length_input_sequence, num_hidden_layers, num_hidden_sizes, batch_sizes, num_epochs)"
   ]
  },
  {
   "cell_type": "markdown",
   "metadata": {},
   "source": [
    "## Rolling window"
   ]
  },
  {
   "cell_type": "code",
   "execution_count": null,
   "metadata": {},
   "outputs": [],
   "source": [
    "rolling_linear = pd.read_csv('./rolling_linear_prediction.csv', index_col=0)\n",
    "rolling_linear = rolling_linear.astype('float64')\n",
    "rolling_linear.index = pd.to_datetime(rolling_linear.index)\n",
    "\n",
    "cad_rolling_linear = rolling_linear.iloc[:,0]\n",
    "aud_rolling_linear = rolling_linear.iloc[:,1]\n",
    "gbp_rolling_linear = rolling_linear.iloc[:,2]\n",
    "\n",
    "rolling_linear"
   ]
  },
  {
   "cell_type": "code",
   "execution_count": null,
   "metadata": {},
   "outputs": [],
   "source": [
    "rolling_residue = pd.read_csv('./rolling_linear_residue.csv', index_col=0)\n",
    "rolling_residue = rolling_residue.astype('float64')\n",
    "rolling_residue.index = pd.to_datetime(rolling_residue.index)\n",
    "\n",
    "cad_rolling_residue = rolling_residue.iloc[:,0]\n",
    "aud_rolling_residue = rolling_residue.iloc[:,1]\n",
    "gbp_rolling_residue = rolling_residue.iloc[:,2]\n",
    "\n",
    "rolling_residue"
   ]
  },
  {
   "cell_type": "markdown",
   "metadata": {},
   "source": [
    "### LSTM"
   ]
  },
  {
   "cell_type": "code",
   "execution_count": null,
   "metadata": {},
   "outputs": [],
   "source": [
    "model_type = LSTM"
   ]
  },
  {
   "cell_type": "markdown",
   "metadata": {},
   "source": [
    "#### cad"
   ]
  },
  {
   "cell_type": "code",
   "execution_count": null,
   "metadata": {},
   "outputs": [],
   "source": [
    "cad_rolling_linear"
   ]
  },
  {
   "cell_type": "code",
   "execution_count": null,
   "metadata": {},
   "outputs": [],
   "source": [
    "cad_rolling_residue"
   ]
  },
  {
   "cell_type": "code",
   "execution_count": null,
   "metadata": {},
   "outputs": [],
   "source": [
    "# optim hyperparameters obtained by grid search\n",
    "length_input_sequence = 5\n",
    "num_hidden_layers = 2\n",
    "num_hidden_sizes = 1600\n",
    "batch_sizes = 16\n",
    "num_epochs = 5"
   ]
  },
  {
   "cell_type": "code",
   "execution_count": null,
   "metadata": {},
   "outputs": [],
   "source": [
    "cad_rolling_LSTM_pred = prediction_on_testset(model_type, cad_rolling_linear, cad_rolling_residue, length_input_sequence, num_hidden_layers, num_hidden_sizes, batch_sizes, num_epochs)"
   ]
  },
  {
   "cell_type": "markdown",
   "metadata": {},
   "source": [
    "#### aud"
   ]
  },
  {
   "cell_type": "code",
   "execution_count": null,
   "metadata": {},
   "outputs": [],
   "source": [
    "aud_rolling_linear"
   ]
  },
  {
   "cell_type": "code",
   "execution_count": null,
   "metadata": {},
   "outputs": [],
   "source": [
    "aud_rolling_residue"
   ]
  },
  {
   "cell_type": "code",
   "execution_count": null,
   "metadata": {},
   "outputs": [],
   "source": [
    "# optim hyperparameters obtained by grid search\n",
    "length_input_sequence = 5\n",
    "num_hidden_layers = 2\n",
    "num_hidden_sizes = 1600\n",
    "batch_sizes = 16\n",
    "num_epochs = 5"
   ]
  },
  {
   "cell_type": "code",
   "execution_count": null,
   "metadata": {},
   "outputs": [],
   "source": [
    "aud_rolling_LSTM_pred = prediction_on_testset(model_type, aud_rolling_linear, aud_rolling_residue, length_input_sequence, num_hidden_layers, num_hidden_sizes, batch_sizes, num_epochs)"
   ]
  },
  {
   "cell_type": "markdown",
   "metadata": {},
   "source": [
    "#### gbp"
   ]
  },
  {
   "cell_type": "code",
   "execution_count": null,
   "metadata": {},
   "outputs": [],
   "source": [
    "gbp_rolling_linear"
   ]
  },
  {
   "cell_type": "code",
   "execution_count": null,
   "metadata": {},
   "outputs": [],
   "source": [
    "gbp_rolling_residue"
   ]
  },
  {
   "cell_type": "code",
   "execution_count": null,
   "metadata": {},
   "outputs": [],
   "source": [
    "# optim hyperparameters obtained by grid search\n",
    "length_input_sequence = 5\n",
    "num_hidden_layers = 2\n",
    "num_hidden_sizes = 1600\n",
    "batch_sizes = 16\n",
    "num_epochs = 5"
   ]
  },
  {
   "cell_type": "code",
   "execution_count": null,
   "metadata": {},
   "outputs": [],
   "source": [
    "gbp_rolling_LSTM_pred = prediction_on_testset(model_type, gbp_rolling_linear, gbp_rolling_residue, length_input_sequence, num_hidden_layers, num_hidden_sizes, batch_sizes, num_epochs)"
   ]
  },
  {
   "cell_type": "markdown",
   "metadata": {},
   "source": [
    "### Self-Attention"
   ]
  },
  {
   "cell_type": "code",
   "execution_count": null,
   "metadata": {},
   "outputs": [],
   "source": [
    "model_type = Self_Attention"
   ]
  },
  {
   "cell_type": "markdown",
   "metadata": {},
   "source": [
    "#### cad"
   ]
  },
  {
   "cell_type": "code",
   "execution_count": null,
   "metadata": {},
   "outputs": [],
   "source": [
    "cad_rolling_linear"
   ]
  },
  {
   "cell_type": "code",
   "execution_count": null,
   "metadata": {},
   "outputs": [],
   "source": [
    "cad_rolling_residue"
   ]
  },
  {
   "cell_type": "code",
   "execution_count": null,
   "metadata": {},
   "outputs": [],
   "source": [
    "# optim hyperparameters obtained by grid search\n",
    "length_input_sequence = 5\n",
    "num_hidden_layers = 2\n",
    "num_hidden_sizes = 1600\n",
    "batch_sizes = 16\n",
    "num_epochs = 5"
   ]
  },
  {
   "cell_type": "code",
   "execution_count": null,
   "metadata": {},
   "outputs": [],
   "source": [
    "cad_rolling_Self_Attention_pred = prediction_on_testset(model_type, cad_rolling_linear, cad_rolling_residue, length_input_sequence, num_hidden_layers, num_hidden_sizes, batch_sizes, num_epochs)"
   ]
  },
  {
   "cell_type": "markdown",
   "metadata": {},
   "source": [
    "#### aud"
   ]
  },
  {
   "cell_type": "code",
   "execution_count": null,
   "metadata": {},
   "outputs": [],
   "source": [
    "aud_rolling_linear"
   ]
  },
  {
   "cell_type": "code",
   "execution_count": null,
   "metadata": {},
   "outputs": [],
   "source": [
    "aud_rolling_residue"
   ]
  },
  {
   "cell_type": "code",
   "execution_count": null,
   "metadata": {},
   "outputs": [],
   "source": [
    "# optim hyperparameters obtained by grid search\n",
    "length_input_sequence = 5\n",
    "num_hidden_layers = 2\n",
    "num_hidden_sizes = 1600\n",
    "batch_sizes = 16\n",
    "num_epochs = 5"
   ]
  },
  {
   "cell_type": "code",
   "execution_count": null,
   "metadata": {},
   "outputs": [],
   "source": [
    "aud_rolling_Self_Attention_pred = prediction_on_testset(model_type, aud_rolling_linear, aud_rolling_residue, length_input_sequence, num_hidden_layers, num_hidden_sizes, batch_sizes, num_epochs)"
   ]
  },
  {
   "cell_type": "markdown",
   "metadata": {},
   "source": [
    "#### gbp"
   ]
  },
  {
   "cell_type": "code",
   "execution_count": null,
   "metadata": {},
   "outputs": [],
   "source": [
    "gbp_rolling_linear"
   ]
  },
  {
   "cell_type": "code",
   "execution_count": null,
   "metadata": {},
   "outputs": [],
   "source": [
    "gbp_rolling_residue"
   ]
  },
  {
   "cell_type": "code",
   "execution_count": null,
   "metadata": {},
   "outputs": [],
   "source": [
    "# optim hyperparameters obtained by grid search\n",
    "length_input_sequence = 5\n",
    "num_hidden_layers = 2\n",
    "num_hidden_sizes = 1600\n",
    "batch_sizes = 16\n",
    "num_epochs = 5"
   ]
  },
  {
   "cell_type": "code",
   "execution_count": null,
   "metadata": {},
   "outputs": [],
   "source": [
    "gbp_rolling_Self_Attention_pred = prediction_on_testset(model_type, gbp_rolling_linear, gbp_rolling_residue, length_input_sequence, num_hidden_layers, num_hidden_sizes, batch_sizes, num_epochs)"
   ]
  },
  {
   "cell_type": "markdown",
   "metadata": {},
   "source": [
    "# 輸出模型預測與比較"
   ]
  },
  {
   "cell_type": "markdown",
   "metadata": {},
   "source": [
    "## 輸出模型預測"
   ]
  },
  {
   "cell_type": "code",
   "execution_count": null,
   "metadata": {},
   "outputs": [],
   "source": [
    "LSTM_recursive_prediction = pd.concat([cad_recursive_LSTM_pred, aud_recursive_LSTM_pred, gbp_recursive_LSTM_pred], axis=1)\n",
    "LSTM_recursive_prediction.columns = ['cad_recursive_LSTM_pred', 'aud_recursive_LSTM_pred', 'gbp_recursive_LSTM_pred']\n",
    "LSTM_recursive_prediction.to_csv('./LSTM_recursive_prediction.csv')\n",
    "LSTM_recursive_prediction"
   ]
  },
  {
   "cell_type": "code",
   "execution_count": null,
   "metadata": {},
   "outputs": [],
   "source": [
    "LSTM_rolling_prediction = pd.concat([cad_rolling_LSTM_pred, aud_rolling_LSTM_pred, gbp_rolling_LSTM_pred], axis=1)\n",
    "LSTM_rolling_prediction.columns = ['cad_rolling_LSTM_pred', 'aud_rolling_LSTM_pred', 'gbp_rolling_LSTM_pred']\n",
    "LSTM_rolling_prediction.to_csv('./LSTM_rolling_prediction.csv')\n",
    "LSTM_rolling_prediction"
   ]
  },
  {
   "cell_type": "code",
   "execution_count": null,
   "metadata": {},
   "outputs": [],
   "source": [
    "Self_Attention_recursive_prediction = pd.concat([cad_recursive_Self_Attention_pred, aud_recursive_Self_Attention_pred, gbp_recursive_Self_Attention_pred], axis=1)\n",
    "Self_Attention_recursive_prediction.columns = ['cad_recursive_Self_Attention_pred', 'aud_recursive_Self_Attention_pred', 'gbp_recursive_Self_Attention_pred']\n",
    "Self_Attention_recursive_prediction.to_csv('./Self_Attention_recursive_prediction.csv')\n",
    "Self_Attention_recursive_prediction"
   ]
  },
  {
   "cell_type": "code",
   "execution_count": null,
   "metadata": {},
   "outputs": [],
   "source": [
    "Self_Attention_rolling_prediction = pd.concat([cad_rolling_Self_Attention_pred, aud_rolling_Self_Attention_pred, gbp_rolling_Self_Attention_pred], axis=1)\n",
    "Self_Attention_rolling_prediction.columns = ['cad_rolling_Self_Attention_pred', 'aud_rolling_Self_Attention_pred', 'gbp_rolling_Self_Attention_pred']\n",
    "Self_Attention_rolling_prediction.to_csv('./Self_Attention_rolling_prediction.csv')\n",
    "Self_Attention_rolling_prediction"
   ]
  },
  {
   "cell_type": "markdown",
   "metadata": {},
   "source": [
    "## 載入實際匯率變動率（取對數後一階差分）"
   ]
  },
  {
   "cell_type": "code",
   "execution_count": null,
   "metadata": {},
   "outputs": [],
   "source": []
  },
  {
   "cell_type": "markdown",
   "metadata": {},
   "source": [
    "## 模型比較"
   ]
  },
  {
   "cell_type": "markdown",
   "metadata": {},
   "source": []
  }
 ],
 "metadata": {
  "interpreter": {
   "hash": "df7b5488ca770e51839d47babcf4bff43b3ec2d4a9964e05f9d2336b92830421"
  },
  "kernelspec": {
   "display_name": "Python 3.8.8 64-bit ('quant': conda)",
   "language": "python",
   "name": "python3"
  },
  "language_info": {
   "codemirror_mode": {
    "name": "ipython",
    "version": 3
   },
   "file_extension": ".py",
   "mimetype": "text/x-python",
   "name": "python",
   "nbconvert_exporter": "python",
   "pygments_lexer": "ipython3",
   "version": "3.8.8"
  },
  "orig_nbformat": 4
 },
 "nbformat": 4,
 "nbformat_minor": 2
}
