{
  "cells": [
    {
      "cell_type": "code",
      "execution_count": 2,
      "metadata": {
        "colab": {
          "base_uri": "https://localhost:8080/"
        },
        "id": "BTyqFImCp4Bs",
        "outputId": "f92757a4-0e41-48f2-a3d7-df2ac2ad6c9c"
      },
      "outputs": [
        {
          "output_type": "stream",
          "name": "stdout",
          "text": [
            "Mon Mar  7 21:29:59 2022       \n",
            "+-----------------------------------------------------------------------------+\n",
            "| NVIDIA-SMI 460.32.03    Driver Version: 460.32.03    CUDA Version: 11.2     |\n",
            "|-------------------------------+----------------------+----------------------+\n",
            "| GPU  Name        Persistence-M| Bus-Id        Disp.A | Volatile Uncorr. ECC |\n",
            "| Fan  Temp  Perf  Pwr:Usage/Cap|         Memory-Usage | GPU-Util  Compute M. |\n",
            "|                               |                      |               MIG M. |\n",
            "|===============================+======================+======================|\n",
            "|   0  Tesla P100-PCIE...  Off  | 00000000:00:04.0 Off |                    0 |\n",
            "| N/A   38C    P0    26W / 250W |      0MiB / 16280MiB |      0%      Default |\n",
            "|                               |                      |                  N/A |\n",
            "+-------------------------------+----------------------+----------------------+\n",
            "                                                                               \n",
            "+-----------------------------------------------------------------------------+\n",
            "| Processes:                                                                  |\n",
            "|  GPU   GI   CI        PID   Type   Process name                  GPU Memory |\n",
            "|        ID   ID                                                   Usage      |\n",
            "|=============================================================================|\n",
            "|  No running processes found                                                 |\n",
            "+-----------------------------------------------------------------------------+\n"
          ]
        }
      ],
      "source": [
        "!nvidia-smi"
      ]
    },
    {
      "cell_type": "markdown",
      "metadata": {
        "id": "lFXXv86wjyXW"
      },
      "source": [
        "# 匯入函式庫"
      ]
    },
    {
      "cell_type": "code",
      "execution_count": 3,
      "metadata": {
        "colab": {
          "base_uri": "https://localhost:8080/"
        },
        "id": "3E40gN1retMV",
        "outputId": "c5e16c2b-faab-4bc2-a8c3-7676c70c58b6"
      },
      "outputs": [
        {
          "output_type": "stream",
          "name": "stdout",
          "text": [
            "Requirement already satisfied: openpyxl==3.0.9 in /usr/local/lib/python3.7/dist-packages (3.0.9)\n",
            "Requirement already satisfied: et-xmlfile in /usr/local/lib/python3.7/dist-packages (from openpyxl==3.0.9) (1.1.0)\n"
          ]
        }
      ],
      "source": [
        "!pip install openpyxl==3.0.9"
      ]
    },
    {
      "cell_type": "code",
      "execution_count": 4,
      "metadata": {
        "id": "Y6JbId_ijyXa",
        "outputId": "f60399c7-7b87-4e6c-d31f-f5c14cf02ce2",
        "colab": {
          "base_uri": "https://localhost:8080/"
        }
      },
      "outputs": [
        {
          "output_type": "stream",
          "name": "stderr",
          "text": [
            "/usr/local/lib/python3.7/dist-packages/statsmodels/tools/_testing.py:19: FutureWarning: pandas.util.testing is deprecated. Use the functions in the public API at pandas.testing instead.\n",
            "  import pandas.util.testing as tm\n"
          ]
        }
      ],
      "source": [
        "\n",
        "import numpy as np\n",
        "import pandas as pd\n",
        "import random\n",
        "import torch\n",
        "import torch.nn as nn\n",
        "import torch.optim as optim\n",
        "from torch.utils.data import Dataset\n",
        "from torch.utils.data import DataLoader\n",
        "from statsmodels.stats.diagnostic import acorr_ljungbox\n"
      ]
    },
    {
      "cell_type": "markdown",
      "metadata": {
        "id": "j5BJLLNqjyXf"
      },
      "source": [
        "# CPU/GPU、自定義資料集、模型、訓練函數"
      ]
    },
    {
      "cell_type": "code",
      "execution_count": 5,
      "metadata": {
        "id": "1Vci4FKYjyXf"
      },
      "outputs": [],
      "source": [
        "device = 'cuda' if torch.cuda.is_available() else 'cpu'"
      ]
    },
    {
      "cell_type": "code",
      "execution_count": 6,
      "metadata": {
        "id": "oeOCV01qjyXg"
      },
      "outputs": [],
      "source": [
        "def SetSeed(myseed):\n",
        "    # Python random module\n",
        "    random.seed(myseed)\n",
        "    # Numpy\n",
        "    np.random.seed(myseed)\n",
        "    # Torch\n",
        "    torch.manual_seed(myseed)\n",
        "    if torch.cuda.is_available():\n",
        "        torch.cuda.manual_seed(myseed)\n",
        "        torch.cuda.manual_seed_all(myseed)\n",
        "    torch.backends.cudnn.deterministic = True\n",
        "    torch.backends.cudnn.benchmark = False"
      ]
    },
    {
      "cell_type": "code",
      "execution_count": 7,
      "metadata": {
        "id": "h51i_qiLjyXh"
      },
      "outputs": [],
      "source": [
        "class TimeSeriesDataset(Dataset):\n",
        "    def __init__(self, X, WindowSize):\n",
        "        X = np.expand_dims(X, 1)\n",
        "        self.X = torch.from_numpy(X)\n",
        "        self.WindowSize = WindowSize\n",
        "        \n",
        "    def __len__(self):\n",
        "        return len(self.X) - self.WindowSize\n",
        "\n",
        "    def __getitem__(self, idx):\n",
        "        return (self.X[idx:idx+self.WindowSize], self.X[idx+self.WindowSize])\n",
        "        # return (X = [seqs, features], y)"
      ]
    },
    {
      "cell_type": "code",
      "execution_count": 8,
      "metadata": {
        "id": "FrOMyTWrjyXi"
      },
      "outputs": [],
      "source": [
        "class LSTM(nn.Module):\n",
        "    def __init__(self, num_layers, hidden_size):\n",
        "        super().__init__()\n",
        "        \n",
        "        self.Input_HiddenLayer = nn.LSTM(input_size=1, hidden_size=hidden_size, num_layers=num_layers)\n",
        "\n",
        "        self.OutputLayer = nn.Linear(hidden_size, 1)\n",
        "\n",
        "    def forward(self, input):\n",
        "        # input.shape = [BatchSize, WindowSize, 1]\n",
        "        input = input.permute(1, 0, 2)\n",
        "        # input.shape = [WindowSize, BatchSize, 1]\n",
        "        hidden, _ = self.Input_HiddenLayer(input)\n",
        "        # hidden.shape = [WindowSize, BatchSize, HiddenSize]\n",
        "        hidden = hidden[-1]\n",
        "        # hidden.shape = [BatchSize, HiddenSize]\n",
        "        output = self.OutputLayer(hidden)\n",
        "        \n",
        "        return output"
      ]
    },
    {
      "cell_type": "code",
      "execution_count": 9,
      "metadata": {
        "id": "7Pyb_Ie1p4Bz"
      },
      "outputs": [],
      "source": [
        "class Self_Attention(nn.Module):\n",
        "    def __init__(self, num_layers, hidden_size, length_input_sequence):\n",
        "        super().__init__()\n",
        "        self.num_layers = num_layers\n",
        "        \n",
        "        self.Input_First_HiddenLayer = nn.MultiheadAttention(embed_dim=hidden_size, num_heads=1)\n",
        "        self.Query_Key_Value_1 = nn.ModuleList([nn.Linear(1, hidden_size), nn.Linear(1, hidden_size), nn.Linear(1, hidden_size)])\n",
        "\n",
        "        self.Second_And_Following_HiddenLayer = nn.ModuleList([nn.MultiheadAttention(embed_dim=hidden_size, num_heads=1) for i in range(num_layers - 1)])\n",
        "        self.List_of_Query_Key_Value = nn.ModuleList([nn.ModuleList([nn.Linear(hidden_size, hidden_size) for q_k_v in range(3)]) for i in range(num_layers - 1)])\n",
        "\n",
        "        self.OutputLayer = nn.Linear(hidden_size, 1)\n",
        "\n",
        "        # generate mask\n",
        "        mask = (torch.triu(torch.ones(length_input_sequence, length_input_sequence)) == 1).transpose(0, 1)\n",
        "        mask = mask.float().masked_fill(mask == 0, float('-inf')).masked_fill(mask == 1, float(0.0)).to(device)\n",
        "        self.register_buffer('mask', mask)\n",
        "\n",
        "    def forward(self, input):\n",
        "        # input.shape = [BatchSize, WindowSize, 1]\n",
        "        input = input.permute(1, 0, 2)\n",
        "        # input.shape = [WindowSize, BatchSize, 1]\n",
        "        Query1 = self.Query_Key_Value_1[0](input)\n",
        "        Key1 = self.Query_Key_Value_1[1](input)\n",
        "        Value1 = self.Query_Key_Value_1[2](input)\n",
        "        hidden, _ = self.Input_First_HiddenLayer(Query1, Key1, Value1, attn_mask=self.mask)\n",
        "        # hidden.shape = [WindowSize, BatchSize, HiddenSize]\n",
        "        if self.num_layers > 1:\n",
        "            for i, Second_And_Following_HiddenLayer in enumerate(self.Second_And_Following_HiddenLayer):\n",
        "                Query = self.List_of_Query_Key_Value[i][0](hidden)\n",
        "                Key = self.List_of_Query_Key_Value[i][1](hidden)\n",
        "                Value = self.List_of_Query_Key_Value[i][2](hidden)\n",
        "                hidden, _ = Second_And_Following_HiddenLayer(Query, Key, Value, attn_mask=self.mask)\n",
        "        # hidden.shape = [WindowSize, BatchSize, HiddenSize]\n",
        "        hidden = hidden[-1]\n",
        "        # hidden.shape = [BatchSize, HiddenSize]\n",
        "        output = self.OutputLayer(hidden)\n",
        "        \n",
        "        return output"
      ]
    },
    {
      "cell_type": "code",
      "execution_count": 10,
      "metadata": {
        "id": "kyiiEJqhjyXj"
      },
      "outputs": [],
      "source": [
        "def train_under_config(model_type,\n",
        "                       forex_data,\n",
        "                       length_input_sequence,\n",
        "                       num_epochs,\n",
        "                       num_hidden_layers,\n",
        "                       num_hidden_sizes,\n",
        "                       batch_sizes,\n",
        "                       device):\n",
        "    '''\n",
        "    model_type: LSTM or Self_Attention,\n",
        "    forex_data,\n",
        "    length_input_sequence,\n",
        "    num_epochs,\n",
        "    learning_rate,\n",
        "    num_hidden_layers,\n",
        "    num_hidden_sizes,\n",
        "    batch_sizes,\n",
        "    device\n",
        "    '''\n",
        "    # setseed\n",
        "    SetSeed(9527)\n",
        "    # dataset\n",
        "    training_data = forex_data.loc['1981-01-01':'2016-12-31'] # training_data = training set + validation set\n",
        "    training_dataset = TimeSeriesDataset(training_data, length_input_sequence)\n",
        "    # dataloader\n",
        "    training_dataloader = DataLoader(training_dataset, batch_size=batch_sizes, shuffle=True)\n",
        "    # model\n",
        "    if model_type == Self_Attention:\n",
        "        model = model_type(num_hidden_layers, num_hidden_sizes, length_input_sequence).double()\n",
        "    else:\n",
        "        model = model_type(num_hidden_layers, num_hidden_sizes).double()\n",
        "    # criterion & optimizer\n",
        "    criterion = nn.MSELoss()\n",
        "    optimizer = optim.Adam(model.parameters())\n",
        "    # training\n",
        "    model.to(device)\n",
        "    model.train()\n",
        "    for epoch in range(num_epochs):\n",
        "        for X, y in training_dataloader:\n",
        "            optimizer.zero_grad()\n",
        "            X, y = X.to(device), y.to(device)\n",
        "            ypred = model(X)\n",
        "            loss = criterion(ypred, y)\n",
        "            loss.backward()\n",
        "            optimizer.step()\n",
        "    \n",
        "    return model"
      ]
    },
    {
      "cell_type": "code",
      "execution_count": 11,
      "metadata": {
        "id": "8J8O5cBfjyXm"
      },
      "outputs": [],
      "source": [
        "# residue pred\n",
        "def ypred(data, length_input_sequence, model, device):\n",
        "    '''\n",
        "    data,\n",
        "    length_input_sequence,\n",
        "    model,\n",
        "    device\n",
        "    '''\n",
        "    # dataset\n",
        "    testing_start_index = len(data.loc['1981-01-01':'2016-12-31']) - length_input_sequence\n",
        "    testing_end_index = len(data.loc['1981-01-01':'2020-12-31'])\n",
        "    testing_data = data[testing_start_index:testing_end_index]\n",
        "    testing_dataset = TimeSeriesDataset(testing_data, length_input_sequence)\n",
        "    # dataloader\n",
        "    data_len = len(testing_dataset)\n",
        "    testing_dataloader = DataLoader(testing_dataset, batch_size=data_len, shuffle=False)\n",
        "    # evaluating\n",
        "    model.to(device)\n",
        "    model.eval()\n",
        "    for X, y in  testing_dataloader:\n",
        "        X, y = X.to(device), y.to(device)\n",
        "        with torch.no_grad():\n",
        "            ypred = model(X)\n",
        "            ypred = np.array(ypred.cpu()).flatten()\n",
        "    return ypred"
      ]
    },
    {
      "cell_type": "code",
      "execution_count": 12,
      "metadata": {
        "id": "zeYZ3F8Dp4B1"
      },
      "outputs": [],
      "source": [
        "def prediction_on_testset(model_type, linear_data, residue_data, length_input_sequence, num_hidden_layers, num_hidden_sizes, batch_sizes, num_epochs):\n",
        "    model = train_under_config(model_type,\n",
        "                               residue_data,\n",
        "                               length_input_sequence,\n",
        "                               num_epochs,\n",
        "                               num_hidden_layers,\n",
        "                               num_hidden_sizes,\n",
        "                               batch_sizes,\n",
        "                               device)\n",
        "    model_type_linear_pred = np.array(linear_data.loc['2017-01-01':'2020-12-31'])\n",
        "    model_type_residue_pred = ypred(residue_data, length_input_sequence, model, device)\n",
        "    model_type_pred = model_type_linear_pred + model_type_residue_pred\n",
        "    return model_type_pred"
      ]
    },
    {
      "cell_type": "code",
      "execution_count": 13,
      "metadata": {
        "id": "86CVXSTup4B1"
      },
      "outputs": [],
      "source": [
        "# random walk prediction\n",
        "def rw_pred(testing_data):\n",
        "    return np.zeros(len(testing_data))"
      ]
    },
    {
      "cell_type": "code",
      "execution_count": 14,
      "metadata": {
        "id": "WCct3FFYp4B1"
      },
      "outputs": [],
      "source": [
        "def root_mean_squared_error(ypred, ytrue):\n",
        "    squared_error = (ypred - ytrue) ** 2\n",
        "    mean_squared_error = sum(squared_error) / len(squared_error)\n",
        "    return np.sqrt(mean_squared_error)"
      ]
    },
    {
      "cell_type": "code",
      "execution_count": 15,
      "metadata": {
        "id": "204p71Kgp4B2"
      },
      "outputs": [],
      "source": [
        "def mean_absolute_error(ypred, ytrue):\n",
        "    absolute_error = abs(ypred - ytrue)\n",
        "    return sum(absolute_error) / len(absolute_error)"
      ]
    },
    {
      "cell_type": "code",
      "execution_count": 16,
      "metadata": {
        "id": "LPjT8I0gp4B2"
      },
      "outputs": [],
      "source": [
        "def direction_accuracy(ypred, ytrue):\n",
        "    ypred_elementwise_dot_ytrue = ypred * ytrue\n",
        "    same_direction_rate = sum(ypred_elementwise_dot_ytrue > 0) / len(ypred_elementwise_dot_ytrue)\n",
        "    return same_direction_rate"
      ]
    },
    {
      "cell_type": "markdown",
      "metadata": {
        "id": "dGMt4b9ujyXd"
      },
      "source": [
        "# 匯入訓練資料（訓練加驗證集）訓練，並產生模型預測值"
      ]
    },
    {
      "cell_type": "markdown",
      "metadata": {
        "id": "j9cl_ZaVp4B2"
      },
      "source": [
        "## Recursive window"
      ]
    },
    {
      "cell_type": "code",
      "execution_count": 17,
      "metadata": {
        "colab": {
          "base_uri": "https://localhost:8080/",
          "height": 423
        },
        "id": "Wo-SFA1np4B2",
        "outputId": "307595b5-6195-4cf6-e2da-a9257a4c6178"
      },
      "outputs": [
        {
          "output_type": "execute_result",
          "data": {
            "text/html": [
              "\n",
              "  <div id=\"df-b81ba4d1-e5c6-46c4-8f10-35942c5ce828\">\n",
              "    <div class=\"colab-df-container\">\n",
              "      <div>\n",
              "<style scoped>\n",
              "    .dataframe tbody tr th:only-of-type {\n",
              "        vertical-align: middle;\n",
              "    }\n",
              "\n",
              "    .dataframe tbody tr th {\n",
              "        vertical-align: top;\n",
              "    }\n",
              "\n",
              "    .dataframe thead th {\n",
              "        text-align: right;\n",
              "    }\n",
              "</style>\n",
              "<table border=\"1\" class=\"dataframe\">\n",
              "  <thead>\n",
              "    <tr style=\"text-align: right;\">\n",
              "      <th></th>\n",
              "      <th>cad_recursive_linear_prediction</th>\n",
              "      <th>aud_recursive_linear_prediction</th>\n",
              "      <th>gbp_recursive_linear_prediction</th>\n",
              "    </tr>\n",
              "  </thead>\n",
              "  <tbody>\n",
              "    <tr>\n",
              "      <th>1981-01-02</th>\n",
              "      <td>-0.000018</td>\n",
              "      <td>-0.000058</td>\n",
              "      <td>-0.000071</td>\n",
              "    </tr>\n",
              "    <tr>\n",
              "      <th>1981-01-05</th>\n",
              "      <td>-0.000018</td>\n",
              "      <td>-0.000058</td>\n",
              "      <td>-0.000167</td>\n",
              "    </tr>\n",
              "    <tr>\n",
              "      <th>1981-01-06</th>\n",
              "      <td>-0.000018</td>\n",
              "      <td>-0.000058</td>\n",
              "      <td>0.000401</td>\n",
              "    </tr>\n",
              "    <tr>\n",
              "      <th>1981-01-07</th>\n",
              "      <td>-0.000018</td>\n",
              "      <td>-0.000058</td>\n",
              "      <td>0.000029</td>\n",
              "    </tr>\n",
              "    <tr>\n",
              "      <th>1981-01-08</th>\n",
              "      <td>-0.000018</td>\n",
              "      <td>-0.000058</td>\n",
              "      <td>-0.000221</td>\n",
              "    </tr>\n",
              "    <tr>\n",
              "      <th>...</th>\n",
              "      <td>...</td>\n",
              "      <td>...</td>\n",
              "      <td>...</td>\n",
              "    </tr>\n",
              "    <tr>\n",
              "      <th>2020-12-25</th>\n",
              "      <td>-0.000012</td>\n",
              "      <td>-0.000047</td>\n",
              "      <td>0.000109</td>\n",
              "    </tr>\n",
              "    <tr>\n",
              "      <th>2020-12-28</th>\n",
              "      <td>-0.000012</td>\n",
              "      <td>-0.000047</td>\n",
              "      <td>-0.000048</td>\n",
              "    </tr>\n",
              "    <tr>\n",
              "      <th>2020-12-29</th>\n",
              "      <td>-0.000012</td>\n",
              "      <td>-0.000048</td>\n",
              "      <td>-0.000323</td>\n",
              "    </tr>\n",
              "    <tr>\n",
              "      <th>2020-12-30</th>\n",
              "      <td>-0.000012</td>\n",
              "      <td>-0.000047</td>\n",
              "      <td>0.000074</td>\n",
              "    </tr>\n",
              "    <tr>\n",
              "      <th>2020-12-31</th>\n",
              "      <td>-0.000011</td>\n",
              "      <td>-0.000046</td>\n",
              "      <td>0.000251</td>\n",
              "    </tr>\n",
              "  </tbody>\n",
              "</table>\n",
              "<p>10435 rows × 3 columns</p>\n",
              "</div>\n",
              "      <button class=\"colab-df-convert\" onclick=\"convertToInteractive('df-b81ba4d1-e5c6-46c4-8f10-35942c5ce828')\"\n",
              "              title=\"Convert this dataframe to an interactive table.\"\n",
              "              style=\"display:none;\">\n",
              "        \n",
              "  <svg xmlns=\"http://www.w3.org/2000/svg\" height=\"24px\"viewBox=\"0 0 24 24\"\n",
              "       width=\"24px\">\n",
              "    <path d=\"M0 0h24v24H0V0z\" fill=\"none\"/>\n",
              "    <path d=\"M18.56 5.44l.94 2.06.94-2.06 2.06-.94-2.06-.94-.94-2.06-.94 2.06-2.06.94zm-11 1L8.5 8.5l.94-2.06 2.06-.94-2.06-.94L8.5 2.5l-.94 2.06-2.06.94zm10 10l.94 2.06.94-2.06 2.06-.94-2.06-.94-.94-2.06-.94 2.06-2.06.94z\"/><path d=\"M17.41 7.96l-1.37-1.37c-.4-.4-.92-.59-1.43-.59-.52 0-1.04.2-1.43.59L10.3 9.45l-7.72 7.72c-.78.78-.78 2.05 0 2.83L4 21.41c.39.39.9.59 1.41.59.51 0 1.02-.2 1.41-.59l7.78-7.78 2.81-2.81c.8-.78.8-2.07 0-2.86zM5.41 20L4 18.59l7.72-7.72 1.47 1.35L5.41 20z\"/>\n",
              "  </svg>\n",
              "      </button>\n",
              "      \n",
              "  <style>\n",
              "    .colab-df-container {\n",
              "      display:flex;\n",
              "      flex-wrap:wrap;\n",
              "      gap: 12px;\n",
              "    }\n",
              "\n",
              "    .colab-df-convert {\n",
              "      background-color: #E8F0FE;\n",
              "      border: none;\n",
              "      border-radius: 50%;\n",
              "      cursor: pointer;\n",
              "      display: none;\n",
              "      fill: #1967D2;\n",
              "      height: 32px;\n",
              "      padding: 0 0 0 0;\n",
              "      width: 32px;\n",
              "    }\n",
              "\n",
              "    .colab-df-convert:hover {\n",
              "      background-color: #E2EBFA;\n",
              "      box-shadow: 0px 1px 2px rgba(60, 64, 67, 0.3), 0px 1px 3px 1px rgba(60, 64, 67, 0.15);\n",
              "      fill: #174EA6;\n",
              "    }\n",
              "\n",
              "    [theme=dark] .colab-df-convert {\n",
              "      background-color: #3B4455;\n",
              "      fill: #D2E3FC;\n",
              "    }\n",
              "\n",
              "    [theme=dark] .colab-df-convert:hover {\n",
              "      background-color: #434B5C;\n",
              "      box-shadow: 0px 1px 3px 1px rgba(0, 0, 0, 0.15);\n",
              "      filter: drop-shadow(0px 1px 2px rgba(0, 0, 0, 0.3));\n",
              "      fill: #FFFFFF;\n",
              "    }\n",
              "  </style>\n",
              "\n",
              "      <script>\n",
              "        const buttonEl =\n",
              "          document.querySelector('#df-b81ba4d1-e5c6-46c4-8f10-35942c5ce828 button.colab-df-convert');\n",
              "        buttonEl.style.display =\n",
              "          google.colab.kernel.accessAllowed ? 'block' : 'none';\n",
              "\n",
              "        async function convertToInteractive(key) {\n",
              "          const element = document.querySelector('#df-b81ba4d1-e5c6-46c4-8f10-35942c5ce828');\n",
              "          const dataTable =\n",
              "            await google.colab.kernel.invokeFunction('convertToInteractive',\n",
              "                                                     [key], {});\n",
              "          if (!dataTable) return;\n",
              "\n",
              "          const docLinkHtml = 'Like what you see? Visit the ' +\n",
              "            '<a target=\"_blank\" href=https://colab.research.google.com/notebooks/data_table.ipynb>data table notebook</a>'\n",
              "            + ' to learn more about interactive tables.';\n",
              "          element.innerHTML = '';\n",
              "          dataTable['output_type'] = 'display_data';\n",
              "          await google.colab.output.renderOutput(dataTable, element);\n",
              "          const docLink = document.createElement('div');\n",
              "          docLink.innerHTML = docLinkHtml;\n",
              "          element.appendChild(docLink);\n",
              "        }\n",
              "      </script>\n",
              "    </div>\n",
              "  </div>\n",
              "  "
            ],
            "text/plain": [
              "            cad_recursive_linear_prediction  aud_recursive_linear_prediction  \\\n",
              "1981-01-02                        -0.000018                        -0.000058   \n",
              "1981-01-05                        -0.000018                        -0.000058   \n",
              "1981-01-06                        -0.000018                        -0.000058   \n",
              "1981-01-07                        -0.000018                        -0.000058   \n",
              "1981-01-08                        -0.000018                        -0.000058   \n",
              "...                                     ...                              ...   \n",
              "2020-12-25                        -0.000012                        -0.000047   \n",
              "2020-12-28                        -0.000012                        -0.000047   \n",
              "2020-12-29                        -0.000012                        -0.000048   \n",
              "2020-12-30                        -0.000012                        -0.000047   \n",
              "2020-12-31                        -0.000011                        -0.000046   \n",
              "\n",
              "            gbp_recursive_linear_prediction  \n",
              "1981-01-02                        -0.000071  \n",
              "1981-01-05                        -0.000167  \n",
              "1981-01-06                         0.000401  \n",
              "1981-01-07                         0.000029  \n",
              "1981-01-08                        -0.000221  \n",
              "...                                     ...  \n",
              "2020-12-25                         0.000109  \n",
              "2020-12-28                        -0.000048  \n",
              "2020-12-29                        -0.000323  \n",
              "2020-12-30                         0.000074  \n",
              "2020-12-31                         0.000251  \n",
              "\n",
              "[10435 rows x 3 columns]"
            ]
          },
          "metadata": {},
          "execution_count": 17
        }
      ],
      "source": [
        "recursive_linear = pd.read_csv('./recursive_linear_prediction.csv', index_col=0)\n",
        "recursive_linear = recursive_linear.astype('float64')\n",
        "recursive_linear.index = pd.to_datetime(recursive_linear.index)\n",
        "\n",
        "cad_recursive_linear = recursive_linear.iloc[:,0]\n",
        "aud_recursive_linear = recursive_linear.iloc[:,1]\n",
        "gbp_recursive_linear = recursive_linear.iloc[:,2]\n",
        "\n",
        "recursive_linear"
      ]
    },
    {
      "cell_type": "code",
      "execution_count": 18,
      "metadata": {
        "colab": {
          "base_uri": "https://localhost:8080/",
          "height": 423
        },
        "id": "UICkwjZ8p4B2",
        "outputId": "52003f80-f032-49cc-c4b7-695bed9f0338"
      },
      "outputs": [
        {
          "output_type": "execute_result",
          "data": {
            "text/html": [
              "\n",
              "  <div id=\"df-a09ba79d-5f7f-44d2-b0fb-c2038b2a7a7e\">\n",
              "    <div class=\"colab-df-container\">\n",
              "      <div>\n",
              "<style scoped>\n",
              "    .dataframe tbody tr th:only-of-type {\n",
              "        vertical-align: middle;\n",
              "    }\n",
              "\n",
              "    .dataframe tbody tr th {\n",
              "        vertical-align: top;\n",
              "    }\n",
              "\n",
              "    .dataframe thead th {\n",
              "        text-align: right;\n",
              "    }\n",
              "</style>\n",
              "<table border=\"1\" class=\"dataframe\">\n",
              "  <thead>\n",
              "    <tr style=\"text-align: right;\">\n",
              "      <th></th>\n",
              "      <th>cad_recursive_linear_residue</th>\n",
              "      <th>aud_recursive_linear_residue</th>\n",
              "      <th>gbp_recursive_linear_residue</th>\n",
              "    </tr>\n",
              "  </thead>\n",
              "  <tbody>\n",
              "    <tr>\n",
              "      <th>1981-01-02</th>\n",
              "      <td>-0.000221</td>\n",
              "      <td>-0.000959</td>\n",
              "      <td>-0.002864</td>\n",
              "    </tr>\n",
              "    <tr>\n",
              "      <th>1981-01-05</th>\n",
              "      <td>0.005142</td>\n",
              "      <td>0.003863</td>\n",
              "      <td>0.014132</td>\n",
              "    </tr>\n",
              "    <tr>\n",
              "      <th>1981-01-06</th>\n",
              "      <td>0.000374</td>\n",
              "      <td>0.003681</td>\n",
              "      <td>0.002493</td>\n",
              "    </tr>\n",
              "    <tr>\n",
              "      <th>1981-01-07</th>\n",
              "      <td>0.000255</td>\n",
              "      <td>0.000058</td>\n",
              "      <td>-0.004580</td>\n",
              "    </tr>\n",
              "    <tr>\n",
              "      <th>1981-01-08</th>\n",
              "      <td>0.000018</td>\n",
              "      <td>-0.002047</td>\n",
              "      <td>-0.003102</td>\n",
              "    </tr>\n",
              "    <tr>\n",
              "      <th>...</th>\n",
              "      <td>...</td>\n",
              "      <td>...</td>\n",
              "      <td>...</td>\n",
              "    </tr>\n",
              "    <tr>\n",
              "      <th>2020-12-25</th>\n",
              "      <td>-0.000117</td>\n",
              "      <td>0.001100</td>\n",
              "      <td>0.000038</td>\n",
              "    </tr>\n",
              "    <tr>\n",
              "      <th>2020-12-28</th>\n",
              "      <td>0.001426</td>\n",
              "      <td>-0.003377</td>\n",
              "      <td>-0.007949</td>\n",
              "    </tr>\n",
              "    <tr>\n",
              "      <th>2020-12-29</th>\n",
              "      <td>0.002194</td>\n",
              "      <td>0.003604</td>\n",
              "      <td>0.004107</td>\n",
              "    </tr>\n",
              "    <tr>\n",
              "      <th>2020-12-30</th>\n",
              "      <td>0.005254</td>\n",
              "      <td>0.010510</td>\n",
              "      <td>0.008920</td>\n",
              "    </tr>\n",
              "    <tr>\n",
              "      <th>2020-12-31</th>\n",
              "      <td>0.001413</td>\n",
              "      <td>0.001087</td>\n",
              "      <td>0.003047</td>\n",
              "    </tr>\n",
              "  </tbody>\n",
              "</table>\n",
              "<p>10435 rows × 3 columns</p>\n",
              "</div>\n",
              "      <button class=\"colab-df-convert\" onclick=\"convertToInteractive('df-a09ba79d-5f7f-44d2-b0fb-c2038b2a7a7e')\"\n",
              "              title=\"Convert this dataframe to an interactive table.\"\n",
              "              style=\"display:none;\">\n",
              "        \n",
              "  <svg xmlns=\"http://www.w3.org/2000/svg\" height=\"24px\"viewBox=\"0 0 24 24\"\n",
              "       width=\"24px\">\n",
              "    <path d=\"M0 0h24v24H0V0z\" fill=\"none\"/>\n",
              "    <path d=\"M18.56 5.44l.94 2.06.94-2.06 2.06-.94-2.06-.94-.94-2.06-.94 2.06-2.06.94zm-11 1L8.5 8.5l.94-2.06 2.06-.94-2.06-.94L8.5 2.5l-.94 2.06-2.06.94zm10 10l.94 2.06.94-2.06 2.06-.94-2.06-.94-.94-2.06-.94 2.06-2.06.94z\"/><path d=\"M17.41 7.96l-1.37-1.37c-.4-.4-.92-.59-1.43-.59-.52 0-1.04.2-1.43.59L10.3 9.45l-7.72 7.72c-.78.78-.78 2.05 0 2.83L4 21.41c.39.39.9.59 1.41.59.51 0 1.02-.2 1.41-.59l7.78-7.78 2.81-2.81c.8-.78.8-2.07 0-2.86zM5.41 20L4 18.59l7.72-7.72 1.47 1.35L5.41 20z\"/>\n",
              "  </svg>\n",
              "      </button>\n",
              "      \n",
              "  <style>\n",
              "    .colab-df-container {\n",
              "      display:flex;\n",
              "      flex-wrap:wrap;\n",
              "      gap: 12px;\n",
              "    }\n",
              "\n",
              "    .colab-df-convert {\n",
              "      background-color: #E8F0FE;\n",
              "      border: none;\n",
              "      border-radius: 50%;\n",
              "      cursor: pointer;\n",
              "      display: none;\n",
              "      fill: #1967D2;\n",
              "      height: 32px;\n",
              "      padding: 0 0 0 0;\n",
              "      width: 32px;\n",
              "    }\n",
              "\n",
              "    .colab-df-convert:hover {\n",
              "      background-color: #E2EBFA;\n",
              "      box-shadow: 0px 1px 2px rgba(60, 64, 67, 0.3), 0px 1px 3px 1px rgba(60, 64, 67, 0.15);\n",
              "      fill: #174EA6;\n",
              "    }\n",
              "\n",
              "    [theme=dark] .colab-df-convert {\n",
              "      background-color: #3B4455;\n",
              "      fill: #D2E3FC;\n",
              "    }\n",
              "\n",
              "    [theme=dark] .colab-df-convert:hover {\n",
              "      background-color: #434B5C;\n",
              "      box-shadow: 0px 1px 3px 1px rgba(0, 0, 0, 0.15);\n",
              "      filter: drop-shadow(0px 1px 2px rgba(0, 0, 0, 0.3));\n",
              "      fill: #FFFFFF;\n",
              "    }\n",
              "  </style>\n",
              "\n",
              "      <script>\n",
              "        const buttonEl =\n",
              "          document.querySelector('#df-a09ba79d-5f7f-44d2-b0fb-c2038b2a7a7e button.colab-df-convert');\n",
              "        buttonEl.style.display =\n",
              "          google.colab.kernel.accessAllowed ? 'block' : 'none';\n",
              "\n",
              "        async function convertToInteractive(key) {\n",
              "          const element = document.querySelector('#df-a09ba79d-5f7f-44d2-b0fb-c2038b2a7a7e');\n",
              "          const dataTable =\n",
              "            await google.colab.kernel.invokeFunction('convertToInteractive',\n",
              "                                                     [key], {});\n",
              "          if (!dataTable) return;\n",
              "\n",
              "          const docLinkHtml = 'Like what you see? Visit the ' +\n",
              "            '<a target=\"_blank\" href=https://colab.research.google.com/notebooks/data_table.ipynb>data table notebook</a>'\n",
              "            + ' to learn more about interactive tables.';\n",
              "          element.innerHTML = '';\n",
              "          dataTable['output_type'] = 'display_data';\n",
              "          await google.colab.output.renderOutput(dataTable, element);\n",
              "          const docLink = document.createElement('div');\n",
              "          docLink.innerHTML = docLinkHtml;\n",
              "          element.appendChild(docLink);\n",
              "        }\n",
              "      </script>\n",
              "    </div>\n",
              "  </div>\n",
              "  "
            ],
            "text/plain": [
              "            cad_recursive_linear_residue  aud_recursive_linear_residue  \\\n",
              "1981-01-02                     -0.000221                     -0.000959   \n",
              "1981-01-05                      0.005142                      0.003863   \n",
              "1981-01-06                      0.000374                      0.003681   \n",
              "1981-01-07                      0.000255                      0.000058   \n",
              "1981-01-08                      0.000018                     -0.002047   \n",
              "...                                  ...                           ...   \n",
              "2020-12-25                     -0.000117                      0.001100   \n",
              "2020-12-28                      0.001426                     -0.003377   \n",
              "2020-12-29                      0.002194                      0.003604   \n",
              "2020-12-30                      0.005254                      0.010510   \n",
              "2020-12-31                      0.001413                      0.001087   \n",
              "\n",
              "            gbp_recursive_linear_residue  \n",
              "1981-01-02                     -0.002864  \n",
              "1981-01-05                      0.014132  \n",
              "1981-01-06                      0.002493  \n",
              "1981-01-07                     -0.004580  \n",
              "1981-01-08                     -0.003102  \n",
              "...                                  ...  \n",
              "2020-12-25                      0.000038  \n",
              "2020-12-28                     -0.007949  \n",
              "2020-12-29                      0.004107  \n",
              "2020-12-30                      0.008920  \n",
              "2020-12-31                      0.003047  \n",
              "\n",
              "[10435 rows x 3 columns]"
            ]
          },
          "metadata": {},
          "execution_count": 18
        }
      ],
      "source": [
        "recursive_residue = pd.read_csv('./recursive_linear_residue.csv', index_col=0)\n",
        "recursive_residue = recursive_residue.astype('float64')\n",
        "recursive_residue.index = pd.to_datetime(recursive_residue.index)\n",
        "\n",
        "cad_recursive_residue = recursive_residue.iloc[:,0]\n",
        "aud_recursive_residue = recursive_residue.iloc[:,1]\n",
        "gbp_recursive_residue = recursive_residue.iloc[:,2]\n",
        "\n",
        "recursive_residue"
      ]
    },
    {
      "cell_type": "markdown",
      "metadata": {
        "id": "yvryYFufp4B3"
      },
      "source": [
        "### LSTM"
      ]
    },
    {
      "cell_type": "code",
      "execution_count": 19,
      "metadata": {
        "id": "RfMK4EIap4B3"
      },
      "outputs": [],
      "source": [
        "model_type = LSTM"
      ]
    },
    {
      "cell_type": "markdown",
      "metadata": {
        "id": "f0wCxPDKp4B3"
      },
      "source": [
        "#### cad"
      ]
    },
    {
      "cell_type": "code",
      "execution_count": 20,
      "metadata": {
        "colab": {
          "base_uri": "https://localhost:8080/"
        },
        "id": "E2qm2kMbp4B3",
        "outputId": "4e41c9bc-d8bb-452e-c82f-bd58b17cc46c"
      },
      "outputs": [
        {
          "output_type": "execute_result",
          "data": {
            "text/plain": [
              "1981-01-02   -0.000018\n",
              "1981-01-05   -0.000018\n",
              "1981-01-06   -0.000018\n",
              "1981-01-07   -0.000018\n",
              "1981-01-08   -0.000018\n",
              "                ...   \n",
              "2020-12-25   -0.000012\n",
              "2020-12-28   -0.000012\n",
              "2020-12-29   -0.000012\n",
              "2020-12-30   -0.000012\n",
              "2020-12-31   -0.000011\n",
              "Name: cad_recursive_linear_prediction, Length: 10435, dtype: float64"
            ]
          },
          "metadata": {},
          "execution_count": 20
        }
      ],
      "source": [
        "cad_recursive_linear"
      ]
    },
    {
      "cell_type": "code",
      "execution_count": 21,
      "metadata": {
        "colab": {
          "base_uri": "https://localhost:8080/"
        },
        "id": "NeOEOqhHp4B3",
        "outputId": "59d41e5b-65e1-43f4-c43f-9a4f7f73813f"
      },
      "outputs": [
        {
          "output_type": "execute_result",
          "data": {
            "text/plain": [
              "1981-01-02   -0.000221\n",
              "1981-01-05    0.005142\n",
              "1981-01-06    0.000374\n",
              "1981-01-07    0.000255\n",
              "1981-01-08    0.000018\n",
              "                ...   \n",
              "2020-12-25   -0.000117\n",
              "2020-12-28    0.001426\n",
              "2020-12-29    0.002194\n",
              "2020-12-30    0.005254\n",
              "2020-12-31    0.001413\n",
              "Name: cad_recursive_linear_residue, Length: 10435, dtype: float64"
            ]
          },
          "metadata": {},
          "execution_count": 21
        }
      ],
      "source": [
        "cad_recursive_residue"
      ]
    },
    {
      "cell_type": "code",
      "execution_count": 22,
      "metadata": {
        "id": "x5R7U2zpp4B3"
      },
      "outputs": [],
      "source": [
        "# optim hyperparameters obtained by grid search\n",
        "length_input_sequence = 5\n",
        "num_hidden_layers = 2\n",
        "num_hidden_sizes = 1600\n",
        "batch_sizes = 16\n",
        "num_epochs = 5"
      ]
    },
    {
      "cell_type": "code",
      "execution_count": 23,
      "metadata": {
        "id": "ZtPuR4B8p4B3"
      },
      "outputs": [],
      "source": [
        "cad_recursive_LSTM_pred = prediction_on_testset(model_type, cad_recursive_linear, cad_recursive_residue, length_input_sequence, num_hidden_layers, num_hidden_sizes, batch_sizes, num_epochs)"
      ]
    },
    {
      "cell_type": "markdown",
      "metadata": {
        "id": "HsDAO82hp4B3"
      },
      "source": [
        "#### aud"
      ]
    },
    {
      "cell_type": "code",
      "execution_count": 24,
      "metadata": {
        "colab": {
          "base_uri": "https://localhost:8080/"
        },
        "id": "XqxDtmh6p4B4",
        "outputId": "7b078483-23fb-4367-8fc0-899cd32d07c4"
      },
      "outputs": [
        {
          "output_type": "execute_result",
          "data": {
            "text/plain": [
              "1981-01-02   -0.000058\n",
              "1981-01-05   -0.000058\n",
              "1981-01-06   -0.000058\n",
              "1981-01-07   -0.000058\n",
              "1981-01-08   -0.000058\n",
              "                ...   \n",
              "2020-12-25   -0.000047\n",
              "2020-12-28   -0.000047\n",
              "2020-12-29   -0.000048\n",
              "2020-12-30   -0.000047\n",
              "2020-12-31   -0.000046\n",
              "Name: aud_recursive_linear_prediction, Length: 10435, dtype: float64"
            ]
          },
          "metadata": {},
          "execution_count": 24
        }
      ],
      "source": [
        "aud_recursive_linear"
      ]
    },
    {
      "cell_type": "code",
      "execution_count": 25,
      "metadata": {
        "colab": {
          "base_uri": "https://localhost:8080/"
        },
        "id": "sE5xnnNJp4B4",
        "outputId": "b75b3c64-04a3-4766-a88a-d53d1ae00ecb"
      },
      "outputs": [
        {
          "output_type": "execute_result",
          "data": {
            "text/plain": [
              "1981-01-02   -0.000959\n",
              "1981-01-05    0.003863\n",
              "1981-01-06    0.003681\n",
              "1981-01-07    0.000058\n",
              "1981-01-08   -0.002047\n",
              "                ...   \n",
              "2020-12-25    0.001100\n",
              "2020-12-28   -0.003377\n",
              "2020-12-29    0.003604\n",
              "2020-12-30    0.010510\n",
              "2020-12-31    0.001087\n",
              "Name: aud_recursive_linear_residue, Length: 10435, dtype: float64"
            ]
          },
          "metadata": {},
          "execution_count": 25
        }
      ],
      "source": [
        "aud_recursive_residue"
      ]
    },
    {
      "cell_type": "code",
      "execution_count": 26,
      "metadata": {
        "id": "pGPRs3u_p4B4"
      },
      "outputs": [],
      "source": [
        "# optim hyperparameters obtained by grid search\n",
        "length_input_sequence = 10\n",
        "num_hidden_layers = 3\n",
        "num_hidden_sizes = 1600\n",
        "batch_sizes = 128\n",
        "num_epochs = 15"
      ]
    },
    {
      "cell_type": "code",
      "execution_count": 27,
      "metadata": {
        "id": "i-SY4rm5p4B4"
      },
      "outputs": [],
      "source": [
        "aud_recursive_LSTM_pred = prediction_on_testset(model_type, aud_recursive_linear, aud_recursive_residue, length_input_sequence, num_hidden_layers, num_hidden_sizes, batch_sizes, num_epochs)"
      ]
    },
    {
      "cell_type": "markdown",
      "metadata": {
        "id": "2BtD9vY_p4B4"
      },
      "source": [
        "#### gbp"
      ]
    },
    {
      "cell_type": "code",
      "execution_count": 28,
      "metadata": {
        "colab": {
          "base_uri": "https://localhost:8080/"
        },
        "id": "cUsg1bnVp4B4",
        "outputId": "9861ff66-dc06-4198-b0ad-7e925fa32161"
      },
      "outputs": [
        {
          "output_type": "execute_result",
          "data": {
            "text/plain": [
              "1981-01-02   -0.000071\n",
              "1981-01-05   -0.000167\n",
              "1981-01-06    0.000401\n",
              "1981-01-07    0.000029\n",
              "1981-01-08   -0.000221\n",
              "                ...   \n",
              "2020-12-25    0.000109\n",
              "2020-12-28   -0.000048\n",
              "2020-12-29   -0.000323\n",
              "2020-12-30    0.000074\n",
              "2020-12-31    0.000251\n",
              "Name: gbp_recursive_linear_prediction, Length: 10435, dtype: float64"
            ]
          },
          "metadata": {},
          "execution_count": 28
        }
      ],
      "source": [
        "gbp_recursive_linear"
      ]
    },
    {
      "cell_type": "code",
      "execution_count": 29,
      "metadata": {
        "colab": {
          "base_uri": "https://localhost:8080/"
        },
        "id": "PL_HKKtLp4B4",
        "outputId": "7e062503-cd24-47b5-ae6d-56aacae4cbc6"
      },
      "outputs": [
        {
          "output_type": "execute_result",
          "data": {
            "text/plain": [
              "1981-01-02   -0.002864\n",
              "1981-01-05    0.014132\n",
              "1981-01-06    0.002493\n",
              "1981-01-07   -0.004580\n",
              "1981-01-08   -0.003102\n",
              "                ...   \n",
              "2020-12-25    0.000038\n",
              "2020-12-28   -0.007949\n",
              "2020-12-29    0.004107\n",
              "2020-12-30    0.008920\n",
              "2020-12-31    0.003047\n",
              "Name: gbp_recursive_linear_residue, Length: 10435, dtype: float64"
            ]
          },
          "metadata": {},
          "execution_count": 29
        }
      ],
      "source": [
        "gbp_recursive_residue"
      ]
    },
    {
      "cell_type": "code",
      "execution_count": 30,
      "metadata": {
        "id": "AF7ttxI5p4B4"
      },
      "outputs": [],
      "source": [
        "# optim hyperparameters obtained by grid search\n",
        "length_input_sequence = 5\n",
        "num_hidden_layers = 2\n",
        "num_hidden_sizes = 25\n",
        "batch_sizes = 256\n",
        "num_epochs = 5"
      ]
    },
    {
      "cell_type": "code",
      "execution_count": 31,
      "metadata": {
        "id": "Nmhcb7bSp4B4"
      },
      "outputs": [],
      "source": [
        "gbp_recursive_LSTM_pred = prediction_on_testset(model_type, gbp_recursive_linear, gbp_recursive_residue, length_input_sequence, num_hidden_layers, num_hidden_sizes, batch_sizes, num_epochs)"
      ]
    },
    {
      "cell_type": "markdown",
      "metadata": {
        "id": "T3pxBIcxp4B4"
      },
      "source": [
        "### Self-Attention"
      ]
    },
    {
      "cell_type": "code",
      "execution_count": 32,
      "metadata": {
        "id": "XpISzmO2p4B4"
      },
      "outputs": [],
      "source": [
        "model_type = Self_Attention"
      ]
    },
    {
      "cell_type": "markdown",
      "metadata": {
        "id": "J1qCDcCMp4B4"
      },
      "source": [
        "#### cad"
      ]
    },
    {
      "cell_type": "code",
      "execution_count": 33,
      "metadata": {
        "colab": {
          "base_uri": "https://localhost:8080/"
        },
        "id": "aWmUYhIFp4B4",
        "outputId": "e27552c6-d23c-4275-92e6-f0f0a0652d8d"
      },
      "outputs": [
        {
          "output_type": "execute_result",
          "data": {
            "text/plain": [
              "1981-01-02   -0.000018\n",
              "1981-01-05   -0.000018\n",
              "1981-01-06   -0.000018\n",
              "1981-01-07   -0.000018\n",
              "1981-01-08   -0.000018\n",
              "                ...   \n",
              "2020-12-25   -0.000012\n",
              "2020-12-28   -0.000012\n",
              "2020-12-29   -0.000012\n",
              "2020-12-30   -0.000012\n",
              "2020-12-31   -0.000011\n",
              "Name: cad_recursive_linear_prediction, Length: 10435, dtype: float64"
            ]
          },
          "metadata": {},
          "execution_count": 33
        }
      ],
      "source": [
        "cad_recursive_linear"
      ]
    },
    {
      "cell_type": "code",
      "execution_count": 34,
      "metadata": {
        "colab": {
          "base_uri": "https://localhost:8080/"
        },
        "id": "RWpdVvZJp4B5",
        "outputId": "1f659e23-bea0-4031-b392-aad4ccba3964"
      },
      "outputs": [
        {
          "output_type": "execute_result",
          "data": {
            "text/plain": [
              "1981-01-02   -0.000221\n",
              "1981-01-05    0.005142\n",
              "1981-01-06    0.000374\n",
              "1981-01-07    0.000255\n",
              "1981-01-08    0.000018\n",
              "                ...   \n",
              "2020-12-25   -0.000117\n",
              "2020-12-28    0.001426\n",
              "2020-12-29    0.002194\n",
              "2020-12-30    0.005254\n",
              "2020-12-31    0.001413\n",
              "Name: cad_recursive_linear_residue, Length: 10435, dtype: float64"
            ]
          },
          "metadata": {},
          "execution_count": 34
        }
      ],
      "source": [
        "cad_recursive_residue"
      ]
    },
    {
      "cell_type": "code",
      "execution_count": 35,
      "metadata": {
        "id": "rjIeL6r6p4B5"
      },
      "outputs": [],
      "source": [
        "# optim hyperparameters obtained by grid search\n",
        "length_input_sequence = 5\n",
        "num_hidden_layers = 1\n",
        "num_hidden_sizes = 200\n",
        "batch_sizes = 256\n",
        "num_epochs = 15"
      ]
    },
    {
      "cell_type": "code",
      "execution_count": 36,
      "metadata": {
        "id": "d0C39XN9p4B5"
      },
      "outputs": [],
      "source": [
        "cad_recursive_Self_Attention_pred = prediction_on_testset(model_type, cad_recursive_linear, cad_recursive_residue, length_input_sequence, num_hidden_layers, num_hidden_sizes, batch_sizes, num_epochs)"
      ]
    },
    {
      "cell_type": "markdown",
      "metadata": {
        "id": "YuObh9zNp4B5"
      },
      "source": [
        "#### aud"
      ]
    },
    {
      "cell_type": "code",
      "execution_count": 37,
      "metadata": {
        "colab": {
          "base_uri": "https://localhost:8080/"
        },
        "id": "fKoiciMNp4B5",
        "outputId": "7c6061dc-d267-4208-8e72-6951ae1e54cf"
      },
      "outputs": [
        {
          "output_type": "execute_result",
          "data": {
            "text/plain": [
              "1981-01-02   -0.000058\n",
              "1981-01-05   -0.000058\n",
              "1981-01-06   -0.000058\n",
              "1981-01-07   -0.000058\n",
              "1981-01-08   -0.000058\n",
              "                ...   \n",
              "2020-12-25   -0.000047\n",
              "2020-12-28   -0.000047\n",
              "2020-12-29   -0.000048\n",
              "2020-12-30   -0.000047\n",
              "2020-12-31   -0.000046\n",
              "Name: aud_recursive_linear_prediction, Length: 10435, dtype: float64"
            ]
          },
          "metadata": {},
          "execution_count": 37
        }
      ],
      "source": [
        "aud_recursive_linear"
      ]
    },
    {
      "cell_type": "code",
      "execution_count": 38,
      "metadata": {
        "colab": {
          "base_uri": "https://localhost:8080/"
        },
        "id": "P2h9LK9Pp4B5",
        "outputId": "63b8afbc-6e70-454e-ab66-6f0b8522b853"
      },
      "outputs": [
        {
          "output_type": "execute_result",
          "data": {
            "text/plain": [
              "1981-01-02   -0.000959\n",
              "1981-01-05    0.003863\n",
              "1981-01-06    0.003681\n",
              "1981-01-07    0.000058\n",
              "1981-01-08   -0.002047\n",
              "                ...   \n",
              "2020-12-25    0.001100\n",
              "2020-12-28   -0.003377\n",
              "2020-12-29    0.003604\n",
              "2020-12-30    0.010510\n",
              "2020-12-31    0.001087\n",
              "Name: aud_recursive_linear_residue, Length: 10435, dtype: float64"
            ]
          },
          "metadata": {},
          "execution_count": 38
        }
      ],
      "source": [
        "aud_recursive_residue"
      ]
    },
    {
      "cell_type": "code",
      "execution_count": 39,
      "metadata": {
        "id": "SttmFSKcp4B5"
      },
      "outputs": [],
      "source": [
        "# optim hyperparameters obtained by grid search\n",
        "length_input_sequence = 10\n",
        "num_hidden_layers = 1\n",
        "num_hidden_sizes = 800\n",
        "batch_sizes = 16\n",
        "num_epochs = 30"
      ]
    },
    {
      "cell_type": "code",
      "execution_count": 40,
      "metadata": {
        "id": "vi-rMB8jp4B5"
      },
      "outputs": [],
      "source": [
        "aud_recursive_Self_Attention_pred = prediction_on_testset(model_type, aud_recursive_linear, aud_recursive_residue, length_input_sequence, num_hidden_layers, num_hidden_sizes, batch_sizes, num_epochs)"
      ]
    },
    {
      "cell_type": "markdown",
      "metadata": {
        "id": "kVd7krebp4B5"
      },
      "source": [
        "#### gbp"
      ]
    },
    {
      "cell_type": "code",
      "execution_count": 41,
      "metadata": {
        "colab": {
          "base_uri": "https://localhost:8080/"
        },
        "id": "M-1YGfW4p4B5",
        "outputId": "266b1d45-7a7e-41fe-ac59-2e99ce3a2a03"
      },
      "outputs": [
        {
          "output_type": "execute_result",
          "data": {
            "text/plain": [
              "1981-01-02   -0.000071\n",
              "1981-01-05   -0.000167\n",
              "1981-01-06    0.000401\n",
              "1981-01-07    0.000029\n",
              "1981-01-08   -0.000221\n",
              "                ...   \n",
              "2020-12-25    0.000109\n",
              "2020-12-28   -0.000048\n",
              "2020-12-29   -0.000323\n",
              "2020-12-30    0.000074\n",
              "2020-12-31    0.000251\n",
              "Name: gbp_recursive_linear_prediction, Length: 10435, dtype: float64"
            ]
          },
          "metadata": {},
          "execution_count": 41
        }
      ],
      "source": [
        "gbp_recursive_linear"
      ]
    },
    {
      "cell_type": "code",
      "execution_count": 42,
      "metadata": {
        "colab": {
          "base_uri": "https://localhost:8080/"
        },
        "id": "Ll2FlUCrp4B5",
        "outputId": "0889054a-c1b0-4ac6-fddc-06b71ff16011"
      },
      "outputs": [
        {
          "output_type": "execute_result",
          "data": {
            "text/plain": [
              "1981-01-02   -0.002864\n",
              "1981-01-05    0.014132\n",
              "1981-01-06    0.002493\n",
              "1981-01-07   -0.004580\n",
              "1981-01-08   -0.003102\n",
              "                ...   \n",
              "2020-12-25    0.000038\n",
              "2020-12-28   -0.007949\n",
              "2020-12-29    0.004107\n",
              "2020-12-30    0.008920\n",
              "2020-12-31    0.003047\n",
              "Name: gbp_recursive_linear_residue, Length: 10435, dtype: float64"
            ]
          },
          "metadata": {},
          "execution_count": 42
        }
      ],
      "source": [
        "gbp_recursive_residue"
      ]
    },
    {
      "cell_type": "code",
      "execution_count": 43,
      "metadata": {
        "id": "nDAyMKV1p4B5"
      },
      "outputs": [],
      "source": [
        "# optim hyperparameters obtained by grid search\n",
        "length_input_sequence = 5\n",
        "num_hidden_layers = 1\n",
        "num_hidden_sizes = 200\n",
        "batch_sizes = 256\n",
        "num_epochs = 20"
      ]
    },
    {
      "cell_type": "code",
      "execution_count": 44,
      "metadata": {
        "id": "OEMIpYj4p4B5"
      },
      "outputs": [],
      "source": [
        "gbp_recursive_Self_Attention_pred = prediction_on_testset(model_type, gbp_recursive_linear, gbp_recursive_residue, length_input_sequence, num_hidden_layers, num_hidden_sizes, batch_sizes, num_epochs)"
      ]
    },
    {
      "cell_type": "markdown",
      "metadata": {
        "id": "OOR6lfWNp4B5"
      },
      "source": [
        "## Rolling window"
      ]
    },
    {
      "cell_type": "code",
      "execution_count": 45,
      "metadata": {
        "colab": {
          "base_uri": "https://localhost:8080/",
          "height": 423
        },
        "id": "8kPTWGOxp4B5",
        "outputId": "095abd87-c405-407a-d3df-a85c1c71e6eb"
      },
      "outputs": [
        {
          "output_type": "execute_result",
          "data": {
            "text/html": [
              "\n",
              "  <div id=\"df-ea2f286b-ce78-480a-a3d3-1d03981805d2\">\n",
              "    <div class=\"colab-df-container\">\n",
              "      <div>\n",
              "<style scoped>\n",
              "    .dataframe tbody tr th:only-of-type {\n",
              "        vertical-align: middle;\n",
              "    }\n",
              "\n",
              "    .dataframe tbody tr th {\n",
              "        vertical-align: top;\n",
              "    }\n",
              "\n",
              "    .dataframe thead th {\n",
              "        text-align: right;\n",
              "    }\n",
              "</style>\n",
              "<table border=\"1\" class=\"dataframe\">\n",
              "  <thead>\n",
              "    <tr style=\"text-align: right;\">\n",
              "      <th></th>\n",
              "      <th>cad_rolling_linear_prediction</th>\n",
              "      <th>aud_rolling_linear_prediction</th>\n",
              "      <th>gbp_rolling_linear_prediction</th>\n",
              "    </tr>\n",
              "  </thead>\n",
              "  <tbody>\n",
              "    <tr>\n",
              "      <th>1981-01-02</th>\n",
              "      <td>-0.000018</td>\n",
              "      <td>-0.000058</td>\n",
              "      <td>-0.000071</td>\n",
              "    </tr>\n",
              "    <tr>\n",
              "      <th>1981-01-05</th>\n",
              "      <td>-0.000018</td>\n",
              "      <td>-0.000058</td>\n",
              "      <td>-0.000167</td>\n",
              "    </tr>\n",
              "    <tr>\n",
              "      <th>1981-01-06</th>\n",
              "      <td>-0.000018</td>\n",
              "      <td>-0.000058</td>\n",
              "      <td>0.000401</td>\n",
              "    </tr>\n",
              "    <tr>\n",
              "      <th>1981-01-07</th>\n",
              "      <td>-0.000018</td>\n",
              "      <td>-0.000058</td>\n",
              "      <td>0.000029</td>\n",
              "    </tr>\n",
              "    <tr>\n",
              "      <th>1981-01-08</th>\n",
              "      <td>-0.000018</td>\n",
              "      <td>-0.000058</td>\n",
              "      <td>-0.000221</td>\n",
              "    </tr>\n",
              "    <tr>\n",
              "      <th>...</th>\n",
              "      <td>...</td>\n",
              "      <td>...</td>\n",
              "      <td>...</td>\n",
              "    </tr>\n",
              "    <tr>\n",
              "      <th>2020-12-25</th>\n",
              "      <td>-0.000002</td>\n",
              "      <td>-0.000015</td>\n",
              "      <td>0.000171</td>\n",
              "    </tr>\n",
              "    <tr>\n",
              "      <th>2020-12-28</th>\n",
              "      <td>-0.000002</td>\n",
              "      <td>-0.000014</td>\n",
              "      <td>0.000020</td>\n",
              "    </tr>\n",
              "    <tr>\n",
              "      <th>2020-12-29</th>\n",
              "      <td>-0.000002</td>\n",
              "      <td>-0.000014</td>\n",
              "      <td>-0.000245</td>\n",
              "    </tr>\n",
              "    <tr>\n",
              "      <th>2020-12-30</th>\n",
              "      <td>-0.000002</td>\n",
              "      <td>-0.000014</td>\n",
              "      <td>0.000138</td>\n",
              "    </tr>\n",
              "    <tr>\n",
              "      <th>2020-12-31</th>\n",
              "      <td>-0.000001</td>\n",
              "      <td>-0.000013</td>\n",
              "      <td>0.000309</td>\n",
              "    </tr>\n",
              "  </tbody>\n",
              "</table>\n",
              "<p>10435 rows × 3 columns</p>\n",
              "</div>\n",
              "      <button class=\"colab-df-convert\" onclick=\"convertToInteractive('df-ea2f286b-ce78-480a-a3d3-1d03981805d2')\"\n",
              "              title=\"Convert this dataframe to an interactive table.\"\n",
              "              style=\"display:none;\">\n",
              "        \n",
              "  <svg xmlns=\"http://www.w3.org/2000/svg\" height=\"24px\"viewBox=\"0 0 24 24\"\n",
              "       width=\"24px\">\n",
              "    <path d=\"M0 0h24v24H0V0z\" fill=\"none\"/>\n",
              "    <path d=\"M18.56 5.44l.94 2.06.94-2.06 2.06-.94-2.06-.94-.94-2.06-.94 2.06-2.06.94zm-11 1L8.5 8.5l.94-2.06 2.06-.94-2.06-.94L8.5 2.5l-.94 2.06-2.06.94zm10 10l.94 2.06.94-2.06 2.06-.94-2.06-.94-.94-2.06-.94 2.06-2.06.94z\"/><path d=\"M17.41 7.96l-1.37-1.37c-.4-.4-.92-.59-1.43-.59-.52 0-1.04.2-1.43.59L10.3 9.45l-7.72 7.72c-.78.78-.78 2.05 0 2.83L4 21.41c.39.39.9.59 1.41.59.51 0 1.02-.2 1.41-.59l7.78-7.78 2.81-2.81c.8-.78.8-2.07 0-2.86zM5.41 20L4 18.59l7.72-7.72 1.47 1.35L5.41 20z\"/>\n",
              "  </svg>\n",
              "      </button>\n",
              "      \n",
              "  <style>\n",
              "    .colab-df-container {\n",
              "      display:flex;\n",
              "      flex-wrap:wrap;\n",
              "      gap: 12px;\n",
              "    }\n",
              "\n",
              "    .colab-df-convert {\n",
              "      background-color: #E8F0FE;\n",
              "      border: none;\n",
              "      border-radius: 50%;\n",
              "      cursor: pointer;\n",
              "      display: none;\n",
              "      fill: #1967D2;\n",
              "      height: 32px;\n",
              "      padding: 0 0 0 0;\n",
              "      width: 32px;\n",
              "    }\n",
              "\n",
              "    .colab-df-convert:hover {\n",
              "      background-color: #E2EBFA;\n",
              "      box-shadow: 0px 1px 2px rgba(60, 64, 67, 0.3), 0px 1px 3px 1px rgba(60, 64, 67, 0.15);\n",
              "      fill: #174EA6;\n",
              "    }\n",
              "\n",
              "    [theme=dark] .colab-df-convert {\n",
              "      background-color: #3B4455;\n",
              "      fill: #D2E3FC;\n",
              "    }\n",
              "\n",
              "    [theme=dark] .colab-df-convert:hover {\n",
              "      background-color: #434B5C;\n",
              "      box-shadow: 0px 1px 3px 1px rgba(0, 0, 0, 0.15);\n",
              "      filter: drop-shadow(0px 1px 2px rgba(0, 0, 0, 0.3));\n",
              "      fill: #FFFFFF;\n",
              "    }\n",
              "  </style>\n",
              "\n",
              "      <script>\n",
              "        const buttonEl =\n",
              "          document.querySelector('#df-ea2f286b-ce78-480a-a3d3-1d03981805d2 button.colab-df-convert');\n",
              "        buttonEl.style.display =\n",
              "          google.colab.kernel.accessAllowed ? 'block' : 'none';\n",
              "\n",
              "        async function convertToInteractive(key) {\n",
              "          const element = document.querySelector('#df-ea2f286b-ce78-480a-a3d3-1d03981805d2');\n",
              "          const dataTable =\n",
              "            await google.colab.kernel.invokeFunction('convertToInteractive',\n",
              "                                                     [key], {});\n",
              "          if (!dataTable) return;\n",
              "\n",
              "          const docLinkHtml = 'Like what you see? Visit the ' +\n",
              "            '<a target=\"_blank\" href=https://colab.research.google.com/notebooks/data_table.ipynb>data table notebook</a>'\n",
              "            + ' to learn more about interactive tables.';\n",
              "          element.innerHTML = '';\n",
              "          dataTable['output_type'] = 'display_data';\n",
              "          await google.colab.output.renderOutput(dataTable, element);\n",
              "          const docLink = document.createElement('div');\n",
              "          docLink.innerHTML = docLinkHtml;\n",
              "          element.appendChild(docLink);\n",
              "        }\n",
              "      </script>\n",
              "    </div>\n",
              "  </div>\n",
              "  "
            ],
            "text/plain": [
              "            cad_rolling_linear_prediction  aud_rolling_linear_prediction  \\\n",
              "1981-01-02                      -0.000018                      -0.000058   \n",
              "1981-01-05                      -0.000018                      -0.000058   \n",
              "1981-01-06                      -0.000018                      -0.000058   \n",
              "1981-01-07                      -0.000018                      -0.000058   \n",
              "1981-01-08                      -0.000018                      -0.000058   \n",
              "...                                   ...                            ...   \n",
              "2020-12-25                      -0.000002                      -0.000015   \n",
              "2020-12-28                      -0.000002                      -0.000014   \n",
              "2020-12-29                      -0.000002                      -0.000014   \n",
              "2020-12-30                      -0.000002                      -0.000014   \n",
              "2020-12-31                      -0.000001                      -0.000013   \n",
              "\n",
              "            gbp_rolling_linear_prediction  \n",
              "1981-01-02                      -0.000071  \n",
              "1981-01-05                      -0.000167  \n",
              "1981-01-06                       0.000401  \n",
              "1981-01-07                       0.000029  \n",
              "1981-01-08                      -0.000221  \n",
              "...                                   ...  \n",
              "2020-12-25                       0.000171  \n",
              "2020-12-28                       0.000020  \n",
              "2020-12-29                      -0.000245  \n",
              "2020-12-30                       0.000138  \n",
              "2020-12-31                       0.000309  \n",
              "\n",
              "[10435 rows x 3 columns]"
            ]
          },
          "metadata": {},
          "execution_count": 45
        }
      ],
      "source": [
        "rolling_linear = pd.read_csv('./rolling_linear_prediction.csv', index_col=0)\n",
        "rolling_linear = rolling_linear.astype('float64')\n",
        "rolling_linear.index = pd.to_datetime(rolling_linear.index)\n",
        "\n",
        "cad_rolling_linear = rolling_linear.iloc[:,0]\n",
        "aud_rolling_linear = rolling_linear.iloc[:,1]\n",
        "gbp_rolling_linear = rolling_linear.iloc[:,2]\n",
        "\n",
        "rolling_linear"
      ]
    },
    {
      "cell_type": "code",
      "execution_count": 46,
      "metadata": {
        "colab": {
          "base_uri": "https://localhost:8080/",
          "height": 423
        },
        "id": "LwBE-jUnp4B6",
        "outputId": "2ee48321-8112-4a4f-87ab-9a4398f8f5f0"
      },
      "outputs": [
        {
          "output_type": "execute_result",
          "data": {
            "text/html": [
              "\n",
              "  <div id=\"df-c3338608-d494-4218-921c-6bb3d1e38513\">\n",
              "    <div class=\"colab-df-container\">\n",
              "      <div>\n",
              "<style scoped>\n",
              "    .dataframe tbody tr th:only-of-type {\n",
              "        vertical-align: middle;\n",
              "    }\n",
              "\n",
              "    .dataframe tbody tr th {\n",
              "        vertical-align: top;\n",
              "    }\n",
              "\n",
              "    .dataframe thead th {\n",
              "        text-align: right;\n",
              "    }\n",
              "</style>\n",
              "<table border=\"1\" class=\"dataframe\">\n",
              "  <thead>\n",
              "    <tr style=\"text-align: right;\">\n",
              "      <th></th>\n",
              "      <th>cad_rolling_linear_residue</th>\n",
              "      <th>aud_rolling_linear_residue</th>\n",
              "      <th>gbp_rolling_linear_residue</th>\n",
              "    </tr>\n",
              "  </thead>\n",
              "  <tbody>\n",
              "    <tr>\n",
              "      <th>1981-01-02</th>\n",
              "      <td>-0.000221</td>\n",
              "      <td>-0.000959</td>\n",
              "      <td>-0.002864</td>\n",
              "    </tr>\n",
              "    <tr>\n",
              "      <th>1981-01-05</th>\n",
              "      <td>0.005142</td>\n",
              "      <td>0.003863</td>\n",
              "      <td>0.014132</td>\n",
              "    </tr>\n",
              "    <tr>\n",
              "      <th>1981-01-06</th>\n",
              "      <td>0.000374</td>\n",
              "      <td>0.003681</td>\n",
              "      <td>0.002493</td>\n",
              "    </tr>\n",
              "    <tr>\n",
              "      <th>1981-01-07</th>\n",
              "      <td>0.000255</td>\n",
              "      <td>0.000058</td>\n",
              "      <td>-0.004580</td>\n",
              "    </tr>\n",
              "    <tr>\n",
              "      <th>1981-01-08</th>\n",
              "      <td>0.000018</td>\n",
              "      <td>-0.002047</td>\n",
              "      <td>-0.003102</td>\n",
              "    </tr>\n",
              "    <tr>\n",
              "      <th>...</th>\n",
              "      <td>...</td>\n",
              "      <td>...</td>\n",
              "      <td>...</td>\n",
              "    </tr>\n",
              "    <tr>\n",
              "      <th>2020-12-25</th>\n",
              "      <td>-0.000126</td>\n",
              "      <td>0.001068</td>\n",
              "      <td>-0.000024</td>\n",
              "    </tr>\n",
              "    <tr>\n",
              "      <th>2020-12-28</th>\n",
              "      <td>0.001416</td>\n",
              "      <td>-0.003410</td>\n",
              "      <td>-0.008017</td>\n",
              "    </tr>\n",
              "    <tr>\n",
              "      <th>2020-12-29</th>\n",
              "      <td>0.002184</td>\n",
              "      <td>0.003571</td>\n",
              "      <td>0.004029</td>\n",
              "    </tr>\n",
              "    <tr>\n",
              "      <th>2020-12-30</th>\n",
              "      <td>0.005244</td>\n",
              "      <td>0.010477</td>\n",
              "      <td>0.008856</td>\n",
              "    </tr>\n",
              "    <tr>\n",
              "      <th>2020-12-31</th>\n",
              "      <td>0.001403</td>\n",
              "      <td>0.001053</td>\n",
              "      <td>0.002988</td>\n",
              "    </tr>\n",
              "  </tbody>\n",
              "</table>\n",
              "<p>10435 rows × 3 columns</p>\n",
              "</div>\n",
              "      <button class=\"colab-df-convert\" onclick=\"convertToInteractive('df-c3338608-d494-4218-921c-6bb3d1e38513')\"\n",
              "              title=\"Convert this dataframe to an interactive table.\"\n",
              "              style=\"display:none;\">\n",
              "        \n",
              "  <svg xmlns=\"http://www.w3.org/2000/svg\" height=\"24px\"viewBox=\"0 0 24 24\"\n",
              "       width=\"24px\">\n",
              "    <path d=\"M0 0h24v24H0V0z\" fill=\"none\"/>\n",
              "    <path d=\"M18.56 5.44l.94 2.06.94-2.06 2.06-.94-2.06-.94-.94-2.06-.94 2.06-2.06.94zm-11 1L8.5 8.5l.94-2.06 2.06-.94-2.06-.94L8.5 2.5l-.94 2.06-2.06.94zm10 10l.94 2.06.94-2.06 2.06-.94-2.06-.94-.94-2.06-.94 2.06-2.06.94z\"/><path d=\"M17.41 7.96l-1.37-1.37c-.4-.4-.92-.59-1.43-.59-.52 0-1.04.2-1.43.59L10.3 9.45l-7.72 7.72c-.78.78-.78 2.05 0 2.83L4 21.41c.39.39.9.59 1.41.59.51 0 1.02-.2 1.41-.59l7.78-7.78 2.81-2.81c.8-.78.8-2.07 0-2.86zM5.41 20L4 18.59l7.72-7.72 1.47 1.35L5.41 20z\"/>\n",
              "  </svg>\n",
              "      </button>\n",
              "      \n",
              "  <style>\n",
              "    .colab-df-container {\n",
              "      display:flex;\n",
              "      flex-wrap:wrap;\n",
              "      gap: 12px;\n",
              "    }\n",
              "\n",
              "    .colab-df-convert {\n",
              "      background-color: #E8F0FE;\n",
              "      border: none;\n",
              "      border-radius: 50%;\n",
              "      cursor: pointer;\n",
              "      display: none;\n",
              "      fill: #1967D2;\n",
              "      height: 32px;\n",
              "      padding: 0 0 0 0;\n",
              "      width: 32px;\n",
              "    }\n",
              "\n",
              "    .colab-df-convert:hover {\n",
              "      background-color: #E2EBFA;\n",
              "      box-shadow: 0px 1px 2px rgba(60, 64, 67, 0.3), 0px 1px 3px 1px rgba(60, 64, 67, 0.15);\n",
              "      fill: #174EA6;\n",
              "    }\n",
              "\n",
              "    [theme=dark] .colab-df-convert {\n",
              "      background-color: #3B4455;\n",
              "      fill: #D2E3FC;\n",
              "    }\n",
              "\n",
              "    [theme=dark] .colab-df-convert:hover {\n",
              "      background-color: #434B5C;\n",
              "      box-shadow: 0px 1px 3px 1px rgba(0, 0, 0, 0.15);\n",
              "      filter: drop-shadow(0px 1px 2px rgba(0, 0, 0, 0.3));\n",
              "      fill: #FFFFFF;\n",
              "    }\n",
              "  </style>\n",
              "\n",
              "      <script>\n",
              "        const buttonEl =\n",
              "          document.querySelector('#df-c3338608-d494-4218-921c-6bb3d1e38513 button.colab-df-convert');\n",
              "        buttonEl.style.display =\n",
              "          google.colab.kernel.accessAllowed ? 'block' : 'none';\n",
              "\n",
              "        async function convertToInteractive(key) {\n",
              "          const element = document.querySelector('#df-c3338608-d494-4218-921c-6bb3d1e38513');\n",
              "          const dataTable =\n",
              "            await google.colab.kernel.invokeFunction('convertToInteractive',\n",
              "                                                     [key], {});\n",
              "          if (!dataTable) return;\n",
              "\n",
              "          const docLinkHtml = 'Like what you see? Visit the ' +\n",
              "            '<a target=\"_blank\" href=https://colab.research.google.com/notebooks/data_table.ipynb>data table notebook</a>'\n",
              "            + ' to learn more about interactive tables.';\n",
              "          element.innerHTML = '';\n",
              "          dataTable['output_type'] = 'display_data';\n",
              "          await google.colab.output.renderOutput(dataTable, element);\n",
              "          const docLink = document.createElement('div');\n",
              "          docLink.innerHTML = docLinkHtml;\n",
              "          element.appendChild(docLink);\n",
              "        }\n",
              "      </script>\n",
              "    </div>\n",
              "  </div>\n",
              "  "
            ],
            "text/plain": [
              "            cad_rolling_linear_residue  aud_rolling_linear_residue  \\\n",
              "1981-01-02                   -0.000221                   -0.000959   \n",
              "1981-01-05                    0.005142                    0.003863   \n",
              "1981-01-06                    0.000374                    0.003681   \n",
              "1981-01-07                    0.000255                    0.000058   \n",
              "1981-01-08                    0.000018                   -0.002047   \n",
              "...                                ...                         ...   \n",
              "2020-12-25                   -0.000126                    0.001068   \n",
              "2020-12-28                    0.001416                   -0.003410   \n",
              "2020-12-29                    0.002184                    0.003571   \n",
              "2020-12-30                    0.005244                    0.010477   \n",
              "2020-12-31                    0.001403                    0.001053   \n",
              "\n",
              "            gbp_rolling_linear_residue  \n",
              "1981-01-02                   -0.002864  \n",
              "1981-01-05                    0.014132  \n",
              "1981-01-06                    0.002493  \n",
              "1981-01-07                   -0.004580  \n",
              "1981-01-08                   -0.003102  \n",
              "...                                ...  \n",
              "2020-12-25                   -0.000024  \n",
              "2020-12-28                   -0.008017  \n",
              "2020-12-29                    0.004029  \n",
              "2020-12-30                    0.008856  \n",
              "2020-12-31                    0.002988  \n",
              "\n",
              "[10435 rows x 3 columns]"
            ]
          },
          "metadata": {},
          "execution_count": 46
        }
      ],
      "source": [
        "rolling_residue = pd.read_csv('./rolling_linear_residue.csv', index_col=0)\n",
        "rolling_residue = rolling_residue.astype('float64')\n",
        "rolling_residue.index = pd.to_datetime(rolling_residue.index)\n",
        "\n",
        "cad_rolling_residue = rolling_residue.iloc[:,0]\n",
        "aud_rolling_residue = rolling_residue.iloc[:,1]\n",
        "gbp_rolling_residue = rolling_residue.iloc[:,2]\n",
        "\n",
        "rolling_residue"
      ]
    },
    {
      "cell_type": "markdown",
      "metadata": {
        "id": "Lxgm5U3Wp4B6"
      },
      "source": [
        "### LSTM"
      ]
    },
    {
      "cell_type": "code",
      "execution_count": 47,
      "metadata": {
        "id": "ooUo1WT7p4B6"
      },
      "outputs": [],
      "source": [
        "model_type = LSTM"
      ]
    },
    {
      "cell_type": "markdown",
      "metadata": {
        "id": "773Ll5Sgp4B6"
      },
      "source": [
        "#### cad"
      ]
    },
    {
      "cell_type": "code",
      "execution_count": 48,
      "metadata": {
        "colab": {
          "base_uri": "https://localhost:8080/"
        },
        "id": "ONojzoMTp4B6",
        "outputId": "4d7783e4-ee75-461d-8337-474a4c458d1f"
      },
      "outputs": [
        {
          "output_type": "execute_result",
          "data": {
            "text/plain": [
              "1981-01-02   -0.000018\n",
              "1981-01-05   -0.000018\n",
              "1981-01-06   -0.000018\n",
              "1981-01-07   -0.000018\n",
              "1981-01-08   -0.000018\n",
              "                ...   \n",
              "2020-12-25   -0.000002\n",
              "2020-12-28   -0.000002\n",
              "2020-12-29   -0.000002\n",
              "2020-12-30   -0.000002\n",
              "2020-12-31   -0.000001\n",
              "Name: cad_rolling_linear_prediction, Length: 10435, dtype: float64"
            ]
          },
          "metadata": {},
          "execution_count": 48
        }
      ],
      "source": [
        "cad_rolling_linear"
      ]
    },
    {
      "cell_type": "code",
      "execution_count": 49,
      "metadata": {
        "colab": {
          "base_uri": "https://localhost:8080/"
        },
        "id": "RsCB-C2Wp4B6",
        "outputId": "e3528432-b0f7-4c8c-da6d-85c340563a1d"
      },
      "outputs": [
        {
          "output_type": "execute_result",
          "data": {
            "text/plain": [
              "1981-01-02   -0.000221\n",
              "1981-01-05    0.005142\n",
              "1981-01-06    0.000374\n",
              "1981-01-07    0.000255\n",
              "1981-01-08    0.000018\n",
              "                ...   \n",
              "2020-12-25   -0.000126\n",
              "2020-12-28    0.001416\n",
              "2020-12-29    0.002184\n",
              "2020-12-30    0.005244\n",
              "2020-12-31    0.001403\n",
              "Name: cad_rolling_linear_residue, Length: 10435, dtype: float64"
            ]
          },
          "metadata": {},
          "execution_count": 49
        }
      ],
      "source": [
        "cad_rolling_residue"
      ]
    },
    {
      "cell_type": "code",
      "execution_count": 50,
      "metadata": {
        "id": "QA2CSBqsp4B6"
      },
      "outputs": [],
      "source": [
        "# optim hyperparameters obtained by grid search\n",
        "length_input_sequence = 5\n",
        "num_hidden_layers = 2\n",
        "num_hidden_sizes = 1600\n",
        "batch_sizes = 16\n",
        "num_epochs = 5"
      ]
    },
    {
      "cell_type": "code",
      "execution_count": 51,
      "metadata": {
        "id": "rbb7l-3Ep4B6"
      },
      "outputs": [],
      "source": [
        "cad_rolling_LSTM_pred = prediction_on_testset(model_type, cad_rolling_linear, cad_rolling_residue, length_input_sequence, num_hidden_layers, num_hidden_sizes, batch_sizes, num_epochs)"
      ]
    },
    {
      "cell_type": "markdown",
      "metadata": {
        "id": "lwNN_BSGp4B6"
      },
      "source": [
        "#### aud"
      ]
    },
    {
      "cell_type": "code",
      "execution_count": 52,
      "metadata": {
        "colab": {
          "base_uri": "https://localhost:8080/"
        },
        "id": "7kOwxEZzp4B6",
        "outputId": "7b165f75-5e4d-4b98-f82a-dff52cc5f94a"
      },
      "outputs": [
        {
          "output_type": "execute_result",
          "data": {
            "text/plain": [
              "1981-01-02   -0.000058\n",
              "1981-01-05   -0.000058\n",
              "1981-01-06   -0.000058\n",
              "1981-01-07   -0.000058\n",
              "1981-01-08   -0.000058\n",
              "                ...   \n",
              "2020-12-25   -0.000015\n",
              "2020-12-28   -0.000014\n",
              "2020-12-29   -0.000014\n",
              "2020-12-30   -0.000014\n",
              "2020-12-31   -0.000013\n",
              "Name: aud_rolling_linear_prediction, Length: 10435, dtype: float64"
            ]
          },
          "metadata": {},
          "execution_count": 52
        }
      ],
      "source": [
        "aud_rolling_linear"
      ]
    },
    {
      "cell_type": "code",
      "execution_count": 53,
      "metadata": {
        "colab": {
          "base_uri": "https://localhost:8080/"
        },
        "id": "1hfMKFVip4B6",
        "outputId": "0d41b1bd-3ceb-4120-ec8e-1a9821411475"
      },
      "outputs": [
        {
          "output_type": "execute_result",
          "data": {
            "text/plain": [
              "1981-01-02   -0.000959\n",
              "1981-01-05    0.003863\n",
              "1981-01-06    0.003681\n",
              "1981-01-07    0.000058\n",
              "1981-01-08   -0.002047\n",
              "                ...   \n",
              "2020-12-25    0.001068\n",
              "2020-12-28   -0.003410\n",
              "2020-12-29    0.003571\n",
              "2020-12-30    0.010477\n",
              "2020-12-31    0.001053\n",
              "Name: aud_rolling_linear_residue, Length: 10435, dtype: float64"
            ]
          },
          "metadata": {},
          "execution_count": 53
        }
      ],
      "source": [
        "aud_rolling_residue"
      ]
    },
    {
      "cell_type": "code",
      "execution_count": 54,
      "metadata": {
        "id": "RKm8MMxcp4B6"
      },
      "outputs": [],
      "source": [
        "# optim hyperparameters obtained by grid search\n",
        "length_input_sequence = 5\n",
        "num_hidden_layers = 2\n",
        "num_hidden_sizes = 1600\n",
        "batch_sizes = 256\n",
        "num_epochs = 25"
      ]
    },
    {
      "cell_type": "code",
      "execution_count": 55,
      "metadata": {
        "id": "v4s9uKWkp4B7"
      },
      "outputs": [],
      "source": [
        "aud_rolling_LSTM_pred = prediction_on_testset(model_type, aud_rolling_linear, aud_rolling_residue, length_input_sequence, num_hidden_layers, num_hidden_sizes, batch_sizes, num_epochs)"
      ]
    },
    {
      "cell_type": "markdown",
      "metadata": {
        "id": "3hNsiBx3p4B7"
      },
      "source": [
        "#### gbp"
      ]
    },
    {
      "cell_type": "code",
      "execution_count": 56,
      "metadata": {
        "colab": {
          "base_uri": "https://localhost:8080/"
        },
        "id": "izseD1wcp4B7",
        "outputId": "eb2f7339-5bc5-4d5a-9d53-a3a0c728e0fa"
      },
      "outputs": [
        {
          "output_type": "execute_result",
          "data": {
            "text/plain": [
              "1981-01-02   -0.000071\n",
              "1981-01-05   -0.000167\n",
              "1981-01-06    0.000401\n",
              "1981-01-07    0.000029\n",
              "1981-01-08   -0.000221\n",
              "                ...   \n",
              "2020-12-25    0.000171\n",
              "2020-12-28    0.000020\n",
              "2020-12-29   -0.000245\n",
              "2020-12-30    0.000138\n",
              "2020-12-31    0.000309\n",
              "Name: gbp_rolling_linear_prediction, Length: 10435, dtype: float64"
            ]
          },
          "metadata": {},
          "execution_count": 56
        }
      ],
      "source": [
        "gbp_rolling_linear"
      ]
    },
    {
      "cell_type": "code",
      "execution_count": 57,
      "metadata": {
        "colab": {
          "base_uri": "https://localhost:8080/"
        },
        "id": "P5Cb00Jtp4B7",
        "outputId": "3464c2c8-a6f0-4e17-b70d-c96c27530577"
      },
      "outputs": [
        {
          "output_type": "execute_result",
          "data": {
            "text/plain": [
              "1981-01-02   -0.002864\n",
              "1981-01-05    0.014132\n",
              "1981-01-06    0.002493\n",
              "1981-01-07   -0.004580\n",
              "1981-01-08   -0.003102\n",
              "                ...   \n",
              "2020-12-25   -0.000024\n",
              "2020-12-28   -0.008017\n",
              "2020-12-29    0.004029\n",
              "2020-12-30    0.008856\n",
              "2020-12-31    0.002988\n",
              "Name: gbp_rolling_linear_residue, Length: 10435, dtype: float64"
            ]
          },
          "metadata": {},
          "execution_count": 57
        }
      ],
      "source": [
        "gbp_rolling_residue"
      ]
    },
    {
      "cell_type": "code",
      "execution_count": 58,
      "metadata": {
        "id": "373EYKymp4B7"
      },
      "outputs": [],
      "source": [
        "# optim hyperparameters obtained by grid search\n",
        "length_input_sequence = 5\n",
        "num_hidden_layers = 2\n",
        "num_hidden_sizes = 25\n",
        "batch_sizes = 256\n",
        "num_epochs = 5"
      ]
    },
    {
      "cell_type": "code",
      "execution_count": 59,
      "metadata": {
        "id": "ENzy-bQup4B7"
      },
      "outputs": [],
      "source": [
        "gbp_rolling_LSTM_pred = prediction_on_testset(model_type, gbp_rolling_linear, gbp_rolling_residue, length_input_sequence, num_hidden_layers, num_hidden_sizes, batch_sizes, num_epochs)"
      ]
    },
    {
      "cell_type": "markdown",
      "metadata": {
        "id": "GVh5Qz4Np4B7"
      },
      "source": [
        "### Self-Attention"
      ]
    },
    {
      "cell_type": "code",
      "execution_count": 60,
      "metadata": {
        "id": "JdHwLOPCp4B7"
      },
      "outputs": [],
      "source": [
        "model_type = Self_Attention"
      ]
    },
    {
      "cell_type": "markdown",
      "metadata": {
        "id": "VT7lpU3-p4B7"
      },
      "source": [
        "#### cad"
      ]
    },
    {
      "cell_type": "code",
      "execution_count": 61,
      "metadata": {
        "colab": {
          "base_uri": "https://localhost:8080/"
        },
        "id": "5JkU3TWVp4B7",
        "outputId": "e7ac206b-ef19-4e11-86c1-615506926647"
      },
      "outputs": [
        {
          "output_type": "execute_result",
          "data": {
            "text/plain": [
              "1981-01-02   -0.000018\n",
              "1981-01-05   -0.000018\n",
              "1981-01-06   -0.000018\n",
              "1981-01-07   -0.000018\n",
              "1981-01-08   -0.000018\n",
              "                ...   \n",
              "2020-12-25   -0.000002\n",
              "2020-12-28   -0.000002\n",
              "2020-12-29   -0.000002\n",
              "2020-12-30   -0.000002\n",
              "2020-12-31   -0.000001\n",
              "Name: cad_rolling_linear_prediction, Length: 10435, dtype: float64"
            ]
          },
          "metadata": {},
          "execution_count": 61
        }
      ],
      "source": [
        "cad_rolling_linear"
      ]
    },
    {
      "cell_type": "code",
      "execution_count": 62,
      "metadata": {
        "colab": {
          "base_uri": "https://localhost:8080/"
        },
        "id": "utWyfZNOp4B7",
        "outputId": "ce85236d-0e87-4c9d-a0ee-185151be13c9"
      },
      "outputs": [
        {
          "output_type": "execute_result",
          "data": {
            "text/plain": [
              "1981-01-02   -0.000221\n",
              "1981-01-05    0.005142\n",
              "1981-01-06    0.000374\n",
              "1981-01-07    0.000255\n",
              "1981-01-08    0.000018\n",
              "                ...   \n",
              "2020-12-25   -0.000126\n",
              "2020-12-28    0.001416\n",
              "2020-12-29    0.002184\n",
              "2020-12-30    0.005244\n",
              "2020-12-31    0.001403\n",
              "Name: cad_rolling_linear_residue, Length: 10435, dtype: float64"
            ]
          },
          "metadata": {},
          "execution_count": 62
        }
      ],
      "source": [
        "cad_rolling_residue"
      ]
    },
    {
      "cell_type": "code",
      "execution_count": 63,
      "metadata": {
        "id": "Ae_wUqarp4B7"
      },
      "outputs": [],
      "source": [
        "# optim hyperparameters obtained by grid search\n",
        "length_input_sequence = 5\n",
        "num_hidden_layers = 1\n",
        "num_hidden_sizes = 200\n",
        "batch_sizes = 256\n",
        "num_epochs = 15"
      ]
    },
    {
      "cell_type": "code",
      "execution_count": 64,
      "metadata": {
        "id": "PcU4kZaXp4B7"
      },
      "outputs": [],
      "source": [
        "cad_rolling_Self_Attention_pred = prediction_on_testset(model_type, cad_rolling_linear, cad_rolling_residue, length_input_sequence, num_hidden_layers, num_hidden_sizes, batch_sizes, num_epochs)"
      ]
    },
    {
      "cell_type": "markdown",
      "metadata": {
        "id": "SWzy2wfFp4B7"
      },
      "source": [
        "#### aud"
      ]
    },
    {
      "cell_type": "code",
      "execution_count": 65,
      "metadata": {
        "colab": {
          "base_uri": "https://localhost:8080/"
        },
        "id": "Fvtxwjafp4B7",
        "outputId": "b85a7bee-a6e6-4ecf-8b73-a813ee12351b"
      },
      "outputs": [
        {
          "output_type": "execute_result",
          "data": {
            "text/plain": [
              "1981-01-02   -0.000058\n",
              "1981-01-05   -0.000058\n",
              "1981-01-06   -0.000058\n",
              "1981-01-07   -0.000058\n",
              "1981-01-08   -0.000058\n",
              "                ...   \n",
              "2020-12-25   -0.000015\n",
              "2020-12-28   -0.000014\n",
              "2020-12-29   -0.000014\n",
              "2020-12-30   -0.000014\n",
              "2020-12-31   -0.000013\n",
              "Name: aud_rolling_linear_prediction, Length: 10435, dtype: float64"
            ]
          },
          "metadata": {},
          "execution_count": 65
        }
      ],
      "source": [
        "aud_rolling_linear"
      ]
    },
    {
      "cell_type": "code",
      "execution_count": 66,
      "metadata": {
        "colab": {
          "base_uri": "https://localhost:8080/"
        },
        "id": "kGxMxzoHp4B7",
        "outputId": "f8a252a0-a0f8-464d-a17a-e78a2986e1db"
      },
      "outputs": [
        {
          "output_type": "execute_result",
          "data": {
            "text/plain": [
              "1981-01-02   -0.000959\n",
              "1981-01-05    0.003863\n",
              "1981-01-06    0.003681\n",
              "1981-01-07    0.000058\n",
              "1981-01-08   -0.002047\n",
              "                ...   \n",
              "2020-12-25    0.001068\n",
              "2020-12-28   -0.003410\n",
              "2020-12-29    0.003571\n",
              "2020-12-30    0.010477\n",
              "2020-12-31    0.001053\n",
              "Name: aud_rolling_linear_residue, Length: 10435, dtype: float64"
            ]
          },
          "metadata": {},
          "execution_count": 66
        }
      ],
      "source": [
        "aud_rolling_residue"
      ]
    },
    {
      "cell_type": "code",
      "execution_count": 67,
      "metadata": {
        "id": "f37rwoY3p4B8"
      },
      "outputs": [],
      "source": [
        "# optim hyperparameters obtained by grid search\n",
        "length_input_sequence = 10\n",
        "num_hidden_layers = 1\n",
        "num_hidden_sizes = 800\n",
        "batch_sizes = 16\n",
        "num_epochs = 30"
      ]
    },
    {
      "cell_type": "code",
      "execution_count": 68,
      "metadata": {
        "id": "bb3xujUop4B8"
      },
      "outputs": [],
      "source": [
        "aud_rolling_Self_Attention_pred = prediction_on_testset(model_type, aud_rolling_linear, aud_rolling_residue, length_input_sequence, num_hidden_layers, num_hidden_sizes, batch_sizes, num_epochs)"
      ]
    },
    {
      "cell_type": "markdown",
      "metadata": {
        "id": "REzp53A0p4B8"
      },
      "source": [
        "#### gbp"
      ]
    },
    {
      "cell_type": "code",
      "execution_count": 69,
      "metadata": {
        "colab": {
          "base_uri": "https://localhost:8080/"
        },
        "id": "kBG8CNNUp4B8",
        "outputId": "a7e9ff5f-0201-4cba-c0c0-90ba2548a2ab"
      },
      "outputs": [
        {
          "output_type": "execute_result",
          "data": {
            "text/plain": [
              "1981-01-02   -0.000071\n",
              "1981-01-05   -0.000167\n",
              "1981-01-06    0.000401\n",
              "1981-01-07    0.000029\n",
              "1981-01-08   -0.000221\n",
              "                ...   \n",
              "2020-12-25    0.000171\n",
              "2020-12-28    0.000020\n",
              "2020-12-29   -0.000245\n",
              "2020-12-30    0.000138\n",
              "2020-12-31    0.000309\n",
              "Name: gbp_rolling_linear_prediction, Length: 10435, dtype: float64"
            ]
          },
          "metadata": {},
          "execution_count": 69
        }
      ],
      "source": [
        "gbp_rolling_linear"
      ]
    },
    {
      "cell_type": "code",
      "execution_count": 70,
      "metadata": {
        "colab": {
          "base_uri": "https://localhost:8080/"
        },
        "id": "HTfpQVttp4B8",
        "outputId": "2e7c8790-9527-4131-a0a1-2e7c363eb6ca"
      },
      "outputs": [
        {
          "output_type": "execute_result",
          "data": {
            "text/plain": [
              "1981-01-02   -0.002864\n",
              "1981-01-05    0.014132\n",
              "1981-01-06    0.002493\n",
              "1981-01-07   -0.004580\n",
              "1981-01-08   -0.003102\n",
              "                ...   \n",
              "2020-12-25   -0.000024\n",
              "2020-12-28   -0.008017\n",
              "2020-12-29    0.004029\n",
              "2020-12-30    0.008856\n",
              "2020-12-31    0.002988\n",
              "Name: gbp_rolling_linear_residue, Length: 10435, dtype: float64"
            ]
          },
          "metadata": {},
          "execution_count": 70
        }
      ],
      "source": [
        "gbp_rolling_residue"
      ]
    },
    {
      "cell_type": "code",
      "execution_count": 71,
      "metadata": {
        "id": "mdaWhByap4B8"
      },
      "outputs": [],
      "source": [
        "# optim hyperparameters obtained by grid search\n",
        "length_input_sequence = 5\n",
        "num_hidden_layers = 1\n",
        "num_hidden_sizes = 200\n",
        "batch_sizes = 256\n",
        "num_epochs = 20"
      ]
    },
    {
      "cell_type": "code",
      "execution_count": 72,
      "metadata": {
        "id": "ZOkO9ydBp4B8"
      },
      "outputs": [],
      "source": [
        "gbp_rolling_Self_Attention_pred = prediction_on_testset(model_type, gbp_rolling_linear, gbp_rolling_residue, length_input_sequence, num_hidden_layers, num_hidden_sizes, batch_sizes, num_epochs)"
      ]
    },
    {
      "cell_type": "markdown",
      "metadata": {
        "id": "ddsvFmS_p4B8"
      },
      "source": [
        "# 輸出模型預測與比較"
      ]
    },
    {
      "cell_type": "markdown",
      "metadata": {
        "id": "Vd6hQ4u-p4B8"
      },
      "source": [
        "## 輸出模型預測"
      ]
    },
    {
      "cell_type": "code",
      "execution_count": 73,
      "metadata": {
        "colab": {
          "base_uri": "https://localhost:8080/",
          "height": 423
        },
        "id": "Amb3yJsEp4B8",
        "outputId": "7f3421d1-67bd-4f28-d23f-af7586d988c6"
      },
      "outputs": [
        {
          "output_type": "execute_result",
          "data": {
            "text/html": [
              "\n",
              "  <div id=\"df-958dbc14-459e-4fdd-9881-792d5c17e420\">\n",
              "    <div class=\"colab-df-container\">\n",
              "      <div>\n",
              "<style scoped>\n",
              "    .dataframe tbody tr th:only-of-type {\n",
              "        vertical-align: middle;\n",
              "    }\n",
              "\n",
              "    .dataframe tbody tr th {\n",
              "        vertical-align: top;\n",
              "    }\n",
              "\n",
              "    .dataframe thead th {\n",
              "        text-align: right;\n",
              "    }\n",
              "</style>\n",
              "<table border=\"1\" class=\"dataframe\">\n",
              "  <thead>\n",
              "    <tr style=\"text-align: right;\">\n",
              "      <th></th>\n",
              "      <th>cad_recursive_LSTM_pred</th>\n",
              "      <th>aud_recursive_LSTM_pred</th>\n",
              "      <th>gbp_recursive_LSTM_pred</th>\n",
              "    </tr>\n",
              "  </thead>\n",
              "  <tbody>\n",
              "    <tr>\n",
              "      <th>0</th>\n",
              "      <td>-0.000065</td>\n",
              "      <td>0.000897</td>\n",
              "      <td>-0.000205</td>\n",
              "    </tr>\n",
              "    <tr>\n",
              "      <th>1</th>\n",
              "      <td>0.000016</td>\n",
              "      <td>0.000791</td>\n",
              "      <td>-0.000549</td>\n",
              "    </tr>\n",
              "    <tr>\n",
              "      <th>2</th>\n",
              "      <td>-0.000044</td>\n",
              "      <td>0.000818</td>\n",
              "      <td>-0.000460</td>\n",
              "    </tr>\n",
              "    <tr>\n",
              "      <th>3</th>\n",
              "      <td>-0.000117</td>\n",
              "      <td>0.000821</td>\n",
              "      <td>-0.000176</td>\n",
              "    </tr>\n",
              "    <tr>\n",
              "      <th>4</th>\n",
              "      <td>-0.000008</td>\n",
              "      <td>0.000760</td>\n",
              "      <td>-0.000203</td>\n",
              "    </tr>\n",
              "    <tr>\n",
              "      <th>...</th>\n",
              "      <td>...</td>\n",
              "      <td>...</td>\n",
              "      <td>...</td>\n",
              "    </tr>\n",
              "    <tr>\n",
              "      <th>1039</th>\n",
              "      <td>0.000027</td>\n",
              "      <td>0.000976</td>\n",
              "      <td>-0.000232</td>\n",
              "    </tr>\n",
              "    <tr>\n",
              "      <th>1040</th>\n",
              "      <td>-0.000058</td>\n",
              "      <td>0.000683</td>\n",
              "      <td>-0.000402</td>\n",
              "    </tr>\n",
              "    <tr>\n",
              "      <th>1041</th>\n",
              "      <td>-0.000027</td>\n",
              "      <td>0.000869</td>\n",
              "      <td>-0.000611</td>\n",
              "    </tr>\n",
              "    <tr>\n",
              "      <th>1042</th>\n",
              "      <td>-0.000045</td>\n",
              "      <td>0.000745</td>\n",
              "      <td>-0.000250</td>\n",
              "    </tr>\n",
              "    <tr>\n",
              "      <th>1043</th>\n",
              "      <td>-0.000068</td>\n",
              "      <td>0.000846</td>\n",
              "      <td>-0.000121</td>\n",
              "    </tr>\n",
              "  </tbody>\n",
              "</table>\n",
              "<p>1044 rows × 3 columns</p>\n",
              "</div>\n",
              "      <button class=\"colab-df-convert\" onclick=\"convertToInteractive('df-958dbc14-459e-4fdd-9881-792d5c17e420')\"\n",
              "              title=\"Convert this dataframe to an interactive table.\"\n",
              "              style=\"display:none;\">\n",
              "        \n",
              "  <svg xmlns=\"http://www.w3.org/2000/svg\" height=\"24px\"viewBox=\"0 0 24 24\"\n",
              "       width=\"24px\">\n",
              "    <path d=\"M0 0h24v24H0V0z\" fill=\"none\"/>\n",
              "    <path d=\"M18.56 5.44l.94 2.06.94-2.06 2.06-.94-2.06-.94-.94-2.06-.94 2.06-2.06.94zm-11 1L8.5 8.5l.94-2.06 2.06-.94-2.06-.94L8.5 2.5l-.94 2.06-2.06.94zm10 10l.94 2.06.94-2.06 2.06-.94-2.06-.94-.94-2.06-.94 2.06-2.06.94z\"/><path d=\"M17.41 7.96l-1.37-1.37c-.4-.4-.92-.59-1.43-.59-.52 0-1.04.2-1.43.59L10.3 9.45l-7.72 7.72c-.78.78-.78 2.05 0 2.83L4 21.41c.39.39.9.59 1.41.59.51 0 1.02-.2 1.41-.59l7.78-7.78 2.81-2.81c.8-.78.8-2.07 0-2.86zM5.41 20L4 18.59l7.72-7.72 1.47 1.35L5.41 20z\"/>\n",
              "  </svg>\n",
              "      </button>\n",
              "      \n",
              "  <style>\n",
              "    .colab-df-container {\n",
              "      display:flex;\n",
              "      flex-wrap:wrap;\n",
              "      gap: 12px;\n",
              "    }\n",
              "\n",
              "    .colab-df-convert {\n",
              "      background-color: #E8F0FE;\n",
              "      border: none;\n",
              "      border-radius: 50%;\n",
              "      cursor: pointer;\n",
              "      display: none;\n",
              "      fill: #1967D2;\n",
              "      height: 32px;\n",
              "      padding: 0 0 0 0;\n",
              "      width: 32px;\n",
              "    }\n",
              "\n",
              "    .colab-df-convert:hover {\n",
              "      background-color: #E2EBFA;\n",
              "      box-shadow: 0px 1px 2px rgba(60, 64, 67, 0.3), 0px 1px 3px 1px rgba(60, 64, 67, 0.15);\n",
              "      fill: #174EA6;\n",
              "    }\n",
              "\n",
              "    [theme=dark] .colab-df-convert {\n",
              "      background-color: #3B4455;\n",
              "      fill: #D2E3FC;\n",
              "    }\n",
              "\n",
              "    [theme=dark] .colab-df-convert:hover {\n",
              "      background-color: #434B5C;\n",
              "      box-shadow: 0px 1px 3px 1px rgba(0, 0, 0, 0.15);\n",
              "      filter: drop-shadow(0px 1px 2px rgba(0, 0, 0, 0.3));\n",
              "      fill: #FFFFFF;\n",
              "    }\n",
              "  </style>\n",
              "\n",
              "      <script>\n",
              "        const buttonEl =\n",
              "          document.querySelector('#df-958dbc14-459e-4fdd-9881-792d5c17e420 button.colab-df-convert');\n",
              "        buttonEl.style.display =\n",
              "          google.colab.kernel.accessAllowed ? 'block' : 'none';\n",
              "\n",
              "        async function convertToInteractive(key) {\n",
              "          const element = document.querySelector('#df-958dbc14-459e-4fdd-9881-792d5c17e420');\n",
              "          const dataTable =\n",
              "            await google.colab.kernel.invokeFunction('convertToInteractive',\n",
              "                                                     [key], {});\n",
              "          if (!dataTable) return;\n",
              "\n",
              "          const docLinkHtml = 'Like what you see? Visit the ' +\n",
              "            '<a target=\"_blank\" href=https://colab.research.google.com/notebooks/data_table.ipynb>data table notebook</a>'\n",
              "            + ' to learn more about interactive tables.';\n",
              "          element.innerHTML = '';\n",
              "          dataTable['output_type'] = 'display_data';\n",
              "          await google.colab.output.renderOutput(dataTable, element);\n",
              "          const docLink = document.createElement('div');\n",
              "          docLink.innerHTML = docLinkHtml;\n",
              "          element.appendChild(docLink);\n",
              "        }\n",
              "      </script>\n",
              "    </div>\n",
              "  </div>\n",
              "  "
            ],
            "text/plain": [
              "      cad_recursive_LSTM_pred  aud_recursive_LSTM_pred  \\\n",
              "0                   -0.000065                 0.000897   \n",
              "1                    0.000016                 0.000791   \n",
              "2                   -0.000044                 0.000818   \n",
              "3                   -0.000117                 0.000821   \n",
              "4                   -0.000008                 0.000760   \n",
              "...                       ...                      ...   \n",
              "1039                 0.000027                 0.000976   \n",
              "1040                -0.000058                 0.000683   \n",
              "1041                -0.000027                 0.000869   \n",
              "1042                -0.000045                 0.000745   \n",
              "1043                -0.000068                 0.000846   \n",
              "\n",
              "      gbp_recursive_LSTM_pred  \n",
              "0                   -0.000205  \n",
              "1                   -0.000549  \n",
              "2                   -0.000460  \n",
              "3                   -0.000176  \n",
              "4                   -0.000203  \n",
              "...                       ...  \n",
              "1039                -0.000232  \n",
              "1040                -0.000402  \n",
              "1041                -0.000611  \n",
              "1042                -0.000250  \n",
              "1043                -0.000121  \n",
              "\n",
              "[1044 rows x 3 columns]"
            ]
          },
          "metadata": {},
          "execution_count": 73
        }
      ],
      "source": [
        "LSTM_recursive_prediction = pd.DataFrame(np.column_stack((cad_recursive_LSTM_pred, aud_recursive_LSTM_pred, gbp_recursive_LSTM_pred)))\n",
        "LSTM_recursive_prediction.columns = ['cad_recursive_LSTM_pred', 'aud_recursive_LSTM_pred', 'gbp_recursive_LSTM_pred']\n",
        "LSTM_recursive_prediction.to_csv('./LSTM_recursive_prediction.csv')\n",
        "LSTM_recursive_prediction"
      ]
    },
    {
      "cell_type": "code",
      "execution_count": 74,
      "metadata": {
        "colab": {
          "base_uri": "https://localhost:8080/",
          "height": 423
        },
        "id": "Phs_Qbcgp4B8",
        "outputId": "60f719be-6c9c-43d4-be1d-c8bdbae24e99"
      },
      "outputs": [
        {
          "output_type": "execute_result",
          "data": {
            "text/html": [
              "\n",
              "  <div id=\"df-42ac416e-a0ad-492d-9f6d-ca7a842e3d5b\">\n",
              "    <div class=\"colab-df-container\">\n",
              "      <div>\n",
              "<style scoped>\n",
              "    .dataframe tbody tr th:only-of-type {\n",
              "        vertical-align: middle;\n",
              "    }\n",
              "\n",
              "    .dataframe tbody tr th {\n",
              "        vertical-align: top;\n",
              "    }\n",
              "\n",
              "    .dataframe thead th {\n",
              "        text-align: right;\n",
              "    }\n",
              "</style>\n",
              "<table border=\"1\" class=\"dataframe\">\n",
              "  <thead>\n",
              "    <tr style=\"text-align: right;\">\n",
              "      <th></th>\n",
              "      <th>cad_rolling_LSTM_pred</th>\n",
              "      <th>aud_rolling_LSTM_pred</th>\n",
              "      <th>gbp_rolling_LSTM_pred</th>\n",
              "    </tr>\n",
              "  </thead>\n",
              "  <tbody>\n",
              "    <tr>\n",
              "      <th>0</th>\n",
              "      <td>-0.000065</td>\n",
              "      <td>0.001197</td>\n",
              "      <td>-0.000205</td>\n",
              "    </tr>\n",
              "    <tr>\n",
              "      <th>1</th>\n",
              "      <td>0.000016</td>\n",
              "      <td>0.001142</td>\n",
              "      <td>-0.000549</td>\n",
              "    </tr>\n",
              "    <tr>\n",
              "      <th>2</th>\n",
              "      <td>-0.000045</td>\n",
              "      <td>0.001312</td>\n",
              "      <td>-0.000462</td>\n",
              "    </tr>\n",
              "    <tr>\n",
              "      <th>3</th>\n",
              "      <td>-0.000117</td>\n",
              "      <td>0.001169</td>\n",
              "      <td>-0.000177</td>\n",
              "    </tr>\n",
              "    <tr>\n",
              "      <th>4</th>\n",
              "      <td>-0.000008</td>\n",
              "      <td>0.001096</td>\n",
              "      <td>-0.000204</td>\n",
              "    </tr>\n",
              "    <tr>\n",
              "      <th>...</th>\n",
              "      <td>...</td>\n",
              "      <td>...</td>\n",
              "      <td>...</td>\n",
              "    </tr>\n",
              "    <tr>\n",
              "      <th>1039</th>\n",
              "      <td>0.000036</td>\n",
              "      <td>0.001275</td>\n",
              "      <td>-0.000168</td>\n",
              "    </tr>\n",
              "    <tr>\n",
              "      <th>1040</th>\n",
              "      <td>-0.000048</td>\n",
              "      <td>0.001076</td>\n",
              "      <td>-0.000332</td>\n",
              "    </tr>\n",
              "    <tr>\n",
              "      <th>1041</th>\n",
              "      <td>-0.000017</td>\n",
              "      <td>0.001384</td>\n",
              "      <td>-0.000531</td>\n",
              "    </tr>\n",
              "    <tr>\n",
              "      <th>1042</th>\n",
              "      <td>-0.000035</td>\n",
              "      <td>0.001236</td>\n",
              "      <td>-0.000184</td>\n",
              "    </tr>\n",
              "    <tr>\n",
              "      <th>1043</th>\n",
              "      <td>-0.000058</td>\n",
              "      <td>0.001268</td>\n",
              "      <td>-0.000061</td>\n",
              "    </tr>\n",
              "  </tbody>\n",
              "</table>\n",
              "<p>1044 rows × 3 columns</p>\n",
              "</div>\n",
              "      <button class=\"colab-df-convert\" onclick=\"convertToInteractive('df-42ac416e-a0ad-492d-9f6d-ca7a842e3d5b')\"\n",
              "              title=\"Convert this dataframe to an interactive table.\"\n",
              "              style=\"display:none;\">\n",
              "        \n",
              "  <svg xmlns=\"http://www.w3.org/2000/svg\" height=\"24px\"viewBox=\"0 0 24 24\"\n",
              "       width=\"24px\">\n",
              "    <path d=\"M0 0h24v24H0V0z\" fill=\"none\"/>\n",
              "    <path d=\"M18.56 5.44l.94 2.06.94-2.06 2.06-.94-2.06-.94-.94-2.06-.94 2.06-2.06.94zm-11 1L8.5 8.5l.94-2.06 2.06-.94-2.06-.94L8.5 2.5l-.94 2.06-2.06.94zm10 10l.94 2.06.94-2.06 2.06-.94-2.06-.94-.94-2.06-.94 2.06-2.06.94z\"/><path d=\"M17.41 7.96l-1.37-1.37c-.4-.4-.92-.59-1.43-.59-.52 0-1.04.2-1.43.59L10.3 9.45l-7.72 7.72c-.78.78-.78 2.05 0 2.83L4 21.41c.39.39.9.59 1.41.59.51 0 1.02-.2 1.41-.59l7.78-7.78 2.81-2.81c.8-.78.8-2.07 0-2.86zM5.41 20L4 18.59l7.72-7.72 1.47 1.35L5.41 20z\"/>\n",
              "  </svg>\n",
              "      </button>\n",
              "      \n",
              "  <style>\n",
              "    .colab-df-container {\n",
              "      display:flex;\n",
              "      flex-wrap:wrap;\n",
              "      gap: 12px;\n",
              "    }\n",
              "\n",
              "    .colab-df-convert {\n",
              "      background-color: #E8F0FE;\n",
              "      border: none;\n",
              "      border-radius: 50%;\n",
              "      cursor: pointer;\n",
              "      display: none;\n",
              "      fill: #1967D2;\n",
              "      height: 32px;\n",
              "      padding: 0 0 0 0;\n",
              "      width: 32px;\n",
              "    }\n",
              "\n",
              "    .colab-df-convert:hover {\n",
              "      background-color: #E2EBFA;\n",
              "      box-shadow: 0px 1px 2px rgba(60, 64, 67, 0.3), 0px 1px 3px 1px rgba(60, 64, 67, 0.15);\n",
              "      fill: #174EA6;\n",
              "    }\n",
              "\n",
              "    [theme=dark] .colab-df-convert {\n",
              "      background-color: #3B4455;\n",
              "      fill: #D2E3FC;\n",
              "    }\n",
              "\n",
              "    [theme=dark] .colab-df-convert:hover {\n",
              "      background-color: #434B5C;\n",
              "      box-shadow: 0px 1px 3px 1px rgba(0, 0, 0, 0.15);\n",
              "      filter: drop-shadow(0px 1px 2px rgba(0, 0, 0, 0.3));\n",
              "      fill: #FFFFFF;\n",
              "    }\n",
              "  </style>\n",
              "\n",
              "      <script>\n",
              "        const buttonEl =\n",
              "          document.querySelector('#df-42ac416e-a0ad-492d-9f6d-ca7a842e3d5b button.colab-df-convert');\n",
              "        buttonEl.style.display =\n",
              "          google.colab.kernel.accessAllowed ? 'block' : 'none';\n",
              "\n",
              "        async function convertToInteractive(key) {\n",
              "          const element = document.querySelector('#df-42ac416e-a0ad-492d-9f6d-ca7a842e3d5b');\n",
              "          const dataTable =\n",
              "            await google.colab.kernel.invokeFunction('convertToInteractive',\n",
              "                                                     [key], {});\n",
              "          if (!dataTable) return;\n",
              "\n",
              "          const docLinkHtml = 'Like what you see? Visit the ' +\n",
              "            '<a target=\"_blank\" href=https://colab.research.google.com/notebooks/data_table.ipynb>data table notebook</a>'\n",
              "            + ' to learn more about interactive tables.';\n",
              "          element.innerHTML = '';\n",
              "          dataTable['output_type'] = 'display_data';\n",
              "          await google.colab.output.renderOutput(dataTable, element);\n",
              "          const docLink = document.createElement('div');\n",
              "          docLink.innerHTML = docLinkHtml;\n",
              "          element.appendChild(docLink);\n",
              "        }\n",
              "      </script>\n",
              "    </div>\n",
              "  </div>\n",
              "  "
            ],
            "text/plain": [
              "      cad_rolling_LSTM_pred  aud_rolling_LSTM_pred  gbp_rolling_LSTM_pred\n",
              "0                 -0.000065               0.001197              -0.000205\n",
              "1                  0.000016               0.001142              -0.000549\n",
              "2                 -0.000045               0.001312              -0.000462\n",
              "3                 -0.000117               0.001169              -0.000177\n",
              "4                 -0.000008               0.001096              -0.000204\n",
              "...                     ...                    ...                    ...\n",
              "1039               0.000036               0.001275              -0.000168\n",
              "1040              -0.000048               0.001076              -0.000332\n",
              "1041              -0.000017               0.001384              -0.000531\n",
              "1042              -0.000035               0.001236              -0.000184\n",
              "1043              -0.000058               0.001268              -0.000061\n",
              "\n",
              "[1044 rows x 3 columns]"
            ]
          },
          "metadata": {},
          "execution_count": 74
        }
      ],
      "source": [
        "LSTM_rolling_prediction = pd.DataFrame(np.column_stack((cad_rolling_LSTM_pred, aud_rolling_LSTM_pred, gbp_rolling_LSTM_pred)))\n",
        "LSTM_rolling_prediction.columns = ['cad_rolling_LSTM_pred', 'aud_rolling_LSTM_pred', 'gbp_rolling_LSTM_pred']\n",
        "LSTM_rolling_prediction.to_csv('./LSTM_rolling_prediction.csv')\n",
        "LSTM_rolling_prediction"
      ]
    },
    {
      "cell_type": "code",
      "execution_count": 75,
      "metadata": {
        "colab": {
          "base_uri": "https://localhost:8080/",
          "height": 423
        },
        "id": "uX5aVIhop4B8",
        "outputId": "486a0d88-d1ee-40dd-e9bd-a2b1d3b642b5"
      },
      "outputs": [
        {
          "output_type": "execute_result",
          "data": {
            "text/html": [
              "\n",
              "  <div id=\"df-88d06e21-72d4-41fa-9842-11ea3f29d84f\">\n",
              "    <div class=\"colab-df-container\">\n",
              "      <div>\n",
              "<style scoped>\n",
              "    .dataframe tbody tr th:only-of-type {\n",
              "        vertical-align: middle;\n",
              "    }\n",
              "\n",
              "    .dataframe tbody tr th {\n",
              "        vertical-align: top;\n",
              "    }\n",
              "\n",
              "    .dataframe thead th {\n",
              "        text-align: right;\n",
              "    }\n",
              "</style>\n",
              "<table border=\"1\" class=\"dataframe\">\n",
              "  <thead>\n",
              "    <tr style=\"text-align: right;\">\n",
              "      <th></th>\n",
              "      <th>cad_recursive_Self_Attention_pred</th>\n",
              "      <th>aud_recursive_Self_Attention_pred</th>\n",
              "      <th>gbp_recursive_Self_Attention_pred</th>\n",
              "    </tr>\n",
              "  </thead>\n",
              "  <tbody>\n",
              "    <tr>\n",
              "      <th>0</th>\n",
              "      <td>0.000123</td>\n",
              "      <td>-0.001629</td>\n",
              "      <td>-0.000229</td>\n",
              "    </tr>\n",
              "    <tr>\n",
              "      <th>1</th>\n",
              "      <td>0.000154</td>\n",
              "      <td>-0.001620</td>\n",
              "      <td>-0.000563</td>\n",
              "    </tr>\n",
              "    <tr>\n",
              "      <th>2</th>\n",
              "      <td>0.000076</td>\n",
              "      <td>-0.001619</td>\n",
              "      <td>-0.000485</td>\n",
              "    </tr>\n",
              "    <tr>\n",
              "      <th>3</th>\n",
              "      <td>-0.000028</td>\n",
              "      <td>-0.001618</td>\n",
              "      <td>-0.000241</td>\n",
              "    </tr>\n",
              "    <tr>\n",
              "      <th>4</th>\n",
              "      <td>-0.000047</td>\n",
              "      <td>-0.001618</td>\n",
              "      <td>-0.000258</td>\n",
              "    </tr>\n",
              "    <tr>\n",
              "      <th>...</th>\n",
              "      <td>...</td>\n",
              "      <td>...</td>\n",
              "      <td>...</td>\n",
              "    </tr>\n",
              "    <tr>\n",
              "      <th>1039</th>\n",
              "      <td>0.000366</td>\n",
              "      <td>-0.001620</td>\n",
              "      <td>-0.000203</td>\n",
              "    </tr>\n",
              "    <tr>\n",
              "      <th>1040</th>\n",
              "      <td>0.000302</td>\n",
              "      <td>-0.001620</td>\n",
              "      <td>-0.000405</td>\n",
              "    </tr>\n",
              "    <tr>\n",
              "      <th>1041</th>\n",
              "      <td>0.000212</td>\n",
              "      <td>-0.001621</td>\n",
              "      <td>-0.000644</td>\n",
              "    </tr>\n",
              "    <tr>\n",
              "      <th>1042</th>\n",
              "      <td>0.000135</td>\n",
              "      <td>-0.001620</td>\n",
              "      <td>-0.000358</td>\n",
              "    </tr>\n",
              "    <tr>\n",
              "      <th>1043</th>\n",
              "      <td>0.000131</td>\n",
              "      <td>-0.001619</td>\n",
              "      <td>-0.000169</td>\n",
              "    </tr>\n",
              "  </tbody>\n",
              "</table>\n",
              "<p>1044 rows × 3 columns</p>\n",
              "</div>\n",
              "      <button class=\"colab-df-convert\" onclick=\"convertToInteractive('df-88d06e21-72d4-41fa-9842-11ea3f29d84f')\"\n",
              "              title=\"Convert this dataframe to an interactive table.\"\n",
              "              style=\"display:none;\">\n",
              "        \n",
              "  <svg xmlns=\"http://www.w3.org/2000/svg\" height=\"24px\"viewBox=\"0 0 24 24\"\n",
              "       width=\"24px\">\n",
              "    <path d=\"M0 0h24v24H0V0z\" fill=\"none\"/>\n",
              "    <path d=\"M18.56 5.44l.94 2.06.94-2.06 2.06-.94-2.06-.94-.94-2.06-.94 2.06-2.06.94zm-11 1L8.5 8.5l.94-2.06 2.06-.94-2.06-.94L8.5 2.5l-.94 2.06-2.06.94zm10 10l.94 2.06.94-2.06 2.06-.94-2.06-.94-.94-2.06-.94 2.06-2.06.94z\"/><path d=\"M17.41 7.96l-1.37-1.37c-.4-.4-.92-.59-1.43-.59-.52 0-1.04.2-1.43.59L10.3 9.45l-7.72 7.72c-.78.78-.78 2.05 0 2.83L4 21.41c.39.39.9.59 1.41.59.51 0 1.02-.2 1.41-.59l7.78-7.78 2.81-2.81c.8-.78.8-2.07 0-2.86zM5.41 20L4 18.59l7.72-7.72 1.47 1.35L5.41 20z\"/>\n",
              "  </svg>\n",
              "      </button>\n",
              "      \n",
              "  <style>\n",
              "    .colab-df-container {\n",
              "      display:flex;\n",
              "      flex-wrap:wrap;\n",
              "      gap: 12px;\n",
              "    }\n",
              "\n",
              "    .colab-df-convert {\n",
              "      background-color: #E8F0FE;\n",
              "      border: none;\n",
              "      border-radius: 50%;\n",
              "      cursor: pointer;\n",
              "      display: none;\n",
              "      fill: #1967D2;\n",
              "      height: 32px;\n",
              "      padding: 0 0 0 0;\n",
              "      width: 32px;\n",
              "    }\n",
              "\n",
              "    .colab-df-convert:hover {\n",
              "      background-color: #E2EBFA;\n",
              "      box-shadow: 0px 1px 2px rgba(60, 64, 67, 0.3), 0px 1px 3px 1px rgba(60, 64, 67, 0.15);\n",
              "      fill: #174EA6;\n",
              "    }\n",
              "\n",
              "    [theme=dark] .colab-df-convert {\n",
              "      background-color: #3B4455;\n",
              "      fill: #D2E3FC;\n",
              "    }\n",
              "\n",
              "    [theme=dark] .colab-df-convert:hover {\n",
              "      background-color: #434B5C;\n",
              "      box-shadow: 0px 1px 3px 1px rgba(0, 0, 0, 0.15);\n",
              "      filter: drop-shadow(0px 1px 2px rgba(0, 0, 0, 0.3));\n",
              "      fill: #FFFFFF;\n",
              "    }\n",
              "  </style>\n",
              "\n",
              "      <script>\n",
              "        const buttonEl =\n",
              "          document.querySelector('#df-88d06e21-72d4-41fa-9842-11ea3f29d84f button.colab-df-convert');\n",
              "        buttonEl.style.display =\n",
              "          google.colab.kernel.accessAllowed ? 'block' : 'none';\n",
              "\n",
              "        async function convertToInteractive(key) {\n",
              "          const element = document.querySelector('#df-88d06e21-72d4-41fa-9842-11ea3f29d84f');\n",
              "          const dataTable =\n",
              "            await google.colab.kernel.invokeFunction('convertToInteractive',\n",
              "                                                     [key], {});\n",
              "          if (!dataTable) return;\n",
              "\n",
              "          const docLinkHtml = 'Like what you see? Visit the ' +\n",
              "            '<a target=\"_blank\" href=https://colab.research.google.com/notebooks/data_table.ipynb>data table notebook</a>'\n",
              "            + ' to learn more about interactive tables.';\n",
              "          element.innerHTML = '';\n",
              "          dataTable['output_type'] = 'display_data';\n",
              "          await google.colab.output.renderOutput(dataTable, element);\n",
              "          const docLink = document.createElement('div');\n",
              "          docLink.innerHTML = docLinkHtml;\n",
              "          element.appendChild(docLink);\n",
              "        }\n",
              "      </script>\n",
              "    </div>\n",
              "  </div>\n",
              "  "
            ],
            "text/plain": [
              "      cad_recursive_Self_Attention_pred  aud_recursive_Self_Attention_pred  \\\n",
              "0                              0.000123                          -0.001629   \n",
              "1                              0.000154                          -0.001620   \n",
              "2                              0.000076                          -0.001619   \n",
              "3                             -0.000028                          -0.001618   \n",
              "4                             -0.000047                          -0.001618   \n",
              "...                                 ...                                ...   \n",
              "1039                           0.000366                          -0.001620   \n",
              "1040                           0.000302                          -0.001620   \n",
              "1041                           0.000212                          -0.001621   \n",
              "1042                           0.000135                          -0.001620   \n",
              "1043                           0.000131                          -0.001619   \n",
              "\n",
              "      gbp_recursive_Self_Attention_pred  \n",
              "0                             -0.000229  \n",
              "1                             -0.000563  \n",
              "2                             -0.000485  \n",
              "3                             -0.000241  \n",
              "4                             -0.000258  \n",
              "...                                 ...  \n",
              "1039                          -0.000203  \n",
              "1040                          -0.000405  \n",
              "1041                          -0.000644  \n",
              "1042                          -0.000358  \n",
              "1043                          -0.000169  \n",
              "\n",
              "[1044 rows x 3 columns]"
            ]
          },
          "metadata": {},
          "execution_count": 75
        }
      ],
      "source": [
        "Self_Attention_recursive_prediction = pd.DataFrame(np.column_stack((cad_recursive_Self_Attention_pred, aud_recursive_Self_Attention_pred, gbp_recursive_Self_Attention_pred)))\n",
        "Self_Attention_recursive_prediction.columns = ['cad_recursive_Self_Attention_pred', 'aud_recursive_Self_Attention_pred', 'gbp_recursive_Self_Attention_pred']\n",
        "Self_Attention_recursive_prediction.to_csv('./Self_Attention_recursive_prediction.csv')\n",
        "Self_Attention_recursive_prediction"
      ]
    },
    {
      "cell_type": "code",
      "execution_count": 76,
      "metadata": {
        "colab": {
          "base_uri": "https://localhost:8080/",
          "height": 423
        },
        "id": "XCYxRSnRp4B8",
        "outputId": "f5927bb1-b43b-4371-b7f7-a47b9ebdddef"
      },
      "outputs": [
        {
          "output_type": "execute_result",
          "data": {
            "text/html": [
              "\n",
              "  <div id=\"df-e29f1370-3a4b-401c-a918-7cce6ef7a27e\">\n",
              "    <div class=\"colab-df-container\">\n",
              "      <div>\n",
              "<style scoped>\n",
              "    .dataframe tbody tr th:only-of-type {\n",
              "        vertical-align: middle;\n",
              "    }\n",
              "\n",
              "    .dataframe tbody tr th {\n",
              "        vertical-align: top;\n",
              "    }\n",
              "\n",
              "    .dataframe thead th {\n",
              "        text-align: right;\n",
              "    }\n",
              "</style>\n",
              "<table border=\"1\" class=\"dataframe\">\n",
              "  <thead>\n",
              "    <tr style=\"text-align: right;\">\n",
              "      <th></th>\n",
              "      <th>cad_rolling_Self_Attention_pred</th>\n",
              "      <th>aud_rolling_Self_Attention_pred</th>\n",
              "      <th>gbp_rolling_Self_Attention_pred</th>\n",
              "    </tr>\n",
              "  </thead>\n",
              "  <tbody>\n",
              "    <tr>\n",
              "      <th>0</th>\n",
              "      <td>0.000123</td>\n",
              "      <td>-0.001629</td>\n",
              "      <td>-0.000229</td>\n",
              "    </tr>\n",
              "    <tr>\n",
              "      <th>1</th>\n",
              "      <td>0.000154</td>\n",
              "      <td>-0.001620</td>\n",
              "      <td>-0.000563</td>\n",
              "    </tr>\n",
              "    <tr>\n",
              "      <th>2</th>\n",
              "      <td>0.000076</td>\n",
              "      <td>-0.001620</td>\n",
              "      <td>-0.000486</td>\n",
              "    </tr>\n",
              "    <tr>\n",
              "      <th>3</th>\n",
              "      <td>-0.000029</td>\n",
              "      <td>-0.001619</td>\n",
              "      <td>-0.000242</td>\n",
              "    </tr>\n",
              "    <tr>\n",
              "      <th>4</th>\n",
              "      <td>-0.000048</td>\n",
              "      <td>-0.001618</td>\n",
              "      <td>-0.000259</td>\n",
              "    </tr>\n",
              "    <tr>\n",
              "      <th>...</th>\n",
              "      <td>...</td>\n",
              "      <td>...</td>\n",
              "      <td>...</td>\n",
              "    </tr>\n",
              "    <tr>\n",
              "      <th>1039</th>\n",
              "      <td>0.000376</td>\n",
              "      <td>-0.001588</td>\n",
              "      <td>-0.000137</td>\n",
              "    </tr>\n",
              "    <tr>\n",
              "      <th>1040</th>\n",
              "      <td>0.000313</td>\n",
              "      <td>-0.001588</td>\n",
              "      <td>-0.000334</td>\n",
              "    </tr>\n",
              "    <tr>\n",
              "      <th>1041</th>\n",
              "      <td>0.000223</td>\n",
              "      <td>-0.001588</td>\n",
              "      <td>-0.000563</td>\n",
              "    </tr>\n",
              "    <tr>\n",
              "      <th>1042</th>\n",
              "      <td>0.000146</td>\n",
              "      <td>-0.001587</td>\n",
              "      <td>-0.000290</td>\n",
              "    </tr>\n",
              "    <tr>\n",
              "      <th>1043</th>\n",
              "      <td>0.000142</td>\n",
              "      <td>-0.001586</td>\n",
              "      <td>-0.000108</td>\n",
              "    </tr>\n",
              "  </tbody>\n",
              "</table>\n",
              "<p>1044 rows × 3 columns</p>\n",
              "</div>\n",
              "      <button class=\"colab-df-convert\" onclick=\"convertToInteractive('df-e29f1370-3a4b-401c-a918-7cce6ef7a27e')\"\n",
              "              title=\"Convert this dataframe to an interactive table.\"\n",
              "              style=\"display:none;\">\n",
              "        \n",
              "  <svg xmlns=\"http://www.w3.org/2000/svg\" height=\"24px\"viewBox=\"0 0 24 24\"\n",
              "       width=\"24px\">\n",
              "    <path d=\"M0 0h24v24H0V0z\" fill=\"none\"/>\n",
              "    <path d=\"M18.56 5.44l.94 2.06.94-2.06 2.06-.94-2.06-.94-.94-2.06-.94 2.06-2.06.94zm-11 1L8.5 8.5l.94-2.06 2.06-.94-2.06-.94L8.5 2.5l-.94 2.06-2.06.94zm10 10l.94 2.06.94-2.06 2.06-.94-2.06-.94-.94-2.06-.94 2.06-2.06.94z\"/><path d=\"M17.41 7.96l-1.37-1.37c-.4-.4-.92-.59-1.43-.59-.52 0-1.04.2-1.43.59L10.3 9.45l-7.72 7.72c-.78.78-.78 2.05 0 2.83L4 21.41c.39.39.9.59 1.41.59.51 0 1.02-.2 1.41-.59l7.78-7.78 2.81-2.81c.8-.78.8-2.07 0-2.86zM5.41 20L4 18.59l7.72-7.72 1.47 1.35L5.41 20z\"/>\n",
              "  </svg>\n",
              "      </button>\n",
              "      \n",
              "  <style>\n",
              "    .colab-df-container {\n",
              "      display:flex;\n",
              "      flex-wrap:wrap;\n",
              "      gap: 12px;\n",
              "    }\n",
              "\n",
              "    .colab-df-convert {\n",
              "      background-color: #E8F0FE;\n",
              "      border: none;\n",
              "      border-radius: 50%;\n",
              "      cursor: pointer;\n",
              "      display: none;\n",
              "      fill: #1967D2;\n",
              "      height: 32px;\n",
              "      padding: 0 0 0 0;\n",
              "      width: 32px;\n",
              "    }\n",
              "\n",
              "    .colab-df-convert:hover {\n",
              "      background-color: #E2EBFA;\n",
              "      box-shadow: 0px 1px 2px rgba(60, 64, 67, 0.3), 0px 1px 3px 1px rgba(60, 64, 67, 0.15);\n",
              "      fill: #174EA6;\n",
              "    }\n",
              "\n",
              "    [theme=dark] .colab-df-convert {\n",
              "      background-color: #3B4455;\n",
              "      fill: #D2E3FC;\n",
              "    }\n",
              "\n",
              "    [theme=dark] .colab-df-convert:hover {\n",
              "      background-color: #434B5C;\n",
              "      box-shadow: 0px 1px 3px 1px rgba(0, 0, 0, 0.15);\n",
              "      filter: drop-shadow(0px 1px 2px rgba(0, 0, 0, 0.3));\n",
              "      fill: #FFFFFF;\n",
              "    }\n",
              "  </style>\n",
              "\n",
              "      <script>\n",
              "        const buttonEl =\n",
              "          document.querySelector('#df-e29f1370-3a4b-401c-a918-7cce6ef7a27e button.colab-df-convert');\n",
              "        buttonEl.style.display =\n",
              "          google.colab.kernel.accessAllowed ? 'block' : 'none';\n",
              "\n",
              "        async function convertToInteractive(key) {\n",
              "          const element = document.querySelector('#df-e29f1370-3a4b-401c-a918-7cce6ef7a27e');\n",
              "          const dataTable =\n",
              "            await google.colab.kernel.invokeFunction('convertToInteractive',\n",
              "                                                     [key], {});\n",
              "          if (!dataTable) return;\n",
              "\n",
              "          const docLinkHtml = 'Like what you see? Visit the ' +\n",
              "            '<a target=\"_blank\" href=https://colab.research.google.com/notebooks/data_table.ipynb>data table notebook</a>'\n",
              "            + ' to learn more about interactive tables.';\n",
              "          element.innerHTML = '';\n",
              "          dataTable['output_type'] = 'display_data';\n",
              "          await google.colab.output.renderOutput(dataTable, element);\n",
              "          const docLink = document.createElement('div');\n",
              "          docLink.innerHTML = docLinkHtml;\n",
              "          element.appendChild(docLink);\n",
              "        }\n",
              "      </script>\n",
              "    </div>\n",
              "  </div>\n",
              "  "
            ],
            "text/plain": [
              "      cad_rolling_Self_Attention_pred  aud_rolling_Self_Attention_pred  \\\n",
              "0                            0.000123                        -0.001629   \n",
              "1                            0.000154                        -0.001620   \n",
              "2                            0.000076                        -0.001620   \n",
              "3                           -0.000029                        -0.001619   \n",
              "4                           -0.000048                        -0.001618   \n",
              "...                               ...                              ...   \n",
              "1039                         0.000376                        -0.001588   \n",
              "1040                         0.000313                        -0.001588   \n",
              "1041                         0.000223                        -0.001588   \n",
              "1042                         0.000146                        -0.001587   \n",
              "1043                         0.000142                        -0.001586   \n",
              "\n",
              "      gbp_rolling_Self_Attention_pred  \n",
              "0                           -0.000229  \n",
              "1                           -0.000563  \n",
              "2                           -0.000486  \n",
              "3                           -0.000242  \n",
              "4                           -0.000259  \n",
              "...                               ...  \n",
              "1039                        -0.000137  \n",
              "1040                        -0.000334  \n",
              "1041                        -0.000563  \n",
              "1042                        -0.000290  \n",
              "1043                        -0.000108  \n",
              "\n",
              "[1044 rows x 3 columns]"
            ]
          },
          "metadata": {},
          "execution_count": 76
        }
      ],
      "source": [
        "Self_Attention_rolling_prediction = pd.DataFrame(np.column_stack((cad_rolling_Self_Attention_pred, aud_rolling_Self_Attention_pred, gbp_rolling_Self_Attention_pred)))\n",
        "Self_Attention_rolling_prediction.columns = ['cad_rolling_Self_Attention_pred', 'aud_rolling_Self_Attention_pred', 'gbp_rolling_Self_Attention_pred']\n",
        "Self_Attention_rolling_prediction.to_csv('./Self_Attention_rolling_prediction.csv')\n",
        "Self_Attention_rolling_prediction"
      ]
    },
    {
      "cell_type": "markdown",
      "metadata": {
        "id": "f5k6MQuBp4B8"
      },
      "source": [
        "## 載入實際匯率變動率（取對數後一階差分）"
      ]
    },
    {
      "cell_type": "code",
      "execution_count": 77,
      "metadata": {
        "colab": {
          "base_uri": "https://localhost:8080/",
          "height": 423
        },
        "id": "zVjp6NJWp4B8",
        "outputId": "049e9093-e61e-478a-ac58-503678af8076"
      },
      "outputs": [
        {
          "output_type": "execute_result",
          "data": {
            "text/html": [
              "\n",
              "  <div id=\"df-722007d0-e5b7-445a-8998-86b63a95c437\">\n",
              "    <div class=\"colab-df-container\">\n",
              "      <div>\n",
              "<style scoped>\n",
              "    .dataframe tbody tr th:only-of-type {\n",
              "        vertical-align: middle;\n",
              "    }\n",
              "\n",
              "    .dataframe tbody tr th {\n",
              "        vertical-align: top;\n",
              "    }\n",
              "\n",
              "    .dataframe thead th {\n",
              "        text-align: right;\n",
              "    }\n",
              "</style>\n",
              "<table border=\"1\" class=\"dataframe\">\n",
              "  <thead>\n",
              "    <tr style=\"text-align: right;\">\n",
              "      <th></th>\n",
              "      <th>CADUSD Curncy</th>\n",
              "      <th>AUDUSD Curncy</th>\n",
              "      <th>GBPUSD Curncy</th>\n",
              "    </tr>\n",
              "  </thead>\n",
              "  <tbody>\n",
              "    <tr>\n",
              "      <th>2017-01-02</th>\n",
              "      <td>-0.000269</td>\n",
              "      <td>-0.003335</td>\n",
              "      <td>-0.005037</td>\n",
              "    </tr>\n",
              "    <tr>\n",
              "      <th>2017-01-03</th>\n",
              "      <td>0.001209</td>\n",
              "      <td>0.004860</td>\n",
              "      <td>-0.003345</td>\n",
              "    </tr>\n",
              "    <tr>\n",
              "      <th>2017-01-04</th>\n",
              "      <td>0.009488</td>\n",
              "      <td>0.008826</td>\n",
              "      <td>0.007003</td>\n",
              "    </tr>\n",
              "    <tr>\n",
              "      <th>2017-01-05</th>\n",
              "      <td>0.005703</td>\n",
              "      <td>0.007523</td>\n",
              "      <td>0.007760</td>\n",
              "    </tr>\n",
              "    <tr>\n",
              "      <th>2017-01-06</th>\n",
              "      <td>-0.000926</td>\n",
              "      <td>-0.005055</td>\n",
              "      <td>-0.010686</td>\n",
              "    </tr>\n",
              "    <tr>\n",
              "      <th>...</th>\n",
              "      <td>...</td>\n",
              "      <td>...</td>\n",
              "      <td>...</td>\n",
              "    </tr>\n",
              "    <tr>\n",
              "      <th>2020-12-25</th>\n",
              "      <td>-0.000129</td>\n",
              "      <td>0.001052</td>\n",
              "      <td>0.000148</td>\n",
              "    </tr>\n",
              "    <tr>\n",
              "      <th>2020-12-28</th>\n",
              "      <td>0.001414</td>\n",
              "      <td>-0.003425</td>\n",
              "      <td>-0.007996</td>\n",
              "    </tr>\n",
              "    <tr>\n",
              "      <th>2020-12-29</th>\n",
              "      <td>0.002182</td>\n",
              "      <td>0.003556</td>\n",
              "      <td>0.003784</td>\n",
              "    </tr>\n",
              "    <tr>\n",
              "      <th>2020-12-30</th>\n",
              "      <td>0.005242</td>\n",
              "      <td>0.010463</td>\n",
              "      <td>0.008994</td>\n",
              "    </tr>\n",
              "    <tr>\n",
              "      <th>2020-12-31</th>\n",
              "      <td>0.001402</td>\n",
              "      <td>0.001040</td>\n",
              "      <td>0.003297</td>\n",
              "    </tr>\n",
              "  </tbody>\n",
              "</table>\n",
              "<p>1044 rows × 3 columns</p>\n",
              "</div>\n",
              "      <button class=\"colab-df-convert\" onclick=\"convertToInteractive('df-722007d0-e5b7-445a-8998-86b63a95c437')\"\n",
              "              title=\"Convert this dataframe to an interactive table.\"\n",
              "              style=\"display:none;\">\n",
              "        \n",
              "  <svg xmlns=\"http://www.w3.org/2000/svg\" height=\"24px\"viewBox=\"0 0 24 24\"\n",
              "       width=\"24px\">\n",
              "    <path d=\"M0 0h24v24H0V0z\" fill=\"none\"/>\n",
              "    <path d=\"M18.56 5.44l.94 2.06.94-2.06 2.06-.94-2.06-.94-.94-2.06-.94 2.06-2.06.94zm-11 1L8.5 8.5l.94-2.06 2.06-.94-2.06-.94L8.5 2.5l-.94 2.06-2.06.94zm10 10l.94 2.06.94-2.06 2.06-.94-2.06-.94-.94-2.06-.94 2.06-2.06.94z\"/><path d=\"M17.41 7.96l-1.37-1.37c-.4-.4-.92-.59-1.43-.59-.52 0-1.04.2-1.43.59L10.3 9.45l-7.72 7.72c-.78.78-.78 2.05 0 2.83L4 21.41c.39.39.9.59 1.41.59.51 0 1.02-.2 1.41-.59l7.78-7.78 2.81-2.81c.8-.78.8-2.07 0-2.86zM5.41 20L4 18.59l7.72-7.72 1.47 1.35L5.41 20z\"/>\n",
              "  </svg>\n",
              "      </button>\n",
              "      \n",
              "  <style>\n",
              "    .colab-df-container {\n",
              "      display:flex;\n",
              "      flex-wrap:wrap;\n",
              "      gap: 12px;\n",
              "    }\n",
              "\n",
              "    .colab-df-convert {\n",
              "      background-color: #E8F0FE;\n",
              "      border: none;\n",
              "      border-radius: 50%;\n",
              "      cursor: pointer;\n",
              "      display: none;\n",
              "      fill: #1967D2;\n",
              "      height: 32px;\n",
              "      padding: 0 0 0 0;\n",
              "      width: 32px;\n",
              "    }\n",
              "\n",
              "    .colab-df-convert:hover {\n",
              "      background-color: #E2EBFA;\n",
              "      box-shadow: 0px 1px 2px rgba(60, 64, 67, 0.3), 0px 1px 3px 1px rgba(60, 64, 67, 0.15);\n",
              "      fill: #174EA6;\n",
              "    }\n",
              "\n",
              "    [theme=dark] .colab-df-convert {\n",
              "      background-color: #3B4455;\n",
              "      fill: #D2E3FC;\n",
              "    }\n",
              "\n",
              "    [theme=dark] .colab-df-convert:hover {\n",
              "      background-color: #434B5C;\n",
              "      box-shadow: 0px 1px 3px 1px rgba(0, 0, 0, 0.15);\n",
              "      filter: drop-shadow(0px 1px 2px rgba(0, 0, 0, 0.3));\n",
              "      fill: #FFFFFF;\n",
              "    }\n",
              "  </style>\n",
              "\n",
              "      <script>\n",
              "        const buttonEl =\n",
              "          document.querySelector('#df-722007d0-e5b7-445a-8998-86b63a95c437 button.colab-df-convert');\n",
              "        buttonEl.style.display =\n",
              "          google.colab.kernel.accessAllowed ? 'block' : 'none';\n",
              "\n",
              "        async function convertToInteractive(key) {\n",
              "          const element = document.querySelector('#df-722007d0-e5b7-445a-8998-86b63a95c437');\n",
              "          const dataTable =\n",
              "            await google.colab.kernel.invokeFunction('convertToInteractive',\n",
              "                                                     [key], {});\n",
              "          if (!dataTable) return;\n",
              "\n",
              "          const docLinkHtml = 'Like what you see? Visit the ' +\n",
              "            '<a target=\"_blank\" href=https://colab.research.google.com/notebooks/data_table.ipynb>data table notebook</a>'\n",
              "            + ' to learn more about interactive tables.';\n",
              "          element.innerHTML = '';\n",
              "          dataTable['output_type'] = 'display_data';\n",
              "          await google.colab.output.renderOutput(dataTable, element);\n",
              "          const docLink = document.createElement('div');\n",
              "          docLink.innerHTML = docLinkHtml;\n",
              "          element.appendChild(docLink);\n",
              "        }\n",
              "      </script>\n",
              "    </div>\n",
              "  </div>\n",
              "  "
            ],
            "text/plain": [
              "            CADUSD Curncy  AUDUSD Curncy  GBPUSD Curncy\n",
              "2017-01-02      -0.000269      -0.003335      -0.005037\n",
              "2017-01-03       0.001209       0.004860      -0.003345\n",
              "2017-01-04       0.009488       0.008826       0.007003\n",
              "2017-01-05       0.005703       0.007523       0.007760\n",
              "2017-01-06      -0.000926      -0.005055      -0.010686\n",
              "...                   ...            ...            ...\n",
              "2020-12-25      -0.000129       0.001052       0.000148\n",
              "2020-12-28       0.001414      -0.003425      -0.007996\n",
              "2020-12-29       0.002182       0.003556       0.003784\n",
              "2020-12-30       0.005242       0.010463       0.008994\n",
              "2020-12-31       0.001402       0.001040       0.003297\n",
              "\n",
              "[1044 rows x 3 columns]"
            ]
          },
          "metadata": {},
          "execution_count": 77
        }
      ],
      "source": [
        "groundtruth = pd.read_excel('./CAD_AUD_GBP.xlsx', index_col=0, skiprows=3)\n",
        "groundtruth = groundtruth.iloc[1:,:]\n",
        "groundtruth = groundtruth.astype('float64')\n",
        "groundtruth.index = pd.to_datetime(groundtruth.index)\n",
        "groundtruth = np.log(groundtruth)\n",
        "groundtruth = groundtruth.diff().dropna()\n",
        "\n",
        "groundtruth = groundtruth.loc['2017-01-01':'2020-12-31']\n",
        "cad_groundtruth = groundtruth.iloc[:,0]\n",
        "aud_groundtruth = groundtruth.iloc[:,1]\n",
        "gbp_groundtruth = groundtruth.iloc[:,2]\n",
        "\n",
        "groundtruth"
      ]
    },
    {
      "cell_type": "markdown",
      "metadata": {
        "id": "PhXlyzkbp4B8"
      },
      "source": [
        "## 模型比較（計算模型的 RMSE, MAE, DA）"
      ]
    },
    {
      "cell_type": "markdown",
      "metadata": {
        "id": "pmFIgZ-Lp4B8"
      },
      "source": [
        "### Random walk pred"
      ]
    },
    {
      "cell_type": "code",
      "execution_count": 78,
      "metadata": {
        "id": "TBX6NK1ip4B9"
      },
      "outputs": [],
      "source": [
        "random_walk_pred = rw_pred(cad_groundtruth)\n",
        "\n",
        "cad_random_walk_RMSE = root_mean_squared_error(random_walk_pred, cad_groundtruth)\n",
        "cad_random_walk_MAE = mean_absolute_error(random_walk_pred, cad_groundtruth)\n",
        "cad_random_walk_DA = 0.5\n",
        "aud_random_walk_RMSE = root_mean_squared_error(random_walk_pred, aud_groundtruth)\n",
        "aud_random_walk_MAE = mean_absolute_error(random_walk_pred, aud_groundtruth)\n",
        "aud_random_walk_DA = 0.5\n",
        "gbp_random_walk_RMSE = root_mean_squared_error(random_walk_pred, gbp_groundtruth)\n",
        "gbp_random_walk_MAE = mean_absolute_error(random_walk_pred, gbp_groundtruth)\n",
        "gbp_random_walk_DA = 0.5"
      ]
    },
    {
      "cell_type": "code",
      "execution_count": 79,
      "metadata": {
        "colab": {
          "base_uri": "https://localhost:8080/"
        },
        "id": "vXIAdYWjp4B9",
        "outputId": "a131ada5-afc2-4e28-bc43-bb5c1b7852d0"
      },
      "outputs": [
        {
          "output_type": "execute_result",
          "data": {
            "text/plain": [
              "(0.004365277893580916, 0.0032165540648211085, 0.5)"
            ]
          },
          "metadata": {},
          "execution_count": 79
        }
      ],
      "source": [
        "cad_random_walk_RMSE, cad_random_walk_MAE, cad_random_walk_DA"
      ]
    },
    {
      "cell_type": "code",
      "execution_count": 80,
      "metadata": {
        "colab": {
          "base_uri": "https://localhost:8080/"
        },
        "id": "8vhPxvRvp4B9",
        "outputId": "8b95a276-05d4-4d61-d4cf-18835b48e5d2"
      },
      "outputs": [
        {
          "output_type": "execute_result",
          "data": {
            "text/plain": [
              "(0.005655793284191722, 0.00416259953667118, 0.5)"
            ]
          },
          "metadata": {},
          "execution_count": 80
        }
      ],
      "source": [
        "aud_random_walk_RMSE, aud_random_walk_MAE, aud_random_walk_DA"
      ]
    },
    {
      "cell_type": "code",
      "execution_count": 81,
      "metadata": {
        "colab": {
          "base_uri": "https://localhost:8080/"
        },
        "id": "y3EyxKppp4B9",
        "outputId": "6ef2b80d-7ae4-48c1-ed66-8a8321768242"
      },
      "outputs": [
        {
          "output_type": "execute_result",
          "data": {
            "text/plain": [
              "(0.0056882604301849125, 0.004202877474568311, 0.5)"
            ]
          },
          "metadata": {},
          "execution_count": 81
        }
      ],
      "source": [
        "gbp_random_walk_RMSE, gbp_random_walk_MAE, gbp_random_walk_DA"
      ]
    },
    {
      "cell_type": "markdown",
      "metadata": {
        "id": "-mSAxC05p4B9"
      },
      "source": [
        "### Recursive LSTM pred"
      ]
    },
    {
      "cell_type": "code",
      "execution_count": 82,
      "metadata": {
        "id": "93k-K1uEp4B9"
      },
      "outputs": [],
      "source": [
        "cad_recursive_LSTM_RMSE = root_mean_squared_error(cad_recursive_LSTM_pred, cad_groundtruth)\n",
        "cad_recursive_LSTM_MAE = mean_absolute_error(cad_recursive_LSTM_pred, cad_groundtruth)\n",
        "cad_recursive_LSTM_DA = direction_accuracy(cad_recursive_LSTM_pred, cad_groundtruth)\n",
        "aud_recursive_LSTM_RMSE = root_mean_squared_error(aud_recursive_LSTM_pred, aud_groundtruth)\n",
        "aud_recursive_LSTM_MAE = mean_absolute_error(aud_recursive_LSTM_pred, aud_groundtruth)\n",
        "aud_recursive_LSTM_DA = direction_accuracy(aud_recursive_LSTM_pred, aud_groundtruth)\n",
        "gbp_recursive_LSTM_RMSE = root_mean_squared_error(gbp_recursive_LSTM_pred, gbp_groundtruth)\n",
        "gbp_recursive_LSTM_MAE = mean_absolute_error(gbp_recursive_LSTM_pred, gbp_groundtruth)\n",
        "gbp_recursive_LSTM_DA = direction_accuracy(gbp_recursive_LSTM_pred, gbp_groundtruth)"
      ]
    },
    {
      "cell_type": "code",
      "execution_count": 83,
      "metadata": {
        "colab": {
          "base_uri": "https://localhost:8080/"
        },
        "id": "hcPAxld7p4B9",
        "outputId": "f5594e40-5dc6-4b44-f9a6-cb50f3f5f829"
      },
      "outputs": [
        {
          "output_type": "execute_result",
          "data": {
            "text/plain": [
              "(0.004366953448165288, 0.0032166379683476027, 0.49616858237547895)"
            ]
          },
          "metadata": {},
          "execution_count": 83
        }
      ],
      "source": [
        "cad_recursive_LSTM_RMSE, cad_recursive_LSTM_MAE, cad_recursive_LSTM_DA"
      ]
    },
    {
      "cell_type": "code",
      "execution_count": 84,
      "metadata": {
        "colab": {
          "base_uri": "https://localhost:8080/"
        },
        "id": "umfIDXEip4B9",
        "outputId": "0d2bf937-535f-4445-815b-c0b9f6c8d257"
      },
      "outputs": [
        {
          "output_type": "execute_result",
          "data": {
            "text/plain": [
              "(0.005716025064109846, 0.00420648458967849, 0.5067049808429118)"
            ]
          },
          "metadata": {},
          "execution_count": 84
        }
      ],
      "source": [
        "aud_recursive_LSTM_RMSE, aud_recursive_LSTM_MAE, aud_recursive_LSTM_DA"
      ]
    },
    {
      "cell_type": "code",
      "execution_count": 85,
      "metadata": {
        "colab": {
          "base_uri": "https://localhost:8080/"
        },
        "id": "ru9M87NZp4B9",
        "outputId": "59564f6c-fc2b-420d-83ea-f5cd9e8fca5e"
      },
      "outputs": [
        {
          "output_type": "execute_result",
          "data": {
            "text/plain": [
              "(0.005707144618527106, 0.004224464636170401, 0.4827586206896552)"
            ]
          },
          "metadata": {},
          "execution_count": 85
        }
      ],
      "source": [
        "gbp_recursive_LSTM_RMSE, gbp_recursive_LSTM_MAE, gbp_recursive_LSTM_DA"
      ]
    },
    {
      "cell_type": "markdown",
      "metadata": {
        "id": "4Jkwak57p4B9"
      },
      "source": [
        "### Rolling LSTM pred"
      ]
    },
    {
      "cell_type": "code",
      "execution_count": 86,
      "metadata": {
        "id": "VxGhz6IPp4B9"
      },
      "outputs": [],
      "source": [
        "cad_rolling_LSTM_RMSE = root_mean_squared_error(cad_rolling_LSTM_pred, cad_groundtruth)\n",
        "cad_rolling_LSTM_MAE = mean_absolute_error(cad_rolling_LSTM_pred, cad_groundtruth)\n",
        "cad_rolling_LSTM_DA = direction_accuracy(cad_rolling_LSTM_pred, cad_groundtruth)\n",
        "aud_rolling_LSTM_RMSE = root_mean_squared_error(aud_rolling_LSTM_pred, aud_groundtruth)\n",
        "aud_rolling_LSTM_MAE = mean_absolute_error(aud_rolling_LSTM_pred, aud_groundtruth)\n",
        "aud_rolling_LSTM_DA = direction_accuracy(aud_rolling_LSTM_pred, aud_groundtruth)\n",
        "gbp_rolling_LSTM_RMSE = root_mean_squared_error(gbp_rolling_LSTM_pred, gbp_groundtruth)\n",
        "gbp_rolling_LSTM_MAE = mean_absolute_error(gbp_rolling_LSTM_pred, gbp_groundtruth)\n",
        "gbp_rolling_LSTM_DA = direction_accuracy(gbp_rolling_LSTM_pred, gbp_groundtruth)"
      ]
    },
    {
      "cell_type": "code",
      "execution_count": 87,
      "metadata": {
        "colab": {
          "base_uri": "https://localhost:8080/"
        },
        "id": "BLZTqstHp4B9",
        "outputId": "7f29ea4a-85c6-40bb-a59b-df7e0fb6bbe2"
      },
      "outputs": [
        {
          "output_type": "execute_result",
          "data": {
            "text/plain": [
              "(0.004366874890696316, 0.003216533494752228, 0.4942528735632184)"
            ]
          },
          "metadata": {},
          "execution_count": 87
        }
      ],
      "source": [
        "cad_rolling_LSTM_RMSE, cad_rolling_LSTM_MAE, cad_rolling_LSTM_DA"
      ]
    },
    {
      "cell_type": "code",
      "execution_count": 88,
      "metadata": {
        "colab": {
          "base_uri": "https://localhost:8080/"
        },
        "id": "7gtbSQL6p4B9",
        "outputId": "32a6f3aa-5f2d-40f0-fb99-4ace0ccc6680"
      },
      "outputs": [
        {
          "output_type": "execute_result",
          "data": {
            "text/plain": [
              "(0.00577983214485462, 0.0042638320321405545, 0.5067049808429118)"
            ]
          },
          "metadata": {},
          "execution_count": 88
        }
      ],
      "source": [
        "aud_rolling_LSTM_RMSE, aud_rolling_LSTM_MAE, aud_rolling_LSTM_DA"
      ]
    },
    {
      "cell_type": "code",
      "execution_count": 89,
      "metadata": {
        "colab": {
          "base_uri": "https://localhost:8080/"
        },
        "id": "6AQn1KaKp4B-",
        "outputId": "6807aef0-50f1-4d80-c902-14fba70d95fe"
      },
      "outputs": [
        {
          "output_type": "execute_result",
          "data": {
            "text/plain": [
              "(0.005705038932962677, 0.004221539465330905, 0.4827586206896552)"
            ]
          },
          "metadata": {},
          "execution_count": 89
        }
      ],
      "source": [
        "gbp_rolling_LSTM_RMSE, gbp_rolling_LSTM_MAE, gbp_rolling_LSTM_DA"
      ]
    },
    {
      "cell_type": "markdown",
      "metadata": {
        "id": "cqYWW_GFp4B-"
      },
      "source": [
        "### Recursive Self-Attention pred"
      ]
    },
    {
      "cell_type": "code",
      "execution_count": 90,
      "metadata": {
        "id": "Vg4WEtOOp4B-"
      },
      "outputs": [],
      "source": [
        "cad_recursive_Self_Attention_RMSE = root_mean_squared_error(cad_recursive_Self_Attention_pred, cad_groundtruth)\n",
        "cad_recursive_Self_Attention_MAE = mean_absolute_error(cad_recursive_Self_Attention_pred, cad_groundtruth)\n",
        "cad_recursive_Self_Attention_DA = direction_accuracy(cad_recursive_Self_Attention_pred, cad_groundtruth)\n",
        "aud_recursive_Self_Attention_RMSE = root_mean_squared_error(aud_recursive_Self_Attention_pred, aud_groundtruth)\n",
        "aud_recursive_Self_Attention_MAE = mean_absolute_error(aud_recursive_Self_Attention_pred, aud_groundtruth)\n",
        "aud_recursive_Self_Attention_DA = direction_accuracy(aud_recursive_Self_Attention_pred, aud_groundtruth)\n",
        "gbp_recursive_Self_Attention_RMSE = root_mean_squared_error(gbp_recursive_Self_Attention_pred, gbp_groundtruth)\n",
        "gbp_recursive_Self_Attention_MAE = mean_absolute_error(gbp_recursive_Self_Attention_pred, gbp_groundtruth)\n",
        "gbp_recursive_Self_Attention_DA = direction_accuracy(gbp_recursive_Self_Attention_pred, gbp_groundtruth)"
      ]
    },
    {
      "cell_type": "code",
      "execution_count": 91,
      "metadata": {
        "colab": {
          "base_uri": "https://localhost:8080/"
        },
        "id": "57WBk3Jup4B-",
        "outputId": "9903f115-f516-40ff-d150-610a6e20e3d9"
      },
      "outputs": [
        {
          "output_type": "execute_result",
          "data": {
            "text/plain": [
              "(0.004372101752788658, 0.0032285911199098063, 0.4827586206896552)"
            ]
          },
          "metadata": {},
          "execution_count": 91
        }
      ],
      "source": [
        "cad_recursive_Self_Attention_RMSE, cad_recursive_Self_Attention_MAE, cad_recursive_Self_Attention_DA"
      ]
    },
    {
      "cell_type": "code",
      "execution_count": 92,
      "metadata": {
        "colab": {
          "base_uri": "https://localhost:8080/"
        },
        "id": "CTLn_DTQp4B-",
        "outputId": "6b8dcbfe-7c20-4961-fbf5-da7f5de0d7d6"
      },
      "outputs": [
        {
          "output_type": "execute_result",
          "data": {
            "text/plain": [
              "(0.005902485725115945, 0.004439521080075167, 0.4779693486590038)"
            ]
          },
          "metadata": {},
          "execution_count": 92
        }
      ],
      "source": [
        "aud_recursive_Self_Attention_RMSE, aud_recursive_Self_Attention_MAE, aud_recursive_Self_Attention_DA"
      ]
    },
    {
      "cell_type": "code",
      "execution_count": 93,
      "metadata": {
        "colab": {
          "base_uri": "https://localhost:8080/"
        },
        "id": "XqtAsFSEp4B-",
        "outputId": "80a7fa83-5631-4131-a777-29d5d364de78"
      },
      "outputs": [
        {
          "output_type": "execute_result",
          "data": {
            "text/plain": [
              "(0.005711377556770118, 0.004226133230130188, 0.4827586206896552)"
            ]
          },
          "metadata": {},
          "execution_count": 93
        }
      ],
      "source": [
        "gbp_recursive_Self_Attention_RMSE, gbp_recursive_Self_Attention_MAE, gbp_recursive_Self_Attention_DA"
      ]
    },
    {
      "cell_type": "markdown",
      "metadata": {
        "id": "yaVBG_71p4B-"
      },
      "source": [
        "### Rolling Self-Attention pred"
      ]
    },
    {
      "cell_type": "code",
      "execution_count": 94,
      "metadata": {
        "id": "7FnwfC_Gp4B-"
      },
      "outputs": [],
      "source": [
        "cad_rolling_Self_Attention_RMSE = root_mean_squared_error(cad_rolling_Self_Attention_pred, cad_groundtruth)\n",
        "cad_rolling_Self_Attention_MAE = mean_absolute_error(cad_rolling_Self_Attention_pred, cad_groundtruth)\n",
        "cad_rolling_Self_Attention_DA = direction_accuracy(cad_rolling_Self_Attention_pred, cad_groundtruth)\n",
        "aud_rolling_Self_Attention_RMSE = root_mean_squared_error(aud_rolling_Self_Attention_pred, aud_groundtruth)\n",
        "aud_rolling_Self_Attention_MAE = mean_absolute_error(aud_rolling_Self_Attention_pred, aud_groundtruth)\n",
        "aud_rolling_Self_Attention_DA = direction_accuracy(aud_rolling_Self_Attention_pred, aud_groundtruth)\n",
        "gbp_rolling_Self_Attention_RMSE = root_mean_squared_error(gbp_rolling_Self_Attention_pred, gbp_groundtruth)\n",
        "gbp_rolling_Self_Attention_MAE = mean_absolute_error(gbp_rolling_Self_Attention_pred, gbp_groundtruth)\n",
        "gbp_rolling_Self_Attention_DA = direction_accuracy(gbp_rolling_Self_Attention_pred, gbp_groundtruth)"
      ]
    },
    {
      "cell_type": "code",
      "execution_count": 95,
      "metadata": {
        "colab": {
          "base_uri": "https://localhost:8080/"
        },
        "id": "HZuI1SRgp4B-",
        "outputId": "f133a05d-3570-4b26-83a9-e47514e3540e"
      },
      "outputs": [
        {
          "output_type": "execute_result",
          "data": {
            "text/plain": [
              "(0.004372219300351518, 0.003228707155933871, 0.4827586206896552)"
            ]
          },
          "metadata": {},
          "execution_count": 95
        }
      ],
      "source": [
        "cad_rolling_Self_Attention_RMSE, cad_rolling_Self_Attention_MAE, cad_rolling_Self_Attention_DA"
      ]
    },
    {
      "cell_type": "code",
      "execution_count": 96,
      "metadata": {
        "colab": {
          "base_uri": "https://localhost:8080/"
        },
        "id": "b7C0zDi4p4B-",
        "outputId": "65595019-3108-4474-96a1-3cd1562a0d61"
      },
      "outputs": [
        {
          "output_type": "execute_result",
          "data": {
            "text/plain": [
              "(0.005897562861361657, 0.004434635820803504, 0.4779693486590038)"
            ]
          },
          "metadata": {},
          "execution_count": 96
        }
      ],
      "source": [
        "aud_rolling_Self_Attention_RMSE, aud_rolling_Self_Attention_MAE, aud_rolling_Self_Attention_DA"
      ]
    },
    {
      "cell_type": "code",
      "execution_count": 97,
      "metadata": {
        "colab": {
          "base_uri": "https://localhost:8080/"
        },
        "id": "ej1D9HiUp4B-",
        "outputId": "d2861479-b94b-4942-cab4-ea1f1e9953c1"
      },
      "outputs": [
        {
          "output_type": "execute_result",
          "data": {
            "text/plain": [
              "(0.005709054168491827, 0.004223106621892312, 0.48563218390804597)"
            ]
          },
          "metadata": {},
          "execution_count": 97
        }
      ],
      "source": [
        "gbp_rolling_Self_Attention_RMSE, gbp_rolling_Self_Attention_MAE, gbp_rolling_Self_Attention_DA"
      ]
    },
    {
      "cell_type": "markdown",
      "metadata": {
        "id": "fsLNSK7YE40j"
      },
      "source": [
        "# 殘差檢定"
      ]
    },
    {
      "cell_type": "markdown",
      "metadata": {
        "id": "XrxpnOP7E40j"
      },
      "source": [
        "## 線性部分"
      ]
    },
    {
      "cell_type": "markdown",
      "metadata": {
        "id": "P-Sl7a-eE40j"
      },
      "source": [
        "### recursive"
      ]
    },
    {
      "cell_type": "code",
      "execution_count": 101,
      "metadata": {
        "id": "XTqX4_VtE40j",
        "outputId": "9a29f13d-37ca-46d4-b30f-7eed872dfcde",
        "colab": {
          "base_uri": "https://localhost:8080/"
        }
      },
      "outputs": [
        {
          "output_type": "execute_result",
          "data": {
            "text/plain": [
              "(array([  6.6158301 ,   7.16321564,   7.27857123,  11.48477986,\n",
              "         25.53262771,  25.59008732,  25.76711743,  28.98012071,\n",
              "         47.01567674,  48.35475605,  48.53997185,  53.55354627,\n",
              "         60.0059039 ,  64.02690294,  64.03931675,  70.45652474,\n",
              "         83.82027845,  86.271629  ,  86.51988296,  87.02649903,\n",
              "         89.74099268,  99.3569405 , 101.33175007, 103.30067974,\n",
              "        103.30418138, 108.0045672 , 119.89240611, 119.93909667,\n",
              "        124.74502602, 128.72997397, 139.57243575, 139.90669345,\n",
              "        151.28601444, 153.76168737, 154.66434571, 156.29250449,\n",
              "        156.32561147, 163.24944213, 163.66824001, 176.25852764]),\n",
              " array([1.01076215e-02, 2.78309151e-02, 6.35293553e-02, 2.16234808e-02,\n",
              "        1.09923507e-04, 2.65384436e-04, 5.54266008e-04, 3.19655297e-04,\n",
              "        3.89835799e-07, 5.34620345e-07, 1.14351099e-06, 3.28283486e-07,\n",
              "        5.24072432e-08, 2.28040374e-08, 5.03162164e-08, 8.29983321e-09,\n",
              "        7.97849908e-11, 6.69877853e-11, 1.36370521e-10, 2.44256269e-10,\n",
              "        1.78865766e-10, 8.35322029e-12, 8.28472745e-12, 8.17489309e-12,\n",
              "        1.73196965e-11, 5.78193270e-12, 1.13202188e-13, 2.38817158e-13,\n",
              "        7.66480618e-14, 3.40071917e-14, 1.00285857e-15, 1.89683788e-15,\n",
              "        4.48959772e-17, 3.65665250e-17, 5.53001726e-17, 6.23058634e-17,\n",
              "        1.30087871e-16, 1.83495512e-17, 3.27863772e-17, 5.03419234e-19]))"
            ]
          },
          "metadata": {},
          "execution_count": 101
        }
      ],
      "source": [
        "acorr_ljungbox(cad_recursive_residue)"
      ]
    },
    {
      "cell_type": "code",
      "execution_count": 102,
      "metadata": {
        "id": "ppJbQFnDE40j",
        "outputId": "8a0f69cb-a5bb-427f-fbf7-19287bcbdafc",
        "colab": {
          "base_uri": "https://localhost:8080/"
        }
      },
      "outputs": [
        {
          "output_type": "execute_result",
          "data": {
            "text/plain": [
              "(array([ 4.01244066,  4.15625187,  6.86475738,  9.2037341 , 10.4197658 ,\n",
              "        10.79814028, 11.26839167, 11.47216529, 12.14964413, 12.33562197,\n",
              "        14.42498889, 15.1103757 , 17.97286374, 19.2759486 , 19.64260024,\n",
              "        30.71744113, 38.31795709, 38.37346623, 39.70417439, 39.70453155,\n",
              "        40.02012647, 40.42296995, 40.49449434, 40.73314327, 41.82459498,\n",
              "        42.76151355, 43.9281836 , 44.18773927, 49.60116358, 49.7140684 ,\n",
              "        50.87547816, 51.34263854, 53.9102209 , 54.2664781 , 54.27961894,\n",
              "        54.46887134, 57.05203641, 59.35161107, 64.02296978, 71.18477359]),\n",
              " array([0.04516572, 0.12516456, 0.07633565, 0.05620401, 0.06417842,\n",
              "        0.09481912, 0.12733282, 0.17635338, 0.20500397, 0.26322231,\n",
              "        0.2103624 , 0.23545575, 0.15855253, 0.15467077, 0.1860758 ,\n",
              "        0.01461849, 0.00222202, 0.0034557 , 0.00357768, 0.00544295,\n",
              "        0.00739498, 0.00964467, 0.01351911, 0.01781523, 0.01876852,\n",
              "        0.02046077, 0.02103374, 0.02661824, 0.00996736, 0.01327769,\n",
              "        0.0136703 , 0.01647948, 0.01223806, 0.01508   , 0.01984534,\n",
              "        0.02483487, 0.01867533, 0.01489208, 0.0069884 , 0.00174018]))"
            ]
          },
          "metadata": {},
          "execution_count": 102
        }
      ],
      "source": [
        "acorr_ljungbox(aud_recursive_residue)"
      ]
    },
    {
      "cell_type": "code",
      "execution_count": 103,
      "metadata": {
        "id": "q1mrmfwfE40j",
        "outputId": "3141d14d-8ea6-4976-fcb2-3f72a0b65dfa",
        "colab": {
          "base_uri": "https://localhost:8080/"
        }
      },
      "outputs": [
        {
          "output_type": "execute_result",
          "data": {
            "text/plain": [
              "(array([7.43312254e-04, 2.16466347e-01, 5.89851789e-01, 6.24555528e-01,\n",
              "        8.93862641e-01, 1.82525190e+00, 2.24089096e+00, 2.25874071e+00,\n",
              "        2.29712631e+00, 4.29493404e+00, 7.50198067e+00, 8.32785043e+00,\n",
              "        8.38520505e+00, 9.09922492e+00, 1.70208423e+01, 1.71086193e+01,\n",
              "        1.95303799e+01, 1.95554013e+01, 2.11096033e+01, 2.32214088e+01,\n",
              "        2.33102478e+01, 2.36185844e+01, 2.37528638e+01, 2.38015855e+01,\n",
              "        2.38718104e+01, 2.41380085e+01, 2.41851663e+01, 2.47821619e+01,\n",
              "        2.50102721e+01, 2.50125101e+01, 2.51809184e+01, 2.58720641e+01,\n",
              "        2.61089055e+01, 2.63858177e+01, 2.86065197e+01, 2.87036541e+01,\n",
              "        2.93714357e+01, 4.06865271e+01, 4.23715595e+01, 4.24219408e+01]),\n",
              " array([0.97824937, 0.89741832, 0.89875159, 0.96029631, 0.97066437,\n",
              "        0.93504808, 0.94531395, 0.97203426, 0.98585132, 0.93306271,\n",
              "        0.75709824, 0.75901392, 0.81763125, 0.82464215, 0.31761998,\n",
              "        0.3786023 , 0.29895106, 0.35839791, 0.33077647, 0.27805413,\n",
              "        0.3276623 , 0.36753515, 0.41759726, 0.47298905, 0.52679019,\n",
              "        0.5680739 , 0.62002612, 0.63966454, 0.67771432, 0.72442369,\n",
              "        0.75956649, 0.7692384 , 0.79730051, 0.82132071, 0.76892775,\n",
              "        0.8011986 , 0.80984198, 0.352969  , 0.32768098, 0.36701963]))"
            ]
          },
          "metadata": {},
          "execution_count": 103
        }
      ],
      "source": [
        "acorr_ljungbox(gbp_recursive_residue)"
      ]
    },
    {
      "cell_type": "markdown",
      "metadata": {
        "id": "n78UdV_7E40j"
      },
      "source": [
        "### rolling"
      ]
    },
    {
      "cell_type": "code",
      "execution_count": 104,
      "metadata": {
        "id": "5RwN55S7E40j",
        "outputId": "e7156ecb-a9b8-4844-ab51-708dd9fb3161",
        "colab": {
          "base_uri": "https://localhost:8080/"
        }
      },
      "outputs": [
        {
          "output_type": "execute_result",
          "data": {
            "text/plain": [
              "(array([  6.61747327,   7.16444296,   7.27960065,  11.48433713,\n",
              "         25.53540785,  25.59307784,  25.77045343,  28.98189925,\n",
              "         47.02143506,  48.35918785,  48.544892  ,  53.56108359,\n",
              "         60.01075383,  64.03388227,  64.0464188 ,  70.46635905,\n",
              "         83.8261872 ,  86.27933788,  86.52815941,  87.03397008,\n",
              "         89.74660334,  99.36594781, 101.34214166, 103.31249038,\n",
              "        103.31593712, 108.01854369, 119.90310006, 119.94959562,\n",
              "        124.75355905, 128.7366845 , 139.57635971, 139.91014465,\n",
              "        151.29235671, 153.76697832, 154.66902624, 156.29801143,\n",
              "        156.33123729, 163.25348575, 163.67266148, 176.26098969]),\n",
              " array([1.00983000e-02, 2.78138417e-02, 6.35002544e-02, 2.16275579e-02,\n",
              "        1.09787396e-04, 2.65045061e-04, 5.53507152e-04, 3.19425688e-04,\n",
              "        3.88874167e-07, 5.33623857e-07, 1.14119813e-06, 3.27269279e-07,\n",
              "        5.23026890e-08, 2.27389398e-08, 5.01727158e-08, 8.26693090e-09,\n",
              "        7.95905462e-11, 6.67765254e-11, 1.35914845e-10, 2.43528531e-10,\n",
              "        1.78467854e-10, 8.32304734e-12, 8.25046367e-12, 8.13674908e-12,\n",
              "        1.72402093e-11, 5.75038971e-12, 1.12721602e-13, 2.37831788e-13,\n",
              "        7.63908741e-14, 3.39175550e-14, 1.00129394e-15, 1.89425608e-15,\n",
              "        4.47824564e-17, 3.64896841e-17, 5.51980265e-17, 6.21711856e-17,\n",
              "        1.29802887e-16, 1.83205322e-17, 3.27300804e-17, 5.02931489e-19]))"
            ]
          },
          "metadata": {},
          "execution_count": 104
        }
      ],
      "source": [
        "acorr_ljungbox(cad_rolling_residue)"
      ]
    },
    {
      "cell_type": "code",
      "execution_count": 105,
      "metadata": {
        "id": "T-kstRJOE40j",
        "outputId": "0d647e61-4588-428c-95d6-b9bd29b92589",
        "colab": {
          "base_uri": "https://localhost:8080/"
        }
      },
      "outputs": [
        {
          "output_type": "execute_result",
          "data": {
            "text/plain": [
              "(array([ 4.01596825,  4.16038732,  6.87135985,  9.2081671 , 10.42580899,\n",
              "        10.80503193, 11.27442569, 11.47756438, 12.15626467, 12.34287355,\n",
              "        14.43028543, 15.11450104, 17.97474771, 19.27933801, 19.64520193,\n",
              "        30.72419905, 38.32162907, 38.37688449, 39.70640464, 39.70674297,\n",
              "        40.0218136 , 40.42525915, 40.49700988, 40.73609903, 41.82666898,\n",
              "        42.76265564, 43.92834674, 44.18751238, 49.59897979, 49.71215878,\n",
              "        50.8726929 , 51.33927195, 53.90845473, 54.26415597, 54.2771955 ,\n",
              "        54.46684984, 57.0514814 , 59.34983087, 64.01945411, 71.1790807 ]),\n",
              " array([0.04507134, 0.12490602, 0.07611298, 0.05610176, 0.06403093,\n",
              "        0.09459232, 0.12708858, 0.1760795 , 0.20464255, 0.26276439,\n",
              "        0.21009142, 0.23523437, 0.15848063, 0.1545478 , 0.18596969,\n",
              "        0.01458963, 0.00221943, 0.00345208, 0.00357528, 0.00543946,\n",
              "        0.00739149, 0.00963869, 0.01351025, 0.01780201, 0.01875892,\n",
              "        0.02045513, 0.02103292, 0.02661962, 0.00997272, 0.01328372,\n",
              "        0.01367923, 0.01649215, 0.01224307, 0.01508788, 0.01985578,\n",
              "        0.02484541, 0.01867755, 0.01489781, 0.00699399, 0.00174262]))"
            ]
          },
          "metadata": {},
          "execution_count": 105
        }
      ],
      "source": [
        "acorr_ljungbox(aud_rolling_residue)"
      ]
    },
    {
      "cell_type": "code",
      "execution_count": 106,
      "metadata": {
        "id": "bjU4Kb7PE40j",
        "outputId": "e58bd910-a51b-481e-c45a-01c72b36f7eb",
        "colab": {
          "base_uri": "https://localhost:8080/"
        }
      },
      "outputs": [
        {
          "output_type": "execute_result",
          "data": {
            "text/plain": [
              "(array([9.48583839e-04, 2.16356901e-01, 5.91879971e-01, 6.27314416e-01,\n",
              "        8.93764852e-01, 1.83178910e+00, 2.25172150e+00, 2.27048981e+00,\n",
              "        2.30747078e+00, 4.31318463e+00, 7.52957928e+00, 8.35957467e+00,\n",
              "        8.41784062e+00, 9.12871197e+00, 1.70393884e+01, 1.71284292e+01,\n",
              "        1.95430724e+01, 1.95672571e+01, 2.11281462e+01, 2.32330562e+01,\n",
              "        2.33208703e+01, 2.36269040e+01, 2.37623272e+01, 2.38121016e+01,\n",
              "        2.38815133e+01, 2.41503105e+01, 2.41967134e+01, 2.47905251e+01,\n",
              "        2.50163246e+01, 2.50183760e+01, 2.51883921e+01, 2.58758435e+01,\n",
              "        2.61142945e+01, 2.63891636e+01, 2.86044067e+01, 2.87025852e+01,\n",
              "        2.93722357e+01, 4.06783002e+01, 4.23611255e+01, 4.24120181e+01]),\n",
              " array([0.97542977, 0.89746743, 0.89828873, 0.9599806 , 0.9706714 ,\n",
              "        0.93450054, 0.94460541, 0.97157616, 0.98562114, 0.9321147 ,\n",
              "        0.75472021, 0.75643753, 0.81535417, 0.82271791, 0.31651522,\n",
              "        0.37733395, 0.29826456, 0.35770186, 0.32976355, 0.27749642,\n",
              "        0.32711175, 0.36708568, 0.41706551, 0.47238306, 0.52622817,\n",
              "        0.56737057, 0.61938329, 0.63921149, 0.67740007, 0.72413835,\n",
              "        0.75922731, 0.76907285, 0.79708163, 0.82119517, 0.76901565,\n",
              "        0.80123946, 0.80981252, 0.35330364, 0.3280843 , 0.36742093]))"
            ]
          },
          "metadata": {},
          "execution_count": 106
        }
      ],
      "source": [
        "acorr_ljungbox(gbp_rolling_residue)"
      ]
    },
    {
      "cell_type": "markdown",
      "metadata": {
        "id": "PFFmV8J6E40j"
      },
      "source": [
        "## 線性加上非線性部分"
      ]
    },
    {
      "cell_type": "markdown",
      "metadata": {
        "id": "d3vdOmnwE40j"
      },
      "source": [
        "### recursive_LSTM"
      ]
    },
    {
      "cell_type": "code",
      "execution_count": 107,
      "metadata": {
        "id": "G-MZlxmbE40j"
      },
      "outputs": [],
      "source": [
        "cad_combined_recursive_LSTM_residue = cad_groundtruth - cad_recursive_LSTM_pred\n",
        "aud_combined_recursive_LSTM_residue = aud_groundtruth - aud_recursive_LSTM_pred\n",
        "gbp_combined_recursive_LSTM_residue = gbp_groundtruth - gbp_recursive_LSTM_pred\n"
      ]
    },
    {
      "cell_type": "code",
      "execution_count": 108,
      "metadata": {
        "id": "0WOkCwbOE40j",
        "outputId": "17761686-1c71-4aa9-e4c6-55ec54cac977",
        "colab": {
          "base_uri": "https://localhost:8080/"
        }
      },
      "outputs": [
        {
          "output_type": "execute_result",
          "data": {
            "text/plain": [
              "(array([ 0.11039674,  0.7585303 ,  1.87249662,  2.30152472,  2.40810206,\n",
              "         3.98321142,  4.14740025,  4.33428591,  4.33428821,  5.02019104,\n",
              "         5.93639632,  6.04428498,  6.99096028,  7.14382444,  7.22808357,\n",
              "         7.34972535, 11.88175344, 12.42298959, 12.6359387 , 12.65618267,\n",
              "        14.11160054, 14.24957263, 14.62860817, 14.96615667, 15.02148999,\n",
              "        20.38794997, 23.90668186, 24.14537847, 24.3932559 , 26.10986757,\n",
              "        27.99921434, 28.47546256, 33.68386966, 33.71654877, 34.34185166,\n",
              "        34.35965796, 37.40041248, 37.56853241, 38.75608331, 40.81056588]),\n",
              " array([0.73969291, 0.68436413, 0.59928732, 0.68049147, 0.79026696,\n",
              "        0.67894849, 0.76265193, 0.82577422, 0.88806618, 0.88982516,\n",
              "        0.87757416, 0.91383322, 0.90261681, 0.92902513, 0.95100867,\n",
              "        0.96591679, 0.80724401, 0.82464825, 0.85667582, 0.89164369,\n",
              "        0.86475799, 0.89238517, 0.90744859, 0.92174505, 0.94087881,\n",
              "        0.77282428, 0.63548738, 0.67383912, 0.70931266, 0.66951188,\n",
              "        0.62120553, 0.64565899, 0.43421959, 0.48143877, 0.4997004 ,\n",
              "        0.5467136 , 0.45069422, 0.48924691, 0.4808823 , 0.43466176]))"
            ]
          },
          "metadata": {},
          "execution_count": 108
        }
      ],
      "source": [
        "acorr_ljungbox(cad_combined_recursive_LSTM_residue)"
      ]
    },
    {
      "cell_type": "code",
      "execution_count": 109,
      "metadata": {
        "id": "9zWUo8hbE40j",
        "outputId": "9341efb6-8b0c-4281-aca6-46598a451ca8",
        "colab": {
          "base_uri": "https://localhost:8080/"
        }
      },
      "outputs": [
        {
          "output_type": "execute_result",
          "data": {
            "text/plain": [
              "(array([ 8.99483678, 16.46393391, 18.79333934, 19.46077852, 20.83262225,\n",
              "        23.62422717, 30.91749999, 35.41723078, 36.52383601, 36.54077652,\n",
              "        38.35238034, 38.62086844, 38.6208689 , 39.40884988, 41.82699272,\n",
              "        43.22029834, 43.27830493, 43.55222981, 44.89245127, 45.37261299,\n",
              "        45.50559833, 45.68830255, 45.69796515, 49.46138517, 50.07998174,\n",
              "        50.12919007, 51.07959248, 52.05687243, 52.20665046, 52.57968769,\n",
              "        53.128382  , 54.38117211, 54.50044074, 57.60081969, 57.96481704,\n",
              "        58.60477728, 61.01796861, 66.16589487, 72.6770038 , 72.73214256]),\n",
              " array([2.70743455e-03, 2.66012580e-04, 3.01658944e-04, 6.37912503e-04,\n",
              "        8.71208171e-04, 6.12228443e-04, 6.43902793e-05, 2.24418044e-05,\n",
              "        3.19974377e-05, 6.79341547e-05, 6.82127656e-05, 1.21487171e-04,\n",
              "        2.29786208e-04, 3.15271408e-04, 2.38948854e-04, 2.58879525e-04,\n",
              "        4.37200152e-04, 6.68238809e-04, 7.09560693e-04, 9.82021048e-04,\n",
              "        1.48586218e-03, 2.16836479e-03, 3.26079275e-03, 1.65703798e-03,\n",
              "        2.08328867e-03, 3.03434721e-03, 3.40713162e-03, 3.77848395e-03,\n",
              "        5.16908175e-03, 6.59120432e-03, 7.96688944e-03, 8.06781904e-03,\n",
              "        1.06669037e-02, 6.95293747e-03, 8.65646379e-03, 1.00329771e-02,\n",
              "        7.73587311e-03, 3.11194715e-03, 8.52495250e-04, 1.18411974e-03]))"
            ]
          },
          "metadata": {},
          "execution_count": 109
        }
      ],
      "source": [
        "acorr_ljungbox(aud_combined_recursive_LSTM_residue)"
      ]
    },
    {
      "cell_type": "code",
      "execution_count": 110,
      "metadata": {
        "id": "Z30cYISzE40j",
        "outputId": "d42be022-bb15-4e4b-c90b-b9d5e078b5be",
        "colab": {
          "base_uri": "https://localhost:8080/"
        }
      },
      "outputs": [
        {
          "output_type": "execute_result",
          "data": {
            "text/plain": [
              "(array([ 0.17633618,  2.33659131,  3.90246216,  4.57825321,  4.89672036,\n",
              "         6.49728331, 18.60025401, 19.72924833, 25.3544204 , 27.23356296,\n",
              "        27.23365748, 28.49508025, 29.35416331, 29.36486226, 29.37616998,\n",
              "        30.09259296, 32.26130988, 32.2950258 , 32.46910816, 32.97057423,\n",
              "        33.01842638, 33.42383213, 33.97816585, 35.30410935, 37.33912889,\n",
              "        37.45405965, 37.68845432, 39.6829887 , 39.93224281, 41.59421624,\n",
              "        42.25469775, 43.20441615, 45.20059062, 45.29851675, 45.94286445,\n",
              "        45.96140502, 47.24872004, 50.37113047, 53.08949411, 53.32223389]),\n",
              " array([0.67454096, 0.31089636, 0.2721909 , 0.33336925, 0.42861429,\n",
              "        0.3698449 , 0.00953624, 0.0114104 , 0.00260315, 0.00239163,\n",
              "        0.00423598, 0.00467939, 0.00582896, 0.00932414, 0.01438079,\n",
              "        0.01752797, 0.01396129, 0.02028277, 0.02765592, 0.03399245,\n",
              "        0.0460132 , 0.05615558, 0.06547456, 0.0640171 , 0.05359485,\n",
              "        0.06799263, 0.08291704, 0.07054647, 0.08505084, 0.07749499,\n",
              "        0.08561951, 0.08926311, 0.07657312, 0.09320278, 0.10204259,\n",
              "        0.12355796, 0.12054176, 0.08633384, 0.06562036, 0.07736256]))"
            ]
          },
          "metadata": {},
          "execution_count": 110
        }
      ],
      "source": [
        "acorr_ljungbox(gbp_combined_recursive_LSTM_residue)"
      ]
    },
    {
      "cell_type": "markdown",
      "metadata": {
        "id": "5nvrU0YGE40k"
      },
      "source": [
        "### recursive_Self_Attention"
      ]
    },
    {
      "cell_type": "code",
      "execution_count": 111,
      "metadata": {
        "id": "2YvTlsagE40k"
      },
      "outputs": [],
      "source": [
        "cad_combined_recursive_Self_Attention_residue = cad_groundtruth - cad_recursive_Self_Attention_pred\n",
        "aud_combined_recursive_Self_Attention_residue = aud_groundtruth - aud_recursive_Self_Attention_pred\n",
        "gbp_combined_recursive_Self_Attention_residue = gbp_groundtruth - gbp_recursive_Self_Attention_pred\n"
      ]
    },
    {
      "cell_type": "code",
      "execution_count": 112,
      "metadata": {
        "id": "SchFC7AbE40k",
        "outputId": "262a4d13-fcc7-409d-86d3-cc6a0011d96a",
        "colab": {
          "base_uri": "https://localhost:8080/"
        }
      },
      "outputs": [
        {
          "output_type": "execute_result",
          "data": {
            "text/plain": [
              "(array([ 0.18484302,  0.18716811,  2.15895149,  3.44385214,  3.45513934,\n",
              "         4.9962272 ,  5.16539153,  5.35690052,  5.35772133,  6.00238121,\n",
              "         6.97530686,  7.11710187,  8.03736006,  8.1980319 ,  8.2881472 ,\n",
              "         8.44274105, 12.84514818, 13.42465302, 13.61258819, 13.62850228,\n",
              "        15.13845799, 15.27674508, 15.71544151, 15.98258103, 16.02754566,\n",
              "        21.48488671, 25.02726786, 25.34993411, 25.56936749, 27.3408097 ,\n",
              "        29.074122  , 29.56200148, 34.52546185, 34.57270578, 35.26253135,\n",
              "        35.26812428, 38.41976785, 38.58671253, 39.83942312, 41.85707551]),\n",
              " array([0.66724384, 0.91066147, 0.54007884, 0.48646694, 0.63018622,\n",
              "        0.5442971 , 0.63978765, 0.71883736, 0.80207683, 0.81506315,\n",
              "        0.80107966, 0.84977887, 0.84115784, 0.87875581, 0.91171149,\n",
              "        0.93458035, 0.74648911, 0.76575372, 0.80578901, 0.84882129,\n",
              "        0.81594079, 0.85009017, 0.86717691, 0.88870371, 0.91400602,\n",
              "        0.71652295, 0.57293379, 0.60872967, 0.64839706, 0.60532456,\n",
              "        0.56537285, 0.59051092, 0.39480336, 0.44041823, 0.4557925 ,\n",
              "        0.5032079 , 0.4050361 , 0.44297676, 0.4325779 , 0.39018421]))"
            ]
          },
          "metadata": {},
          "execution_count": 112
        }
      ],
      "source": [
        "acorr_ljungbox(cad_combined_recursive_Self_Attention_residue)"
      ]
    },
    {
      "cell_type": "code",
      "execution_count": 113,
      "metadata": {
        "id": "pE2M5af7E40k",
        "outputId": "46a1037e-a884-435c-a41d-7bd861a0f874",
        "colab": {
          "base_uri": "https://localhost:8080/"
        }
      },
      "outputs": [
        {
          "output_type": "execute_result",
          "data": {
            "text/plain": [
              "(array([ 6.47758259, 15.13518002, 16.36167023, 16.65903023, 17.80683862,\n",
              "        20.08907579, 27.04831918, 31.65084268, 32.6888996 , 32.69356033,\n",
              "        34.49901322, 34.68739333, 34.68751374, 35.39678621, 37.83768523,\n",
              "        39.18640891, 39.23124559, 39.50111151, 40.7449972 , 41.18213361,\n",
              "        41.2989702 , 41.45907555, 41.47244442, 45.15263381, 45.76778911,\n",
              "        45.8130421 , 46.75792754, 47.74576942, 47.88556645, 48.29125118,\n",
              "        48.90306172, 50.11140708, 50.19961605, 53.31835345, 53.7098168 ,\n",
              "        54.29309065, 56.77290846, 61.55132848, 67.96187373, 68.00357116]),\n",
              " array([0.01092435, 0.00051694, 0.0009559 , 0.00225111, 0.00319849,\n",
              "        0.00267008, 0.00032667, 0.00010755, 0.00015127, 0.00030663,\n",
              "        0.00029961, 0.0005251 , 0.00094544, 0.00128372, 0.00095348,\n",
              "        0.00102222, 0.00165928, 0.00243932, 0.00260934, 0.00352967,\n",
              "        0.00514837, 0.00726333, 0.01045143, 0.00558771, 0.00682744,\n",
              "        0.00957071, 0.01052997, 0.01141158, 0.01510456, 0.01853835,\n",
              "        0.02151638, 0.02174816, 0.02799759, 0.01862793, 0.02244089,\n",
              "        0.02576662, 0.01982045, 0.00916345, 0.00276916, 0.00374586]))"
            ]
          },
          "metadata": {},
          "execution_count": 113
        }
      ],
      "source": [
        "acorr_ljungbox(aud_combined_recursive_Self_Attention_residue)"
      ]
    },
    {
      "cell_type": "code",
      "execution_count": 114,
      "metadata": {
        "id": "0gzyYzRvE40k",
        "outputId": "a3e06dd1-9ccb-4dbe-d763-2e9c27187aec",
        "colab": {
          "base_uri": "https://localhost:8080/"
        }
      },
      "outputs": [
        {
          "output_type": "execute_result",
          "data": {
            "text/plain": [
              "(array([ 0.24176547,  2.56442612,  4.39959629,  5.32919805,  5.47020951,\n",
              "         7.10198974, 19.12559351, 20.26916421, 25.97250521, 27.94024713,\n",
              "        27.94197568, 29.10068443, 30.00694299, 30.02419992, 30.03692439,\n",
              "        30.75591407, 32.89039339, 32.92537046, 33.08650283, 33.58599371,\n",
              "        33.63416658, 34.02540438, 34.56710619, 35.86880629, 37.91761353,\n",
              "        38.02517495, 38.25542815, 40.26142997, 40.52286975, 42.2223666 ,\n",
              "        42.89664834, 43.82455984, 45.81548996, 45.90605917, 46.55119452,\n",
              "        46.56473064, 47.89323862, 51.04754264, 53.79082292, 54.01423035]),\n",
              " array([0.6229339 , 0.27742267, 0.22142282, 0.25515601, 0.36122358,\n",
              "        0.31151821, 0.00780288, 0.0093643 , 0.00206426, 0.00184544,\n",
              "        0.00330425, 0.00380658, 0.00469887, 0.00757355, 0.01178904,\n",
              "        0.01445492, 0.01163753, 0.01704078, 0.02349366, 0.02906554,\n",
              "        0.03964131, 0.04883289, 0.05739068, 0.05651659, 0.04712486,\n",
              "        0.06023625, 0.07391323, 0.06266339, 0.07574415, 0.06849433,\n",
              "        0.07574574, 0.07948888, 0.06815558, 0.08349949, 0.09169075,\n",
              "        0.11169769, 0.10829153, 0.07668207, 0.05778067, 0.06854687]))"
            ]
          },
          "metadata": {},
          "execution_count": 114
        }
      ],
      "source": [
        "acorr_ljungbox(gbp_combined_recursive_Self_Attention_residue)"
      ]
    },
    {
      "cell_type": "markdown",
      "metadata": {
        "id": "UE8FS_xDE40k"
      },
      "source": [
        "### rolling_LSTM"
      ]
    },
    {
      "cell_type": "code",
      "execution_count": 115,
      "metadata": {
        "id": "--zTg5-HE40k"
      },
      "outputs": [],
      "source": [
        "cad_combined_rolling_LSTM_residue = cad_groundtruth - cad_rolling_LSTM_pred\n",
        "aud_combined_rolling_LSTM_residue = aud_groundtruth - aud_rolling_LSTM_pred\n",
        "gbp_combined_rolling_LSTM_residue = gbp_groundtruth - gbp_rolling_LSTM_pred\n"
      ]
    },
    {
      "cell_type": "code",
      "execution_count": 116,
      "metadata": {
        "id": "V1TyzPs1E40k",
        "outputId": "5279b3a3-3fa1-46e4-98ed-3d50121a0d02",
        "colab": {
          "base_uri": "https://localhost:8080/"
        }
      },
      "outputs": [
        {
          "output_type": "execute_result",
          "data": {
            "text/plain": [
              "(array([ 0.11012607,  0.75882426,  1.87187575,  2.29996405,  2.40713516,\n",
              "         3.98467343,  4.14814898,  4.33588367,  4.33588391,  5.01948866,\n",
              "         5.93829731,  6.04525282,  6.99430873,  7.14626741,  7.22982008,\n",
              "         7.35232333, 11.8788234 , 12.4221705 , 12.63642672, 12.6570759 ,\n",
              "        14.11602903, 14.25296267, 14.63356117, 14.96958753, 15.02435456,\n",
              "        20.39698471, 23.91123383, 24.15105685, 24.40009044, 26.11987668,\n",
              "        28.0061829 , 28.48096847, 33.69438751, 33.72677026, 34.35086551,\n",
              "        34.36886864, 37.40711928, 37.57470731, 38.7608873 , 40.81364695]),\n",
              " array([0.74000065, 0.68426355, 0.59942023, 0.6807756 , 0.79041108,\n",
              "        0.67875063, 0.76256423, 0.82561903, 0.88794847, 0.88987236,\n",
              "        0.87744933, 0.91378371, 0.90244462, 0.92892608, 0.9509557 ,\n",
              "        0.96585761, 0.80741873, 0.82469341, 0.85665228, 0.89160793,\n",
              "        0.86456392, 0.8922584 , 0.90728423, 0.92164541, 0.94081144,\n",
              "        0.77238   , 0.63523537, 0.67353761, 0.70896783, 0.66899878,\n",
              "        0.62084576, 0.64538256, 0.43371799, 0.4809429 , 0.49926584,\n",
              "        0.54627061, 0.45038826, 0.48896271, 0.48066496, 0.43452818]))"
            ]
          },
          "metadata": {},
          "execution_count": 116
        }
      ],
      "source": [
        "acorr_ljungbox(cad_combined_rolling_LSTM_residue)"
      ]
    },
    {
      "cell_type": "code",
      "execution_count": 117,
      "metadata": {
        "id": "5og7HRrSE40k",
        "outputId": "1cfcfa5b-ea4a-4ea5-8dbf-7dac30a55a1d",
        "colab": {
          "base_uri": "https://localhost:8080/"
        }
      },
      "outputs": [
        {
          "output_type": "execute_result",
          "data": {
            "text/plain": [
              "(array([ 7.01007467, 15.80880998, 18.01801931, 18.92378784, 19.73679649,\n",
              "        21.99710679, 29.02062664, 33.50836377, 34.56785811, 34.57322111,\n",
              "        36.33181076, 36.5803416 , 36.5807208 , 37.29849534, 39.72251268,\n",
              "        41.0741644 , 41.12438687, 41.39752324, 42.70788962, 43.17171056,\n",
              "        43.30504838, 43.4854977 , 43.50136117, 47.26320106, 47.91038083,\n",
              "        47.94933949, 48.89731255, 49.97926301, 50.10090055, 50.45887145,\n",
              "        50.9905521 , 52.24654598, 52.34250141, 55.38470427, 55.74860027,\n",
              "        56.36499574, 58.76066125, 63.71928447, 70.16885036, 70.21093402]),\n",
              " array([8.10522997e-03, 3.69114011e-04, 4.36101756e-04, 8.13508311e-04,\n",
              "        1.40010639e-03, 1.21233590e-03, 1.43439167e-04, 4.98619827e-05,\n",
              "        7.09981014e-05, 1.47624151e-04, 1.49021280e-04, 2.61226181e-04,\n",
              "        4.81847559e-04, 6.64730182e-04, 4.99350040e-04, 5.41454156e-04,\n",
              "        8.96024159e-04, 1.34137466e-03, 1.42091835e-03, 1.94013440e-03,\n",
              "        2.87337566e-03, 4.11032312e-03, 6.03600416e-03, 3.11063622e-03,\n",
              "        3.82285510e-03, 5.47576261e-03, 6.08520487e-03, 6.50202851e-03,\n",
              "        8.80820784e-03, 1.11071764e-02, 1.33057856e-02, 1.33825645e-02,\n",
              "        1.74964329e-02, 1.16933812e-02, 1.43581642e-02, 1.65437957e-02,\n",
              "        1.28784499e-02, 5.57220220e-03, 1.60982520e-03, 2.20847714e-03]))"
            ]
          },
          "metadata": {},
          "execution_count": 117
        }
      ],
      "source": [
        "acorr_ljungbox(aud_combined_rolling_LSTM_residue)"
      ]
    },
    {
      "cell_type": "code",
      "execution_count": 118,
      "metadata": {
        "id": "f-TPXPqGE40k",
        "outputId": "15b20e5c-4b1c-4d6f-9f41-1c4f5e857db2",
        "colab": {
          "base_uri": "https://localhost:8080/"
        }
      },
      "outputs": [
        {
          "output_type": "execute_result",
          "data": {
            "text/plain": [
              "(array([ 0.19580725,  2.3782424 ,  3.94865174,  4.6260276 ,  4.94617939,\n",
              "         6.55616356, 18.68105455, 19.81857694, 25.46360102, 27.34614494,\n",
              "        27.34625248, 28.60590337, 29.4624115 , 29.47294011, 29.48413292,\n",
              "        30.19956602, 32.37013842, 32.40282873, 32.57893839, 33.07833301,\n",
              "        33.12667304, 33.53145045, 34.08735649, 35.40905721, 37.43774773,\n",
              "        37.55142278, 37.78471391, 39.77944067, 40.03030479, 41.69200959,\n",
              "        42.35238805, 43.29952883, 45.29172232, 45.38972737, 46.034242  ,\n",
              "        46.05246508, 47.34616   , 50.47455923, 53.20377944, 53.4335783 ]),\n",
              " array([0.65812661, 0.30448873, 0.26706246, 0.32786429, 0.42248382,\n",
              "        0.36384727, 0.00924741, 0.01104466, 0.00249895, 0.0022952 ,\n",
              "        0.00407264, 0.00450653, 0.00562517, 0.00901316, 0.0139238 ,\n",
              "        0.01699452, 0.01353063, 0.01969087, 0.02686965, 0.03307886,\n",
              "        0.04483124, 0.0547791 , 0.06390557, 0.06256147, 0.05243993,\n",
              "        0.06661284, 0.08132649, 0.0691762 , 0.08344263, 0.07603156,\n",
              "        0.08405125, 0.08770247, 0.0752731 , 0.09168956, 0.10042972,\n",
              "        0.12170682, 0.11862245, 0.08479624, 0.06428468, 0.07588352]))"
            ]
          },
          "metadata": {},
          "execution_count": 118
        }
      ],
      "source": [
        "acorr_ljungbox(gbp_combined_rolling_LSTM_residue)"
      ]
    },
    {
      "cell_type": "markdown",
      "metadata": {
        "id": "PI6IAzJAE40k"
      },
      "source": [
        "### rolling_Self_Attention"
      ]
    },
    {
      "cell_type": "code",
      "execution_count": 119,
      "metadata": {
        "id": "ADhiRyUSE40k"
      },
      "outputs": [],
      "source": [
        "cad_combined_rolling_Self_Attention_residue = cad_groundtruth - cad_rolling_Self_Attention_pred\n",
        "aud_combined_rolling_Self_Attention_residue = aud_groundtruth - aud_rolling_Self_Attention_pred\n",
        "gbp_combined_rolling_Self_Attention_residue = gbp_groundtruth - gbp_rolling_Self_Attention_pred\n"
      ]
    },
    {
      "cell_type": "code",
      "execution_count": 120,
      "metadata": {
        "id": "VA2WFb8FE40k",
        "outputId": "ebbdd97d-77f9-4452-9dce-5ebb5ffec844",
        "colab": {
          "base_uri": "https://localhost:8080/"
        }
      },
      "outputs": [
        {
          "output_type": "execute_result",
          "data": {
            "text/plain": [
              "(array([ 0.18444274,  0.18680677,  2.15720114,  3.44033016,  3.4514095 ,\n",
              "         4.99514874,  5.16350042,  5.35598295,  5.35687177,  5.99907228,\n",
              "         6.97496486,  7.11557438,  8.03847458,  8.19809348,  8.28738244,\n",
              "         8.44307334, 12.83938181, 13.42131647, 13.6106199 , 13.62693324,\n",
              "        15.14087351, 15.27800312, 15.71859   , 15.98421195, 16.02860045,\n",
              "        21.49289979, 25.03024705, 25.35438664, 25.57503434, 27.35005622,\n",
              "        29.08012893, 29.56636529, 34.53525107, 34.58209126, 35.27047712,\n",
              "        35.27619563, 38.42497016, 38.59131575, 39.84245461, 41.85821685]),\n",
              " array([0.66758269, 0.91082601, 0.54042753, 0.48700908, 0.63075241,\n",
              "        0.54443548, 0.64001813, 0.71893825, 0.8021557 , 0.81534118,\n",
              "        0.80110726, 0.84988229, 0.84108472, 0.87875245, 0.9117449 ,\n",
              "        0.93456879, 0.74687027, 0.76596099, 0.8058987 , 0.84889648,\n",
              "        0.81581736, 0.85003372, 0.86704817, 0.88864503, 0.91397441,\n",
              "        0.71609599, 0.57276682, 0.60848592, 0.64809723, 0.60483644,\n",
              "        0.56506001, 0.59028777, 0.39435407, 0.43997501, 0.45541846,\n",
              "        0.50282381, 0.40480788, 0.4427707 , 0.43244502, 0.39013677]))"
            ]
          },
          "metadata": {},
          "execution_count": 120
        }
      ],
      "source": [
        "acorr_ljungbox(cad_combined_rolling_Self_Attention_residue)"
      ]
    },
    {
      "cell_type": "code",
      "execution_count": 121,
      "metadata": {
        "id": "6GjXY5UuE40k",
        "outputId": "e304c949-0d8d-4874-9c3b-d7b7111569d5",
        "colab": {
          "base_uri": "https://localhost:8080/"
        }
      },
      "outputs": [
        {
          "output_type": "execute_result",
          "data": {
            "text/plain": [
              "(array([ 6.47252231, 15.12491893, 16.34958251, 16.64790264, 17.79748797,\n",
              "        20.08222227, 27.04536337, 31.65278591, 32.68838699, 32.69288065,\n",
              "        34.49552438, 34.68266018, 34.68275633, 35.39012151, 37.8275026 ,\n",
              "        39.17891994, 39.22423327, 39.4931898 , 40.73877666, 41.17677971,\n",
              "        41.29326869, 41.45392513, 41.46741091, 45.14513219, 45.76144125,\n",
              "        45.80710598, 46.75058997, 47.73964809, 47.88003997, 48.28670704,\n",
              "        48.89743286, 50.10394523, 50.1928742 , 53.3159906 , 53.7061328 ,\n",
              "        54.287784  , 56.7646977 , 61.53938402, 67.94508186, 67.98640761]),\n",
              " array([0.01095549, 0.0005196 , 0.00096138, 0.00226232, 0.00321122,\n",
              "        0.00267759, 0.00032707, 0.00010746, 0.0001513 , 0.00030671,\n",
              "        0.00030001, 0.00052601, 0.00094702, 0.00128665, 0.00095678,\n",
              "        0.00102477, 0.00166303, 0.00244534, 0.00261431, 0.00353528,\n",
              "        0.00515678, 0.00727367, 0.01046541, 0.00559916, 0.00683898,\n",
              "        0.00958529, 0.01054941, 0.01142883, 0.01512446, 0.01855783,\n",
              "        0.02154367, 0.02178427, 0.02803805, 0.01863765, 0.02245862,\n",
              "        0.02579523, 0.01985507, 0.00918814, 0.00278044, 0.00376103]))"
            ]
          },
          "metadata": {},
          "execution_count": 121
        }
      ],
      "source": [
        "acorr_ljungbox(aud_combined_rolling_Self_Attention_residue)"
      ]
    },
    {
      "cell_type": "code",
      "execution_count": 122,
      "metadata": {
        "id": "kvhJI9LaE40k",
        "outputId": "b9426e1c-ddf8-4059-8a78-95850e70f817",
        "colab": {
          "base_uri": "https://localhost:8080/"
        }
      },
      "outputs": [
        {
          "output_type": "execute_result",
          "data": {
            "text/plain": [
              "(array([ 0.26454719,  2.61060851,  4.45115314,  5.38294324,  5.52500329,\n",
              "         7.16586686, 19.21096787, 20.36311158, 26.08643535, 28.05774176,\n",
              "        28.05952763, 29.21642222, 30.12011757, 30.13716752, 30.1497743 ,\n",
              "        30.86775453, 33.00405128, 33.0379901 , 33.20107694, 33.69849938,\n",
              "        33.74715169, 34.1377404 , 34.68094342, 35.978397  , 38.02086094,\n",
              "        38.12721663, 38.35638378, 40.36254491, 40.62562637, 42.32480004,\n",
              "        42.99897064, 43.9243961 , 45.91126458, 46.00188512, 46.64728443,\n",
              "        46.66053712, 47.99561334, 51.15611806, 53.91039154, 54.13086376]),\n",
              " array([0.60701325, 0.27109004, 0.21668892, 0.25021207, 0.35521197,\n",
              "        0.30578008, 0.00755153, 0.0090462 , 0.0019775 , 0.00176722,\n",
              "        0.00317006, 0.00365858, 0.00452554, 0.00730673, 0.01139274,\n",
              "        0.01398905, 0.0112583 , 0.01651459, 0.02278728, 0.02823804,\n",
              "        0.03856141, 0.04756258, 0.05593229, 0.05515285, 0.04604508,\n",
              "        0.05893381, 0.07240003, 0.06136583, 0.07421586, 0.06711406,\n",
              "        0.07426383, 0.07800202, 0.06691761, 0.08204822, 0.09013708,\n",
              "        0.1099007 , 0.1064407 , 0.0752197 , 0.05652698, 0.06714732]))"
            ]
          },
          "metadata": {},
          "execution_count": 122
        }
      ],
      "source": [
        "acorr_ljungbox(gbp_combined_rolling_Self_Attention_residue)"
      ]
    }
  ],
  "metadata": {
    "accelerator": "GPU",
    "colab": {
      "name": "3_Prediction_Performance.ipynb",
      "provenance": []
    },
    "interpreter": {
      "hash": "df7b5488ca770e51839d47babcf4bff43b3ec2d4a9964e05f9d2336b92830421"
    },
    "kernelspec": {
      "display_name": "Python 3.8.8 64-bit ('quant': conda)",
      "language": "python",
      "name": "python3"
    },
    "language_info": {
      "codemirror_mode": {
        "name": "ipython",
        "version": 3
      },
      "file_extension": ".py",
      "mimetype": "text/x-python",
      "name": "python",
      "nbconvert_exporter": "python",
      "pygments_lexer": "ipython3",
      "version": "3.8.8"
    },
    "orig_nbformat": 4
  },
  "nbformat": 4,
  "nbformat_minor": 0
}