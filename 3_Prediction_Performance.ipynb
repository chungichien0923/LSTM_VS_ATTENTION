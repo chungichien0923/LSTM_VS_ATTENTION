{
 "cells": [
  {
   "cell_type": "code",
   "execution_count": 1,
   "metadata": {},
   "outputs": [
    {
     "name": "stdout",
     "output_type": "stream",
     "text": [
      "zsh:1: command not found: nvidia-smi\n"
     ]
    }
   ],
   "source": [
    "!nvidia-smi"
   ]
  },
  {
   "cell_type": "markdown",
   "metadata": {
    "id": "lFXXv86wjyXW"
   },
   "source": [
    "# 匯入函式庫"
   ]
  },
  {
   "cell_type": "code",
   "execution_count": 2,
   "metadata": {
    "executionInfo": {
     "elapsed": 4589,
     "status": "ok",
     "timestamp": 1640544478119,
     "user": {
      "displayName": "簡崇益",
      "photoUrl": "https://lh3.googleusercontent.com/a-/AOh14GgcDTBHfS21hHdrhReaQLqpeMbV5ZrPvPchQE8DPQ=s64",
      "userId": "00011288093613366882"
     },
     "user_tz": -480
    },
    "id": "Y6JbId_ijyXa"
   },
   "outputs": [],
   "source": [
    "import numpy as np\n",
    "import pandas as pd\n",
    "import random\n",
    "import torch\n",
    "import torch.nn as nn\n",
    "import torch.optim as optim\n",
    "from torch.utils.data import Dataset\n",
    "from torch.utils.data import DataLoader\n"
   ]
  },
  {
   "cell_type": "markdown",
   "metadata": {
    "id": "j5BJLLNqjyXf"
   },
   "source": [
    "# CPU/GPU、自定義資料集、模型、訓練函數"
   ]
  },
  {
   "cell_type": "code",
   "execution_count": 3,
   "metadata": {
    "executionInfo": {
     "elapsed": 11,
     "status": "ok",
     "timestamp": 1640544478953,
     "user": {
      "displayName": "簡崇益",
      "photoUrl": "https://lh3.googleusercontent.com/a-/AOh14GgcDTBHfS21hHdrhReaQLqpeMbV5ZrPvPchQE8DPQ=s64",
      "userId": "00011288093613366882"
     },
     "user_tz": -480
    },
    "id": "1Vci4FKYjyXf"
   },
   "outputs": [],
   "source": [
    "device = 'cuda' if torch.cuda.is_available() else 'cpu'"
   ]
  },
  {
   "cell_type": "code",
   "execution_count": 4,
   "metadata": {
    "executionInfo": {
     "elapsed": 11,
     "status": "ok",
     "timestamp": 1640544478953,
     "user": {
      "displayName": "簡崇益",
      "photoUrl": "https://lh3.googleusercontent.com/a-/AOh14GgcDTBHfS21hHdrhReaQLqpeMbV5ZrPvPchQE8DPQ=s64",
      "userId": "00011288093613366882"
     },
     "user_tz": -480
    },
    "id": "oeOCV01qjyXg"
   },
   "outputs": [],
   "source": [
    "def SetSeed(myseed):\n",
    "    # Python random module\n",
    "    random.seed(myseed)\n",
    "    # Numpy\n",
    "    np.random.seed(myseed)\n",
    "    # Torch\n",
    "    torch.manual_seed(myseed)\n",
    "    if torch.cuda.is_available():\n",
    "        torch.cuda.manual_seed(myseed)\n",
    "        torch.cuda.manual_seed_all(myseed)\n",
    "    torch.backends.cudnn.deterministic = True\n",
    "    torch.backends.cudnn.benchmark = False"
   ]
  },
  {
   "cell_type": "code",
   "execution_count": 5,
   "metadata": {
    "executionInfo": {
     "elapsed": 10,
     "status": "ok",
     "timestamp": 1640544478953,
     "user": {
      "displayName": "簡崇益",
      "photoUrl": "https://lh3.googleusercontent.com/a-/AOh14GgcDTBHfS21hHdrhReaQLqpeMbV5ZrPvPchQE8DPQ=s64",
      "userId": "00011288093613366882"
     },
     "user_tz": -480
    },
    "id": "h51i_qiLjyXh"
   },
   "outputs": [],
   "source": [
    "class TimeSeriesDataset(Dataset):\n",
    "    def __init__(self, X, WindowSize):\n",
    "        X = np.expand_dims(X, 1)\n",
    "        self.X = torch.from_numpy(X)\n",
    "        self.WindowSize = WindowSize\n",
    "        \n",
    "    def __len__(self):\n",
    "        return len(self.X) - self.WindowSize\n",
    "\n",
    "    def __getitem__(self, idx):\n",
    "        return (self.X[idx:idx+self.WindowSize], self.X[idx+self.WindowSize])\n",
    "        # return (X = [seqs, features], y)"
   ]
  },
  {
   "cell_type": "code",
   "execution_count": 6,
   "metadata": {
    "executionInfo": {
     "elapsed": 10,
     "status": "ok",
     "timestamp": 1640544478953,
     "user": {
      "displayName": "簡崇益",
      "photoUrl": "https://lh3.googleusercontent.com/a-/AOh14GgcDTBHfS21hHdrhReaQLqpeMbV5ZrPvPchQE8DPQ=s64",
      "userId": "00011288093613366882"
     },
     "user_tz": -480
    },
    "id": "FrOMyTWrjyXi"
   },
   "outputs": [],
   "source": [
    "class LSTM(nn.Module):\n",
    "    def __init__(self, num_layers, hidden_size):\n",
    "        super().__init__()\n",
    "        \n",
    "        self.Input_HiddenLayer = nn.LSTM(input_size=1, hidden_size=hidden_size, num_layers=num_layers)\n",
    "\n",
    "        self.OutputLayer = nn.Linear(hidden_size, 1)\n",
    "\n",
    "    def forward(self, input):\n",
    "        # input.shape = [BatchSize, WindowSize, 1]\n",
    "        input = input.permute(1, 0, 2)\n",
    "        # input.shape = [WindowSize, BatchSize, 1]\n",
    "        hidden, _ = self.Input_HiddenLayer(input)\n",
    "        # hidden.shape = [WindowSize, BatchSize, HiddenSize]\n",
    "        hidden = hidden[-1]\n",
    "        # hidden.shape = [BatchSize, HiddenSize]\n",
    "        output = self.OutputLayer(hidden)\n",
    "        \n",
    "        return output"
   ]
  },
  {
   "cell_type": "code",
   "execution_count": 7,
   "metadata": {},
   "outputs": [],
   "source": [
    "class Self_Attention(nn.Module):\n",
    "    def __init__(self, num_layers, hidden_size):\n",
    "        super().__init__()\n",
    "        self.num_layers = num_layers\n",
    "        \n",
    "        self.Input_First_HiddenLayer = nn.MultiheadAttention(embed_dim=hidden_size, num_heads=1)\n",
    "        self.Query_Key_Value_1 = nn.ModuleList([nn.Linear(1, hidden_size), nn.Linear(1, hidden_size), nn.Linear(1, hidden_size)])\n",
    "\n",
    "        self.Second_And_Following_HiddenLayer = nn.ModuleList([nn.MultiheadAttention(embed_dim=hidden_size, num_heads=1) for i in range(num_layers - 1)])\n",
    "        self.List_of_Query_Key_Value = nn.ModuleList([nn.ModuleList([nn.Linear(hidden_size, hidden_size) for q_k_v in range(3)]) for i in range(num_layers - 1)])\n",
    "\n",
    "        self.OutputLayer = nn.Linear(hidden_size, 1)\n",
    "\n",
    "    def forward(self, input):\n",
    "        # input.shape = [BatchSize, WindowSize, 1]\n",
    "        input = input.permute(1, 0, 2)\n",
    "        # input.shape = [WindowSize, BatchSize, 1]\n",
    "        Query1 = self.Query_Key_Value_1[0](input)\n",
    "        Key1 = self.Query_Key_Value_1[1](input)\n",
    "        Value1 = self.Query_Key_Value_1[2](input)\n",
    "        hidden, _ = self.Input_First_HiddenLayer(Query1, Key1, Value1)\n",
    "        # hidden.shape = [WindowSize, BatchSize, HiddenSize]\n",
    "        if self.num_layers > 1:\n",
    "            for i, Second_And_Following_HiddenLayer in enumerate(self.Second_And_Following_HiddenLayer):\n",
    "                Query = self.List_of_Query_Key_Value[i][0](hidden)\n",
    "                Key = self.List_of_Query_Key_Value[i][1](hidden)\n",
    "                Value = self.List_of_Query_Key_Value[i][2](hidden)\n",
    "                hidden, _ = Second_And_Following_HiddenLayer(Query, Key, Value)\n",
    "        # hidden.shape = [WindowSize, BatchSize, HiddenSize]\n",
    "        hidden = hidden[-1]\n",
    "        # hidden.shape = [BatchSize, HiddenSize]\n",
    "        output = self.OutputLayer(hidden)\n",
    "        \n",
    "        return output"
   ]
  },
  {
   "cell_type": "code",
   "execution_count": 8,
   "metadata": {
    "executionInfo": {
     "elapsed": 11,
     "status": "ok",
     "timestamp": 1640544478954,
     "user": {
      "displayName": "簡崇益",
      "photoUrl": "https://lh3.googleusercontent.com/a-/AOh14GgcDTBHfS21hHdrhReaQLqpeMbV5ZrPvPchQE8DPQ=s64",
      "userId": "00011288093613366882"
     },
     "user_tz": -480
    },
    "id": "kyiiEJqhjyXj"
   },
   "outputs": [],
   "source": [
    "def train_under_config(model_type,\n",
    "                       forex_data,\n",
    "                       length_input_sequence,\n",
    "                       num_epochs,\n",
    "                       num_hidden_layers,\n",
    "                       num_hidden_sizes,\n",
    "                       batch_sizes,\n",
    "                       device):\n",
    "    '''\n",
    "    model_type: LSTM or Self_Attention,\n",
    "    forex_data,\n",
    "    length_input_sequence,\n",
    "    num_epochs,\n",
    "    learning_rate,\n",
    "    num_hidden_layers,\n",
    "    num_hidden_sizes,\n",
    "    batch_sizes,\n",
    "    device\n",
    "    '''\n",
    "    # setseed\n",
    "    SetSeed(9527)\n",
    "    # dataset\n",
    "    training_data = forex_data.loc['1981-01-01':'2016-12-31'] # training_data = training set + validation set\n",
    "    training_dataset = TimeSeriesDataset(training_data, length_input_sequence)\n",
    "    # dataloader\n",
    "    training_dataloader = DataLoader(training_dataset, batch_size=batch_sizes, shuffle=True)\n",
    "    # model\n",
    "    model = model_type(num_hidden_layers, num_hidden_sizes).double()\n",
    "    # criterion & optimizer\n",
    "    criterion = nn.MSELoss()\n",
    "    optimizer = optim.Adam(model.parameters())\n",
    "    # training\n",
    "    model.to(device)\n",
    "    model.train()\n",
    "    for epoch in range(num_epochs):\n",
    "        for X, y in training_dataloader:\n",
    "            optimizer.zero_grad()\n",
    "            X, y = X.to(device), y.to(device)\n",
    "            ypred = model(X)\n",
    "            loss = criterion(ypred, y)\n",
    "            loss.backward()\n",
    "            optimizer.step()\n",
    "    \n",
    "    return model"
   ]
  },
  {
   "cell_type": "code",
   "execution_count": 54,
   "metadata": {
    "executionInfo": {
     "elapsed": 10,
     "status": "ok",
     "timestamp": 1640544478954,
     "user": {
      "displayName": "簡崇益",
      "photoUrl": "https://lh3.googleusercontent.com/a-/AOh14GgcDTBHfS21hHdrhReaQLqpeMbV5ZrPvPchQE8DPQ=s64",
      "userId": "00011288093613366882"
     },
     "user_tz": -480
    },
    "id": "8J8O5cBfjyXm"
   },
   "outputs": [],
   "source": [
    "# residue pred\n",
    "def ypred(data, length_input_sequence, model, device):\n",
    "    '''\n",
    "    data,\n",
    "    length_input_sequence,\n",
    "    model,\n",
    "    device\n",
    "    '''\n",
    "    # dataset\n",
    "    testing_start_index = len(data.loc['1981-01-01':'2016-12-31']) - length_input_sequence\n",
    "    testing_end_index = len(data.loc['1981-01-01':'2020-12-31'])\n",
    "    testing_data = data[testing_start_index:testing_end_index]\n",
    "    testing_dataset = TimeSeriesDataset(testing_data, length_input_sequence)\n",
    "    # dataloader\n",
    "    data_len = len(testing_dataset)\n",
    "    testing_dataloader = DataLoader(testing_dataset, batch_size=data_len, shuffle=False)\n",
    "    # evaluating\n",
    "    model.to(device)\n",
    "    model.eval()\n",
    "    for X, y in  testing_dataloader:\n",
    "        X, y = X.to(device), y.to(device)\n",
    "        with torch.no_grad():\n",
    "            ypred = model(X)\n",
    "            ypred = np.array(ypred.cpu()).flatten()\n",
    "    return ypred"
   ]
  },
  {
   "cell_type": "code",
   "execution_count": 36,
   "metadata": {},
   "outputs": [],
   "source": [
    "def prediction_on_testset(model_type, linear_data, residue_data, length_input_sequence, num_hidden_layers, num_hidden_sizes, batch_sizes, num_epochs):\n",
    "    model = train_under_config(model_type,\n",
    "                               residue_data,\n",
    "                               length_input_sequence,\n",
    "                               num_epochs,\n",
    "                               num_hidden_layers,\n",
    "                               num_hidden_sizes,\n",
    "                               batch_sizes,\n",
    "                               device)\n",
    "    model_type_linear_pred = np.array(linear_data.loc['2017-01-01':'2020-12-31'])\n",
    "    model_type_residue_pred = ypred(residue_data, length_input_sequence, model, device)\n",
    "    model_type_pred = model_type_linear_pred + model_type_residue_pred\n",
    "    return model_type_pred"
   ]
  },
  {
   "cell_type": "code",
   "execution_count": 42,
   "metadata": {},
   "outputs": [],
   "source": [
    "# random walk prediction\n",
    "def rw_pred(testing_data):\n",
    "    return np.zeros(len(testing_data))"
   ]
  },
  {
   "cell_type": "code",
   "execution_count": 12,
   "metadata": {},
   "outputs": [],
   "source": [
    "def root_mean_squared_error(ypred, ytrue):\n",
    "    squared_error = (ypred - ytrue) ** 2\n",
    "    mean_squared_error = sum(squared_error) / len(squared_error)\n",
    "    return np.sqrt(mean_squared_error)"
   ]
  },
  {
   "cell_type": "code",
   "execution_count": 13,
   "metadata": {},
   "outputs": [],
   "source": [
    "def mean_absolute_error(ypred, ytrue):\n",
    "    absolute_error = abs(ypred - ytrue)\n",
    "    return sum(absolute_error) / len(absolute_error)"
   ]
  },
  {
   "cell_type": "code",
   "execution_count": 14,
   "metadata": {},
   "outputs": [],
   "source": [
    "def direction_accuracy(ypred, ytrue):\n",
    "    ypred_elementwise_dot_ytrue = ypred * ytrue\n",
    "    same_direction_rate = sum(ypred_elementwise_dot_ytrue > 0) / len(ypred_elementwise_dot_ytrue)\n",
    "    return same_direction_rate"
   ]
  },
  {
   "cell_type": "markdown",
   "metadata": {
    "id": "dGMt4b9ujyXd"
   },
   "source": [
    "# 匯入訓練資料（訓練加驗證集）訓練，產生預測資料並計算模型的 RMSE, MAE, DA"
   ]
  },
  {
   "cell_type": "markdown",
   "metadata": {},
   "source": [
    "## Recursive window"
   ]
  },
  {
   "cell_type": "code",
   "execution_count": 28,
   "metadata": {},
   "outputs": [
    {
     "data": {
      "text/html": [
       "<div>\n",
       "<style scoped>\n",
       "    .dataframe tbody tr th:only-of-type {\n",
       "        vertical-align: middle;\n",
       "    }\n",
       "\n",
       "    .dataframe tbody tr th {\n",
       "        vertical-align: top;\n",
       "    }\n",
       "\n",
       "    .dataframe thead th {\n",
       "        text-align: right;\n",
       "    }\n",
       "</style>\n",
       "<table border=\"1\" class=\"dataframe\">\n",
       "  <thead>\n",
       "    <tr style=\"text-align: right;\">\n",
       "      <th></th>\n",
       "      <th>cad_recursive_linear_prediction</th>\n",
       "      <th>aud_recursive_linear_prediction</th>\n",
       "      <th>gbp_recursive_linear_prediction</th>\n",
       "    </tr>\n",
       "  </thead>\n",
       "  <tbody>\n",
       "    <tr>\n",
       "      <th>1981-01-02</th>\n",
       "      <td>-0.000018</td>\n",
       "      <td>-0.000058</td>\n",
       "      <td>-0.000071</td>\n",
       "    </tr>\n",
       "    <tr>\n",
       "      <th>1981-01-05</th>\n",
       "      <td>-0.000018</td>\n",
       "      <td>-0.000058</td>\n",
       "      <td>-0.000167</td>\n",
       "    </tr>\n",
       "    <tr>\n",
       "      <th>1981-01-06</th>\n",
       "      <td>-0.000018</td>\n",
       "      <td>-0.000058</td>\n",
       "      <td>0.000401</td>\n",
       "    </tr>\n",
       "    <tr>\n",
       "      <th>1981-01-07</th>\n",
       "      <td>-0.000018</td>\n",
       "      <td>-0.000058</td>\n",
       "      <td>0.000029</td>\n",
       "    </tr>\n",
       "    <tr>\n",
       "      <th>1981-01-08</th>\n",
       "      <td>-0.000018</td>\n",
       "      <td>-0.000058</td>\n",
       "      <td>-0.000221</td>\n",
       "    </tr>\n",
       "    <tr>\n",
       "      <th>...</th>\n",
       "      <td>...</td>\n",
       "      <td>...</td>\n",
       "      <td>...</td>\n",
       "    </tr>\n",
       "    <tr>\n",
       "      <th>2020-12-25</th>\n",
       "      <td>-0.000012</td>\n",
       "      <td>-0.000047</td>\n",
       "      <td>0.000109</td>\n",
       "    </tr>\n",
       "    <tr>\n",
       "      <th>2020-12-28</th>\n",
       "      <td>-0.000012</td>\n",
       "      <td>-0.000047</td>\n",
       "      <td>-0.000048</td>\n",
       "    </tr>\n",
       "    <tr>\n",
       "      <th>2020-12-29</th>\n",
       "      <td>-0.000012</td>\n",
       "      <td>-0.000048</td>\n",
       "      <td>-0.000323</td>\n",
       "    </tr>\n",
       "    <tr>\n",
       "      <th>2020-12-30</th>\n",
       "      <td>-0.000012</td>\n",
       "      <td>-0.000047</td>\n",
       "      <td>0.000074</td>\n",
       "    </tr>\n",
       "    <tr>\n",
       "      <th>2020-12-31</th>\n",
       "      <td>-0.000011</td>\n",
       "      <td>-0.000046</td>\n",
       "      <td>0.000251</td>\n",
       "    </tr>\n",
       "  </tbody>\n",
       "</table>\n",
       "<p>10435 rows × 3 columns</p>\n",
       "</div>"
      ],
      "text/plain": [
       "            cad_recursive_linear_prediction  aud_recursive_linear_prediction  \\\n",
       "1981-01-02                        -0.000018                        -0.000058   \n",
       "1981-01-05                        -0.000018                        -0.000058   \n",
       "1981-01-06                        -0.000018                        -0.000058   \n",
       "1981-01-07                        -0.000018                        -0.000058   \n",
       "1981-01-08                        -0.000018                        -0.000058   \n",
       "...                                     ...                              ...   \n",
       "2020-12-25                        -0.000012                        -0.000047   \n",
       "2020-12-28                        -0.000012                        -0.000047   \n",
       "2020-12-29                        -0.000012                        -0.000048   \n",
       "2020-12-30                        -0.000012                        -0.000047   \n",
       "2020-12-31                        -0.000011                        -0.000046   \n",
       "\n",
       "            gbp_recursive_linear_prediction  \n",
       "1981-01-02                        -0.000071  \n",
       "1981-01-05                        -0.000167  \n",
       "1981-01-06                         0.000401  \n",
       "1981-01-07                         0.000029  \n",
       "1981-01-08                        -0.000221  \n",
       "...                                     ...  \n",
       "2020-12-25                         0.000109  \n",
       "2020-12-28                        -0.000048  \n",
       "2020-12-29                        -0.000323  \n",
       "2020-12-30                         0.000074  \n",
       "2020-12-31                         0.000251  \n",
       "\n",
       "[10435 rows x 3 columns]"
      ]
     },
     "execution_count": 28,
     "metadata": {},
     "output_type": "execute_result"
    }
   ],
   "source": [
    "recursive_linear = pd.read_csv('./recursive_linear_prediction.csv', index_col=0)\n",
    "recursive_linear = recursive_linear.astype('float64')\n",
    "recursive_linear.index = pd.to_datetime(recursive_linear.index)\n",
    "\n",
    "cad_recursive_linear = recursive_linear.iloc[:,0]\n",
    "aud_recursive_linear = recursive_linear.iloc[:,1]\n",
    "gbp_recursive_linear = recursive_linear.iloc[:,2]\n",
    "\n",
    "recursive_linear"
   ]
  },
  {
   "cell_type": "code",
   "execution_count": 29,
   "metadata": {},
   "outputs": [
    {
     "data": {
      "text/html": [
       "<div>\n",
       "<style scoped>\n",
       "    .dataframe tbody tr th:only-of-type {\n",
       "        vertical-align: middle;\n",
       "    }\n",
       "\n",
       "    .dataframe tbody tr th {\n",
       "        vertical-align: top;\n",
       "    }\n",
       "\n",
       "    .dataframe thead th {\n",
       "        text-align: right;\n",
       "    }\n",
       "</style>\n",
       "<table border=\"1\" class=\"dataframe\">\n",
       "  <thead>\n",
       "    <tr style=\"text-align: right;\">\n",
       "      <th></th>\n",
       "      <th>cad_recursive_linear_residue</th>\n",
       "      <th>aud_recursive_linear_residue</th>\n",
       "      <th>gbp_recursive_linear_residue</th>\n",
       "    </tr>\n",
       "  </thead>\n",
       "  <tbody>\n",
       "    <tr>\n",
       "      <th>1981-01-02</th>\n",
       "      <td>-0.000221</td>\n",
       "      <td>-0.000959</td>\n",
       "      <td>-0.002864</td>\n",
       "    </tr>\n",
       "    <tr>\n",
       "      <th>1981-01-05</th>\n",
       "      <td>0.005142</td>\n",
       "      <td>0.003863</td>\n",
       "      <td>0.014132</td>\n",
       "    </tr>\n",
       "    <tr>\n",
       "      <th>1981-01-06</th>\n",
       "      <td>0.000374</td>\n",
       "      <td>0.003681</td>\n",
       "      <td>0.002493</td>\n",
       "    </tr>\n",
       "    <tr>\n",
       "      <th>1981-01-07</th>\n",
       "      <td>0.000255</td>\n",
       "      <td>0.000058</td>\n",
       "      <td>-0.004580</td>\n",
       "    </tr>\n",
       "    <tr>\n",
       "      <th>1981-01-08</th>\n",
       "      <td>0.000018</td>\n",
       "      <td>-0.002047</td>\n",
       "      <td>-0.003102</td>\n",
       "    </tr>\n",
       "    <tr>\n",
       "      <th>...</th>\n",
       "      <td>...</td>\n",
       "      <td>...</td>\n",
       "      <td>...</td>\n",
       "    </tr>\n",
       "    <tr>\n",
       "      <th>2020-12-25</th>\n",
       "      <td>-0.000117</td>\n",
       "      <td>0.001100</td>\n",
       "      <td>0.000038</td>\n",
       "    </tr>\n",
       "    <tr>\n",
       "      <th>2020-12-28</th>\n",
       "      <td>0.001426</td>\n",
       "      <td>-0.003377</td>\n",
       "      <td>-0.007949</td>\n",
       "    </tr>\n",
       "    <tr>\n",
       "      <th>2020-12-29</th>\n",
       "      <td>0.002194</td>\n",
       "      <td>0.003604</td>\n",
       "      <td>0.004107</td>\n",
       "    </tr>\n",
       "    <tr>\n",
       "      <th>2020-12-30</th>\n",
       "      <td>0.005254</td>\n",
       "      <td>0.010510</td>\n",
       "      <td>0.008920</td>\n",
       "    </tr>\n",
       "    <tr>\n",
       "      <th>2020-12-31</th>\n",
       "      <td>0.001413</td>\n",
       "      <td>0.001087</td>\n",
       "      <td>0.003047</td>\n",
       "    </tr>\n",
       "  </tbody>\n",
       "</table>\n",
       "<p>10435 rows × 3 columns</p>\n",
       "</div>"
      ],
      "text/plain": [
       "            cad_recursive_linear_residue  aud_recursive_linear_residue  \\\n",
       "1981-01-02                     -0.000221                     -0.000959   \n",
       "1981-01-05                      0.005142                      0.003863   \n",
       "1981-01-06                      0.000374                      0.003681   \n",
       "1981-01-07                      0.000255                      0.000058   \n",
       "1981-01-08                      0.000018                     -0.002047   \n",
       "...                                  ...                           ...   \n",
       "2020-12-25                     -0.000117                      0.001100   \n",
       "2020-12-28                      0.001426                     -0.003377   \n",
       "2020-12-29                      0.002194                      0.003604   \n",
       "2020-12-30                      0.005254                      0.010510   \n",
       "2020-12-31                      0.001413                      0.001087   \n",
       "\n",
       "            gbp_recursive_linear_residue  \n",
       "1981-01-02                     -0.002864  \n",
       "1981-01-05                      0.014132  \n",
       "1981-01-06                      0.002493  \n",
       "1981-01-07                     -0.004580  \n",
       "1981-01-08                     -0.003102  \n",
       "...                                  ...  \n",
       "2020-12-25                      0.000038  \n",
       "2020-12-28                     -0.007949  \n",
       "2020-12-29                      0.004107  \n",
       "2020-12-30                      0.008920  \n",
       "2020-12-31                      0.003047  \n",
       "\n",
       "[10435 rows x 3 columns]"
      ]
     },
     "execution_count": 29,
     "metadata": {},
     "output_type": "execute_result"
    }
   ],
   "source": [
    "recursive_residue = pd.read_csv('./recursive_linear_residue.csv', index_col=0)\n",
    "recursive_residue = recursive_residue.astype('float64')\n",
    "recursive_residue.index = pd.to_datetime(recursive_residue.index)\n",
    "\n",
    "cad_recursive_residue = recursive_residue.iloc[:,0]\n",
    "aud_recursive_residue = recursive_residue.iloc[:,1]\n",
    "gbp_recursive_residue = recursive_residue.iloc[:,2]\n",
    "\n",
    "recursive_residue"
   ]
  },
  {
   "cell_type": "markdown",
   "metadata": {},
   "source": [
    "### LSTM"
   ]
  },
  {
   "cell_type": "code",
   "execution_count": 31,
   "metadata": {},
   "outputs": [],
   "source": [
    "model_type = LSTM"
   ]
  },
  {
   "cell_type": "markdown",
   "metadata": {},
   "source": [
    "#### cad"
   ]
  },
  {
   "cell_type": "code",
   "execution_count": 32,
   "metadata": {},
   "outputs": [
    {
     "data": {
      "text/plain": [
       "1981-01-02   -0.000018\n",
       "1981-01-05   -0.000018\n",
       "1981-01-06   -0.000018\n",
       "1981-01-07   -0.000018\n",
       "1981-01-08   -0.000018\n",
       "                ...   \n",
       "2020-12-25   -0.000012\n",
       "2020-12-28   -0.000012\n",
       "2020-12-29   -0.000012\n",
       "2020-12-30   -0.000012\n",
       "2020-12-31   -0.000011\n",
       "Name: cad_recursive_linear_prediction, Length: 10435, dtype: float64"
      ]
     },
     "execution_count": 32,
     "metadata": {},
     "output_type": "execute_result"
    }
   ],
   "source": [
    "cad_recursive_linear"
   ]
  },
  {
   "cell_type": "code",
   "execution_count": 33,
   "metadata": {},
   "outputs": [
    {
     "data": {
      "text/plain": [
       "1981-01-02   -0.000221\n",
       "1981-01-05    0.005142\n",
       "1981-01-06    0.000374\n",
       "1981-01-07    0.000255\n",
       "1981-01-08    0.000018\n",
       "                ...   \n",
       "2020-12-25   -0.000117\n",
       "2020-12-28    0.001426\n",
       "2020-12-29    0.002194\n",
       "2020-12-30    0.005254\n",
       "2020-12-31    0.001413\n",
       "Name: cad_recursive_linear_residue, Length: 10435, dtype: float64"
      ]
     },
     "execution_count": 33,
     "metadata": {},
     "output_type": "execute_result"
    }
   ],
   "source": [
    "cad_recursive_residue"
   ]
  },
  {
   "cell_type": "code",
   "execution_count": 58,
   "metadata": {},
   "outputs": [],
   "source": [
    "# optim hyperparameters obtained by grid search\n",
    "length_input_sequence = 5\n",
    "num_hidden_layers = 2\n",
    "num_hidden_sizes = 1600\n",
    "batch_sizes = 16\n",
    "num_epochs = 5"
   ]
  },
  {
   "cell_type": "code",
   "execution_count": 59,
   "metadata": {},
   "outputs": [],
   "source": [
    "cad_recursive_LSTM_pred = prediction_on_testset(model_type, cad_recursive_linear, cad_recursive_residue, length_input_sequence, num_hidden_layers, num_hidden_sizes, batch_sizes, num_epochs)"
   ]
  },
  {
   "cell_type": "markdown",
   "metadata": {},
   "source": [
    "#### aud"
   ]
  },
  {
   "cell_type": "code",
   "execution_count": null,
   "metadata": {},
   "outputs": [],
   "source": [
    "aud_recursive_linear"
   ]
  },
  {
   "cell_type": "code",
   "execution_count": null,
   "metadata": {},
   "outputs": [],
   "source": [
    "aud_recursive_residue"
   ]
  },
  {
   "cell_type": "code",
   "execution_count": null,
   "metadata": {},
   "outputs": [],
   "source": [
    "# optim hyperparameters obtained by grid search\n",
    "length_input_sequence = 10\n",
    "num_hidden_layers = 3\n",
    "num_hidden_sizes = 1600\n",
    "batch_sizes = 128\n",
    "num_epochs = 15"
   ]
  },
  {
   "cell_type": "code",
   "execution_count": null,
   "metadata": {},
   "outputs": [],
   "source": [
    "aud_recursive_LSTM_pred = prediction_on_testset(model_type, aud_recursive_linear, aud_recursive_residue, length_input_sequence, num_hidden_layers, num_hidden_sizes, batch_sizes, num_epochs)"
   ]
  },
  {
   "cell_type": "markdown",
   "metadata": {},
   "source": [
    "#### gbp"
   ]
  },
  {
   "cell_type": "code",
   "execution_count": null,
   "metadata": {},
   "outputs": [],
   "source": [
    "gbp_recursive_linear"
   ]
  },
  {
   "cell_type": "code",
   "execution_count": null,
   "metadata": {},
   "outputs": [],
   "source": [
    "gbp_recursive_residue"
   ]
  },
  {
   "cell_type": "code",
   "execution_count": null,
   "metadata": {},
   "outputs": [],
   "source": [
    "# optim hyperparameters obtained by grid search\n",
    "length_input_sequence = 5\n",
    "num_hidden_layers = 2\n",
    "num_hidden_sizes = 25\n",
    "batch_sizes = 256\n",
    "num_epochs = 5"
   ]
  },
  {
   "cell_type": "code",
   "execution_count": null,
   "metadata": {},
   "outputs": [],
   "source": [
    "gbp_recursive_LSTM_pred = prediction_on_testset(model_type, gbp_recursive_linear, gbp_recursive_residue, length_input_sequence, num_hidden_layers, num_hidden_sizes, batch_sizes, num_epochs)"
   ]
  },
  {
   "cell_type": "markdown",
   "metadata": {},
   "source": [
    "### Self-Attention"
   ]
  },
  {
   "cell_type": "code",
   "execution_count": 17,
   "metadata": {},
   "outputs": [],
   "source": [
    "model_type = Self_Attention"
   ]
  },
  {
   "cell_type": "markdown",
   "metadata": {},
   "source": [
    "#### cad"
   ]
  },
  {
   "cell_type": "code",
   "execution_count": 18,
   "metadata": {},
   "outputs": [
    {
     "data": {
      "text/plain": [
       "1981-01-02   -0.000018\n",
       "1981-01-05   -0.000018\n",
       "1981-01-06   -0.000018\n",
       "1981-01-07   -0.000018\n",
       "1981-01-08   -0.000018\n",
       "                ...   \n",
       "2020-12-25   -0.000012\n",
       "2020-12-28   -0.000012\n",
       "2020-12-29   -0.000012\n",
       "2020-12-30   -0.000012\n",
       "2020-12-31   -0.000011\n",
       "Name: cad_recursive_linear_prediction, Length: 10435, dtype: float64"
      ]
     },
     "execution_count": 18,
     "metadata": {},
     "output_type": "execute_result"
    }
   ],
   "source": [
    "cad_recursive_linear"
   ]
  },
  {
   "cell_type": "code",
   "execution_count": 19,
   "metadata": {},
   "outputs": [
    {
     "data": {
      "text/plain": [
       "1981-01-02   -0.000221\n",
       "1981-01-05    0.005142\n",
       "1981-01-06    0.000374\n",
       "1981-01-07    0.000255\n",
       "1981-01-08    0.000018\n",
       "                ...   \n",
       "2020-12-25   -0.000117\n",
       "2020-12-28    0.001426\n",
       "2020-12-29    0.002194\n",
       "2020-12-30    0.005254\n",
       "2020-12-31    0.001413\n",
       "Name: cad_recursive_linear_residue, Length: 10435, dtype: float64"
      ]
     },
     "execution_count": 19,
     "metadata": {},
     "output_type": "execute_result"
    }
   ],
   "source": [
    "cad_recursive_residue"
   ]
  },
  {
   "cell_type": "code",
   "execution_count": 20,
   "metadata": {},
   "outputs": [],
   "source": [
    "# optim hyperparameters obtained by grid search\n",
    "length_input_sequence = 5\n",
    "num_hidden_layers = 1\n",
    "num_hidden_sizes = 200\n",
    "batch_sizes = 256\n",
    "num_epochs = 15"
   ]
  },
  {
   "cell_type": "code",
   "execution_count": null,
   "metadata": {},
   "outputs": [],
   "source": [
    "cad_recursive_Self_Attention_pred = prediction_on_testset(model_type, cad_recursive_linear, cad_recursive_residue, length_input_sequence, num_hidden_layers, num_hidden_sizes, batch_sizes, num_epochs)"
   ]
  },
  {
   "cell_type": "markdown",
   "metadata": {},
   "source": [
    "#### aud"
   ]
  },
  {
   "cell_type": "code",
   "execution_count": null,
   "metadata": {},
   "outputs": [],
   "source": [
    "aud_recursive_linear"
   ]
  },
  {
   "cell_type": "code",
   "execution_count": null,
   "metadata": {},
   "outputs": [],
   "source": [
    "aud_recursive_residue"
   ]
  },
  {
   "cell_type": "code",
   "execution_count": null,
   "metadata": {},
   "outputs": [],
   "source": [
    "# optim hyperparameters obtained by grid search\n",
    "length_input_sequence = 10\n",
    "num_hidden_layers = 1\n",
    "num_hidden_sizes = 800\n",
    "batch_sizes = 16\n",
    "num_epochs = 30"
   ]
  },
  {
   "cell_type": "code",
   "execution_count": null,
   "metadata": {},
   "outputs": [],
   "source": [
    "aud_recursive_Self_Attention_pred = prediction_on_testset(model_type, aud_recursive_linear, aud_recursive_residue, length_input_sequence, num_hidden_layers, num_hidden_sizes, batch_sizes, num_epochs)"
   ]
  },
  {
   "cell_type": "markdown",
   "metadata": {},
   "source": [
    "#### gbp"
   ]
  },
  {
   "cell_type": "code",
   "execution_count": null,
   "metadata": {},
   "outputs": [],
   "source": [
    "gbp_recursive_linear"
   ]
  },
  {
   "cell_type": "code",
   "execution_count": null,
   "metadata": {},
   "outputs": [],
   "source": [
    "gbp_recursive_residue"
   ]
  },
  {
   "cell_type": "code",
   "execution_count": null,
   "metadata": {},
   "outputs": [],
   "source": [
    "# optim hyperparameters obtained by grid search\n",
    "length_input_sequence = 5\n",
    "num_hidden_layers = 1\n",
    "num_hidden_sizes = 200\n",
    "batch_sizes = 256\n",
    "num_epochs = 20"
   ]
  },
  {
   "cell_type": "code",
   "execution_count": null,
   "metadata": {},
   "outputs": [],
   "source": [
    "gbp_recursive_Self_Attention_pred = prediction_on_testset(model_type, gbp_recursive_linear, gbp_recursive_residue, length_input_sequence, num_hidden_layers, num_hidden_sizes, batch_sizes, num_epochs)"
   ]
  },
  {
   "cell_type": "markdown",
   "metadata": {},
   "source": [
    "## Rolling window"
   ]
  },
  {
   "cell_type": "code",
   "execution_count": 23,
   "metadata": {},
   "outputs": [
    {
     "data": {
      "text/html": [
       "<div>\n",
       "<style scoped>\n",
       "    .dataframe tbody tr th:only-of-type {\n",
       "        vertical-align: middle;\n",
       "    }\n",
       "\n",
       "    .dataframe tbody tr th {\n",
       "        vertical-align: top;\n",
       "    }\n",
       "\n",
       "    .dataframe thead th {\n",
       "        text-align: right;\n",
       "    }\n",
       "</style>\n",
       "<table border=\"1\" class=\"dataframe\">\n",
       "  <thead>\n",
       "    <tr style=\"text-align: right;\">\n",
       "      <th></th>\n",
       "      <th>cad_rolling_linear_prediction</th>\n",
       "      <th>aud_rolling_linear_prediction</th>\n",
       "      <th>gbp_rolling_linear_prediction</th>\n",
       "    </tr>\n",
       "  </thead>\n",
       "  <tbody>\n",
       "    <tr>\n",
       "      <th>2017-01-02</th>\n",
       "      <td>-0.000018</td>\n",
       "      <td>-0.000058</td>\n",
       "      <td>0.000147</td>\n",
       "    </tr>\n",
       "    <tr>\n",
       "      <th>2017-01-03</th>\n",
       "      <td>-0.000018</td>\n",
       "      <td>-0.000058</td>\n",
       "      <td>-0.000237</td>\n",
       "    </tr>\n",
       "    <tr>\n",
       "      <th>2017-01-04</th>\n",
       "      <td>-0.000018</td>\n",
       "      <td>-0.000058</td>\n",
       "      <td>-0.000182</td>\n",
       "    </tr>\n",
       "    <tr>\n",
       "      <th>2017-01-05</th>\n",
       "      <td>-0.000017</td>\n",
       "      <td>-0.000057</td>\n",
       "      <td>0.000165</td>\n",
       "    </tr>\n",
       "    <tr>\n",
       "      <th>2017-01-06</th>\n",
       "      <td>-0.000016</td>\n",
       "      <td>-0.000056</td>\n",
       "      <td>0.000192</td>\n",
       "    </tr>\n",
       "    <tr>\n",
       "      <th>...</th>\n",
       "      <td>...</td>\n",
       "      <td>...</td>\n",
       "      <td>...</td>\n",
       "    </tr>\n",
       "    <tr>\n",
       "      <th>2020-12-25</th>\n",
       "      <td>-0.000002</td>\n",
       "      <td>-0.000015</td>\n",
       "      <td>0.000171</td>\n",
       "    </tr>\n",
       "    <tr>\n",
       "      <th>2020-12-28</th>\n",
       "      <td>-0.000002</td>\n",
       "      <td>-0.000014</td>\n",
       "      <td>0.000020</td>\n",
       "    </tr>\n",
       "    <tr>\n",
       "      <th>2020-12-29</th>\n",
       "      <td>-0.000002</td>\n",
       "      <td>-0.000014</td>\n",
       "      <td>-0.000245</td>\n",
       "    </tr>\n",
       "    <tr>\n",
       "      <th>2020-12-30</th>\n",
       "      <td>-0.000002</td>\n",
       "      <td>-0.000014</td>\n",
       "      <td>0.000138</td>\n",
       "    </tr>\n",
       "    <tr>\n",
       "      <th>2020-12-31</th>\n",
       "      <td>-0.000001</td>\n",
       "      <td>-0.000013</td>\n",
       "      <td>0.000309</td>\n",
       "    </tr>\n",
       "  </tbody>\n",
       "</table>\n",
       "<p>1044 rows × 3 columns</p>\n",
       "</div>"
      ],
      "text/plain": [
       "            cad_rolling_linear_prediction  aud_rolling_linear_prediction  \\\n",
       "2017-01-02                      -0.000018                      -0.000058   \n",
       "2017-01-03                      -0.000018                      -0.000058   \n",
       "2017-01-04                      -0.000018                      -0.000058   \n",
       "2017-01-05                      -0.000017                      -0.000057   \n",
       "2017-01-06                      -0.000016                      -0.000056   \n",
       "...                                   ...                            ...   \n",
       "2020-12-25                      -0.000002                      -0.000015   \n",
       "2020-12-28                      -0.000002                      -0.000014   \n",
       "2020-12-29                      -0.000002                      -0.000014   \n",
       "2020-12-30                      -0.000002                      -0.000014   \n",
       "2020-12-31                      -0.000001                      -0.000013   \n",
       "\n",
       "            gbp_rolling_linear_prediction  \n",
       "2017-01-02                       0.000147  \n",
       "2017-01-03                      -0.000237  \n",
       "2017-01-04                      -0.000182  \n",
       "2017-01-05                       0.000165  \n",
       "2017-01-06                       0.000192  \n",
       "...                                   ...  \n",
       "2020-12-25                       0.000171  \n",
       "2020-12-28                       0.000020  \n",
       "2020-12-29                      -0.000245  \n",
       "2020-12-30                       0.000138  \n",
       "2020-12-31                       0.000309  \n",
       "\n",
       "[1044 rows x 3 columns]"
      ]
     },
     "execution_count": 23,
     "metadata": {},
     "output_type": "execute_result"
    }
   ],
   "source": [
    "rolling_linear = pd.read_csv('./rolling_linear_prediction.csv', index_col=0)\n",
    "rolling_linear = rolling_linear.astype('float64')\n",
    "rolling_linear.index = pd.to_datetime(rolling_linear.index)\n",
    "\n",
    "cad_rolling_linear = rolling_linear.iloc[:,0]\n",
    "aud_rolling_linear = rolling_linear.iloc[:,1]\n",
    "gbp_rolling_linear = rolling_linear.iloc[:,2]\n",
    "\n",
    "rolling_linear"
   ]
  },
  {
   "cell_type": "code",
   "execution_count": 24,
   "metadata": {},
   "outputs": [
    {
     "data": {
      "text/html": [
       "<div>\n",
       "<style scoped>\n",
       "    .dataframe tbody tr th:only-of-type {\n",
       "        vertical-align: middle;\n",
       "    }\n",
       "\n",
       "    .dataframe tbody tr th {\n",
       "        vertical-align: top;\n",
       "    }\n",
       "\n",
       "    .dataframe thead th {\n",
       "        text-align: right;\n",
       "    }\n",
       "</style>\n",
       "<table border=\"1\" class=\"dataframe\">\n",
       "  <thead>\n",
       "    <tr style=\"text-align: right;\">\n",
       "      <th></th>\n",
       "      <th>cad_rolling_linear_residue</th>\n",
       "      <th>aud_rolling_linear_residue</th>\n",
       "      <th>gbp_rolling_linear_residue</th>\n",
       "    </tr>\n",
       "  </thead>\n",
       "  <tbody>\n",
       "    <tr>\n",
       "      <th>2017-01-02</th>\n",
       "      <td>-0.000251</td>\n",
       "      <td>-0.003278</td>\n",
       "      <td>-0.005184</td>\n",
       "    </tr>\n",
       "    <tr>\n",
       "      <th>2017-01-03</th>\n",
       "      <td>0.001227</td>\n",
       "      <td>0.004918</td>\n",
       "      <td>-0.003108</td>\n",
       "    </tr>\n",
       "    <tr>\n",
       "      <th>2017-01-04</th>\n",
       "      <td>0.009506</td>\n",
       "      <td>0.008884</td>\n",
       "      <td>0.007186</td>\n",
       "    </tr>\n",
       "    <tr>\n",
       "      <th>2017-01-05</th>\n",
       "      <td>0.005720</td>\n",
       "      <td>0.007581</td>\n",
       "      <td>0.007595</td>\n",
       "    </tr>\n",
       "    <tr>\n",
       "      <th>2017-01-06</th>\n",
       "      <td>-0.000910</td>\n",
       "      <td>-0.004999</td>\n",
       "      <td>-0.010878</td>\n",
       "    </tr>\n",
       "    <tr>\n",
       "      <th>...</th>\n",
       "      <td>...</td>\n",
       "      <td>...</td>\n",
       "      <td>...</td>\n",
       "    </tr>\n",
       "    <tr>\n",
       "      <th>2020-12-25</th>\n",
       "      <td>-0.000126</td>\n",
       "      <td>0.001068</td>\n",
       "      <td>-0.000024</td>\n",
       "    </tr>\n",
       "    <tr>\n",
       "      <th>2020-12-28</th>\n",
       "      <td>0.001416</td>\n",
       "      <td>-0.003410</td>\n",
       "      <td>-0.008017</td>\n",
       "    </tr>\n",
       "    <tr>\n",
       "      <th>2020-12-29</th>\n",
       "      <td>0.002184</td>\n",
       "      <td>0.003571</td>\n",
       "      <td>0.004029</td>\n",
       "    </tr>\n",
       "    <tr>\n",
       "      <th>2020-12-30</th>\n",
       "      <td>0.005244</td>\n",
       "      <td>0.010477</td>\n",
       "      <td>0.008856</td>\n",
       "    </tr>\n",
       "    <tr>\n",
       "      <th>2020-12-31</th>\n",
       "      <td>0.001403</td>\n",
       "      <td>0.001053</td>\n",
       "      <td>0.002988</td>\n",
       "    </tr>\n",
       "  </tbody>\n",
       "</table>\n",
       "<p>1044 rows × 3 columns</p>\n",
       "</div>"
      ],
      "text/plain": [
       "            cad_rolling_linear_residue  aud_rolling_linear_residue  \\\n",
       "2017-01-02                   -0.000251                   -0.003278   \n",
       "2017-01-03                    0.001227                    0.004918   \n",
       "2017-01-04                    0.009506                    0.008884   \n",
       "2017-01-05                    0.005720                    0.007581   \n",
       "2017-01-06                   -0.000910                   -0.004999   \n",
       "...                                ...                         ...   \n",
       "2020-12-25                   -0.000126                    0.001068   \n",
       "2020-12-28                    0.001416                   -0.003410   \n",
       "2020-12-29                    0.002184                    0.003571   \n",
       "2020-12-30                    0.005244                    0.010477   \n",
       "2020-12-31                    0.001403                    0.001053   \n",
       "\n",
       "            gbp_rolling_linear_residue  \n",
       "2017-01-02                   -0.005184  \n",
       "2017-01-03                   -0.003108  \n",
       "2017-01-04                    0.007186  \n",
       "2017-01-05                    0.007595  \n",
       "2017-01-06                   -0.010878  \n",
       "...                                ...  \n",
       "2020-12-25                   -0.000024  \n",
       "2020-12-28                   -0.008017  \n",
       "2020-12-29                    0.004029  \n",
       "2020-12-30                    0.008856  \n",
       "2020-12-31                    0.002988  \n",
       "\n",
       "[1044 rows x 3 columns]"
      ]
     },
     "execution_count": 24,
     "metadata": {},
     "output_type": "execute_result"
    }
   ],
   "source": [
    "rolling_residue = pd.read_csv('./rolling_linear_residue.csv', index_col=0)\n",
    "rolling_residue = rolling_residue.astype('float64')\n",
    "rolling_residue.index = pd.to_datetime(rolling_residue.index)\n",
    "\n",
    "cad_rolling_residue = rolling_residue.iloc[:,0]\n",
    "aud_rolling_residue = rolling_residue.iloc[:,1]\n",
    "gbp_rolling_residue = rolling_residue.iloc[:,2]\n",
    "\n",
    "rolling_residue"
   ]
  },
  {
   "cell_type": "markdown",
   "metadata": {},
   "source": [
    "### LSTM"
   ]
  },
  {
   "cell_type": "code",
   "execution_count": null,
   "metadata": {},
   "outputs": [],
   "source": [
    "model_type = LSTM"
   ]
  },
  {
   "cell_type": "markdown",
   "metadata": {},
   "source": [
    "#### cad"
   ]
  },
  {
   "cell_type": "code",
   "execution_count": null,
   "metadata": {},
   "outputs": [],
   "source": [
    "cad_rolling_linear"
   ]
  },
  {
   "cell_type": "code",
   "execution_count": null,
   "metadata": {},
   "outputs": [],
   "source": [
    "cad_rolling_residue"
   ]
  },
  {
   "cell_type": "code",
   "execution_count": null,
   "metadata": {},
   "outputs": [],
   "source": [
    "# optim hyperparameters obtained by grid search\n",
    "length_input_sequence = 5\n",
    "num_hidden_layers = 2\n",
    "num_hidden_sizes = 1600\n",
    "batch_sizes = 16\n",
    "num_epochs = 5"
   ]
  },
  {
   "cell_type": "code",
   "execution_count": null,
   "metadata": {},
   "outputs": [],
   "source": [
    "cad_rolling_LSTM_pred = prediction_on_testset(model_type, cad_rolling_linear, cad_rolling_residue, length_input_sequence, num_hidden_layers, num_hidden_sizes, batch_sizes, num_epochs)"
   ]
  },
  {
   "cell_type": "markdown",
   "metadata": {},
   "source": [
    "#### aud"
   ]
  },
  {
   "cell_type": "code",
   "execution_count": null,
   "metadata": {},
   "outputs": [],
   "source": [
    "aud_rolling_linear"
   ]
  },
  {
   "cell_type": "code",
   "execution_count": null,
   "metadata": {},
   "outputs": [],
   "source": [
    "aud_rolling_residue"
   ]
  },
  {
   "cell_type": "code",
   "execution_count": null,
   "metadata": {},
   "outputs": [],
   "source": [
    "# optim hyperparameters obtained by grid search\n",
    "length_input_sequence = 5\n",
    "num_hidden_layers = 2\n",
    "num_hidden_sizes = 1600\n",
    "batch_sizes = 16\n",
    "num_epochs = 5"
   ]
  },
  {
   "cell_type": "code",
   "execution_count": null,
   "metadata": {},
   "outputs": [],
   "source": [
    "aud_rolling_LSTM_pred = prediction_on_testset(model_type, aud_rolling_linear, aud_rolling_residue, length_input_sequence, num_hidden_layers, num_hidden_sizes, batch_sizes, num_epochs)"
   ]
  },
  {
   "cell_type": "markdown",
   "metadata": {},
   "source": [
    "#### gbp"
   ]
  },
  {
   "cell_type": "code",
   "execution_count": null,
   "metadata": {},
   "outputs": [],
   "source": [
    "gbp_rolling_linear"
   ]
  },
  {
   "cell_type": "code",
   "execution_count": null,
   "metadata": {},
   "outputs": [],
   "source": [
    "gbp_rolling_residue"
   ]
  },
  {
   "cell_type": "code",
   "execution_count": null,
   "metadata": {},
   "outputs": [],
   "source": [
    "# optim hyperparameters obtained by grid search\n",
    "length_input_sequence = 5\n",
    "num_hidden_layers = 2\n",
    "num_hidden_sizes = 1600\n",
    "batch_sizes = 16\n",
    "num_epochs = 5"
   ]
  },
  {
   "cell_type": "code",
   "execution_count": null,
   "metadata": {},
   "outputs": [],
   "source": [
    "gbp_rolling_LSTM_pred = prediction_on_testset(model_type, gbp_rolling_linear, gbp_rolling_residue, length_input_sequence, num_hidden_layers, num_hidden_sizes, batch_sizes, num_epochs)"
   ]
  },
  {
   "cell_type": "markdown",
   "metadata": {},
   "source": [
    "### Self-Attention"
   ]
  },
  {
   "cell_type": "code",
   "execution_count": null,
   "metadata": {},
   "outputs": [],
   "source": [
    "model_type = Self_Attention"
   ]
  },
  {
   "cell_type": "markdown",
   "metadata": {},
   "source": [
    "#### cad"
   ]
  },
  {
   "cell_type": "code",
   "execution_count": null,
   "metadata": {},
   "outputs": [],
   "source": [
    "cad_rolling_linear"
   ]
  },
  {
   "cell_type": "code",
   "execution_count": null,
   "metadata": {},
   "outputs": [],
   "source": [
    "cad_rolling_residue"
   ]
  },
  {
   "cell_type": "code",
   "execution_count": null,
   "metadata": {},
   "outputs": [],
   "source": [
    "# optim hyperparameters obtained by grid search\n",
    "length_input_sequence = 5\n",
    "num_hidden_layers = 2\n",
    "num_hidden_sizes = 1600\n",
    "batch_sizes = 16\n",
    "num_epochs = 5"
   ]
  },
  {
   "cell_type": "code",
   "execution_count": null,
   "metadata": {},
   "outputs": [],
   "source": [
    "cad_rolling_Self_Attention_pred = prediction_on_testset(model_type, cad_rolling_linear, cad_rolling_residue, length_input_sequence, num_hidden_layers, num_hidden_sizes, batch_sizes, num_epochs)"
   ]
  },
  {
   "cell_type": "markdown",
   "metadata": {},
   "source": [
    "#### aud"
   ]
  },
  {
   "cell_type": "code",
   "execution_count": null,
   "metadata": {},
   "outputs": [],
   "source": [
    "aud_rolling_linear"
   ]
  },
  {
   "cell_type": "code",
   "execution_count": null,
   "metadata": {},
   "outputs": [],
   "source": [
    "aud_rolling_residue"
   ]
  },
  {
   "cell_type": "code",
   "execution_count": null,
   "metadata": {},
   "outputs": [],
   "source": [
    "# optim hyperparameters obtained by grid search\n",
    "length_input_sequence = 5\n",
    "num_hidden_layers = 2\n",
    "num_hidden_sizes = 1600\n",
    "batch_sizes = 16\n",
    "num_epochs = 5"
   ]
  },
  {
   "cell_type": "code",
   "execution_count": null,
   "metadata": {},
   "outputs": [],
   "source": [
    "aud_rolling_Self_Attention_pred = prediction_on_testset(model_type, aud_rolling_linear, aud_rolling_residue, length_input_sequence, num_hidden_layers, num_hidden_sizes, batch_sizes, num_epochs)"
   ]
  },
  {
   "cell_type": "markdown",
   "metadata": {},
   "source": [
    "#### gbp"
   ]
  },
  {
   "cell_type": "code",
   "execution_count": null,
   "metadata": {},
   "outputs": [],
   "source": [
    "gbp_rolling_linear"
   ]
  },
  {
   "cell_type": "code",
   "execution_count": null,
   "metadata": {},
   "outputs": [],
   "source": [
    "gbp_rolling_residue"
   ]
  },
  {
   "cell_type": "code",
   "execution_count": null,
   "metadata": {},
   "outputs": [],
   "source": [
    "# optim hyperparameters obtained by grid search\n",
    "length_input_sequence = 5\n",
    "num_hidden_layers = 2\n",
    "num_hidden_sizes = 1600\n",
    "batch_sizes = 16\n",
    "num_epochs = 5"
   ]
  },
  {
   "cell_type": "code",
   "execution_count": null,
   "metadata": {},
   "outputs": [],
   "source": [
    "gbp_rolling_Self_Attention_pred = prediction_on_testset(model_type, gbp_rolling_linear, gbp_rolling_residue, length_input_sequence, num_hidden_layers, num_hidden_sizes, batch_sizes, num_epochs)"
   ]
  },
  {
   "cell_type": "markdown",
   "metadata": {},
   "source": [
    "# 輸出模型預測與比較"
   ]
  },
  {
   "cell_type": "markdown",
   "metadata": {},
   "source": [
    "## 輸出模型預測"
   ]
  },
  {
   "cell_type": "code",
   "execution_count": null,
   "metadata": {},
   "outputs": [],
   "source": [
    "LSTM_recursive_prediction = pd.concat([cad_recursive_LSTM_pred, aud_recursive_LSTM_pred, gbp_recursive_LSTM_pred], axis=1)\n",
    "LSTM_recursive_prediction.columns = ['cad_recursive_LSTM_pred', 'aud_recursive_LSTM_pred', 'gbp_recursive_LSTM_pred']\n",
    "LSTM_recursive_prediction.to_csv('./LSTM_recursive_prediction.csv')\n",
    "LSTM_recursive_prediction"
   ]
  },
  {
   "cell_type": "code",
   "execution_count": null,
   "metadata": {},
   "outputs": [],
   "source": [
    "LSTM_rolling_prediction = pd.concat([cad_rolling_LSTM_pred, aud_rolling_LSTM_pred, gbp_rolling_LSTM_pred], axis=1)\n",
    "LSTM_rolling_prediction.columns = ['cad_rolling_LSTM_pred', 'aud_rolling_LSTM_pred', 'gbp_rolling_LSTM_pred']\n",
    "LSTM_rolling_prediction.to_csv('./LSTM_rolling_prediction.csv')\n",
    "LSTM_rolling_prediction"
   ]
  },
  {
   "cell_type": "code",
   "execution_count": null,
   "metadata": {},
   "outputs": [],
   "source": [
    "Self_Attention_recursive_prediction = pd.concat([cad_recursive_Self_Attention_pred, aud_recursive_Self_Attention_pred, gbp_recursive_Self_Attention_pred], axis=1)\n",
    "Self_Attention_recursive_prediction.columns = ['cad_recursive_Self_Attention_pred', 'aud_recursive_Self_Attention_pred', 'gbp_recursive_Self_Attention_pred']\n",
    "Self_Attention_recursive_prediction.to_csv('./Self_Attention_recursive_prediction.csv')\n",
    "Self_Attention_recursive_prediction"
   ]
  },
  {
   "cell_type": "code",
   "execution_count": null,
   "metadata": {},
   "outputs": [],
   "source": [
    "Self_Attention_rolling_prediction = pd.concat([cad_rolling_Self_Attention_pred, aud_rolling_Self_Attention_pred, gbp_rolling_Self_Attention_pred], axis=1)\n",
    "Self_Attention_rolling_prediction.columns = ['cad_rolling_Self_Attention_pred', 'aud_rolling_Self_Attention_pred', 'gbp_rolling_Self_Attention_pred']\n",
    "Self_Attention_rolling_prediction.to_csv('./Self_Attention_rolling_prediction.csv')\n",
    "Self_Attention_rolling_prediction"
   ]
  },
  {
   "cell_type": "markdown",
   "metadata": {},
   "source": [
    "## 載入實際匯率變動率（取對數後一階差分）"
   ]
  },
  {
   "cell_type": "code",
   "execution_count": 40,
   "metadata": {},
   "outputs": [
    {
     "data": {
      "text/html": [
       "<div>\n",
       "<style scoped>\n",
       "    .dataframe tbody tr th:only-of-type {\n",
       "        vertical-align: middle;\n",
       "    }\n",
       "\n",
       "    .dataframe tbody tr th {\n",
       "        vertical-align: top;\n",
       "    }\n",
       "\n",
       "    .dataframe thead th {\n",
       "        text-align: right;\n",
       "    }\n",
       "</style>\n",
       "<table border=\"1\" class=\"dataframe\">\n",
       "  <thead>\n",
       "    <tr style=\"text-align: right;\">\n",
       "      <th></th>\n",
       "      <th>CADUSD Curncy</th>\n",
       "      <th>AUDUSD Curncy</th>\n",
       "      <th>GBPUSD Curncy</th>\n",
       "    </tr>\n",
       "  </thead>\n",
       "  <tbody>\n",
       "    <tr>\n",
       "      <th>2017-01-02</th>\n",
       "      <td>-0.000269</td>\n",
       "      <td>-0.003335</td>\n",
       "      <td>-0.005037</td>\n",
       "    </tr>\n",
       "    <tr>\n",
       "      <th>2017-01-03</th>\n",
       "      <td>0.001209</td>\n",
       "      <td>0.004860</td>\n",
       "      <td>-0.003345</td>\n",
       "    </tr>\n",
       "    <tr>\n",
       "      <th>2017-01-04</th>\n",
       "      <td>0.009488</td>\n",
       "      <td>0.008826</td>\n",
       "      <td>0.007003</td>\n",
       "    </tr>\n",
       "    <tr>\n",
       "      <th>2017-01-05</th>\n",
       "      <td>0.005703</td>\n",
       "      <td>0.007523</td>\n",
       "      <td>0.007760</td>\n",
       "    </tr>\n",
       "    <tr>\n",
       "      <th>2017-01-06</th>\n",
       "      <td>-0.000926</td>\n",
       "      <td>-0.005055</td>\n",
       "      <td>-0.010686</td>\n",
       "    </tr>\n",
       "    <tr>\n",
       "      <th>...</th>\n",
       "      <td>...</td>\n",
       "      <td>...</td>\n",
       "      <td>...</td>\n",
       "    </tr>\n",
       "    <tr>\n",
       "      <th>2020-12-25</th>\n",
       "      <td>-0.000129</td>\n",
       "      <td>0.001052</td>\n",
       "      <td>0.000148</td>\n",
       "    </tr>\n",
       "    <tr>\n",
       "      <th>2020-12-28</th>\n",
       "      <td>0.001414</td>\n",
       "      <td>-0.003425</td>\n",
       "      <td>-0.007996</td>\n",
       "    </tr>\n",
       "    <tr>\n",
       "      <th>2020-12-29</th>\n",
       "      <td>0.002182</td>\n",
       "      <td>0.003556</td>\n",
       "      <td>0.003784</td>\n",
       "    </tr>\n",
       "    <tr>\n",
       "      <th>2020-12-30</th>\n",
       "      <td>0.005242</td>\n",
       "      <td>0.010463</td>\n",
       "      <td>0.008994</td>\n",
       "    </tr>\n",
       "    <tr>\n",
       "      <th>2020-12-31</th>\n",
       "      <td>0.001402</td>\n",
       "      <td>0.001040</td>\n",
       "      <td>0.003297</td>\n",
       "    </tr>\n",
       "  </tbody>\n",
       "</table>\n",
       "<p>1044 rows × 3 columns</p>\n",
       "</div>"
      ],
      "text/plain": [
       "            CADUSD Curncy  AUDUSD Curncy  GBPUSD Curncy\n",
       "2017-01-02      -0.000269      -0.003335      -0.005037\n",
       "2017-01-03       0.001209       0.004860      -0.003345\n",
       "2017-01-04       0.009488       0.008826       0.007003\n",
       "2017-01-05       0.005703       0.007523       0.007760\n",
       "2017-01-06      -0.000926      -0.005055      -0.010686\n",
       "...                   ...            ...            ...\n",
       "2020-12-25      -0.000129       0.001052       0.000148\n",
       "2020-12-28       0.001414      -0.003425      -0.007996\n",
       "2020-12-29       0.002182       0.003556       0.003784\n",
       "2020-12-30       0.005242       0.010463       0.008994\n",
       "2020-12-31       0.001402       0.001040       0.003297\n",
       "\n",
       "[1044 rows x 3 columns]"
      ]
     },
     "execution_count": 40,
     "metadata": {},
     "output_type": "execute_result"
    }
   ],
   "source": [
    "groundtruth = pd.read_excel('./CAD_AUD_GBP.xlsx', index_col=0, skiprows=3)\n",
    "groundtruth = groundtruth.iloc[1:,:]\n",
    "groundtruth = groundtruth.astype('float64')\n",
    "groundtruth.index = pd.to_datetime(groundtruth.index)\n",
    "groundtruth = np.log(groundtruth)\n",
    "groundtruth = groundtruth.diff().dropna()\n",
    "\n",
    "groundtruth = groundtruth.loc['2017-01-01':'2020-12-31']\n",
    "cad_groundtruth = groundtruth.iloc[:,0]\n",
    "aud_groundtruth = groundtruth.iloc[:,1]\n",
    "gbp_groundtruth = groundtruth.iloc[:,2]\n",
    "\n",
    "groundtruth"
   ]
  },
  {
   "cell_type": "markdown",
   "metadata": {},
   "source": [
    "## 模型比較"
   ]
  },
  {
   "cell_type": "markdown",
   "metadata": {},
   "source": [
    "### Random walk pred"
   ]
  },
  {
   "cell_type": "code",
   "execution_count": 60,
   "metadata": {},
   "outputs": [],
   "source": [
    "random_walk_pred = rw_pred(cad_groundtruth)\n",
    "\n",
    "cad_random_walk_RMSE = root_mean_squared_error(random_walk_pred, cad_groundtruth)\n",
    "cad_random_walk_MAE = mean_absolute_error(random_walk_pred, cad_groundtruth)\n",
    "cad_random_walk_DA = 0.5\n",
    "aud_random_walk_RMSE = root_mean_squared_error(random_walk_pred, aud_groundtruth)\n",
    "aud_random_walk_MAE = mean_absolute_error(random_walk_pred, aud_groundtruth)\n",
    "aud_random_walk_DA = 0.5\n",
    "gbp_random_walk_RMSE = root_mean_squared_error(random_walk_pred, gbp_groundtruth)\n",
    "gbp_random_walk_MAE = mean_absolute_error(random_walk_pred, gbp_groundtruth)\n",
    "gbp_random_walk_DA = 0.5"
   ]
  },
  {
   "cell_type": "code",
   "execution_count": 61,
   "metadata": {},
   "outputs": [
    {
     "data": {
      "text/plain": [
       "(0.004365277893580917, 0.0032165540648211085, 0.5)"
      ]
     },
     "execution_count": 61,
     "metadata": {},
     "output_type": "execute_result"
    }
   ],
   "source": [
    "cad_random_walk_RMSE, cad_random_walk_MAE, cad_random_walk_DA"
   ]
  },
  {
   "cell_type": "code",
   "execution_count": 62,
   "metadata": {},
   "outputs": [
    {
     "data": {
      "text/plain": [
       "(0.005655793284191722, 0.004162599536671182, 0.5)"
      ]
     },
     "execution_count": 62,
     "metadata": {},
     "output_type": "execute_result"
    }
   ],
   "source": [
    "aud_random_walk_RMSE, aud_random_walk_MAE, aud_random_walk_DA"
   ]
  },
  {
   "cell_type": "code",
   "execution_count": 63,
   "metadata": {},
   "outputs": [
    {
     "data": {
      "text/plain": [
       "(0.0056882604301849125, 0.004202877474568311, 0.5)"
      ]
     },
     "execution_count": 63,
     "metadata": {},
     "output_type": "execute_result"
    }
   ],
   "source": [
    "gbp_random_walk_RMSE, gbp_random_walk_MAE, gbp_random_walk_DA"
   ]
  },
  {
   "cell_type": "markdown",
   "metadata": {},
   "source": [
    "### Recursive LSTM pred"
   ]
  },
  {
   "cell_type": "code",
   "execution_count": null,
   "metadata": {},
   "outputs": [],
   "source": [
    "cad_recursive_LSTM_RMSE = root_mean_squared_error(cad_recursive_LSTM_pred, cad_groundtruth)\n",
    "cad_recursive_LSTM_MAE = mean_absolute_error(cad_recursive_LSTM_pred, cad_groundtruth)\n",
    "cad_recursive_LSTM_DA = direction_accuracy(cad_recursive_LSTM_pred, cad_groundtruth)\n",
    "aud_recursive_LSTM_RMSE = root_mean_squared_error(aud_recursive_LSTM_pred, aud_groundtruth)\n",
    "aud_recursive_LSTM_MAE = mean_absolute_error(aud_recursive_LSTM_pred, aud_groundtruth)\n",
    "aud_recursive_LSTM_DA = direction_accuracy(aud_recursive_LSTM_pred, aud_groundtruth)\n",
    "gbp_recursive_LSTM_RMSE = root_mean_squared_error(gbp_recursive_LSTM_pred, gbp_groundtruth)\n",
    "gbp_recursive_LSTM_MAE = mean_absolute_error(gbp_recursive_LSTM_pred, gbp_groundtruth)\n",
    "gbp_recursive_LSTM_DA = direction_accuracy(gbp_recursive_LSTM_pred, gbp_groundtruth)"
   ]
  },
  {
   "cell_type": "code",
   "execution_count": null,
   "metadata": {},
   "outputs": [],
   "source": [
    "cad_recursive_LSTM_RMSE, cad_recursive_LSTM_MAE, cad_recursive_LSTM_DA"
   ]
  },
  {
   "cell_type": "code",
   "execution_count": null,
   "metadata": {},
   "outputs": [],
   "source": [
    "aud_recursive_LSTM_RMSE, aud_recursive_LSTM_MAE, aud_recursive_LSTM_DA"
   ]
  },
  {
   "cell_type": "code",
   "execution_count": null,
   "metadata": {},
   "outputs": [],
   "source": [
    "gbp_recursive_LSTM_RMSE, gbp_recursive_LSTM_MAE, gbp_recursive_LSTM_DA"
   ]
  },
  {
   "cell_type": "markdown",
   "metadata": {},
   "source": [
    "### Rolling LSTM pred"
   ]
  },
  {
   "cell_type": "code",
   "execution_count": null,
   "metadata": {},
   "outputs": [],
   "source": [
    "cad_rolling_LSTM_RMSE = root_mean_squared_error(cad_rolling_LSTM_pred, cad_groundtruth)\n",
    "cad_rolling_LSTM_MAE = mean_absolute_error(cad_rolling_LSTM_pred, cad_groundtruth)\n",
    "cad_rolling_LSTM_DA = direction_accuracy(cad_rolling_LSTM_pred, cad_groundtruth)\n",
    "aud_rolling_LSTM_RMSE = root_mean_squared_error(aud_rolling_LSTM_pred, aud_groundtruth)\n",
    "aud_rolling_LSTM_MAE = mean_absolute_error(aud_rolling_LSTM_pred, aud_groundtruth)\n",
    "aud_rolling_LSTM_DA = direction_accuracy(aud_rolling_LSTM_pred, aud_groundtruth)\n",
    "gbp_rolling_LSTM_RMSE = root_mean_squared_error(gbp_rolling_LSTM_pred, gbp_groundtruth)\n",
    "gbp_rolling_LSTM_MAE = mean_absolute_error(gbp_rolling_LSTM_pred, gbp_groundtruth)\n",
    "gbp_rolling_LSTM_DA = direction_accuracy(gbp_rolling_LSTM_pred, gbp_groundtruth)"
   ]
  },
  {
   "cell_type": "code",
   "execution_count": null,
   "metadata": {},
   "outputs": [],
   "source": [
    "cad_rolling_LSTM_RMSE, cad_rolling_LSTM_MAE, cad_rolling_LSTM_DA"
   ]
  },
  {
   "cell_type": "code",
   "execution_count": null,
   "metadata": {},
   "outputs": [],
   "source": [
    "aud_rolling_LSTM_RMSE, aud_rolling_LSTM_MAE, aud_rolling_LSTM_DA"
   ]
  },
  {
   "cell_type": "code",
   "execution_count": null,
   "metadata": {},
   "outputs": [],
   "source": [
    "gbp_rolling_LSTM_RMSE, gbp_rolling_LSTM_MAE, gbp_rolling_LSTM_DA"
   ]
  },
  {
   "cell_type": "markdown",
   "metadata": {},
   "source": [
    "### Recursive Self-Attention pred"
   ]
  },
  {
   "cell_type": "code",
   "execution_count": null,
   "metadata": {},
   "outputs": [],
   "source": [
    "cad_recursive_Self_Attention_RMSE = root_mean_squared_error(cad_recursive_Self_Attention_pred, cad_groundtruth)\n",
    "cad_recursive_Self_Attention_MAE = mean_absolute_error(cad_recursive_Self_Attention_pred, cad_groundtruth)\n",
    "cad_recursive_Self_Attention_DA = direction_accuracy(cad_recursive_Self_Attention_pred, cad_groundtruth)\n",
    "aud_recursive_Self_Attention_RMSE = root_mean_squared_error(aud_recursive_Self_Attention_pred, aud_groundtruth)\n",
    "aud_recursive_Self_Attention_MAE = mean_absolute_error(aud_recursive_Self_Attention_pred, aud_groundtruth)\n",
    "aud_recursive_Self_Attention_DA = direction_accuracy(aud_recursive_Self_Attention_pred, aud_groundtruth)\n",
    "gbp_recursive_Self_Attention_RMSE = root_mean_squared_error(gbp_recursive_Self_Attention_pred, gbp_groundtruth)\n",
    "gbp_recursive_Self_Attention_MAE = mean_absolute_error(gbp_recursive_Self_Attention_pred, gbp_groundtruth)\n",
    "gbp_recursive_Self_Attention_DA = direction_accuracy(gbp_recursive_Self_Attention_pred, gbp_groundtruth)"
   ]
  },
  {
   "cell_type": "code",
   "execution_count": null,
   "metadata": {},
   "outputs": [],
   "source": [
    "cad_recursive_Self_Attention_RMSE, cad_recursive_Self_Attention_MAE, cad_recursive_Self_Attention_DA"
   ]
  },
  {
   "cell_type": "code",
   "execution_count": null,
   "metadata": {},
   "outputs": [],
   "source": [
    "aud_recursive_Self_Attention_RMSE, aud_recursive_Self_Attention_MAE, aud_recursive_Self_Attention_DA"
   ]
  },
  {
   "cell_type": "code",
   "execution_count": null,
   "metadata": {},
   "outputs": [],
   "source": [
    "gbp_recursive_Self_Attention_RMSE, gbp_recursive_Self_Attention_MAE, gbp_recursive_Self_Attention_DA"
   ]
  },
  {
   "cell_type": "markdown",
   "metadata": {},
   "source": [
    "### Rolling Self-Attention pred"
   ]
  },
  {
   "cell_type": "code",
   "execution_count": null,
   "metadata": {},
   "outputs": [],
   "source": [
    "cad_rolling_Self_Attention_RMSE = root_mean_squared_error(cad_rolling_Self_Attention_pred, cad_groundtruth)\n",
    "cad_rolling_Self_Attention_MAE = mean_absolute_error(cad_rolling_Self_Attention_pred, cad_groundtruth)\n",
    "cad_rolling_Self_Attention_DA = direction_accuracy(cad_rolling_Self_Attention_pred, cad_groundtruth)\n",
    "aud_rolling_Self_Attention_RMSE = root_mean_squared_error(aud_rolling_Self_Attention_pred, aud_groundtruth)\n",
    "aud_rolling_Self_Attention_MAE = mean_absolute_error(aud_rolling_Self_Attention_pred, aud_groundtruth)\n",
    "aud_rolling_Self_Attention_DA = direction_accuracy(aud_rolling_Self_Attention_pred, aud_groundtruth)\n",
    "gbp_rolling_Self_Attention_RMSE = root_mean_squared_error(gbp_rolling_Self_Attention_pred, gbp_groundtruth)\n",
    "gbp_rolling_Self_Attention_MAE = mean_absolute_error(gbp_rolling_Self_Attention_pred, gbp_groundtruth)\n",
    "gbp_rolling_Self_Attention_DA = direction_accuracy(gbp_rolling_Self_Attention_pred, gbp_groundtruth)"
   ]
  },
  {
   "cell_type": "code",
   "execution_count": null,
   "metadata": {},
   "outputs": [],
   "source": [
    "cad_rolling_Self_Attention_RMSE, cad_rolling_Self_Attention_MAE, cad_rolling_Self_Attention_DA"
   ]
  },
  {
   "cell_type": "code",
   "execution_count": null,
   "metadata": {},
   "outputs": [],
   "source": [
    "aud_rolling_Self_Attention_RMSE, aud_rolling_Self_Attention_MAE, aud_rolling_Self_Attention_DA"
   ]
  },
  {
   "cell_type": "code",
   "execution_count": null,
   "metadata": {},
   "outputs": [],
   "source": [
    "gbp_rolling_Self_Attention_RMSE, gbp_rolling_Self_Attention_MAE, gbp_rolling_Self_Attention_DA"
   ]
  }
 ],
 "metadata": {
  "interpreter": {
   "hash": "df7b5488ca770e51839d47babcf4bff43b3ec2d4a9964e05f9d2336b92830421"
  },
  "kernelspec": {
   "display_name": "Python 3.8.8 64-bit ('quant': conda)",
   "language": "python",
   "name": "python3"
  },
  "language_info": {
   "codemirror_mode": {
    "name": "ipython",
    "version": 3
   },
   "file_extension": ".py",
   "mimetype": "text/x-python",
   "name": "python",
   "nbconvert_exporter": "python",
   "pygments_lexer": "ipython3",
   "version": "3.8.8"
  },
  "orig_nbformat": 4
 },
 "nbformat": 4,
 "nbformat_minor": 2
}
