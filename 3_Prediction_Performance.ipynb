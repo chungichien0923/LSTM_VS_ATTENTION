{
  "cells": [
    {
      "cell_type": "code",
      "execution_count": 1,
      "metadata": {
        "colab": {
          "base_uri": "https://localhost:8080/"
        },
        "id": "BTyqFImCp4Bs",
        "outputId": "5287109c-11d1-4639-b4db-923fa3b79115"
      },
      "outputs": [
        {
          "output_type": "stream",
          "name": "stdout",
          "text": [
            "Thu Jan 27 20:32:12 2022       \n",
            "+-----------------------------------------------------------------------------+\n",
            "| NVIDIA-SMI 495.46       Driver Version: 460.32.03    CUDA Version: 11.2     |\n",
            "|-------------------------------+----------------------+----------------------+\n",
            "| GPU  Name        Persistence-M| Bus-Id        Disp.A | Volatile Uncorr. ECC |\n",
            "| Fan  Temp  Perf  Pwr:Usage/Cap|         Memory-Usage | GPU-Util  Compute M. |\n",
            "|                               |                      |               MIG M. |\n",
            "|===============================+======================+======================|\n",
            "|   0  Tesla P100-PCIE...  Off  | 00000000:00:04.0 Off |                    0 |\n",
            "| N/A   33C    P0    27W / 250W |      0MiB / 16280MiB |      0%      Default |\n",
            "|                               |                      |                  N/A |\n",
            "+-------------------------------+----------------------+----------------------+\n",
            "                                                                               \n",
            "+-----------------------------------------------------------------------------+\n",
            "| Processes:                                                                  |\n",
            "|  GPU   GI   CI        PID   Type   Process name                  GPU Memory |\n",
            "|        ID   ID                                                   Usage      |\n",
            "|=============================================================================|\n",
            "|  No running processes found                                                 |\n",
            "+-----------------------------------------------------------------------------+\n"
          ]
        }
      ],
      "source": [
        "!nvidia-smi"
      ]
    },
    {
      "cell_type": "markdown",
      "metadata": {
        "id": "lFXXv86wjyXW"
      },
      "source": [
        "# 匯入函式庫"
      ]
    },
    {
      "cell_type": "code",
      "execution_count": 2,
      "metadata": {
        "id": "Y6JbId_ijyXa"
      },
      "outputs": [],
      "source": [
        "import numpy as np\n",
        "import pandas as pd\n",
        "import random\n",
        "import torch\n",
        "import torch.nn as nn\n",
        "import torch.optim as optim\n",
        "from torch.utils.data import Dataset\n",
        "from torch.utils.data import DataLoader\n"
      ]
    },
    {
      "cell_type": "markdown",
      "metadata": {
        "id": "j5BJLLNqjyXf"
      },
      "source": [
        "# CPU/GPU、自定義資料集、模型、訓練函數"
      ]
    },
    {
      "cell_type": "code",
      "execution_count": 3,
      "metadata": {
        "id": "1Vci4FKYjyXf"
      },
      "outputs": [],
      "source": [
        "device = 'cuda' if torch.cuda.is_available() else 'cpu'"
      ]
    },
    {
      "cell_type": "code",
      "execution_count": 4,
      "metadata": {
        "id": "oeOCV01qjyXg"
      },
      "outputs": [],
      "source": [
        "def SetSeed(myseed):\n",
        "    # Python random module\n",
        "    random.seed(myseed)\n",
        "    # Numpy\n",
        "    np.random.seed(myseed)\n",
        "    # Torch\n",
        "    torch.manual_seed(myseed)\n",
        "    if torch.cuda.is_available():\n",
        "        torch.cuda.manual_seed(myseed)\n",
        "        torch.cuda.manual_seed_all(myseed)\n",
        "    torch.backends.cudnn.deterministic = True\n",
        "    torch.backends.cudnn.benchmark = False"
      ]
    },
    {
      "cell_type": "code",
      "execution_count": 5,
      "metadata": {
        "id": "h51i_qiLjyXh"
      },
      "outputs": [],
      "source": [
        "class TimeSeriesDataset(Dataset):\n",
        "    def __init__(self, X, WindowSize):\n",
        "        X = np.expand_dims(X, 1)\n",
        "        self.X = torch.from_numpy(X)\n",
        "        self.WindowSize = WindowSize\n",
        "        \n",
        "    def __len__(self):\n",
        "        return len(self.X) - self.WindowSize\n",
        "\n",
        "    def __getitem__(self, idx):\n",
        "        return (self.X[idx:idx+self.WindowSize], self.X[idx+self.WindowSize])\n",
        "        # return (X = [seqs, features], y)"
      ]
    },
    {
      "cell_type": "code",
      "execution_count": 6,
      "metadata": {
        "id": "FrOMyTWrjyXi"
      },
      "outputs": [],
      "source": [
        "class LSTM(nn.Module):\n",
        "    def __init__(self, num_layers, hidden_size):\n",
        "        super().__init__()\n",
        "        \n",
        "        self.Input_HiddenLayer = nn.LSTM(input_size=1, hidden_size=hidden_size, num_layers=num_layers)\n",
        "\n",
        "        self.OutputLayer = nn.Linear(hidden_size, 1)\n",
        "\n",
        "    def forward(self, input):\n",
        "        # input.shape = [BatchSize, WindowSize, 1]\n",
        "        input = input.permute(1, 0, 2)\n",
        "        # input.shape = [WindowSize, BatchSize, 1]\n",
        "        hidden, _ = self.Input_HiddenLayer(input)\n",
        "        # hidden.shape = [WindowSize, BatchSize, HiddenSize]\n",
        "        hidden = hidden[-1]\n",
        "        # hidden.shape = [BatchSize, HiddenSize]\n",
        "        output = self.OutputLayer(hidden)\n",
        "        \n",
        "        return output"
      ]
    },
    {
      "cell_type": "code",
      "execution_count": 7,
      "metadata": {
        "id": "7Pyb_Ie1p4Bz"
      },
      "outputs": [],
      "source": [
        "class Self_Attention(nn.Module):\n",
        "    def __init__(self, num_layers, hidden_size):\n",
        "        super().__init__()\n",
        "        self.num_layers = num_layers\n",
        "        \n",
        "        self.Input_First_HiddenLayer = nn.MultiheadAttention(embed_dim=hidden_size, num_heads=1)\n",
        "        self.Query_Key_Value_1 = nn.ModuleList([nn.Linear(1, hidden_size), nn.Linear(1, hidden_size), nn.Linear(1, hidden_size)])\n",
        "\n",
        "        self.Second_And_Following_HiddenLayer = nn.ModuleList([nn.MultiheadAttention(embed_dim=hidden_size, num_heads=1) for i in range(num_layers - 1)])\n",
        "        self.List_of_Query_Key_Value = nn.ModuleList([nn.ModuleList([nn.Linear(hidden_size, hidden_size) for q_k_v in range(3)]) for i in range(num_layers - 1)])\n",
        "\n",
        "        self.OutputLayer = nn.Linear(hidden_size, 1)\n",
        "\n",
        "    def forward(self, input):\n",
        "        # input.shape = [BatchSize, WindowSize, 1]\n",
        "        input = input.permute(1, 0, 2)\n",
        "        # input.shape = [WindowSize, BatchSize, 1]\n",
        "        Query1 = self.Query_Key_Value_1[0](input)\n",
        "        Key1 = self.Query_Key_Value_1[1](input)\n",
        "        Value1 = self.Query_Key_Value_1[2](input)\n",
        "        hidden, _ = self.Input_First_HiddenLayer(Query1, Key1, Value1)\n",
        "        # hidden.shape = [WindowSize, BatchSize, HiddenSize]\n",
        "        if self.num_layers > 1:\n",
        "            for i, Second_And_Following_HiddenLayer in enumerate(self.Second_And_Following_HiddenLayer):\n",
        "                Query = self.List_of_Query_Key_Value[i][0](hidden)\n",
        "                Key = self.List_of_Query_Key_Value[i][1](hidden)\n",
        "                Value = self.List_of_Query_Key_Value[i][2](hidden)\n",
        "                hidden, _ = Second_And_Following_HiddenLayer(Query, Key, Value)\n",
        "        # hidden.shape = [WindowSize, BatchSize, HiddenSize]\n",
        "        hidden = hidden[-1]\n",
        "        # hidden.shape = [BatchSize, HiddenSize]\n",
        "        output = self.OutputLayer(hidden)\n",
        "        \n",
        "        return output"
      ]
    },
    {
      "cell_type": "code",
      "execution_count": 8,
      "metadata": {
        "id": "kyiiEJqhjyXj"
      },
      "outputs": [],
      "source": [
        "def train_under_config(model_type,\n",
        "                       forex_data,\n",
        "                       length_input_sequence,\n",
        "                       num_epochs,\n",
        "                       num_hidden_layers,\n",
        "                       num_hidden_sizes,\n",
        "                       batch_sizes,\n",
        "                       device):\n",
        "    '''\n",
        "    model_type: LSTM or Self_Attention,\n",
        "    forex_data,\n",
        "    length_input_sequence,\n",
        "    num_epochs,\n",
        "    learning_rate,\n",
        "    num_hidden_layers,\n",
        "    num_hidden_sizes,\n",
        "    batch_sizes,\n",
        "    device\n",
        "    '''\n",
        "    # setseed\n",
        "    SetSeed(9527)\n",
        "    # dataset\n",
        "    training_data = forex_data.loc['1981-01-01':'2016-12-31'] # training_data = training set + validation set\n",
        "    training_dataset = TimeSeriesDataset(training_data, length_input_sequence)\n",
        "    # dataloader\n",
        "    training_dataloader = DataLoader(training_dataset, batch_size=batch_sizes, shuffle=True)\n",
        "    # model\n",
        "    model = model_type(num_hidden_layers, num_hidden_sizes).double()\n",
        "    # criterion & optimizer\n",
        "    criterion = nn.MSELoss()\n",
        "    optimizer = optim.Adam(model.parameters())\n",
        "    # training\n",
        "    model.to(device)\n",
        "    model.train()\n",
        "    for epoch in range(num_epochs):\n",
        "        for X, y in training_dataloader:\n",
        "            optimizer.zero_grad()\n",
        "            X, y = X.to(device), y.to(device)\n",
        "            ypred = model(X)\n",
        "            loss = criterion(ypred, y)\n",
        "            loss.backward()\n",
        "            optimizer.step()\n",
        "    \n",
        "    return model"
      ]
    },
    {
      "cell_type": "code",
      "execution_count": 9,
      "metadata": {
        "id": "8J8O5cBfjyXm"
      },
      "outputs": [],
      "source": [
        "# residue pred\n",
        "def ypred(data, length_input_sequence, model, device):\n",
        "    '''\n",
        "    data,\n",
        "    length_input_sequence,\n",
        "    model,\n",
        "    device\n",
        "    '''\n",
        "    # dataset\n",
        "    testing_start_index = len(data.loc['1981-01-01':'2016-12-31']) - length_input_sequence\n",
        "    testing_end_index = len(data.loc['1981-01-01':'2020-12-31'])\n",
        "    testing_data = data[testing_start_index:testing_end_index]\n",
        "    testing_dataset = TimeSeriesDataset(testing_data, length_input_sequence)\n",
        "    # dataloader\n",
        "    data_len = len(testing_dataset)\n",
        "    testing_dataloader = DataLoader(testing_dataset, batch_size=data_len, shuffle=False)\n",
        "    # evaluating\n",
        "    model.to(device)\n",
        "    model.eval()\n",
        "    for X, y in  testing_dataloader:\n",
        "        X, y = X.to(device), y.to(device)\n",
        "        with torch.no_grad():\n",
        "            ypred = model(X)\n",
        "            ypred = np.array(ypred.cpu()).flatten()\n",
        "    return ypred"
      ]
    },
    {
      "cell_type": "code",
      "execution_count": 10,
      "metadata": {
        "id": "zeYZ3F8Dp4B1"
      },
      "outputs": [],
      "source": [
        "def prediction_on_testset(model_type, linear_data, residue_data, length_input_sequence, num_hidden_layers, num_hidden_sizes, batch_sizes, num_epochs):\n",
        "    model = train_under_config(model_type,\n",
        "                               residue_data,\n",
        "                               length_input_sequence,\n",
        "                               num_epochs,\n",
        "                               num_hidden_layers,\n",
        "                               num_hidden_sizes,\n",
        "                               batch_sizes,\n",
        "                               device)\n",
        "    model_type_linear_pred = np.array(linear_data.loc['2017-01-01':'2020-12-31'])\n",
        "    model_type_residue_pred = ypred(residue_data, length_input_sequence, model, device)\n",
        "    model_type_pred = model_type_linear_pred + model_type_residue_pred\n",
        "    return model_type_pred"
      ]
    },
    {
      "cell_type": "code",
      "execution_count": 11,
      "metadata": {
        "id": "86CVXSTup4B1"
      },
      "outputs": [],
      "source": [
        "# random walk prediction\n",
        "def rw_pred(testing_data):\n",
        "    return np.zeros(len(testing_data))"
      ]
    },
    {
      "cell_type": "code",
      "execution_count": 12,
      "metadata": {
        "id": "WCct3FFYp4B1"
      },
      "outputs": [],
      "source": [
        "def root_mean_squared_error(ypred, ytrue):\n",
        "    squared_error = (ypred - ytrue) ** 2\n",
        "    mean_squared_error = sum(squared_error) / len(squared_error)\n",
        "    return np.sqrt(mean_squared_error)"
      ]
    },
    {
      "cell_type": "code",
      "execution_count": 13,
      "metadata": {
        "id": "204p71Kgp4B2"
      },
      "outputs": [],
      "source": [
        "def mean_absolute_error(ypred, ytrue):\n",
        "    absolute_error = abs(ypred - ytrue)\n",
        "    return sum(absolute_error) / len(absolute_error)"
      ]
    },
    {
      "cell_type": "code",
      "execution_count": 14,
      "metadata": {
        "id": "LPjT8I0gp4B2"
      },
      "outputs": [],
      "source": [
        "def direction_accuracy(ypred, ytrue):\n",
        "    ypred_elementwise_dot_ytrue = ypred * ytrue\n",
        "    same_direction_rate = sum(ypred_elementwise_dot_ytrue > 0) / len(ypred_elementwise_dot_ytrue)\n",
        "    return same_direction_rate"
      ]
    },
    {
      "cell_type": "markdown",
      "metadata": {
        "id": "dGMt4b9ujyXd"
      },
      "source": [
        "# 匯入訓練資料（訓練加驗證集）訓練，並產生模型預測值"
      ]
    },
    {
      "cell_type": "markdown",
      "metadata": {
        "id": "j9cl_ZaVp4B2"
      },
      "source": [
        "## Recursive window"
      ]
    },
    {
      "cell_type": "code",
      "execution_count": 15,
      "metadata": {
        "colab": {
          "base_uri": "https://localhost:8080/",
          "height": 424
        },
        "id": "Wo-SFA1np4B2",
        "outputId": "c47f161a-d423-41ac-c868-c399360bd1e0"
      },
      "outputs": [
        {
          "output_type": "execute_result",
          "data": {
            "text/html": [
              "\n",
              "  <div id=\"df-23067c18-f8aa-49c8-a6ff-7d6bd188263f\">\n",
              "    <div class=\"colab-df-container\">\n",
              "      <div>\n",
              "<style scoped>\n",
              "    .dataframe tbody tr th:only-of-type {\n",
              "        vertical-align: middle;\n",
              "    }\n",
              "\n",
              "    .dataframe tbody tr th {\n",
              "        vertical-align: top;\n",
              "    }\n",
              "\n",
              "    .dataframe thead th {\n",
              "        text-align: right;\n",
              "    }\n",
              "</style>\n",
              "<table border=\"1\" class=\"dataframe\">\n",
              "  <thead>\n",
              "    <tr style=\"text-align: right;\">\n",
              "      <th></th>\n",
              "      <th>cad_recursive_linear_prediction</th>\n",
              "      <th>aud_recursive_linear_prediction</th>\n",
              "      <th>gbp_recursive_linear_prediction</th>\n",
              "    </tr>\n",
              "  </thead>\n",
              "  <tbody>\n",
              "    <tr>\n",
              "      <th>1981-01-02</th>\n",
              "      <td>-0.000018</td>\n",
              "      <td>-0.000058</td>\n",
              "      <td>-0.000071</td>\n",
              "    </tr>\n",
              "    <tr>\n",
              "      <th>1981-01-05</th>\n",
              "      <td>-0.000018</td>\n",
              "      <td>-0.000058</td>\n",
              "      <td>-0.000167</td>\n",
              "    </tr>\n",
              "    <tr>\n",
              "      <th>1981-01-06</th>\n",
              "      <td>-0.000018</td>\n",
              "      <td>-0.000058</td>\n",
              "      <td>0.000401</td>\n",
              "    </tr>\n",
              "    <tr>\n",
              "      <th>1981-01-07</th>\n",
              "      <td>-0.000018</td>\n",
              "      <td>-0.000058</td>\n",
              "      <td>0.000029</td>\n",
              "    </tr>\n",
              "    <tr>\n",
              "      <th>1981-01-08</th>\n",
              "      <td>-0.000018</td>\n",
              "      <td>-0.000058</td>\n",
              "      <td>-0.000221</td>\n",
              "    </tr>\n",
              "    <tr>\n",
              "      <th>...</th>\n",
              "      <td>...</td>\n",
              "      <td>...</td>\n",
              "      <td>...</td>\n",
              "    </tr>\n",
              "    <tr>\n",
              "      <th>2020-12-25</th>\n",
              "      <td>-0.000012</td>\n",
              "      <td>-0.000047</td>\n",
              "      <td>0.000109</td>\n",
              "    </tr>\n",
              "    <tr>\n",
              "      <th>2020-12-28</th>\n",
              "      <td>-0.000012</td>\n",
              "      <td>-0.000047</td>\n",
              "      <td>-0.000048</td>\n",
              "    </tr>\n",
              "    <tr>\n",
              "      <th>2020-12-29</th>\n",
              "      <td>-0.000012</td>\n",
              "      <td>-0.000048</td>\n",
              "      <td>-0.000323</td>\n",
              "    </tr>\n",
              "    <tr>\n",
              "      <th>2020-12-30</th>\n",
              "      <td>-0.000012</td>\n",
              "      <td>-0.000047</td>\n",
              "      <td>0.000074</td>\n",
              "    </tr>\n",
              "    <tr>\n",
              "      <th>2020-12-31</th>\n",
              "      <td>-0.000011</td>\n",
              "      <td>-0.000046</td>\n",
              "      <td>0.000251</td>\n",
              "    </tr>\n",
              "  </tbody>\n",
              "</table>\n",
              "<p>10435 rows × 3 columns</p>\n",
              "</div>\n",
              "      <button class=\"colab-df-convert\" onclick=\"convertToInteractive('df-23067c18-f8aa-49c8-a6ff-7d6bd188263f')\"\n",
              "              title=\"Convert this dataframe to an interactive table.\"\n",
              "              style=\"display:none;\">\n",
              "        \n",
              "  <svg xmlns=\"http://www.w3.org/2000/svg\" height=\"24px\"viewBox=\"0 0 24 24\"\n",
              "       width=\"24px\">\n",
              "    <path d=\"M0 0h24v24H0V0z\" fill=\"none\"/>\n",
              "    <path d=\"M18.56 5.44l.94 2.06.94-2.06 2.06-.94-2.06-.94-.94-2.06-.94 2.06-2.06.94zm-11 1L8.5 8.5l.94-2.06 2.06-.94-2.06-.94L8.5 2.5l-.94 2.06-2.06.94zm10 10l.94 2.06.94-2.06 2.06-.94-2.06-.94-.94-2.06-.94 2.06-2.06.94z\"/><path d=\"M17.41 7.96l-1.37-1.37c-.4-.4-.92-.59-1.43-.59-.52 0-1.04.2-1.43.59L10.3 9.45l-7.72 7.72c-.78.78-.78 2.05 0 2.83L4 21.41c.39.39.9.59 1.41.59.51 0 1.02-.2 1.41-.59l7.78-7.78 2.81-2.81c.8-.78.8-2.07 0-2.86zM5.41 20L4 18.59l7.72-7.72 1.47 1.35L5.41 20z\"/>\n",
              "  </svg>\n",
              "      </button>\n",
              "      \n",
              "  <style>\n",
              "    .colab-df-container {\n",
              "      display:flex;\n",
              "      flex-wrap:wrap;\n",
              "      gap: 12px;\n",
              "    }\n",
              "\n",
              "    .colab-df-convert {\n",
              "      background-color: #E8F0FE;\n",
              "      border: none;\n",
              "      border-radius: 50%;\n",
              "      cursor: pointer;\n",
              "      display: none;\n",
              "      fill: #1967D2;\n",
              "      height: 32px;\n",
              "      padding: 0 0 0 0;\n",
              "      width: 32px;\n",
              "    }\n",
              "\n",
              "    .colab-df-convert:hover {\n",
              "      background-color: #E2EBFA;\n",
              "      box-shadow: 0px 1px 2px rgba(60, 64, 67, 0.3), 0px 1px 3px 1px rgba(60, 64, 67, 0.15);\n",
              "      fill: #174EA6;\n",
              "    }\n",
              "\n",
              "    [theme=dark] .colab-df-convert {\n",
              "      background-color: #3B4455;\n",
              "      fill: #D2E3FC;\n",
              "    }\n",
              "\n",
              "    [theme=dark] .colab-df-convert:hover {\n",
              "      background-color: #434B5C;\n",
              "      box-shadow: 0px 1px 3px 1px rgba(0, 0, 0, 0.15);\n",
              "      filter: drop-shadow(0px 1px 2px rgba(0, 0, 0, 0.3));\n",
              "      fill: #FFFFFF;\n",
              "    }\n",
              "  </style>\n",
              "\n",
              "      <script>\n",
              "        const buttonEl =\n",
              "          document.querySelector('#df-23067c18-f8aa-49c8-a6ff-7d6bd188263f button.colab-df-convert');\n",
              "        buttonEl.style.display =\n",
              "          google.colab.kernel.accessAllowed ? 'block' : 'none';\n",
              "\n",
              "        async function convertToInteractive(key) {\n",
              "          const element = document.querySelector('#df-23067c18-f8aa-49c8-a6ff-7d6bd188263f');\n",
              "          const dataTable =\n",
              "            await google.colab.kernel.invokeFunction('convertToInteractive',\n",
              "                                                     [key], {});\n",
              "          if (!dataTable) return;\n",
              "\n",
              "          const docLinkHtml = 'Like what you see? Visit the ' +\n",
              "            '<a target=\"_blank\" href=https://colab.research.google.com/notebooks/data_table.ipynb>data table notebook</a>'\n",
              "            + ' to learn more about interactive tables.';\n",
              "          element.innerHTML = '';\n",
              "          dataTable['output_type'] = 'display_data';\n",
              "          await google.colab.output.renderOutput(dataTable, element);\n",
              "          const docLink = document.createElement('div');\n",
              "          docLink.innerHTML = docLinkHtml;\n",
              "          element.appendChild(docLink);\n",
              "        }\n",
              "      </script>\n",
              "    </div>\n",
              "  </div>\n",
              "  "
            ],
            "text/plain": [
              "            cad_recursive_linear_prediction  ...  gbp_recursive_linear_prediction\n",
              "1981-01-02                        -0.000018  ...                        -0.000071\n",
              "1981-01-05                        -0.000018  ...                        -0.000167\n",
              "1981-01-06                        -0.000018  ...                         0.000401\n",
              "1981-01-07                        -0.000018  ...                         0.000029\n",
              "1981-01-08                        -0.000018  ...                        -0.000221\n",
              "...                                     ...  ...                              ...\n",
              "2020-12-25                        -0.000012  ...                         0.000109\n",
              "2020-12-28                        -0.000012  ...                        -0.000048\n",
              "2020-12-29                        -0.000012  ...                        -0.000323\n",
              "2020-12-30                        -0.000012  ...                         0.000074\n",
              "2020-12-31                        -0.000011  ...                         0.000251\n",
              "\n",
              "[10435 rows x 3 columns]"
            ]
          },
          "metadata": {},
          "execution_count": 15
        }
      ],
      "source": [
        "recursive_linear = pd.read_csv('./recursive_linear_prediction.csv', index_col=0)\n",
        "recursive_linear = recursive_linear.astype('float64')\n",
        "recursive_linear.index = pd.to_datetime(recursive_linear.index)\n",
        "\n",
        "cad_recursive_linear = recursive_linear.iloc[:,0]\n",
        "aud_recursive_linear = recursive_linear.iloc[:,1]\n",
        "gbp_recursive_linear = recursive_linear.iloc[:,2]\n",
        "\n",
        "recursive_linear"
      ]
    },
    {
      "cell_type": "code",
      "execution_count": 16,
      "metadata": {
        "colab": {
          "base_uri": "https://localhost:8080/",
          "height": 424
        },
        "id": "UICkwjZ8p4B2",
        "outputId": "b252901b-aada-4344-9a90-cc1bfa4cef07"
      },
      "outputs": [
        {
          "output_type": "execute_result",
          "data": {
            "text/html": [
              "\n",
              "  <div id=\"df-9b036e09-5f04-4829-9bc6-1a9e0f71e07b\">\n",
              "    <div class=\"colab-df-container\">\n",
              "      <div>\n",
              "<style scoped>\n",
              "    .dataframe tbody tr th:only-of-type {\n",
              "        vertical-align: middle;\n",
              "    }\n",
              "\n",
              "    .dataframe tbody tr th {\n",
              "        vertical-align: top;\n",
              "    }\n",
              "\n",
              "    .dataframe thead th {\n",
              "        text-align: right;\n",
              "    }\n",
              "</style>\n",
              "<table border=\"1\" class=\"dataframe\">\n",
              "  <thead>\n",
              "    <tr style=\"text-align: right;\">\n",
              "      <th></th>\n",
              "      <th>cad_recursive_linear_residue</th>\n",
              "      <th>aud_recursive_linear_residue</th>\n",
              "      <th>gbp_recursive_linear_residue</th>\n",
              "    </tr>\n",
              "  </thead>\n",
              "  <tbody>\n",
              "    <tr>\n",
              "      <th>1981-01-02</th>\n",
              "      <td>-0.000221</td>\n",
              "      <td>-0.000959</td>\n",
              "      <td>-0.002864</td>\n",
              "    </tr>\n",
              "    <tr>\n",
              "      <th>1981-01-05</th>\n",
              "      <td>0.005142</td>\n",
              "      <td>0.003863</td>\n",
              "      <td>0.014132</td>\n",
              "    </tr>\n",
              "    <tr>\n",
              "      <th>1981-01-06</th>\n",
              "      <td>0.000374</td>\n",
              "      <td>0.003681</td>\n",
              "      <td>0.002493</td>\n",
              "    </tr>\n",
              "    <tr>\n",
              "      <th>1981-01-07</th>\n",
              "      <td>0.000255</td>\n",
              "      <td>0.000058</td>\n",
              "      <td>-0.004580</td>\n",
              "    </tr>\n",
              "    <tr>\n",
              "      <th>1981-01-08</th>\n",
              "      <td>0.000018</td>\n",
              "      <td>-0.002047</td>\n",
              "      <td>-0.003102</td>\n",
              "    </tr>\n",
              "    <tr>\n",
              "      <th>...</th>\n",
              "      <td>...</td>\n",
              "      <td>...</td>\n",
              "      <td>...</td>\n",
              "    </tr>\n",
              "    <tr>\n",
              "      <th>2020-12-25</th>\n",
              "      <td>-0.000117</td>\n",
              "      <td>0.001100</td>\n",
              "      <td>0.000038</td>\n",
              "    </tr>\n",
              "    <tr>\n",
              "      <th>2020-12-28</th>\n",
              "      <td>0.001426</td>\n",
              "      <td>-0.003377</td>\n",
              "      <td>-0.007949</td>\n",
              "    </tr>\n",
              "    <tr>\n",
              "      <th>2020-12-29</th>\n",
              "      <td>0.002194</td>\n",
              "      <td>0.003604</td>\n",
              "      <td>0.004107</td>\n",
              "    </tr>\n",
              "    <tr>\n",
              "      <th>2020-12-30</th>\n",
              "      <td>0.005254</td>\n",
              "      <td>0.010510</td>\n",
              "      <td>0.008920</td>\n",
              "    </tr>\n",
              "    <tr>\n",
              "      <th>2020-12-31</th>\n",
              "      <td>0.001413</td>\n",
              "      <td>0.001087</td>\n",
              "      <td>0.003047</td>\n",
              "    </tr>\n",
              "  </tbody>\n",
              "</table>\n",
              "<p>10435 rows × 3 columns</p>\n",
              "</div>\n",
              "      <button class=\"colab-df-convert\" onclick=\"convertToInteractive('df-9b036e09-5f04-4829-9bc6-1a9e0f71e07b')\"\n",
              "              title=\"Convert this dataframe to an interactive table.\"\n",
              "              style=\"display:none;\">\n",
              "        \n",
              "  <svg xmlns=\"http://www.w3.org/2000/svg\" height=\"24px\"viewBox=\"0 0 24 24\"\n",
              "       width=\"24px\">\n",
              "    <path d=\"M0 0h24v24H0V0z\" fill=\"none\"/>\n",
              "    <path d=\"M18.56 5.44l.94 2.06.94-2.06 2.06-.94-2.06-.94-.94-2.06-.94 2.06-2.06.94zm-11 1L8.5 8.5l.94-2.06 2.06-.94-2.06-.94L8.5 2.5l-.94 2.06-2.06.94zm10 10l.94 2.06.94-2.06 2.06-.94-2.06-.94-.94-2.06-.94 2.06-2.06.94z\"/><path d=\"M17.41 7.96l-1.37-1.37c-.4-.4-.92-.59-1.43-.59-.52 0-1.04.2-1.43.59L10.3 9.45l-7.72 7.72c-.78.78-.78 2.05 0 2.83L4 21.41c.39.39.9.59 1.41.59.51 0 1.02-.2 1.41-.59l7.78-7.78 2.81-2.81c.8-.78.8-2.07 0-2.86zM5.41 20L4 18.59l7.72-7.72 1.47 1.35L5.41 20z\"/>\n",
              "  </svg>\n",
              "      </button>\n",
              "      \n",
              "  <style>\n",
              "    .colab-df-container {\n",
              "      display:flex;\n",
              "      flex-wrap:wrap;\n",
              "      gap: 12px;\n",
              "    }\n",
              "\n",
              "    .colab-df-convert {\n",
              "      background-color: #E8F0FE;\n",
              "      border: none;\n",
              "      border-radius: 50%;\n",
              "      cursor: pointer;\n",
              "      display: none;\n",
              "      fill: #1967D2;\n",
              "      height: 32px;\n",
              "      padding: 0 0 0 0;\n",
              "      width: 32px;\n",
              "    }\n",
              "\n",
              "    .colab-df-convert:hover {\n",
              "      background-color: #E2EBFA;\n",
              "      box-shadow: 0px 1px 2px rgba(60, 64, 67, 0.3), 0px 1px 3px 1px rgba(60, 64, 67, 0.15);\n",
              "      fill: #174EA6;\n",
              "    }\n",
              "\n",
              "    [theme=dark] .colab-df-convert {\n",
              "      background-color: #3B4455;\n",
              "      fill: #D2E3FC;\n",
              "    }\n",
              "\n",
              "    [theme=dark] .colab-df-convert:hover {\n",
              "      background-color: #434B5C;\n",
              "      box-shadow: 0px 1px 3px 1px rgba(0, 0, 0, 0.15);\n",
              "      filter: drop-shadow(0px 1px 2px rgba(0, 0, 0, 0.3));\n",
              "      fill: #FFFFFF;\n",
              "    }\n",
              "  </style>\n",
              "\n",
              "      <script>\n",
              "        const buttonEl =\n",
              "          document.querySelector('#df-9b036e09-5f04-4829-9bc6-1a9e0f71e07b button.colab-df-convert');\n",
              "        buttonEl.style.display =\n",
              "          google.colab.kernel.accessAllowed ? 'block' : 'none';\n",
              "\n",
              "        async function convertToInteractive(key) {\n",
              "          const element = document.querySelector('#df-9b036e09-5f04-4829-9bc6-1a9e0f71e07b');\n",
              "          const dataTable =\n",
              "            await google.colab.kernel.invokeFunction('convertToInteractive',\n",
              "                                                     [key], {});\n",
              "          if (!dataTable) return;\n",
              "\n",
              "          const docLinkHtml = 'Like what you see? Visit the ' +\n",
              "            '<a target=\"_blank\" href=https://colab.research.google.com/notebooks/data_table.ipynb>data table notebook</a>'\n",
              "            + ' to learn more about interactive tables.';\n",
              "          element.innerHTML = '';\n",
              "          dataTable['output_type'] = 'display_data';\n",
              "          await google.colab.output.renderOutput(dataTable, element);\n",
              "          const docLink = document.createElement('div');\n",
              "          docLink.innerHTML = docLinkHtml;\n",
              "          element.appendChild(docLink);\n",
              "        }\n",
              "      </script>\n",
              "    </div>\n",
              "  </div>\n",
              "  "
            ],
            "text/plain": [
              "            cad_recursive_linear_residue  ...  gbp_recursive_linear_residue\n",
              "1981-01-02                     -0.000221  ...                     -0.002864\n",
              "1981-01-05                      0.005142  ...                      0.014132\n",
              "1981-01-06                      0.000374  ...                      0.002493\n",
              "1981-01-07                      0.000255  ...                     -0.004580\n",
              "1981-01-08                      0.000018  ...                     -0.003102\n",
              "...                                  ...  ...                           ...\n",
              "2020-12-25                     -0.000117  ...                      0.000038\n",
              "2020-12-28                      0.001426  ...                     -0.007949\n",
              "2020-12-29                      0.002194  ...                      0.004107\n",
              "2020-12-30                      0.005254  ...                      0.008920\n",
              "2020-12-31                      0.001413  ...                      0.003047\n",
              "\n",
              "[10435 rows x 3 columns]"
            ]
          },
          "metadata": {},
          "execution_count": 16
        }
      ],
      "source": [
        "recursive_residue = pd.read_csv('./recursive_linear_residue.csv', index_col=0)\n",
        "recursive_residue = recursive_residue.astype('float64')\n",
        "recursive_residue.index = pd.to_datetime(recursive_residue.index)\n",
        "\n",
        "cad_recursive_residue = recursive_residue.iloc[:,0]\n",
        "aud_recursive_residue = recursive_residue.iloc[:,1]\n",
        "gbp_recursive_residue = recursive_residue.iloc[:,2]\n",
        "\n",
        "recursive_residue"
      ]
    },
    {
      "cell_type": "markdown",
      "metadata": {
        "id": "yvryYFufp4B3"
      },
      "source": [
        "### LSTM"
      ]
    },
    {
      "cell_type": "code",
      "execution_count": 17,
      "metadata": {
        "id": "RfMK4EIap4B3"
      },
      "outputs": [],
      "source": [
        "model_type = LSTM"
      ]
    },
    {
      "cell_type": "markdown",
      "metadata": {
        "id": "f0wCxPDKp4B3"
      },
      "source": [
        "#### cad"
      ]
    },
    {
      "cell_type": "code",
      "execution_count": 18,
      "metadata": {
        "colab": {
          "base_uri": "https://localhost:8080/"
        },
        "id": "E2qm2kMbp4B3",
        "outputId": "0405dbc0-dec1-477c-a967-ba31c9733c32"
      },
      "outputs": [
        {
          "output_type": "execute_result",
          "data": {
            "text/plain": [
              "1981-01-02   -0.000018\n",
              "1981-01-05   -0.000018\n",
              "1981-01-06   -0.000018\n",
              "1981-01-07   -0.000018\n",
              "1981-01-08   -0.000018\n",
              "                ...   \n",
              "2020-12-25   -0.000012\n",
              "2020-12-28   -0.000012\n",
              "2020-12-29   -0.000012\n",
              "2020-12-30   -0.000012\n",
              "2020-12-31   -0.000011\n",
              "Name: cad_recursive_linear_prediction, Length: 10435, dtype: float64"
            ]
          },
          "metadata": {},
          "execution_count": 18
        }
      ],
      "source": [
        "cad_recursive_linear"
      ]
    },
    {
      "cell_type": "code",
      "execution_count": 19,
      "metadata": {
        "colab": {
          "base_uri": "https://localhost:8080/"
        },
        "id": "NeOEOqhHp4B3",
        "outputId": "54cf2204-b988-4780-bb2e-7e16fafef865"
      },
      "outputs": [
        {
          "output_type": "execute_result",
          "data": {
            "text/plain": [
              "1981-01-02   -0.000221\n",
              "1981-01-05    0.005142\n",
              "1981-01-06    0.000374\n",
              "1981-01-07    0.000255\n",
              "1981-01-08    0.000018\n",
              "                ...   \n",
              "2020-12-25   -0.000117\n",
              "2020-12-28    0.001426\n",
              "2020-12-29    0.002194\n",
              "2020-12-30    0.005254\n",
              "2020-12-31    0.001413\n",
              "Name: cad_recursive_linear_residue, Length: 10435, dtype: float64"
            ]
          },
          "metadata": {},
          "execution_count": 19
        }
      ],
      "source": [
        "cad_recursive_residue"
      ]
    },
    {
      "cell_type": "code",
      "execution_count": 20,
      "metadata": {
        "id": "x5R7U2zpp4B3"
      },
      "outputs": [],
      "source": [
        "# optim hyperparameters obtained by grid search\n",
        "length_input_sequence = 5\n",
        "num_hidden_layers = 2\n",
        "num_hidden_sizes = 1600\n",
        "batch_sizes = 16\n",
        "num_epochs = 5"
      ]
    },
    {
      "cell_type": "code",
      "execution_count": 21,
      "metadata": {
        "id": "ZtPuR4B8p4B3"
      },
      "outputs": [],
      "source": [
        "cad_recursive_LSTM_pred = prediction_on_testset(model_type, cad_recursive_linear, cad_recursive_residue, length_input_sequence, num_hidden_layers, num_hidden_sizes, batch_sizes, num_epochs)"
      ]
    },
    {
      "cell_type": "markdown",
      "metadata": {
        "id": "HsDAO82hp4B3"
      },
      "source": [
        "#### aud"
      ]
    },
    {
      "cell_type": "code",
      "execution_count": 22,
      "metadata": {
        "colab": {
          "base_uri": "https://localhost:8080/"
        },
        "id": "XqxDtmh6p4B4",
        "outputId": "dba489e3-7922-461d-c93f-cd814526f00f"
      },
      "outputs": [
        {
          "output_type": "execute_result",
          "data": {
            "text/plain": [
              "1981-01-02   -0.000058\n",
              "1981-01-05   -0.000058\n",
              "1981-01-06   -0.000058\n",
              "1981-01-07   -0.000058\n",
              "1981-01-08   -0.000058\n",
              "                ...   \n",
              "2020-12-25   -0.000047\n",
              "2020-12-28   -0.000047\n",
              "2020-12-29   -0.000048\n",
              "2020-12-30   -0.000047\n",
              "2020-12-31   -0.000046\n",
              "Name: aud_recursive_linear_prediction, Length: 10435, dtype: float64"
            ]
          },
          "metadata": {},
          "execution_count": 22
        }
      ],
      "source": [
        "aud_recursive_linear"
      ]
    },
    {
      "cell_type": "code",
      "execution_count": 23,
      "metadata": {
        "colab": {
          "base_uri": "https://localhost:8080/"
        },
        "id": "sE5xnnNJp4B4",
        "outputId": "b71fa585-70f1-4f8d-f8da-44b23c992cc3"
      },
      "outputs": [
        {
          "output_type": "execute_result",
          "data": {
            "text/plain": [
              "1981-01-02   -0.000959\n",
              "1981-01-05    0.003863\n",
              "1981-01-06    0.003681\n",
              "1981-01-07    0.000058\n",
              "1981-01-08   -0.002047\n",
              "                ...   \n",
              "2020-12-25    0.001100\n",
              "2020-12-28   -0.003377\n",
              "2020-12-29    0.003604\n",
              "2020-12-30    0.010510\n",
              "2020-12-31    0.001087\n",
              "Name: aud_recursive_linear_residue, Length: 10435, dtype: float64"
            ]
          },
          "metadata": {},
          "execution_count": 23
        }
      ],
      "source": [
        "aud_recursive_residue"
      ]
    },
    {
      "cell_type": "code",
      "execution_count": 24,
      "metadata": {
        "id": "pGPRs3u_p4B4"
      },
      "outputs": [],
      "source": [
        "# optim hyperparameters obtained by grid search\n",
        "length_input_sequence = 10\n",
        "num_hidden_layers = 3\n",
        "num_hidden_sizes = 1600\n",
        "batch_sizes = 128\n",
        "num_epochs = 15"
      ]
    },
    {
      "cell_type": "code",
      "execution_count": 25,
      "metadata": {
        "id": "i-SY4rm5p4B4"
      },
      "outputs": [],
      "source": [
        "aud_recursive_LSTM_pred = prediction_on_testset(model_type, aud_recursive_linear, aud_recursive_residue, length_input_sequence, num_hidden_layers, num_hidden_sizes, batch_sizes, num_epochs)"
      ]
    },
    {
      "cell_type": "markdown",
      "metadata": {
        "id": "2BtD9vY_p4B4"
      },
      "source": [
        "#### gbp"
      ]
    },
    {
      "cell_type": "code",
      "execution_count": 26,
      "metadata": {
        "colab": {
          "base_uri": "https://localhost:8080/"
        },
        "id": "cUsg1bnVp4B4",
        "outputId": "34f9ae12-cdc6-4345-e16c-81db25c0b71d"
      },
      "outputs": [
        {
          "output_type": "execute_result",
          "data": {
            "text/plain": [
              "1981-01-02   -0.000071\n",
              "1981-01-05   -0.000167\n",
              "1981-01-06    0.000401\n",
              "1981-01-07    0.000029\n",
              "1981-01-08   -0.000221\n",
              "                ...   \n",
              "2020-12-25    0.000109\n",
              "2020-12-28   -0.000048\n",
              "2020-12-29   -0.000323\n",
              "2020-12-30    0.000074\n",
              "2020-12-31    0.000251\n",
              "Name: gbp_recursive_linear_prediction, Length: 10435, dtype: float64"
            ]
          },
          "metadata": {},
          "execution_count": 26
        }
      ],
      "source": [
        "gbp_recursive_linear"
      ]
    },
    {
      "cell_type": "code",
      "execution_count": 27,
      "metadata": {
        "colab": {
          "base_uri": "https://localhost:8080/"
        },
        "id": "PL_HKKtLp4B4",
        "outputId": "f47bc944-b0d8-4000-dc35-6a7768a35cf3"
      },
      "outputs": [
        {
          "output_type": "execute_result",
          "data": {
            "text/plain": [
              "1981-01-02   -0.002864\n",
              "1981-01-05    0.014132\n",
              "1981-01-06    0.002493\n",
              "1981-01-07   -0.004580\n",
              "1981-01-08   -0.003102\n",
              "                ...   \n",
              "2020-12-25    0.000038\n",
              "2020-12-28   -0.007949\n",
              "2020-12-29    0.004107\n",
              "2020-12-30    0.008920\n",
              "2020-12-31    0.003047\n",
              "Name: gbp_recursive_linear_residue, Length: 10435, dtype: float64"
            ]
          },
          "metadata": {},
          "execution_count": 27
        }
      ],
      "source": [
        "gbp_recursive_residue"
      ]
    },
    {
      "cell_type": "code",
      "execution_count": 28,
      "metadata": {
        "id": "AF7ttxI5p4B4"
      },
      "outputs": [],
      "source": [
        "# optim hyperparameters obtained by grid search\n",
        "length_input_sequence = 5\n",
        "num_hidden_layers = 2\n",
        "num_hidden_sizes = 25\n",
        "batch_sizes = 256\n",
        "num_epochs = 5"
      ]
    },
    {
      "cell_type": "code",
      "execution_count": 29,
      "metadata": {
        "id": "Nmhcb7bSp4B4"
      },
      "outputs": [],
      "source": [
        "gbp_recursive_LSTM_pred = prediction_on_testset(model_type, gbp_recursive_linear, gbp_recursive_residue, length_input_sequence, num_hidden_layers, num_hidden_sizes, batch_sizes, num_epochs)"
      ]
    },
    {
      "cell_type": "markdown",
      "metadata": {
        "id": "T3pxBIcxp4B4"
      },
      "source": [
        "### Self-Attention"
      ]
    },
    {
      "cell_type": "code",
      "execution_count": 30,
      "metadata": {
        "id": "XpISzmO2p4B4"
      },
      "outputs": [],
      "source": [
        "model_type = Self_Attention"
      ]
    },
    {
      "cell_type": "markdown",
      "metadata": {
        "id": "J1qCDcCMp4B4"
      },
      "source": [
        "#### cad"
      ]
    },
    {
      "cell_type": "code",
      "execution_count": 31,
      "metadata": {
        "colab": {
          "base_uri": "https://localhost:8080/"
        },
        "id": "aWmUYhIFp4B4",
        "outputId": "e7780a4a-c65c-4a77-ae78-1a770f255988"
      },
      "outputs": [
        {
          "output_type": "execute_result",
          "data": {
            "text/plain": [
              "1981-01-02   -0.000018\n",
              "1981-01-05   -0.000018\n",
              "1981-01-06   -0.000018\n",
              "1981-01-07   -0.000018\n",
              "1981-01-08   -0.000018\n",
              "                ...   \n",
              "2020-12-25   -0.000012\n",
              "2020-12-28   -0.000012\n",
              "2020-12-29   -0.000012\n",
              "2020-12-30   -0.000012\n",
              "2020-12-31   -0.000011\n",
              "Name: cad_recursive_linear_prediction, Length: 10435, dtype: float64"
            ]
          },
          "metadata": {},
          "execution_count": 31
        }
      ],
      "source": [
        "cad_recursive_linear"
      ]
    },
    {
      "cell_type": "code",
      "execution_count": 32,
      "metadata": {
        "colab": {
          "base_uri": "https://localhost:8080/"
        },
        "id": "RWpdVvZJp4B5",
        "outputId": "7ec92120-ff68-4cf2-8072-90d140ade158"
      },
      "outputs": [
        {
          "output_type": "execute_result",
          "data": {
            "text/plain": [
              "1981-01-02   -0.000221\n",
              "1981-01-05    0.005142\n",
              "1981-01-06    0.000374\n",
              "1981-01-07    0.000255\n",
              "1981-01-08    0.000018\n",
              "                ...   \n",
              "2020-12-25   -0.000117\n",
              "2020-12-28    0.001426\n",
              "2020-12-29    0.002194\n",
              "2020-12-30    0.005254\n",
              "2020-12-31    0.001413\n",
              "Name: cad_recursive_linear_residue, Length: 10435, dtype: float64"
            ]
          },
          "metadata": {},
          "execution_count": 32
        }
      ],
      "source": [
        "cad_recursive_residue"
      ]
    },
    {
      "cell_type": "code",
      "execution_count": 33,
      "metadata": {
        "id": "rjIeL6r6p4B5"
      },
      "outputs": [],
      "source": [
        "# optim hyperparameters obtained by grid search\n",
        "length_input_sequence = 5\n",
        "num_hidden_layers = 1\n",
        "num_hidden_sizes = 200\n",
        "batch_sizes = 256\n",
        "num_epochs = 15"
      ]
    },
    {
      "cell_type": "code",
      "execution_count": 34,
      "metadata": {
        "id": "d0C39XN9p4B5"
      },
      "outputs": [],
      "source": [
        "cad_recursive_Self_Attention_pred = prediction_on_testset(model_type, cad_recursive_linear, cad_recursive_residue, length_input_sequence, num_hidden_layers, num_hidden_sizes, batch_sizes, num_epochs)"
      ]
    },
    {
      "cell_type": "markdown",
      "metadata": {
        "id": "YuObh9zNp4B5"
      },
      "source": [
        "#### aud"
      ]
    },
    {
      "cell_type": "code",
      "execution_count": 35,
      "metadata": {
        "colab": {
          "base_uri": "https://localhost:8080/"
        },
        "id": "fKoiciMNp4B5",
        "outputId": "02ee5f34-809a-4823-9ea5-f2b54e7f44e5"
      },
      "outputs": [
        {
          "output_type": "execute_result",
          "data": {
            "text/plain": [
              "1981-01-02   -0.000058\n",
              "1981-01-05   -0.000058\n",
              "1981-01-06   -0.000058\n",
              "1981-01-07   -0.000058\n",
              "1981-01-08   -0.000058\n",
              "                ...   \n",
              "2020-12-25   -0.000047\n",
              "2020-12-28   -0.000047\n",
              "2020-12-29   -0.000048\n",
              "2020-12-30   -0.000047\n",
              "2020-12-31   -0.000046\n",
              "Name: aud_recursive_linear_prediction, Length: 10435, dtype: float64"
            ]
          },
          "metadata": {},
          "execution_count": 35
        }
      ],
      "source": [
        "aud_recursive_linear"
      ]
    },
    {
      "cell_type": "code",
      "execution_count": 36,
      "metadata": {
        "colab": {
          "base_uri": "https://localhost:8080/"
        },
        "id": "P2h9LK9Pp4B5",
        "outputId": "8eefa471-8b21-4751-bc5e-a84bc29b8cc0"
      },
      "outputs": [
        {
          "output_type": "execute_result",
          "data": {
            "text/plain": [
              "1981-01-02   -0.000959\n",
              "1981-01-05    0.003863\n",
              "1981-01-06    0.003681\n",
              "1981-01-07    0.000058\n",
              "1981-01-08   -0.002047\n",
              "                ...   \n",
              "2020-12-25    0.001100\n",
              "2020-12-28   -0.003377\n",
              "2020-12-29    0.003604\n",
              "2020-12-30    0.010510\n",
              "2020-12-31    0.001087\n",
              "Name: aud_recursive_linear_residue, Length: 10435, dtype: float64"
            ]
          },
          "metadata": {},
          "execution_count": 36
        }
      ],
      "source": [
        "aud_recursive_residue"
      ]
    },
    {
      "cell_type": "code",
      "execution_count": 37,
      "metadata": {
        "id": "SttmFSKcp4B5"
      },
      "outputs": [],
      "source": [
        "# optim hyperparameters obtained by grid search\n",
        "length_input_sequence = 10\n",
        "num_hidden_layers = 1\n",
        "num_hidden_sizes = 800\n",
        "batch_sizes = 16\n",
        "num_epochs = 30"
      ]
    },
    {
      "cell_type": "code",
      "execution_count": 38,
      "metadata": {
        "id": "vi-rMB8jp4B5"
      },
      "outputs": [],
      "source": [
        "aud_recursive_Self_Attention_pred = prediction_on_testset(model_type, aud_recursive_linear, aud_recursive_residue, length_input_sequence, num_hidden_layers, num_hidden_sizes, batch_sizes, num_epochs)"
      ]
    },
    {
      "cell_type": "markdown",
      "metadata": {
        "id": "kVd7krebp4B5"
      },
      "source": [
        "#### gbp"
      ]
    },
    {
      "cell_type": "code",
      "execution_count": 39,
      "metadata": {
        "colab": {
          "base_uri": "https://localhost:8080/"
        },
        "id": "M-1YGfW4p4B5",
        "outputId": "45ef9b27-6178-407b-9129-f06f70641e49"
      },
      "outputs": [
        {
          "output_type": "execute_result",
          "data": {
            "text/plain": [
              "1981-01-02   -0.000071\n",
              "1981-01-05   -0.000167\n",
              "1981-01-06    0.000401\n",
              "1981-01-07    0.000029\n",
              "1981-01-08   -0.000221\n",
              "                ...   \n",
              "2020-12-25    0.000109\n",
              "2020-12-28   -0.000048\n",
              "2020-12-29   -0.000323\n",
              "2020-12-30    0.000074\n",
              "2020-12-31    0.000251\n",
              "Name: gbp_recursive_linear_prediction, Length: 10435, dtype: float64"
            ]
          },
          "metadata": {},
          "execution_count": 39
        }
      ],
      "source": [
        "gbp_recursive_linear"
      ]
    },
    {
      "cell_type": "code",
      "execution_count": 40,
      "metadata": {
        "colab": {
          "base_uri": "https://localhost:8080/"
        },
        "id": "Ll2FlUCrp4B5",
        "outputId": "59cbbc74-6a69-436f-d7be-9204f06d06b0"
      },
      "outputs": [
        {
          "output_type": "execute_result",
          "data": {
            "text/plain": [
              "1981-01-02   -0.002864\n",
              "1981-01-05    0.014132\n",
              "1981-01-06    0.002493\n",
              "1981-01-07   -0.004580\n",
              "1981-01-08   -0.003102\n",
              "                ...   \n",
              "2020-12-25    0.000038\n",
              "2020-12-28   -0.007949\n",
              "2020-12-29    0.004107\n",
              "2020-12-30    0.008920\n",
              "2020-12-31    0.003047\n",
              "Name: gbp_recursive_linear_residue, Length: 10435, dtype: float64"
            ]
          },
          "metadata": {},
          "execution_count": 40
        }
      ],
      "source": [
        "gbp_recursive_residue"
      ]
    },
    {
      "cell_type": "code",
      "execution_count": 41,
      "metadata": {
        "id": "nDAyMKV1p4B5"
      },
      "outputs": [],
      "source": [
        "# optim hyperparameters obtained by grid search\n",
        "length_input_sequence = 5\n",
        "num_hidden_layers = 1\n",
        "num_hidden_sizes = 200\n",
        "batch_sizes = 256\n",
        "num_epochs = 20"
      ]
    },
    {
      "cell_type": "code",
      "execution_count": 42,
      "metadata": {
        "id": "OEMIpYj4p4B5"
      },
      "outputs": [],
      "source": [
        "gbp_recursive_Self_Attention_pred = prediction_on_testset(model_type, gbp_recursive_linear, gbp_recursive_residue, length_input_sequence, num_hidden_layers, num_hidden_sizes, batch_sizes, num_epochs)"
      ]
    },
    {
      "cell_type": "markdown",
      "metadata": {
        "id": "OOR6lfWNp4B5"
      },
      "source": [
        "## Rolling window"
      ]
    },
    {
      "cell_type": "code",
      "execution_count": 43,
      "metadata": {
        "colab": {
          "base_uri": "https://localhost:8080/",
          "height": 0
        },
        "id": "8kPTWGOxp4B5",
        "outputId": "965847dc-976a-4c73-9d4d-8b0bd2b9e941"
      },
      "outputs": [
        {
          "output_type": "execute_result",
          "data": {
            "text/html": [
              "\n",
              "  <div id=\"df-70a3e6df-a973-4f6b-9065-5069c3c72b1a\">\n",
              "    <div class=\"colab-df-container\">\n",
              "      <div>\n",
              "<style scoped>\n",
              "    .dataframe tbody tr th:only-of-type {\n",
              "        vertical-align: middle;\n",
              "    }\n",
              "\n",
              "    .dataframe tbody tr th {\n",
              "        vertical-align: top;\n",
              "    }\n",
              "\n",
              "    .dataframe thead th {\n",
              "        text-align: right;\n",
              "    }\n",
              "</style>\n",
              "<table border=\"1\" class=\"dataframe\">\n",
              "  <thead>\n",
              "    <tr style=\"text-align: right;\">\n",
              "      <th></th>\n",
              "      <th>cad_rolling_linear_prediction</th>\n",
              "      <th>aud_rolling_linear_prediction</th>\n",
              "      <th>gbp_rolling_linear_prediction</th>\n",
              "    </tr>\n",
              "  </thead>\n",
              "  <tbody>\n",
              "    <tr>\n",
              "      <th>1981-01-02</th>\n",
              "      <td>-0.000018</td>\n",
              "      <td>-0.000058</td>\n",
              "      <td>-0.000071</td>\n",
              "    </tr>\n",
              "    <tr>\n",
              "      <th>1981-01-05</th>\n",
              "      <td>-0.000018</td>\n",
              "      <td>-0.000058</td>\n",
              "      <td>-0.000167</td>\n",
              "    </tr>\n",
              "    <tr>\n",
              "      <th>1981-01-06</th>\n",
              "      <td>-0.000018</td>\n",
              "      <td>-0.000058</td>\n",
              "      <td>0.000401</td>\n",
              "    </tr>\n",
              "    <tr>\n",
              "      <th>1981-01-07</th>\n",
              "      <td>-0.000018</td>\n",
              "      <td>-0.000058</td>\n",
              "      <td>0.000029</td>\n",
              "    </tr>\n",
              "    <tr>\n",
              "      <th>1981-01-08</th>\n",
              "      <td>-0.000018</td>\n",
              "      <td>-0.000058</td>\n",
              "      <td>-0.000221</td>\n",
              "    </tr>\n",
              "    <tr>\n",
              "      <th>...</th>\n",
              "      <td>...</td>\n",
              "      <td>...</td>\n",
              "      <td>...</td>\n",
              "    </tr>\n",
              "    <tr>\n",
              "      <th>2020-12-25</th>\n",
              "      <td>-0.000002</td>\n",
              "      <td>-0.000015</td>\n",
              "      <td>0.000171</td>\n",
              "    </tr>\n",
              "    <tr>\n",
              "      <th>2020-12-28</th>\n",
              "      <td>-0.000002</td>\n",
              "      <td>-0.000014</td>\n",
              "      <td>0.000020</td>\n",
              "    </tr>\n",
              "    <tr>\n",
              "      <th>2020-12-29</th>\n",
              "      <td>-0.000002</td>\n",
              "      <td>-0.000014</td>\n",
              "      <td>-0.000245</td>\n",
              "    </tr>\n",
              "    <tr>\n",
              "      <th>2020-12-30</th>\n",
              "      <td>-0.000002</td>\n",
              "      <td>-0.000014</td>\n",
              "      <td>0.000138</td>\n",
              "    </tr>\n",
              "    <tr>\n",
              "      <th>2020-12-31</th>\n",
              "      <td>-0.000001</td>\n",
              "      <td>-0.000013</td>\n",
              "      <td>0.000309</td>\n",
              "    </tr>\n",
              "  </tbody>\n",
              "</table>\n",
              "<p>10435 rows × 3 columns</p>\n",
              "</div>\n",
              "      <button class=\"colab-df-convert\" onclick=\"convertToInteractive('df-70a3e6df-a973-4f6b-9065-5069c3c72b1a')\"\n",
              "              title=\"Convert this dataframe to an interactive table.\"\n",
              "              style=\"display:none;\">\n",
              "        \n",
              "  <svg xmlns=\"http://www.w3.org/2000/svg\" height=\"24px\"viewBox=\"0 0 24 24\"\n",
              "       width=\"24px\">\n",
              "    <path d=\"M0 0h24v24H0V0z\" fill=\"none\"/>\n",
              "    <path d=\"M18.56 5.44l.94 2.06.94-2.06 2.06-.94-2.06-.94-.94-2.06-.94 2.06-2.06.94zm-11 1L8.5 8.5l.94-2.06 2.06-.94-2.06-.94L8.5 2.5l-.94 2.06-2.06.94zm10 10l.94 2.06.94-2.06 2.06-.94-2.06-.94-.94-2.06-.94 2.06-2.06.94z\"/><path d=\"M17.41 7.96l-1.37-1.37c-.4-.4-.92-.59-1.43-.59-.52 0-1.04.2-1.43.59L10.3 9.45l-7.72 7.72c-.78.78-.78 2.05 0 2.83L4 21.41c.39.39.9.59 1.41.59.51 0 1.02-.2 1.41-.59l7.78-7.78 2.81-2.81c.8-.78.8-2.07 0-2.86zM5.41 20L4 18.59l7.72-7.72 1.47 1.35L5.41 20z\"/>\n",
              "  </svg>\n",
              "      </button>\n",
              "      \n",
              "  <style>\n",
              "    .colab-df-container {\n",
              "      display:flex;\n",
              "      flex-wrap:wrap;\n",
              "      gap: 12px;\n",
              "    }\n",
              "\n",
              "    .colab-df-convert {\n",
              "      background-color: #E8F0FE;\n",
              "      border: none;\n",
              "      border-radius: 50%;\n",
              "      cursor: pointer;\n",
              "      display: none;\n",
              "      fill: #1967D2;\n",
              "      height: 32px;\n",
              "      padding: 0 0 0 0;\n",
              "      width: 32px;\n",
              "    }\n",
              "\n",
              "    .colab-df-convert:hover {\n",
              "      background-color: #E2EBFA;\n",
              "      box-shadow: 0px 1px 2px rgba(60, 64, 67, 0.3), 0px 1px 3px 1px rgba(60, 64, 67, 0.15);\n",
              "      fill: #174EA6;\n",
              "    }\n",
              "\n",
              "    [theme=dark] .colab-df-convert {\n",
              "      background-color: #3B4455;\n",
              "      fill: #D2E3FC;\n",
              "    }\n",
              "\n",
              "    [theme=dark] .colab-df-convert:hover {\n",
              "      background-color: #434B5C;\n",
              "      box-shadow: 0px 1px 3px 1px rgba(0, 0, 0, 0.15);\n",
              "      filter: drop-shadow(0px 1px 2px rgba(0, 0, 0, 0.3));\n",
              "      fill: #FFFFFF;\n",
              "    }\n",
              "  </style>\n",
              "\n",
              "      <script>\n",
              "        const buttonEl =\n",
              "          document.querySelector('#df-70a3e6df-a973-4f6b-9065-5069c3c72b1a button.colab-df-convert');\n",
              "        buttonEl.style.display =\n",
              "          google.colab.kernel.accessAllowed ? 'block' : 'none';\n",
              "\n",
              "        async function convertToInteractive(key) {\n",
              "          const element = document.querySelector('#df-70a3e6df-a973-4f6b-9065-5069c3c72b1a');\n",
              "          const dataTable =\n",
              "            await google.colab.kernel.invokeFunction('convertToInteractive',\n",
              "                                                     [key], {});\n",
              "          if (!dataTable) return;\n",
              "\n",
              "          const docLinkHtml = 'Like what you see? Visit the ' +\n",
              "            '<a target=\"_blank\" href=https://colab.research.google.com/notebooks/data_table.ipynb>data table notebook</a>'\n",
              "            + ' to learn more about interactive tables.';\n",
              "          element.innerHTML = '';\n",
              "          dataTable['output_type'] = 'display_data';\n",
              "          await google.colab.output.renderOutput(dataTable, element);\n",
              "          const docLink = document.createElement('div');\n",
              "          docLink.innerHTML = docLinkHtml;\n",
              "          element.appendChild(docLink);\n",
              "        }\n",
              "      </script>\n",
              "    </div>\n",
              "  </div>\n",
              "  "
            ],
            "text/plain": [
              "            cad_rolling_linear_prediction  ...  gbp_rolling_linear_prediction\n",
              "1981-01-02                      -0.000018  ...                      -0.000071\n",
              "1981-01-05                      -0.000018  ...                      -0.000167\n",
              "1981-01-06                      -0.000018  ...                       0.000401\n",
              "1981-01-07                      -0.000018  ...                       0.000029\n",
              "1981-01-08                      -0.000018  ...                      -0.000221\n",
              "...                                   ...  ...                            ...\n",
              "2020-12-25                      -0.000002  ...                       0.000171\n",
              "2020-12-28                      -0.000002  ...                       0.000020\n",
              "2020-12-29                      -0.000002  ...                      -0.000245\n",
              "2020-12-30                      -0.000002  ...                       0.000138\n",
              "2020-12-31                      -0.000001  ...                       0.000309\n",
              "\n",
              "[10435 rows x 3 columns]"
            ]
          },
          "metadata": {},
          "execution_count": 43
        }
      ],
      "source": [
        "rolling_linear = pd.read_csv('./rolling_linear_prediction.csv', index_col=0)\n",
        "rolling_linear = rolling_linear.astype('float64')\n",
        "rolling_linear.index = pd.to_datetime(rolling_linear.index)\n",
        "\n",
        "cad_rolling_linear = rolling_linear.iloc[:,0]\n",
        "aud_rolling_linear = rolling_linear.iloc[:,1]\n",
        "gbp_rolling_linear = rolling_linear.iloc[:,2]\n",
        "\n",
        "rolling_linear"
      ]
    },
    {
      "cell_type": "code",
      "execution_count": 44,
      "metadata": {
        "colab": {
          "base_uri": "https://localhost:8080/",
          "height": 0
        },
        "id": "LwBE-jUnp4B6",
        "outputId": "ced481a3-8271-4337-cd03-d83efac092d1"
      },
      "outputs": [
        {
          "output_type": "execute_result",
          "data": {
            "text/html": [
              "\n",
              "  <div id=\"df-d803d840-420b-4d0f-9a3d-4377a5209711\">\n",
              "    <div class=\"colab-df-container\">\n",
              "      <div>\n",
              "<style scoped>\n",
              "    .dataframe tbody tr th:only-of-type {\n",
              "        vertical-align: middle;\n",
              "    }\n",
              "\n",
              "    .dataframe tbody tr th {\n",
              "        vertical-align: top;\n",
              "    }\n",
              "\n",
              "    .dataframe thead th {\n",
              "        text-align: right;\n",
              "    }\n",
              "</style>\n",
              "<table border=\"1\" class=\"dataframe\">\n",
              "  <thead>\n",
              "    <tr style=\"text-align: right;\">\n",
              "      <th></th>\n",
              "      <th>cad_rolling_linear_residue</th>\n",
              "      <th>aud_rolling_linear_residue</th>\n",
              "      <th>gbp_rolling_linear_residue</th>\n",
              "    </tr>\n",
              "  </thead>\n",
              "  <tbody>\n",
              "    <tr>\n",
              "      <th>1981-01-02</th>\n",
              "      <td>-0.000221</td>\n",
              "      <td>-0.000959</td>\n",
              "      <td>-0.002864</td>\n",
              "    </tr>\n",
              "    <tr>\n",
              "      <th>1981-01-05</th>\n",
              "      <td>0.005142</td>\n",
              "      <td>0.003863</td>\n",
              "      <td>0.014132</td>\n",
              "    </tr>\n",
              "    <tr>\n",
              "      <th>1981-01-06</th>\n",
              "      <td>0.000374</td>\n",
              "      <td>0.003681</td>\n",
              "      <td>0.002493</td>\n",
              "    </tr>\n",
              "    <tr>\n",
              "      <th>1981-01-07</th>\n",
              "      <td>0.000255</td>\n",
              "      <td>0.000058</td>\n",
              "      <td>-0.004580</td>\n",
              "    </tr>\n",
              "    <tr>\n",
              "      <th>1981-01-08</th>\n",
              "      <td>0.000018</td>\n",
              "      <td>-0.002047</td>\n",
              "      <td>-0.003102</td>\n",
              "    </tr>\n",
              "    <tr>\n",
              "      <th>...</th>\n",
              "      <td>...</td>\n",
              "      <td>...</td>\n",
              "      <td>...</td>\n",
              "    </tr>\n",
              "    <tr>\n",
              "      <th>2020-12-25</th>\n",
              "      <td>-0.000126</td>\n",
              "      <td>0.001068</td>\n",
              "      <td>-0.000024</td>\n",
              "    </tr>\n",
              "    <tr>\n",
              "      <th>2020-12-28</th>\n",
              "      <td>0.001416</td>\n",
              "      <td>-0.003410</td>\n",
              "      <td>-0.008017</td>\n",
              "    </tr>\n",
              "    <tr>\n",
              "      <th>2020-12-29</th>\n",
              "      <td>0.002184</td>\n",
              "      <td>0.003571</td>\n",
              "      <td>0.004029</td>\n",
              "    </tr>\n",
              "    <tr>\n",
              "      <th>2020-12-30</th>\n",
              "      <td>0.005244</td>\n",
              "      <td>0.010477</td>\n",
              "      <td>0.008856</td>\n",
              "    </tr>\n",
              "    <tr>\n",
              "      <th>2020-12-31</th>\n",
              "      <td>0.001403</td>\n",
              "      <td>0.001053</td>\n",
              "      <td>0.002988</td>\n",
              "    </tr>\n",
              "  </tbody>\n",
              "</table>\n",
              "<p>10435 rows × 3 columns</p>\n",
              "</div>\n",
              "      <button class=\"colab-df-convert\" onclick=\"convertToInteractive('df-d803d840-420b-4d0f-9a3d-4377a5209711')\"\n",
              "              title=\"Convert this dataframe to an interactive table.\"\n",
              "              style=\"display:none;\">\n",
              "        \n",
              "  <svg xmlns=\"http://www.w3.org/2000/svg\" height=\"24px\"viewBox=\"0 0 24 24\"\n",
              "       width=\"24px\">\n",
              "    <path d=\"M0 0h24v24H0V0z\" fill=\"none\"/>\n",
              "    <path d=\"M18.56 5.44l.94 2.06.94-2.06 2.06-.94-2.06-.94-.94-2.06-.94 2.06-2.06.94zm-11 1L8.5 8.5l.94-2.06 2.06-.94-2.06-.94L8.5 2.5l-.94 2.06-2.06.94zm10 10l.94 2.06.94-2.06 2.06-.94-2.06-.94-.94-2.06-.94 2.06-2.06.94z\"/><path d=\"M17.41 7.96l-1.37-1.37c-.4-.4-.92-.59-1.43-.59-.52 0-1.04.2-1.43.59L10.3 9.45l-7.72 7.72c-.78.78-.78 2.05 0 2.83L4 21.41c.39.39.9.59 1.41.59.51 0 1.02-.2 1.41-.59l7.78-7.78 2.81-2.81c.8-.78.8-2.07 0-2.86zM5.41 20L4 18.59l7.72-7.72 1.47 1.35L5.41 20z\"/>\n",
              "  </svg>\n",
              "      </button>\n",
              "      \n",
              "  <style>\n",
              "    .colab-df-container {\n",
              "      display:flex;\n",
              "      flex-wrap:wrap;\n",
              "      gap: 12px;\n",
              "    }\n",
              "\n",
              "    .colab-df-convert {\n",
              "      background-color: #E8F0FE;\n",
              "      border: none;\n",
              "      border-radius: 50%;\n",
              "      cursor: pointer;\n",
              "      display: none;\n",
              "      fill: #1967D2;\n",
              "      height: 32px;\n",
              "      padding: 0 0 0 0;\n",
              "      width: 32px;\n",
              "    }\n",
              "\n",
              "    .colab-df-convert:hover {\n",
              "      background-color: #E2EBFA;\n",
              "      box-shadow: 0px 1px 2px rgba(60, 64, 67, 0.3), 0px 1px 3px 1px rgba(60, 64, 67, 0.15);\n",
              "      fill: #174EA6;\n",
              "    }\n",
              "\n",
              "    [theme=dark] .colab-df-convert {\n",
              "      background-color: #3B4455;\n",
              "      fill: #D2E3FC;\n",
              "    }\n",
              "\n",
              "    [theme=dark] .colab-df-convert:hover {\n",
              "      background-color: #434B5C;\n",
              "      box-shadow: 0px 1px 3px 1px rgba(0, 0, 0, 0.15);\n",
              "      filter: drop-shadow(0px 1px 2px rgba(0, 0, 0, 0.3));\n",
              "      fill: #FFFFFF;\n",
              "    }\n",
              "  </style>\n",
              "\n",
              "      <script>\n",
              "        const buttonEl =\n",
              "          document.querySelector('#df-d803d840-420b-4d0f-9a3d-4377a5209711 button.colab-df-convert');\n",
              "        buttonEl.style.display =\n",
              "          google.colab.kernel.accessAllowed ? 'block' : 'none';\n",
              "\n",
              "        async function convertToInteractive(key) {\n",
              "          const element = document.querySelector('#df-d803d840-420b-4d0f-9a3d-4377a5209711');\n",
              "          const dataTable =\n",
              "            await google.colab.kernel.invokeFunction('convertToInteractive',\n",
              "                                                     [key], {});\n",
              "          if (!dataTable) return;\n",
              "\n",
              "          const docLinkHtml = 'Like what you see? Visit the ' +\n",
              "            '<a target=\"_blank\" href=https://colab.research.google.com/notebooks/data_table.ipynb>data table notebook</a>'\n",
              "            + ' to learn more about interactive tables.';\n",
              "          element.innerHTML = '';\n",
              "          dataTable['output_type'] = 'display_data';\n",
              "          await google.colab.output.renderOutput(dataTable, element);\n",
              "          const docLink = document.createElement('div');\n",
              "          docLink.innerHTML = docLinkHtml;\n",
              "          element.appendChild(docLink);\n",
              "        }\n",
              "      </script>\n",
              "    </div>\n",
              "  </div>\n",
              "  "
            ],
            "text/plain": [
              "            cad_rolling_linear_residue  ...  gbp_rolling_linear_residue\n",
              "1981-01-02                   -0.000221  ...                   -0.002864\n",
              "1981-01-05                    0.005142  ...                    0.014132\n",
              "1981-01-06                    0.000374  ...                    0.002493\n",
              "1981-01-07                    0.000255  ...                   -0.004580\n",
              "1981-01-08                    0.000018  ...                   -0.003102\n",
              "...                                ...  ...                         ...\n",
              "2020-12-25                   -0.000126  ...                   -0.000024\n",
              "2020-12-28                    0.001416  ...                   -0.008017\n",
              "2020-12-29                    0.002184  ...                    0.004029\n",
              "2020-12-30                    0.005244  ...                    0.008856\n",
              "2020-12-31                    0.001403  ...                    0.002988\n",
              "\n",
              "[10435 rows x 3 columns]"
            ]
          },
          "metadata": {},
          "execution_count": 44
        }
      ],
      "source": [
        "rolling_residue = pd.read_csv('./rolling_linear_residue.csv', index_col=0)\n",
        "rolling_residue = rolling_residue.astype('float64')\n",
        "rolling_residue.index = pd.to_datetime(rolling_residue.index)\n",
        "\n",
        "cad_rolling_residue = rolling_residue.iloc[:,0]\n",
        "aud_rolling_residue = rolling_residue.iloc[:,1]\n",
        "gbp_rolling_residue = rolling_residue.iloc[:,2]\n",
        "\n",
        "rolling_residue"
      ]
    },
    {
      "cell_type": "markdown",
      "metadata": {
        "id": "Lxgm5U3Wp4B6"
      },
      "source": [
        "### LSTM"
      ]
    },
    {
      "cell_type": "code",
      "execution_count": 45,
      "metadata": {
        "id": "ooUo1WT7p4B6"
      },
      "outputs": [],
      "source": [
        "model_type = LSTM"
      ]
    },
    {
      "cell_type": "markdown",
      "metadata": {
        "id": "773Ll5Sgp4B6"
      },
      "source": [
        "#### cad"
      ]
    },
    {
      "cell_type": "code",
      "execution_count": 46,
      "metadata": {
        "colab": {
          "base_uri": "https://localhost:8080/"
        },
        "id": "ONojzoMTp4B6",
        "outputId": "5f4c183c-2f6b-43b4-9c0d-5a4b9c5b4843"
      },
      "outputs": [
        {
          "output_type": "execute_result",
          "data": {
            "text/plain": [
              "1981-01-02   -0.000018\n",
              "1981-01-05   -0.000018\n",
              "1981-01-06   -0.000018\n",
              "1981-01-07   -0.000018\n",
              "1981-01-08   -0.000018\n",
              "                ...   \n",
              "2020-12-25   -0.000002\n",
              "2020-12-28   -0.000002\n",
              "2020-12-29   -0.000002\n",
              "2020-12-30   -0.000002\n",
              "2020-12-31   -0.000001\n",
              "Name: cad_rolling_linear_prediction, Length: 10435, dtype: float64"
            ]
          },
          "metadata": {},
          "execution_count": 46
        }
      ],
      "source": [
        "cad_rolling_linear"
      ]
    },
    {
      "cell_type": "code",
      "execution_count": 47,
      "metadata": {
        "colab": {
          "base_uri": "https://localhost:8080/"
        },
        "id": "RsCB-C2Wp4B6",
        "outputId": "b7d541d2-9a78-4772-f6db-20c692462df1"
      },
      "outputs": [
        {
          "output_type": "execute_result",
          "data": {
            "text/plain": [
              "1981-01-02   -0.000221\n",
              "1981-01-05    0.005142\n",
              "1981-01-06    0.000374\n",
              "1981-01-07    0.000255\n",
              "1981-01-08    0.000018\n",
              "                ...   \n",
              "2020-12-25   -0.000126\n",
              "2020-12-28    0.001416\n",
              "2020-12-29    0.002184\n",
              "2020-12-30    0.005244\n",
              "2020-12-31    0.001403\n",
              "Name: cad_rolling_linear_residue, Length: 10435, dtype: float64"
            ]
          },
          "metadata": {},
          "execution_count": 47
        }
      ],
      "source": [
        "cad_rolling_residue"
      ]
    },
    {
      "cell_type": "code",
      "execution_count": 48,
      "metadata": {
        "id": "QA2CSBqsp4B6"
      },
      "outputs": [],
      "source": [
        "# optim hyperparameters obtained by grid search\n",
        "length_input_sequence = 5\n",
        "num_hidden_layers = 2\n",
        "num_hidden_sizes = 1600\n",
        "batch_sizes = 16\n",
        "num_epochs = 5"
      ]
    },
    {
      "cell_type": "code",
      "execution_count": 49,
      "metadata": {
        "id": "rbb7l-3Ep4B6"
      },
      "outputs": [],
      "source": [
        "cad_rolling_LSTM_pred = prediction_on_testset(model_type, cad_rolling_linear, cad_rolling_residue, length_input_sequence, num_hidden_layers, num_hidden_sizes, batch_sizes, num_epochs)"
      ]
    },
    {
      "cell_type": "markdown",
      "metadata": {
        "id": "lwNN_BSGp4B6"
      },
      "source": [
        "#### aud"
      ]
    },
    {
      "cell_type": "code",
      "execution_count": 50,
      "metadata": {
        "colab": {
          "base_uri": "https://localhost:8080/"
        },
        "id": "7kOwxEZzp4B6",
        "outputId": "724ec471-c941-4e0b-bc83-452492a5fa56"
      },
      "outputs": [
        {
          "output_type": "execute_result",
          "data": {
            "text/plain": [
              "1981-01-02   -0.000058\n",
              "1981-01-05   -0.000058\n",
              "1981-01-06   -0.000058\n",
              "1981-01-07   -0.000058\n",
              "1981-01-08   -0.000058\n",
              "                ...   \n",
              "2020-12-25   -0.000015\n",
              "2020-12-28   -0.000014\n",
              "2020-12-29   -0.000014\n",
              "2020-12-30   -0.000014\n",
              "2020-12-31   -0.000013\n",
              "Name: aud_rolling_linear_prediction, Length: 10435, dtype: float64"
            ]
          },
          "metadata": {},
          "execution_count": 50
        }
      ],
      "source": [
        "aud_rolling_linear"
      ]
    },
    {
      "cell_type": "code",
      "execution_count": 51,
      "metadata": {
        "colab": {
          "base_uri": "https://localhost:8080/"
        },
        "id": "1hfMKFVip4B6",
        "outputId": "f351a047-0227-4d9c-9264-60a1d892af23"
      },
      "outputs": [
        {
          "output_type": "execute_result",
          "data": {
            "text/plain": [
              "1981-01-02   -0.000959\n",
              "1981-01-05    0.003863\n",
              "1981-01-06    0.003681\n",
              "1981-01-07    0.000058\n",
              "1981-01-08   -0.002047\n",
              "                ...   \n",
              "2020-12-25    0.001068\n",
              "2020-12-28   -0.003410\n",
              "2020-12-29    0.003571\n",
              "2020-12-30    0.010477\n",
              "2020-12-31    0.001053\n",
              "Name: aud_rolling_linear_residue, Length: 10435, dtype: float64"
            ]
          },
          "metadata": {},
          "execution_count": 51
        }
      ],
      "source": [
        "aud_rolling_residue"
      ]
    },
    {
      "cell_type": "code",
      "execution_count": 52,
      "metadata": {
        "id": "RKm8MMxcp4B6"
      },
      "outputs": [],
      "source": [
        "# optim hyperparameters obtained by grid search\n",
        "length_input_sequence = 5\n",
        "num_hidden_layers = 2\n",
        "num_hidden_sizes = 1600\n",
        "batch_sizes = 256\n",
        "num_epochs = 25"
      ]
    },
    {
      "cell_type": "code",
      "execution_count": 53,
      "metadata": {
        "id": "v4s9uKWkp4B7"
      },
      "outputs": [],
      "source": [
        "aud_rolling_LSTM_pred = prediction_on_testset(model_type, aud_rolling_linear, aud_rolling_residue, length_input_sequence, num_hidden_layers, num_hidden_sizes, batch_sizes, num_epochs)"
      ]
    },
    {
      "cell_type": "markdown",
      "metadata": {
        "id": "3hNsiBx3p4B7"
      },
      "source": [
        "#### gbp"
      ]
    },
    {
      "cell_type": "code",
      "execution_count": 54,
      "metadata": {
        "colab": {
          "base_uri": "https://localhost:8080/"
        },
        "id": "izseD1wcp4B7",
        "outputId": "815e88ae-40e0-4718-dce9-98c44d036055"
      },
      "outputs": [
        {
          "output_type": "execute_result",
          "data": {
            "text/plain": [
              "1981-01-02   -0.000071\n",
              "1981-01-05   -0.000167\n",
              "1981-01-06    0.000401\n",
              "1981-01-07    0.000029\n",
              "1981-01-08   -0.000221\n",
              "                ...   \n",
              "2020-12-25    0.000171\n",
              "2020-12-28    0.000020\n",
              "2020-12-29   -0.000245\n",
              "2020-12-30    0.000138\n",
              "2020-12-31    0.000309\n",
              "Name: gbp_rolling_linear_prediction, Length: 10435, dtype: float64"
            ]
          },
          "metadata": {},
          "execution_count": 54
        }
      ],
      "source": [
        "gbp_rolling_linear"
      ]
    },
    {
      "cell_type": "code",
      "execution_count": 55,
      "metadata": {
        "colab": {
          "base_uri": "https://localhost:8080/"
        },
        "id": "P5Cb00Jtp4B7",
        "outputId": "6f037905-935c-467c-c76d-dbc13ce6e87f"
      },
      "outputs": [
        {
          "output_type": "execute_result",
          "data": {
            "text/plain": [
              "1981-01-02   -0.002864\n",
              "1981-01-05    0.014132\n",
              "1981-01-06    0.002493\n",
              "1981-01-07   -0.004580\n",
              "1981-01-08   -0.003102\n",
              "                ...   \n",
              "2020-12-25   -0.000024\n",
              "2020-12-28   -0.008017\n",
              "2020-12-29    0.004029\n",
              "2020-12-30    0.008856\n",
              "2020-12-31    0.002988\n",
              "Name: gbp_rolling_linear_residue, Length: 10435, dtype: float64"
            ]
          },
          "metadata": {},
          "execution_count": 55
        }
      ],
      "source": [
        "gbp_rolling_residue"
      ]
    },
    {
      "cell_type": "code",
      "execution_count": 56,
      "metadata": {
        "id": "373EYKymp4B7"
      },
      "outputs": [],
      "source": [
        "# optim hyperparameters obtained by grid search\n",
        "length_input_sequence = 5\n",
        "num_hidden_layers = 2\n",
        "num_hidden_sizes = 25\n",
        "batch_sizes = 256\n",
        "num_epochs = 5"
      ]
    },
    {
      "cell_type": "code",
      "execution_count": 57,
      "metadata": {
        "id": "ENzy-bQup4B7"
      },
      "outputs": [],
      "source": [
        "gbp_rolling_LSTM_pred = prediction_on_testset(model_type, gbp_rolling_linear, gbp_rolling_residue, length_input_sequence, num_hidden_layers, num_hidden_sizes, batch_sizes, num_epochs)"
      ]
    },
    {
      "cell_type": "markdown",
      "metadata": {
        "id": "GVh5Qz4Np4B7"
      },
      "source": [
        "### Self-Attention"
      ]
    },
    {
      "cell_type": "code",
      "execution_count": 58,
      "metadata": {
        "id": "JdHwLOPCp4B7"
      },
      "outputs": [],
      "source": [
        "model_type = Self_Attention"
      ]
    },
    {
      "cell_type": "markdown",
      "metadata": {
        "id": "VT7lpU3-p4B7"
      },
      "source": [
        "#### cad"
      ]
    },
    {
      "cell_type": "code",
      "execution_count": 59,
      "metadata": {
        "colab": {
          "base_uri": "https://localhost:8080/"
        },
        "id": "5JkU3TWVp4B7",
        "outputId": "9b3f32ce-ebeb-4523-edb0-af883c90f77e"
      },
      "outputs": [
        {
          "output_type": "execute_result",
          "data": {
            "text/plain": [
              "1981-01-02   -0.000018\n",
              "1981-01-05   -0.000018\n",
              "1981-01-06   -0.000018\n",
              "1981-01-07   -0.000018\n",
              "1981-01-08   -0.000018\n",
              "                ...   \n",
              "2020-12-25   -0.000002\n",
              "2020-12-28   -0.000002\n",
              "2020-12-29   -0.000002\n",
              "2020-12-30   -0.000002\n",
              "2020-12-31   -0.000001\n",
              "Name: cad_rolling_linear_prediction, Length: 10435, dtype: float64"
            ]
          },
          "metadata": {},
          "execution_count": 59
        }
      ],
      "source": [
        "cad_rolling_linear"
      ]
    },
    {
      "cell_type": "code",
      "execution_count": 60,
      "metadata": {
        "colab": {
          "base_uri": "https://localhost:8080/"
        },
        "id": "utWyfZNOp4B7",
        "outputId": "d8a06d88-f1e6-4d9c-cdb2-b22f175045cd"
      },
      "outputs": [
        {
          "output_type": "execute_result",
          "data": {
            "text/plain": [
              "1981-01-02   -0.000221\n",
              "1981-01-05    0.005142\n",
              "1981-01-06    0.000374\n",
              "1981-01-07    0.000255\n",
              "1981-01-08    0.000018\n",
              "                ...   \n",
              "2020-12-25   -0.000126\n",
              "2020-12-28    0.001416\n",
              "2020-12-29    0.002184\n",
              "2020-12-30    0.005244\n",
              "2020-12-31    0.001403\n",
              "Name: cad_rolling_linear_residue, Length: 10435, dtype: float64"
            ]
          },
          "metadata": {},
          "execution_count": 60
        }
      ],
      "source": [
        "cad_rolling_residue"
      ]
    },
    {
      "cell_type": "code",
      "execution_count": 61,
      "metadata": {
        "id": "Ae_wUqarp4B7"
      },
      "outputs": [],
      "source": [
        "# optim hyperparameters obtained by grid search\n",
        "length_input_sequence = 5\n",
        "num_hidden_layers = 1\n",
        "num_hidden_sizes = 200\n",
        "batch_sizes = 256\n",
        "num_epochs = 15"
      ]
    },
    {
      "cell_type": "code",
      "execution_count": 62,
      "metadata": {
        "id": "PcU4kZaXp4B7"
      },
      "outputs": [],
      "source": [
        "cad_rolling_Self_Attention_pred = prediction_on_testset(model_type, cad_rolling_linear, cad_rolling_residue, length_input_sequence, num_hidden_layers, num_hidden_sizes, batch_sizes, num_epochs)"
      ]
    },
    {
      "cell_type": "markdown",
      "metadata": {
        "id": "SWzy2wfFp4B7"
      },
      "source": [
        "#### aud"
      ]
    },
    {
      "cell_type": "code",
      "execution_count": 63,
      "metadata": {
        "colab": {
          "base_uri": "https://localhost:8080/"
        },
        "id": "Fvtxwjafp4B7",
        "outputId": "aa5cf57b-14f4-42e7-a7c3-814e62d2f406"
      },
      "outputs": [
        {
          "output_type": "execute_result",
          "data": {
            "text/plain": [
              "1981-01-02   -0.000058\n",
              "1981-01-05   -0.000058\n",
              "1981-01-06   -0.000058\n",
              "1981-01-07   -0.000058\n",
              "1981-01-08   -0.000058\n",
              "                ...   \n",
              "2020-12-25   -0.000015\n",
              "2020-12-28   -0.000014\n",
              "2020-12-29   -0.000014\n",
              "2020-12-30   -0.000014\n",
              "2020-12-31   -0.000013\n",
              "Name: aud_rolling_linear_prediction, Length: 10435, dtype: float64"
            ]
          },
          "metadata": {},
          "execution_count": 63
        }
      ],
      "source": [
        "aud_rolling_linear"
      ]
    },
    {
      "cell_type": "code",
      "execution_count": 64,
      "metadata": {
        "colab": {
          "base_uri": "https://localhost:8080/"
        },
        "id": "kGxMxzoHp4B7",
        "outputId": "518dbc36-b94a-4179-d5bb-25306358093c"
      },
      "outputs": [
        {
          "output_type": "execute_result",
          "data": {
            "text/plain": [
              "1981-01-02   -0.000959\n",
              "1981-01-05    0.003863\n",
              "1981-01-06    0.003681\n",
              "1981-01-07    0.000058\n",
              "1981-01-08   -0.002047\n",
              "                ...   \n",
              "2020-12-25    0.001068\n",
              "2020-12-28   -0.003410\n",
              "2020-12-29    0.003571\n",
              "2020-12-30    0.010477\n",
              "2020-12-31    0.001053\n",
              "Name: aud_rolling_linear_residue, Length: 10435, dtype: float64"
            ]
          },
          "metadata": {},
          "execution_count": 64
        }
      ],
      "source": [
        "aud_rolling_residue"
      ]
    },
    {
      "cell_type": "code",
      "execution_count": 65,
      "metadata": {
        "id": "f37rwoY3p4B8"
      },
      "outputs": [],
      "source": [
        "# optim hyperparameters obtained by grid search\n",
        "length_input_sequence = 10\n",
        "num_hidden_layers = 1\n",
        "num_hidden_sizes = 800\n",
        "batch_sizes = 16\n",
        "num_epochs = 30"
      ]
    },
    {
      "cell_type": "code",
      "execution_count": 66,
      "metadata": {
        "id": "bb3xujUop4B8"
      },
      "outputs": [],
      "source": [
        "aud_rolling_Self_Attention_pred = prediction_on_testset(model_type, aud_rolling_linear, aud_rolling_residue, length_input_sequence, num_hidden_layers, num_hidden_sizes, batch_sizes, num_epochs)"
      ]
    },
    {
      "cell_type": "markdown",
      "metadata": {
        "id": "REzp53A0p4B8"
      },
      "source": [
        "#### gbp"
      ]
    },
    {
      "cell_type": "code",
      "execution_count": 67,
      "metadata": {
        "colab": {
          "base_uri": "https://localhost:8080/"
        },
        "id": "kBG8CNNUp4B8",
        "outputId": "4fe50554-e2c5-41a4-a0ed-e457200769c3"
      },
      "outputs": [
        {
          "output_type": "execute_result",
          "data": {
            "text/plain": [
              "1981-01-02   -0.000071\n",
              "1981-01-05   -0.000167\n",
              "1981-01-06    0.000401\n",
              "1981-01-07    0.000029\n",
              "1981-01-08   -0.000221\n",
              "                ...   \n",
              "2020-12-25    0.000171\n",
              "2020-12-28    0.000020\n",
              "2020-12-29   -0.000245\n",
              "2020-12-30    0.000138\n",
              "2020-12-31    0.000309\n",
              "Name: gbp_rolling_linear_prediction, Length: 10435, dtype: float64"
            ]
          },
          "metadata": {},
          "execution_count": 67
        }
      ],
      "source": [
        "gbp_rolling_linear"
      ]
    },
    {
      "cell_type": "code",
      "execution_count": 68,
      "metadata": {
        "colab": {
          "base_uri": "https://localhost:8080/"
        },
        "id": "HTfpQVttp4B8",
        "outputId": "16ff67b0-00a5-4050-bc6a-1d90bdf0bea8"
      },
      "outputs": [
        {
          "output_type": "execute_result",
          "data": {
            "text/plain": [
              "1981-01-02   -0.002864\n",
              "1981-01-05    0.014132\n",
              "1981-01-06    0.002493\n",
              "1981-01-07   -0.004580\n",
              "1981-01-08   -0.003102\n",
              "                ...   \n",
              "2020-12-25   -0.000024\n",
              "2020-12-28   -0.008017\n",
              "2020-12-29    0.004029\n",
              "2020-12-30    0.008856\n",
              "2020-12-31    0.002988\n",
              "Name: gbp_rolling_linear_residue, Length: 10435, dtype: float64"
            ]
          },
          "metadata": {},
          "execution_count": 68
        }
      ],
      "source": [
        "gbp_rolling_residue"
      ]
    },
    {
      "cell_type": "code",
      "execution_count": 69,
      "metadata": {
        "id": "mdaWhByap4B8"
      },
      "outputs": [],
      "source": [
        "# optim hyperparameters obtained by grid search\n",
        "length_input_sequence = 5\n",
        "num_hidden_layers = 1\n",
        "num_hidden_sizes = 200\n",
        "batch_sizes = 256\n",
        "num_epochs = 20"
      ]
    },
    {
      "cell_type": "code",
      "execution_count": 70,
      "metadata": {
        "id": "ZOkO9ydBp4B8"
      },
      "outputs": [],
      "source": [
        "gbp_rolling_Self_Attention_pred = prediction_on_testset(model_type, gbp_rolling_linear, gbp_rolling_residue, length_input_sequence, num_hidden_layers, num_hidden_sizes, batch_sizes, num_epochs)"
      ]
    },
    {
      "cell_type": "markdown",
      "metadata": {
        "id": "ddsvFmS_p4B8"
      },
      "source": [
        "# 輸出模型預測與比較"
      ]
    },
    {
      "cell_type": "markdown",
      "metadata": {
        "id": "Vd6hQ4u-p4B8"
      },
      "source": [
        "## 輸出模型預測"
      ]
    },
    {
      "cell_type": "code",
      "execution_count": 78,
      "metadata": {
        "colab": {
          "base_uri": "https://localhost:8080/",
          "height": 424
        },
        "id": "Amb3yJsEp4B8",
        "outputId": "f27bc40c-b5e6-4d0c-e9bb-9fc581643c12"
      },
      "outputs": [
        {
          "output_type": "execute_result",
          "data": {
            "text/html": [
              "\n",
              "  <div id=\"df-dae90a02-66d4-4084-b8c9-1f92e6060834\">\n",
              "    <div class=\"colab-df-container\">\n",
              "      <div>\n",
              "<style scoped>\n",
              "    .dataframe tbody tr th:only-of-type {\n",
              "        vertical-align: middle;\n",
              "    }\n",
              "\n",
              "    .dataframe tbody tr th {\n",
              "        vertical-align: top;\n",
              "    }\n",
              "\n",
              "    .dataframe thead th {\n",
              "        text-align: right;\n",
              "    }\n",
              "</style>\n",
              "<table border=\"1\" class=\"dataframe\">\n",
              "  <thead>\n",
              "    <tr style=\"text-align: right;\">\n",
              "      <th></th>\n",
              "      <th>cad_recursive_LSTM_pred</th>\n",
              "      <th>aud_recursive_LSTM_pred</th>\n",
              "      <th>gbp_recursive_LSTM_pred</th>\n",
              "    </tr>\n",
              "  </thead>\n",
              "  <tbody>\n",
              "    <tr>\n",
              "      <th>0</th>\n",
              "      <td>-0.000065</td>\n",
              "      <td>0.000897</td>\n",
              "      <td>-0.000205</td>\n",
              "    </tr>\n",
              "    <tr>\n",
              "      <th>1</th>\n",
              "      <td>0.000016</td>\n",
              "      <td>0.000791</td>\n",
              "      <td>-0.000549</td>\n",
              "    </tr>\n",
              "    <tr>\n",
              "      <th>2</th>\n",
              "      <td>-0.000044</td>\n",
              "      <td>0.000818</td>\n",
              "      <td>-0.000460</td>\n",
              "    </tr>\n",
              "    <tr>\n",
              "      <th>3</th>\n",
              "      <td>-0.000117</td>\n",
              "      <td>0.000821</td>\n",
              "      <td>-0.000176</td>\n",
              "    </tr>\n",
              "    <tr>\n",
              "      <th>4</th>\n",
              "      <td>-0.000008</td>\n",
              "      <td>0.000760</td>\n",
              "      <td>-0.000203</td>\n",
              "    </tr>\n",
              "    <tr>\n",
              "      <th>...</th>\n",
              "      <td>...</td>\n",
              "      <td>...</td>\n",
              "      <td>...</td>\n",
              "    </tr>\n",
              "    <tr>\n",
              "      <th>1039</th>\n",
              "      <td>0.000027</td>\n",
              "      <td>0.000976</td>\n",
              "      <td>-0.000232</td>\n",
              "    </tr>\n",
              "    <tr>\n",
              "      <th>1040</th>\n",
              "      <td>-0.000058</td>\n",
              "      <td>0.000683</td>\n",
              "      <td>-0.000402</td>\n",
              "    </tr>\n",
              "    <tr>\n",
              "      <th>1041</th>\n",
              "      <td>-0.000027</td>\n",
              "      <td>0.000869</td>\n",
              "      <td>-0.000611</td>\n",
              "    </tr>\n",
              "    <tr>\n",
              "      <th>1042</th>\n",
              "      <td>-0.000045</td>\n",
              "      <td>0.000745</td>\n",
              "      <td>-0.000250</td>\n",
              "    </tr>\n",
              "    <tr>\n",
              "      <th>1043</th>\n",
              "      <td>-0.000068</td>\n",
              "      <td>0.000846</td>\n",
              "      <td>-0.000121</td>\n",
              "    </tr>\n",
              "  </tbody>\n",
              "</table>\n",
              "<p>1044 rows × 3 columns</p>\n",
              "</div>\n",
              "      <button class=\"colab-df-convert\" onclick=\"convertToInteractive('df-dae90a02-66d4-4084-b8c9-1f92e6060834')\"\n",
              "              title=\"Convert this dataframe to an interactive table.\"\n",
              "              style=\"display:none;\">\n",
              "        \n",
              "  <svg xmlns=\"http://www.w3.org/2000/svg\" height=\"24px\"viewBox=\"0 0 24 24\"\n",
              "       width=\"24px\">\n",
              "    <path d=\"M0 0h24v24H0V0z\" fill=\"none\"/>\n",
              "    <path d=\"M18.56 5.44l.94 2.06.94-2.06 2.06-.94-2.06-.94-.94-2.06-.94 2.06-2.06.94zm-11 1L8.5 8.5l.94-2.06 2.06-.94-2.06-.94L8.5 2.5l-.94 2.06-2.06.94zm10 10l.94 2.06.94-2.06 2.06-.94-2.06-.94-.94-2.06-.94 2.06-2.06.94z\"/><path d=\"M17.41 7.96l-1.37-1.37c-.4-.4-.92-.59-1.43-.59-.52 0-1.04.2-1.43.59L10.3 9.45l-7.72 7.72c-.78.78-.78 2.05 0 2.83L4 21.41c.39.39.9.59 1.41.59.51 0 1.02-.2 1.41-.59l7.78-7.78 2.81-2.81c.8-.78.8-2.07 0-2.86zM5.41 20L4 18.59l7.72-7.72 1.47 1.35L5.41 20z\"/>\n",
              "  </svg>\n",
              "      </button>\n",
              "      \n",
              "  <style>\n",
              "    .colab-df-container {\n",
              "      display:flex;\n",
              "      flex-wrap:wrap;\n",
              "      gap: 12px;\n",
              "    }\n",
              "\n",
              "    .colab-df-convert {\n",
              "      background-color: #E8F0FE;\n",
              "      border: none;\n",
              "      border-radius: 50%;\n",
              "      cursor: pointer;\n",
              "      display: none;\n",
              "      fill: #1967D2;\n",
              "      height: 32px;\n",
              "      padding: 0 0 0 0;\n",
              "      width: 32px;\n",
              "    }\n",
              "\n",
              "    .colab-df-convert:hover {\n",
              "      background-color: #E2EBFA;\n",
              "      box-shadow: 0px 1px 2px rgba(60, 64, 67, 0.3), 0px 1px 3px 1px rgba(60, 64, 67, 0.15);\n",
              "      fill: #174EA6;\n",
              "    }\n",
              "\n",
              "    [theme=dark] .colab-df-convert {\n",
              "      background-color: #3B4455;\n",
              "      fill: #D2E3FC;\n",
              "    }\n",
              "\n",
              "    [theme=dark] .colab-df-convert:hover {\n",
              "      background-color: #434B5C;\n",
              "      box-shadow: 0px 1px 3px 1px rgba(0, 0, 0, 0.15);\n",
              "      filter: drop-shadow(0px 1px 2px rgba(0, 0, 0, 0.3));\n",
              "      fill: #FFFFFF;\n",
              "    }\n",
              "  </style>\n",
              "\n",
              "      <script>\n",
              "        const buttonEl =\n",
              "          document.querySelector('#df-dae90a02-66d4-4084-b8c9-1f92e6060834 button.colab-df-convert');\n",
              "        buttonEl.style.display =\n",
              "          google.colab.kernel.accessAllowed ? 'block' : 'none';\n",
              "\n",
              "        async function convertToInteractive(key) {\n",
              "          const element = document.querySelector('#df-dae90a02-66d4-4084-b8c9-1f92e6060834');\n",
              "          const dataTable =\n",
              "            await google.colab.kernel.invokeFunction('convertToInteractive',\n",
              "                                                     [key], {});\n",
              "          if (!dataTable) return;\n",
              "\n",
              "          const docLinkHtml = 'Like what you see? Visit the ' +\n",
              "            '<a target=\"_blank\" href=https://colab.research.google.com/notebooks/data_table.ipynb>data table notebook</a>'\n",
              "            + ' to learn more about interactive tables.';\n",
              "          element.innerHTML = '';\n",
              "          dataTable['output_type'] = 'display_data';\n",
              "          await google.colab.output.renderOutput(dataTable, element);\n",
              "          const docLink = document.createElement('div');\n",
              "          docLink.innerHTML = docLinkHtml;\n",
              "          element.appendChild(docLink);\n",
              "        }\n",
              "      </script>\n",
              "    </div>\n",
              "  </div>\n",
              "  "
            ],
            "text/plain": [
              "      cad_recursive_LSTM_pred  aud_recursive_LSTM_pred  gbp_recursive_LSTM_pred\n",
              "0                   -0.000065                 0.000897                -0.000205\n",
              "1                    0.000016                 0.000791                -0.000549\n",
              "2                   -0.000044                 0.000818                -0.000460\n",
              "3                   -0.000117                 0.000821                -0.000176\n",
              "4                   -0.000008                 0.000760                -0.000203\n",
              "...                       ...                      ...                      ...\n",
              "1039                 0.000027                 0.000976                -0.000232\n",
              "1040                -0.000058                 0.000683                -0.000402\n",
              "1041                -0.000027                 0.000869                -0.000611\n",
              "1042                -0.000045                 0.000745                -0.000250\n",
              "1043                -0.000068                 0.000846                -0.000121\n",
              "\n",
              "[1044 rows x 3 columns]"
            ]
          },
          "metadata": {},
          "execution_count": 78
        }
      ],
      "source": [
        "LSTM_recursive_prediction = pd.DataFrame(np.column_stack((cad_recursive_LSTM_pred, aud_recursive_LSTM_pred, gbp_recursive_LSTM_pred)))\n",
        "LSTM_recursive_prediction.columns = ['cad_recursive_LSTM_pred', 'aud_recursive_LSTM_pred', 'gbp_recursive_LSTM_pred']\n",
        "LSTM_recursive_prediction.to_csv('./LSTM_recursive_prediction.csv')\n",
        "LSTM_recursive_prediction"
      ]
    },
    {
      "cell_type": "code",
      "execution_count": 79,
      "metadata": {
        "colab": {
          "base_uri": "https://localhost:8080/",
          "height": 424
        },
        "id": "Phs_Qbcgp4B8",
        "outputId": "5df78a81-bc8c-4c46-9870-28213f3a8b09"
      },
      "outputs": [
        {
          "output_type": "execute_result",
          "data": {
            "text/html": [
              "\n",
              "  <div id=\"df-a2091c3a-04b5-491a-90f0-aaf499bb7b7c\">\n",
              "    <div class=\"colab-df-container\">\n",
              "      <div>\n",
              "<style scoped>\n",
              "    .dataframe tbody tr th:only-of-type {\n",
              "        vertical-align: middle;\n",
              "    }\n",
              "\n",
              "    .dataframe tbody tr th {\n",
              "        vertical-align: top;\n",
              "    }\n",
              "\n",
              "    .dataframe thead th {\n",
              "        text-align: right;\n",
              "    }\n",
              "</style>\n",
              "<table border=\"1\" class=\"dataframe\">\n",
              "  <thead>\n",
              "    <tr style=\"text-align: right;\">\n",
              "      <th></th>\n",
              "      <th>cad_rolling_LSTM_pred</th>\n",
              "      <th>aud_rolling_LSTM_pred</th>\n",
              "      <th>gbp_rolling_LSTM_pred</th>\n",
              "    </tr>\n",
              "  </thead>\n",
              "  <tbody>\n",
              "    <tr>\n",
              "      <th>0</th>\n",
              "      <td>-0.000065</td>\n",
              "      <td>0.001197</td>\n",
              "      <td>-0.000205</td>\n",
              "    </tr>\n",
              "    <tr>\n",
              "      <th>1</th>\n",
              "      <td>0.000016</td>\n",
              "      <td>0.001142</td>\n",
              "      <td>-0.000549</td>\n",
              "    </tr>\n",
              "    <tr>\n",
              "      <th>2</th>\n",
              "      <td>-0.000045</td>\n",
              "      <td>0.001312</td>\n",
              "      <td>-0.000462</td>\n",
              "    </tr>\n",
              "    <tr>\n",
              "      <th>3</th>\n",
              "      <td>-0.000117</td>\n",
              "      <td>0.001169</td>\n",
              "      <td>-0.000177</td>\n",
              "    </tr>\n",
              "    <tr>\n",
              "      <th>4</th>\n",
              "      <td>-0.000008</td>\n",
              "      <td>0.001096</td>\n",
              "      <td>-0.000204</td>\n",
              "    </tr>\n",
              "    <tr>\n",
              "      <th>...</th>\n",
              "      <td>...</td>\n",
              "      <td>...</td>\n",
              "      <td>...</td>\n",
              "    </tr>\n",
              "    <tr>\n",
              "      <th>1039</th>\n",
              "      <td>0.000036</td>\n",
              "      <td>0.001275</td>\n",
              "      <td>-0.000168</td>\n",
              "    </tr>\n",
              "    <tr>\n",
              "      <th>1040</th>\n",
              "      <td>-0.000048</td>\n",
              "      <td>0.001076</td>\n",
              "      <td>-0.000332</td>\n",
              "    </tr>\n",
              "    <tr>\n",
              "      <th>1041</th>\n",
              "      <td>-0.000017</td>\n",
              "      <td>0.001384</td>\n",
              "      <td>-0.000531</td>\n",
              "    </tr>\n",
              "    <tr>\n",
              "      <th>1042</th>\n",
              "      <td>-0.000035</td>\n",
              "      <td>0.001236</td>\n",
              "      <td>-0.000184</td>\n",
              "    </tr>\n",
              "    <tr>\n",
              "      <th>1043</th>\n",
              "      <td>-0.000058</td>\n",
              "      <td>0.001268</td>\n",
              "      <td>-0.000061</td>\n",
              "    </tr>\n",
              "  </tbody>\n",
              "</table>\n",
              "<p>1044 rows × 3 columns</p>\n",
              "</div>\n",
              "      <button class=\"colab-df-convert\" onclick=\"convertToInteractive('df-a2091c3a-04b5-491a-90f0-aaf499bb7b7c')\"\n",
              "              title=\"Convert this dataframe to an interactive table.\"\n",
              "              style=\"display:none;\">\n",
              "        \n",
              "  <svg xmlns=\"http://www.w3.org/2000/svg\" height=\"24px\"viewBox=\"0 0 24 24\"\n",
              "       width=\"24px\">\n",
              "    <path d=\"M0 0h24v24H0V0z\" fill=\"none\"/>\n",
              "    <path d=\"M18.56 5.44l.94 2.06.94-2.06 2.06-.94-2.06-.94-.94-2.06-.94 2.06-2.06.94zm-11 1L8.5 8.5l.94-2.06 2.06-.94-2.06-.94L8.5 2.5l-.94 2.06-2.06.94zm10 10l.94 2.06.94-2.06 2.06-.94-2.06-.94-.94-2.06-.94 2.06-2.06.94z\"/><path d=\"M17.41 7.96l-1.37-1.37c-.4-.4-.92-.59-1.43-.59-.52 0-1.04.2-1.43.59L10.3 9.45l-7.72 7.72c-.78.78-.78 2.05 0 2.83L4 21.41c.39.39.9.59 1.41.59.51 0 1.02-.2 1.41-.59l7.78-7.78 2.81-2.81c.8-.78.8-2.07 0-2.86zM5.41 20L4 18.59l7.72-7.72 1.47 1.35L5.41 20z\"/>\n",
              "  </svg>\n",
              "      </button>\n",
              "      \n",
              "  <style>\n",
              "    .colab-df-container {\n",
              "      display:flex;\n",
              "      flex-wrap:wrap;\n",
              "      gap: 12px;\n",
              "    }\n",
              "\n",
              "    .colab-df-convert {\n",
              "      background-color: #E8F0FE;\n",
              "      border: none;\n",
              "      border-radius: 50%;\n",
              "      cursor: pointer;\n",
              "      display: none;\n",
              "      fill: #1967D2;\n",
              "      height: 32px;\n",
              "      padding: 0 0 0 0;\n",
              "      width: 32px;\n",
              "    }\n",
              "\n",
              "    .colab-df-convert:hover {\n",
              "      background-color: #E2EBFA;\n",
              "      box-shadow: 0px 1px 2px rgba(60, 64, 67, 0.3), 0px 1px 3px 1px rgba(60, 64, 67, 0.15);\n",
              "      fill: #174EA6;\n",
              "    }\n",
              "\n",
              "    [theme=dark] .colab-df-convert {\n",
              "      background-color: #3B4455;\n",
              "      fill: #D2E3FC;\n",
              "    }\n",
              "\n",
              "    [theme=dark] .colab-df-convert:hover {\n",
              "      background-color: #434B5C;\n",
              "      box-shadow: 0px 1px 3px 1px rgba(0, 0, 0, 0.15);\n",
              "      filter: drop-shadow(0px 1px 2px rgba(0, 0, 0, 0.3));\n",
              "      fill: #FFFFFF;\n",
              "    }\n",
              "  </style>\n",
              "\n",
              "      <script>\n",
              "        const buttonEl =\n",
              "          document.querySelector('#df-a2091c3a-04b5-491a-90f0-aaf499bb7b7c button.colab-df-convert');\n",
              "        buttonEl.style.display =\n",
              "          google.colab.kernel.accessAllowed ? 'block' : 'none';\n",
              "\n",
              "        async function convertToInteractive(key) {\n",
              "          const element = document.querySelector('#df-a2091c3a-04b5-491a-90f0-aaf499bb7b7c');\n",
              "          const dataTable =\n",
              "            await google.colab.kernel.invokeFunction('convertToInteractive',\n",
              "                                                     [key], {});\n",
              "          if (!dataTable) return;\n",
              "\n",
              "          const docLinkHtml = 'Like what you see? Visit the ' +\n",
              "            '<a target=\"_blank\" href=https://colab.research.google.com/notebooks/data_table.ipynb>data table notebook</a>'\n",
              "            + ' to learn more about interactive tables.';\n",
              "          element.innerHTML = '';\n",
              "          dataTable['output_type'] = 'display_data';\n",
              "          await google.colab.output.renderOutput(dataTable, element);\n",
              "          const docLink = document.createElement('div');\n",
              "          docLink.innerHTML = docLinkHtml;\n",
              "          element.appendChild(docLink);\n",
              "        }\n",
              "      </script>\n",
              "    </div>\n",
              "  </div>\n",
              "  "
            ],
            "text/plain": [
              "      cad_rolling_LSTM_pred  aud_rolling_LSTM_pred  gbp_rolling_LSTM_pred\n",
              "0                 -0.000065               0.001197              -0.000205\n",
              "1                  0.000016               0.001142              -0.000549\n",
              "2                 -0.000045               0.001312              -0.000462\n",
              "3                 -0.000117               0.001169              -0.000177\n",
              "4                 -0.000008               0.001096              -0.000204\n",
              "...                     ...                    ...                    ...\n",
              "1039               0.000036               0.001275              -0.000168\n",
              "1040              -0.000048               0.001076              -0.000332\n",
              "1041              -0.000017               0.001384              -0.000531\n",
              "1042              -0.000035               0.001236              -0.000184\n",
              "1043              -0.000058               0.001268              -0.000061\n",
              "\n",
              "[1044 rows x 3 columns]"
            ]
          },
          "metadata": {},
          "execution_count": 79
        }
      ],
      "source": [
        "LSTM_rolling_prediction = pd.DataFrame(np.column_stack((cad_rolling_LSTM_pred, aud_rolling_LSTM_pred, gbp_rolling_LSTM_pred)))\n",
        "LSTM_rolling_prediction.columns = ['cad_rolling_LSTM_pred', 'aud_rolling_LSTM_pred', 'gbp_rolling_LSTM_pred']\n",
        "LSTM_rolling_prediction.to_csv('./LSTM_rolling_prediction.csv')\n",
        "LSTM_rolling_prediction"
      ]
    },
    {
      "cell_type": "code",
      "execution_count": 80,
      "metadata": {
        "colab": {
          "base_uri": "https://localhost:8080/",
          "height": 424
        },
        "id": "uX5aVIhop4B8",
        "outputId": "1fe68f80-1792-4ef1-d9cd-a751310851b2"
      },
      "outputs": [
        {
          "output_type": "execute_result",
          "data": {
            "text/html": [
              "\n",
              "  <div id=\"df-57b196e2-ee7c-40f6-87cc-5b90e32ca54e\">\n",
              "    <div class=\"colab-df-container\">\n",
              "      <div>\n",
              "<style scoped>\n",
              "    .dataframe tbody tr th:only-of-type {\n",
              "        vertical-align: middle;\n",
              "    }\n",
              "\n",
              "    .dataframe tbody tr th {\n",
              "        vertical-align: top;\n",
              "    }\n",
              "\n",
              "    .dataframe thead th {\n",
              "        text-align: right;\n",
              "    }\n",
              "</style>\n",
              "<table border=\"1\" class=\"dataframe\">\n",
              "  <thead>\n",
              "    <tr style=\"text-align: right;\">\n",
              "      <th></th>\n",
              "      <th>cad_recursive_Self_Attention_pred</th>\n",
              "      <th>aud_recursive_Self_Attention_pred</th>\n",
              "      <th>gbp_recursive_Self_Attention_pred</th>\n",
              "    </tr>\n",
              "  </thead>\n",
              "  <tbody>\n",
              "    <tr>\n",
              "      <th>0</th>\n",
              "      <td>0.000123</td>\n",
              "      <td>-0.000403</td>\n",
              "      <td>-0.000229</td>\n",
              "    </tr>\n",
              "    <tr>\n",
              "      <th>1</th>\n",
              "      <td>0.000154</td>\n",
              "      <td>-0.000467</td>\n",
              "      <td>-0.000563</td>\n",
              "    </tr>\n",
              "    <tr>\n",
              "      <th>2</th>\n",
              "      <td>0.000076</td>\n",
              "      <td>-0.000466</td>\n",
              "      <td>-0.000485</td>\n",
              "    </tr>\n",
              "    <tr>\n",
              "      <th>3</th>\n",
              "      <td>-0.000028</td>\n",
              "      <td>-0.000465</td>\n",
              "      <td>-0.000241</td>\n",
              "    </tr>\n",
              "    <tr>\n",
              "      <th>4</th>\n",
              "      <td>-0.000047</td>\n",
              "      <td>-0.000463</td>\n",
              "      <td>-0.000258</td>\n",
              "    </tr>\n",
              "    <tr>\n",
              "      <th>...</th>\n",
              "      <td>...</td>\n",
              "      <td>...</td>\n",
              "      <td>...</td>\n",
              "    </tr>\n",
              "    <tr>\n",
              "      <th>1039</th>\n",
              "      <td>0.000366</td>\n",
              "      <td>-0.000382</td>\n",
              "      <td>-0.000203</td>\n",
              "    </tr>\n",
              "    <tr>\n",
              "      <th>1040</th>\n",
              "      <td>0.000302</td>\n",
              "      <td>-0.000382</td>\n",
              "      <td>-0.000405</td>\n",
              "    </tr>\n",
              "    <tr>\n",
              "      <th>1041</th>\n",
              "      <td>0.000212</td>\n",
              "      <td>-0.000382</td>\n",
              "      <td>-0.000644</td>\n",
              "    </tr>\n",
              "    <tr>\n",
              "      <th>1042</th>\n",
              "      <td>0.000135</td>\n",
              "      <td>-0.000382</td>\n",
              "      <td>-0.000358</td>\n",
              "    </tr>\n",
              "    <tr>\n",
              "      <th>1043</th>\n",
              "      <td>0.000131</td>\n",
              "      <td>-0.000381</td>\n",
              "      <td>-0.000169</td>\n",
              "    </tr>\n",
              "  </tbody>\n",
              "</table>\n",
              "<p>1044 rows × 3 columns</p>\n",
              "</div>\n",
              "      <button class=\"colab-df-convert\" onclick=\"convertToInteractive('df-57b196e2-ee7c-40f6-87cc-5b90e32ca54e')\"\n",
              "              title=\"Convert this dataframe to an interactive table.\"\n",
              "              style=\"display:none;\">\n",
              "        \n",
              "  <svg xmlns=\"http://www.w3.org/2000/svg\" height=\"24px\"viewBox=\"0 0 24 24\"\n",
              "       width=\"24px\">\n",
              "    <path d=\"M0 0h24v24H0V0z\" fill=\"none\"/>\n",
              "    <path d=\"M18.56 5.44l.94 2.06.94-2.06 2.06-.94-2.06-.94-.94-2.06-.94 2.06-2.06.94zm-11 1L8.5 8.5l.94-2.06 2.06-.94-2.06-.94L8.5 2.5l-.94 2.06-2.06.94zm10 10l.94 2.06.94-2.06 2.06-.94-2.06-.94-.94-2.06-.94 2.06-2.06.94z\"/><path d=\"M17.41 7.96l-1.37-1.37c-.4-.4-.92-.59-1.43-.59-.52 0-1.04.2-1.43.59L10.3 9.45l-7.72 7.72c-.78.78-.78 2.05 0 2.83L4 21.41c.39.39.9.59 1.41.59.51 0 1.02-.2 1.41-.59l7.78-7.78 2.81-2.81c.8-.78.8-2.07 0-2.86zM5.41 20L4 18.59l7.72-7.72 1.47 1.35L5.41 20z\"/>\n",
              "  </svg>\n",
              "      </button>\n",
              "      \n",
              "  <style>\n",
              "    .colab-df-container {\n",
              "      display:flex;\n",
              "      flex-wrap:wrap;\n",
              "      gap: 12px;\n",
              "    }\n",
              "\n",
              "    .colab-df-convert {\n",
              "      background-color: #E8F0FE;\n",
              "      border: none;\n",
              "      border-radius: 50%;\n",
              "      cursor: pointer;\n",
              "      display: none;\n",
              "      fill: #1967D2;\n",
              "      height: 32px;\n",
              "      padding: 0 0 0 0;\n",
              "      width: 32px;\n",
              "    }\n",
              "\n",
              "    .colab-df-convert:hover {\n",
              "      background-color: #E2EBFA;\n",
              "      box-shadow: 0px 1px 2px rgba(60, 64, 67, 0.3), 0px 1px 3px 1px rgba(60, 64, 67, 0.15);\n",
              "      fill: #174EA6;\n",
              "    }\n",
              "\n",
              "    [theme=dark] .colab-df-convert {\n",
              "      background-color: #3B4455;\n",
              "      fill: #D2E3FC;\n",
              "    }\n",
              "\n",
              "    [theme=dark] .colab-df-convert:hover {\n",
              "      background-color: #434B5C;\n",
              "      box-shadow: 0px 1px 3px 1px rgba(0, 0, 0, 0.15);\n",
              "      filter: drop-shadow(0px 1px 2px rgba(0, 0, 0, 0.3));\n",
              "      fill: #FFFFFF;\n",
              "    }\n",
              "  </style>\n",
              "\n",
              "      <script>\n",
              "        const buttonEl =\n",
              "          document.querySelector('#df-57b196e2-ee7c-40f6-87cc-5b90e32ca54e button.colab-df-convert');\n",
              "        buttonEl.style.display =\n",
              "          google.colab.kernel.accessAllowed ? 'block' : 'none';\n",
              "\n",
              "        async function convertToInteractive(key) {\n",
              "          const element = document.querySelector('#df-57b196e2-ee7c-40f6-87cc-5b90e32ca54e');\n",
              "          const dataTable =\n",
              "            await google.colab.kernel.invokeFunction('convertToInteractive',\n",
              "                                                     [key], {});\n",
              "          if (!dataTable) return;\n",
              "\n",
              "          const docLinkHtml = 'Like what you see? Visit the ' +\n",
              "            '<a target=\"_blank\" href=https://colab.research.google.com/notebooks/data_table.ipynb>data table notebook</a>'\n",
              "            + ' to learn more about interactive tables.';\n",
              "          element.innerHTML = '';\n",
              "          dataTable['output_type'] = 'display_data';\n",
              "          await google.colab.output.renderOutput(dataTable, element);\n",
              "          const docLink = document.createElement('div');\n",
              "          docLink.innerHTML = docLinkHtml;\n",
              "          element.appendChild(docLink);\n",
              "        }\n",
              "      </script>\n",
              "    </div>\n",
              "  </div>\n",
              "  "
            ],
            "text/plain": [
              "      cad_recursive_Self_Attention_pred  ...  gbp_recursive_Self_Attention_pred\n",
              "0                              0.000123  ...                          -0.000229\n",
              "1                              0.000154  ...                          -0.000563\n",
              "2                              0.000076  ...                          -0.000485\n",
              "3                             -0.000028  ...                          -0.000241\n",
              "4                             -0.000047  ...                          -0.000258\n",
              "...                                 ...  ...                                ...\n",
              "1039                           0.000366  ...                          -0.000203\n",
              "1040                           0.000302  ...                          -0.000405\n",
              "1041                           0.000212  ...                          -0.000644\n",
              "1042                           0.000135  ...                          -0.000358\n",
              "1043                           0.000131  ...                          -0.000169\n",
              "\n",
              "[1044 rows x 3 columns]"
            ]
          },
          "metadata": {},
          "execution_count": 80
        }
      ],
      "source": [
        "Self_Attention_recursive_prediction = pd.DataFrame(np.column_stack((cad_recursive_Self_Attention_pred, aud_recursive_Self_Attention_pred, gbp_recursive_Self_Attention_pred)))\n",
        "Self_Attention_recursive_prediction.columns = ['cad_recursive_Self_Attention_pred', 'aud_recursive_Self_Attention_pred', 'gbp_recursive_Self_Attention_pred']\n",
        "Self_Attention_recursive_prediction.to_csv('./Self_Attention_recursive_prediction.csv')\n",
        "Self_Attention_recursive_prediction"
      ]
    },
    {
      "cell_type": "code",
      "execution_count": 81,
      "metadata": {
        "colab": {
          "base_uri": "https://localhost:8080/",
          "height": 424
        },
        "id": "XCYxRSnRp4B8",
        "outputId": "891dcc30-5810-4441-b184-c94d0f3012d8"
      },
      "outputs": [
        {
          "output_type": "execute_result",
          "data": {
            "text/html": [
              "\n",
              "  <div id=\"df-c124a09e-74d6-4319-9f59-d5f15a0dc9de\">\n",
              "    <div class=\"colab-df-container\">\n",
              "      <div>\n",
              "<style scoped>\n",
              "    .dataframe tbody tr th:only-of-type {\n",
              "        vertical-align: middle;\n",
              "    }\n",
              "\n",
              "    .dataframe tbody tr th {\n",
              "        vertical-align: top;\n",
              "    }\n",
              "\n",
              "    .dataframe thead th {\n",
              "        text-align: right;\n",
              "    }\n",
              "</style>\n",
              "<table border=\"1\" class=\"dataframe\">\n",
              "  <thead>\n",
              "    <tr style=\"text-align: right;\">\n",
              "      <th></th>\n",
              "      <th>cad_rolling_Self_Attention_pred</th>\n",
              "      <th>aud_rolling_Self_Attention_pred</th>\n",
              "      <th>gbp_rolling_Self_Attention_pred</th>\n",
              "    </tr>\n",
              "  </thead>\n",
              "  <tbody>\n",
              "    <tr>\n",
              "      <th>0</th>\n",
              "      <td>0.000123</td>\n",
              "      <td>-0.000403</td>\n",
              "      <td>-0.000229</td>\n",
              "    </tr>\n",
              "    <tr>\n",
              "      <th>1</th>\n",
              "      <td>0.000154</td>\n",
              "      <td>-0.000467</td>\n",
              "      <td>-0.000563</td>\n",
              "    </tr>\n",
              "    <tr>\n",
              "      <th>2</th>\n",
              "      <td>0.000076</td>\n",
              "      <td>-0.000467</td>\n",
              "      <td>-0.000486</td>\n",
              "    </tr>\n",
              "    <tr>\n",
              "      <th>3</th>\n",
              "      <td>-0.000029</td>\n",
              "      <td>-0.000465</td>\n",
              "      <td>-0.000242</td>\n",
              "    </tr>\n",
              "    <tr>\n",
              "      <th>4</th>\n",
              "      <td>-0.000048</td>\n",
              "      <td>-0.000464</td>\n",
              "      <td>-0.000259</td>\n",
              "    </tr>\n",
              "    <tr>\n",
              "      <th>...</th>\n",
              "      <td>...</td>\n",
              "      <td>...</td>\n",
              "      <td>...</td>\n",
              "    </tr>\n",
              "    <tr>\n",
              "      <th>1039</th>\n",
              "      <td>0.000376</td>\n",
              "      <td>-0.000349</td>\n",
              "      <td>-0.000137</td>\n",
              "    </tr>\n",
              "    <tr>\n",
              "      <th>1040</th>\n",
              "      <td>0.000313</td>\n",
              "      <td>-0.000348</td>\n",
              "      <td>-0.000334</td>\n",
              "    </tr>\n",
              "    <tr>\n",
              "      <th>1041</th>\n",
              "      <td>0.000223</td>\n",
              "      <td>-0.000348</td>\n",
              "      <td>-0.000563</td>\n",
              "    </tr>\n",
              "    <tr>\n",
              "      <th>1042</th>\n",
              "      <td>0.000146</td>\n",
              "      <td>-0.000348</td>\n",
              "      <td>-0.000290</td>\n",
              "    </tr>\n",
              "    <tr>\n",
              "      <th>1043</th>\n",
              "      <td>0.000142</td>\n",
              "      <td>-0.000346</td>\n",
              "      <td>-0.000108</td>\n",
              "    </tr>\n",
              "  </tbody>\n",
              "</table>\n",
              "<p>1044 rows × 3 columns</p>\n",
              "</div>\n",
              "      <button class=\"colab-df-convert\" onclick=\"convertToInteractive('df-c124a09e-74d6-4319-9f59-d5f15a0dc9de')\"\n",
              "              title=\"Convert this dataframe to an interactive table.\"\n",
              "              style=\"display:none;\">\n",
              "        \n",
              "  <svg xmlns=\"http://www.w3.org/2000/svg\" height=\"24px\"viewBox=\"0 0 24 24\"\n",
              "       width=\"24px\">\n",
              "    <path d=\"M0 0h24v24H0V0z\" fill=\"none\"/>\n",
              "    <path d=\"M18.56 5.44l.94 2.06.94-2.06 2.06-.94-2.06-.94-.94-2.06-.94 2.06-2.06.94zm-11 1L8.5 8.5l.94-2.06 2.06-.94-2.06-.94L8.5 2.5l-.94 2.06-2.06.94zm10 10l.94 2.06.94-2.06 2.06-.94-2.06-.94-.94-2.06-.94 2.06-2.06.94z\"/><path d=\"M17.41 7.96l-1.37-1.37c-.4-.4-.92-.59-1.43-.59-.52 0-1.04.2-1.43.59L10.3 9.45l-7.72 7.72c-.78.78-.78 2.05 0 2.83L4 21.41c.39.39.9.59 1.41.59.51 0 1.02-.2 1.41-.59l7.78-7.78 2.81-2.81c.8-.78.8-2.07 0-2.86zM5.41 20L4 18.59l7.72-7.72 1.47 1.35L5.41 20z\"/>\n",
              "  </svg>\n",
              "      </button>\n",
              "      \n",
              "  <style>\n",
              "    .colab-df-container {\n",
              "      display:flex;\n",
              "      flex-wrap:wrap;\n",
              "      gap: 12px;\n",
              "    }\n",
              "\n",
              "    .colab-df-convert {\n",
              "      background-color: #E8F0FE;\n",
              "      border: none;\n",
              "      border-radius: 50%;\n",
              "      cursor: pointer;\n",
              "      display: none;\n",
              "      fill: #1967D2;\n",
              "      height: 32px;\n",
              "      padding: 0 0 0 0;\n",
              "      width: 32px;\n",
              "    }\n",
              "\n",
              "    .colab-df-convert:hover {\n",
              "      background-color: #E2EBFA;\n",
              "      box-shadow: 0px 1px 2px rgba(60, 64, 67, 0.3), 0px 1px 3px 1px rgba(60, 64, 67, 0.15);\n",
              "      fill: #174EA6;\n",
              "    }\n",
              "\n",
              "    [theme=dark] .colab-df-convert {\n",
              "      background-color: #3B4455;\n",
              "      fill: #D2E3FC;\n",
              "    }\n",
              "\n",
              "    [theme=dark] .colab-df-convert:hover {\n",
              "      background-color: #434B5C;\n",
              "      box-shadow: 0px 1px 3px 1px rgba(0, 0, 0, 0.15);\n",
              "      filter: drop-shadow(0px 1px 2px rgba(0, 0, 0, 0.3));\n",
              "      fill: #FFFFFF;\n",
              "    }\n",
              "  </style>\n",
              "\n",
              "      <script>\n",
              "        const buttonEl =\n",
              "          document.querySelector('#df-c124a09e-74d6-4319-9f59-d5f15a0dc9de button.colab-df-convert');\n",
              "        buttonEl.style.display =\n",
              "          google.colab.kernel.accessAllowed ? 'block' : 'none';\n",
              "\n",
              "        async function convertToInteractive(key) {\n",
              "          const element = document.querySelector('#df-c124a09e-74d6-4319-9f59-d5f15a0dc9de');\n",
              "          const dataTable =\n",
              "            await google.colab.kernel.invokeFunction('convertToInteractive',\n",
              "                                                     [key], {});\n",
              "          if (!dataTable) return;\n",
              "\n",
              "          const docLinkHtml = 'Like what you see? Visit the ' +\n",
              "            '<a target=\"_blank\" href=https://colab.research.google.com/notebooks/data_table.ipynb>data table notebook</a>'\n",
              "            + ' to learn more about interactive tables.';\n",
              "          element.innerHTML = '';\n",
              "          dataTable['output_type'] = 'display_data';\n",
              "          await google.colab.output.renderOutput(dataTable, element);\n",
              "          const docLink = document.createElement('div');\n",
              "          docLink.innerHTML = docLinkHtml;\n",
              "          element.appendChild(docLink);\n",
              "        }\n",
              "      </script>\n",
              "    </div>\n",
              "  </div>\n",
              "  "
            ],
            "text/plain": [
              "      cad_rolling_Self_Attention_pred  ...  gbp_rolling_Self_Attention_pred\n",
              "0                            0.000123  ...                        -0.000229\n",
              "1                            0.000154  ...                        -0.000563\n",
              "2                            0.000076  ...                        -0.000486\n",
              "3                           -0.000029  ...                        -0.000242\n",
              "4                           -0.000048  ...                        -0.000259\n",
              "...                               ...  ...                              ...\n",
              "1039                         0.000376  ...                        -0.000137\n",
              "1040                         0.000313  ...                        -0.000334\n",
              "1041                         0.000223  ...                        -0.000563\n",
              "1042                         0.000146  ...                        -0.000290\n",
              "1043                         0.000142  ...                        -0.000108\n",
              "\n",
              "[1044 rows x 3 columns]"
            ]
          },
          "metadata": {},
          "execution_count": 81
        }
      ],
      "source": [
        "Self_Attention_rolling_prediction = pd.DataFrame(np.column_stack((cad_rolling_Self_Attention_pred, aud_rolling_Self_Attention_pred, gbp_rolling_Self_Attention_pred)))\n",
        "Self_Attention_rolling_prediction.columns = ['cad_rolling_Self_Attention_pred', 'aud_rolling_Self_Attention_pred', 'gbp_rolling_Self_Attention_pred']\n",
        "Self_Attention_rolling_prediction.to_csv('./Self_Attention_rolling_prediction.csv')\n",
        "Self_Attention_rolling_prediction"
      ]
    },
    {
      "cell_type": "markdown",
      "metadata": {
        "id": "f5k6MQuBp4B8"
      },
      "source": [
        "## 載入實際匯率變動率（取對數後一階差分）"
      ]
    },
    {
      "cell_type": "code",
      "execution_count": 84,
      "metadata": {
        "colab": {
          "base_uri": "https://localhost:8080/",
          "height": 424
        },
        "id": "zVjp6NJWp4B8",
        "outputId": "e954ee54-88ad-488f-ad33-ab13f60ffc63"
      },
      "outputs": [
        {
          "output_type": "execute_result",
          "data": {
            "text/html": [
              "\n",
              "  <div id=\"df-72d770c9-3575-4cc7-912d-67f432f7eba7\">\n",
              "    <div class=\"colab-df-container\">\n",
              "      <div>\n",
              "<style scoped>\n",
              "    .dataframe tbody tr th:only-of-type {\n",
              "        vertical-align: middle;\n",
              "    }\n",
              "\n",
              "    .dataframe tbody tr th {\n",
              "        vertical-align: top;\n",
              "    }\n",
              "\n",
              "    .dataframe thead th {\n",
              "        text-align: right;\n",
              "    }\n",
              "</style>\n",
              "<table border=\"1\" class=\"dataframe\">\n",
              "  <thead>\n",
              "    <tr style=\"text-align: right;\">\n",
              "      <th></th>\n",
              "      <th>CADUSD Curncy</th>\n",
              "      <th>AUDUSD Curncy</th>\n",
              "      <th>GBPUSD Curncy</th>\n",
              "    </tr>\n",
              "  </thead>\n",
              "  <tbody>\n",
              "    <tr>\n",
              "      <th>2017-01-02</th>\n",
              "      <td>-0.000269</td>\n",
              "      <td>-0.003335</td>\n",
              "      <td>-0.005037</td>\n",
              "    </tr>\n",
              "    <tr>\n",
              "      <th>2017-01-03</th>\n",
              "      <td>0.001209</td>\n",
              "      <td>0.004860</td>\n",
              "      <td>-0.003345</td>\n",
              "    </tr>\n",
              "    <tr>\n",
              "      <th>2017-01-04</th>\n",
              "      <td>0.009488</td>\n",
              "      <td>0.008826</td>\n",
              "      <td>0.007003</td>\n",
              "    </tr>\n",
              "    <tr>\n",
              "      <th>2017-01-05</th>\n",
              "      <td>0.005703</td>\n",
              "      <td>0.007523</td>\n",
              "      <td>0.007760</td>\n",
              "    </tr>\n",
              "    <tr>\n",
              "      <th>2017-01-06</th>\n",
              "      <td>-0.000926</td>\n",
              "      <td>-0.005055</td>\n",
              "      <td>-0.010686</td>\n",
              "    </tr>\n",
              "    <tr>\n",
              "      <th>...</th>\n",
              "      <td>...</td>\n",
              "      <td>...</td>\n",
              "      <td>...</td>\n",
              "    </tr>\n",
              "    <tr>\n",
              "      <th>2020-12-25</th>\n",
              "      <td>-0.000129</td>\n",
              "      <td>0.001052</td>\n",
              "      <td>0.000148</td>\n",
              "    </tr>\n",
              "    <tr>\n",
              "      <th>2020-12-28</th>\n",
              "      <td>0.001414</td>\n",
              "      <td>-0.003425</td>\n",
              "      <td>-0.007996</td>\n",
              "    </tr>\n",
              "    <tr>\n",
              "      <th>2020-12-29</th>\n",
              "      <td>0.002182</td>\n",
              "      <td>0.003556</td>\n",
              "      <td>0.003784</td>\n",
              "    </tr>\n",
              "    <tr>\n",
              "      <th>2020-12-30</th>\n",
              "      <td>0.005242</td>\n",
              "      <td>0.010463</td>\n",
              "      <td>0.008994</td>\n",
              "    </tr>\n",
              "    <tr>\n",
              "      <th>2020-12-31</th>\n",
              "      <td>0.001402</td>\n",
              "      <td>0.001040</td>\n",
              "      <td>0.003297</td>\n",
              "    </tr>\n",
              "  </tbody>\n",
              "</table>\n",
              "<p>1044 rows × 3 columns</p>\n",
              "</div>\n",
              "      <button class=\"colab-df-convert\" onclick=\"convertToInteractive('df-72d770c9-3575-4cc7-912d-67f432f7eba7')\"\n",
              "              title=\"Convert this dataframe to an interactive table.\"\n",
              "              style=\"display:none;\">\n",
              "        \n",
              "  <svg xmlns=\"http://www.w3.org/2000/svg\" height=\"24px\"viewBox=\"0 0 24 24\"\n",
              "       width=\"24px\">\n",
              "    <path d=\"M0 0h24v24H0V0z\" fill=\"none\"/>\n",
              "    <path d=\"M18.56 5.44l.94 2.06.94-2.06 2.06-.94-2.06-.94-.94-2.06-.94 2.06-2.06.94zm-11 1L8.5 8.5l.94-2.06 2.06-.94-2.06-.94L8.5 2.5l-.94 2.06-2.06.94zm10 10l.94 2.06.94-2.06 2.06-.94-2.06-.94-.94-2.06-.94 2.06-2.06.94z\"/><path d=\"M17.41 7.96l-1.37-1.37c-.4-.4-.92-.59-1.43-.59-.52 0-1.04.2-1.43.59L10.3 9.45l-7.72 7.72c-.78.78-.78 2.05 0 2.83L4 21.41c.39.39.9.59 1.41.59.51 0 1.02-.2 1.41-.59l7.78-7.78 2.81-2.81c.8-.78.8-2.07 0-2.86zM5.41 20L4 18.59l7.72-7.72 1.47 1.35L5.41 20z\"/>\n",
              "  </svg>\n",
              "      </button>\n",
              "      \n",
              "  <style>\n",
              "    .colab-df-container {\n",
              "      display:flex;\n",
              "      flex-wrap:wrap;\n",
              "      gap: 12px;\n",
              "    }\n",
              "\n",
              "    .colab-df-convert {\n",
              "      background-color: #E8F0FE;\n",
              "      border: none;\n",
              "      border-radius: 50%;\n",
              "      cursor: pointer;\n",
              "      display: none;\n",
              "      fill: #1967D2;\n",
              "      height: 32px;\n",
              "      padding: 0 0 0 0;\n",
              "      width: 32px;\n",
              "    }\n",
              "\n",
              "    .colab-df-convert:hover {\n",
              "      background-color: #E2EBFA;\n",
              "      box-shadow: 0px 1px 2px rgba(60, 64, 67, 0.3), 0px 1px 3px 1px rgba(60, 64, 67, 0.15);\n",
              "      fill: #174EA6;\n",
              "    }\n",
              "\n",
              "    [theme=dark] .colab-df-convert {\n",
              "      background-color: #3B4455;\n",
              "      fill: #D2E3FC;\n",
              "    }\n",
              "\n",
              "    [theme=dark] .colab-df-convert:hover {\n",
              "      background-color: #434B5C;\n",
              "      box-shadow: 0px 1px 3px 1px rgba(0, 0, 0, 0.15);\n",
              "      filter: drop-shadow(0px 1px 2px rgba(0, 0, 0, 0.3));\n",
              "      fill: #FFFFFF;\n",
              "    }\n",
              "  </style>\n",
              "\n",
              "      <script>\n",
              "        const buttonEl =\n",
              "          document.querySelector('#df-72d770c9-3575-4cc7-912d-67f432f7eba7 button.colab-df-convert');\n",
              "        buttonEl.style.display =\n",
              "          google.colab.kernel.accessAllowed ? 'block' : 'none';\n",
              "\n",
              "        async function convertToInteractive(key) {\n",
              "          const element = document.querySelector('#df-72d770c9-3575-4cc7-912d-67f432f7eba7');\n",
              "          const dataTable =\n",
              "            await google.colab.kernel.invokeFunction('convertToInteractive',\n",
              "                                                     [key], {});\n",
              "          if (!dataTable) return;\n",
              "\n",
              "          const docLinkHtml = 'Like what you see? Visit the ' +\n",
              "            '<a target=\"_blank\" href=https://colab.research.google.com/notebooks/data_table.ipynb>data table notebook</a>'\n",
              "            + ' to learn more about interactive tables.';\n",
              "          element.innerHTML = '';\n",
              "          dataTable['output_type'] = 'display_data';\n",
              "          await google.colab.output.renderOutput(dataTable, element);\n",
              "          const docLink = document.createElement('div');\n",
              "          docLink.innerHTML = docLinkHtml;\n",
              "          element.appendChild(docLink);\n",
              "        }\n",
              "      </script>\n",
              "    </div>\n",
              "  </div>\n",
              "  "
            ],
            "text/plain": [
              "            CADUSD Curncy  AUDUSD Curncy  GBPUSD Curncy\n",
              "2017-01-02      -0.000269      -0.003335      -0.005037\n",
              "2017-01-03       0.001209       0.004860      -0.003345\n",
              "2017-01-04       0.009488       0.008826       0.007003\n",
              "2017-01-05       0.005703       0.007523       0.007760\n",
              "2017-01-06      -0.000926      -0.005055      -0.010686\n",
              "...                   ...            ...            ...\n",
              "2020-12-25      -0.000129       0.001052       0.000148\n",
              "2020-12-28       0.001414      -0.003425      -0.007996\n",
              "2020-12-29       0.002182       0.003556       0.003784\n",
              "2020-12-30       0.005242       0.010463       0.008994\n",
              "2020-12-31       0.001402       0.001040       0.003297\n",
              "\n",
              "[1044 rows x 3 columns]"
            ]
          },
          "metadata": {},
          "execution_count": 84
        }
      ],
      "source": [
        "groundtruth = pd.read_excel('./CAD_AUD_GBP.xlsx', index_col=0, skiprows=3)\n",
        "groundtruth = groundtruth.iloc[1:,:]\n",
        "groundtruth = groundtruth.astype('float64')\n",
        "groundtruth.index = pd.to_datetime(groundtruth.index)\n",
        "groundtruth = np.log(groundtruth)\n",
        "groundtruth = groundtruth.diff().dropna()\n",
        "\n",
        "groundtruth = groundtruth.loc['2017-01-01':'2020-12-31']\n",
        "cad_groundtruth = groundtruth.iloc[:,0]\n",
        "aud_groundtruth = groundtruth.iloc[:,1]\n",
        "gbp_groundtruth = groundtruth.iloc[:,2]\n",
        "\n",
        "groundtruth"
      ]
    },
    {
      "cell_type": "markdown",
      "metadata": {
        "id": "PhXlyzkbp4B8"
      },
      "source": [
        "## 模型比較（計算模型的 RMSE, MAE, DA）"
      ]
    },
    {
      "cell_type": "markdown",
      "metadata": {
        "id": "pmFIgZ-Lp4B8"
      },
      "source": [
        "### Random walk pred"
      ]
    },
    {
      "cell_type": "code",
      "execution_count": 85,
      "metadata": {
        "id": "TBX6NK1ip4B9"
      },
      "outputs": [],
      "source": [
        "random_walk_pred = rw_pred(cad_groundtruth)\n",
        "\n",
        "cad_random_walk_RMSE = root_mean_squared_error(random_walk_pred, cad_groundtruth)\n",
        "cad_random_walk_MAE = mean_absolute_error(random_walk_pred, cad_groundtruth)\n",
        "cad_random_walk_DA = 0.5\n",
        "aud_random_walk_RMSE = root_mean_squared_error(random_walk_pred, aud_groundtruth)\n",
        "aud_random_walk_MAE = mean_absolute_error(random_walk_pred, aud_groundtruth)\n",
        "aud_random_walk_DA = 0.5\n",
        "gbp_random_walk_RMSE = root_mean_squared_error(random_walk_pred, gbp_groundtruth)\n",
        "gbp_random_walk_MAE = mean_absolute_error(random_walk_pred, gbp_groundtruth)\n",
        "gbp_random_walk_DA = 0.5"
      ]
    },
    {
      "cell_type": "code",
      "execution_count": 86,
      "metadata": {
        "colab": {
          "base_uri": "https://localhost:8080/"
        },
        "id": "vXIAdYWjp4B9",
        "outputId": "8c337390-4cf0-453b-9981-683a23704976"
      },
      "outputs": [
        {
          "output_type": "execute_result",
          "data": {
            "text/plain": [
              "(0.004365277893580916, 0.0032165540648211085, 0.5)"
            ]
          },
          "metadata": {},
          "execution_count": 86
        }
      ],
      "source": [
        "cad_random_walk_RMSE, cad_random_walk_MAE, cad_random_walk_DA"
      ]
    },
    {
      "cell_type": "code",
      "execution_count": 87,
      "metadata": {
        "colab": {
          "base_uri": "https://localhost:8080/"
        },
        "id": "8vhPxvRvp4B9",
        "outputId": "2992af21-102c-4fb0-b2c1-324c9ac98b13"
      },
      "outputs": [
        {
          "output_type": "execute_result",
          "data": {
            "text/plain": [
              "(0.005655793284191722, 0.00416259953667118, 0.5)"
            ]
          },
          "metadata": {},
          "execution_count": 87
        }
      ],
      "source": [
        "aud_random_walk_RMSE, aud_random_walk_MAE, aud_random_walk_DA"
      ]
    },
    {
      "cell_type": "code",
      "execution_count": 88,
      "metadata": {
        "colab": {
          "base_uri": "https://localhost:8080/"
        },
        "id": "y3EyxKppp4B9",
        "outputId": "c59c6be8-c849-4524-c5ca-b1d5f03600ca"
      },
      "outputs": [
        {
          "output_type": "execute_result",
          "data": {
            "text/plain": [
              "(0.0056882604301849125, 0.004202877474568311, 0.5)"
            ]
          },
          "metadata": {},
          "execution_count": 88
        }
      ],
      "source": [
        "gbp_random_walk_RMSE, gbp_random_walk_MAE, gbp_random_walk_DA"
      ]
    },
    {
      "cell_type": "markdown",
      "metadata": {
        "id": "-mSAxC05p4B9"
      },
      "source": [
        "### Recursive LSTM pred"
      ]
    },
    {
      "cell_type": "code",
      "execution_count": 89,
      "metadata": {
        "id": "93k-K1uEp4B9"
      },
      "outputs": [],
      "source": [
        "cad_recursive_LSTM_RMSE = root_mean_squared_error(cad_recursive_LSTM_pred, cad_groundtruth)\n",
        "cad_recursive_LSTM_MAE = mean_absolute_error(cad_recursive_LSTM_pred, cad_groundtruth)\n",
        "cad_recursive_LSTM_DA = direction_accuracy(cad_recursive_LSTM_pred, cad_groundtruth)\n",
        "aud_recursive_LSTM_RMSE = root_mean_squared_error(aud_recursive_LSTM_pred, aud_groundtruth)\n",
        "aud_recursive_LSTM_MAE = mean_absolute_error(aud_recursive_LSTM_pred, aud_groundtruth)\n",
        "aud_recursive_LSTM_DA = direction_accuracy(aud_recursive_LSTM_pred, aud_groundtruth)\n",
        "gbp_recursive_LSTM_RMSE = root_mean_squared_error(gbp_recursive_LSTM_pred, gbp_groundtruth)\n",
        "gbp_recursive_LSTM_MAE = mean_absolute_error(gbp_recursive_LSTM_pred, gbp_groundtruth)\n",
        "gbp_recursive_LSTM_DA = direction_accuracy(gbp_recursive_LSTM_pred, gbp_groundtruth)"
      ]
    },
    {
      "cell_type": "code",
      "execution_count": 90,
      "metadata": {
        "colab": {
          "base_uri": "https://localhost:8080/"
        },
        "id": "hcPAxld7p4B9",
        "outputId": "a7b00f09-e1a8-45e9-85b7-7b8bb1a5d225"
      },
      "outputs": [
        {
          "output_type": "execute_result",
          "data": {
            "text/plain": [
              "(0.00436695344816529, 0.0032166379683476035, 0.49616858237547895)"
            ]
          },
          "metadata": {},
          "execution_count": 90
        }
      ],
      "source": [
        "cad_recursive_LSTM_RMSE, cad_recursive_LSTM_MAE, cad_recursive_LSTM_DA"
      ]
    },
    {
      "cell_type": "code",
      "execution_count": 91,
      "metadata": {
        "colab": {
          "base_uri": "https://localhost:8080/"
        },
        "id": "umfIDXEip4B9",
        "outputId": "969fd93c-829c-4ea2-b275-740eac5aca1d"
      },
      "outputs": [
        {
          "output_type": "execute_result",
          "data": {
            "text/plain": [
              "(0.005716025064109843, 0.004206484589678489, 0.5067049808429118)"
            ]
          },
          "metadata": {},
          "execution_count": 91
        }
      ],
      "source": [
        "aud_recursive_LSTM_RMSE, aud_recursive_LSTM_MAE, aud_recursive_LSTM_DA"
      ]
    },
    {
      "cell_type": "code",
      "execution_count": 92,
      "metadata": {
        "colab": {
          "base_uri": "https://localhost:8080/"
        },
        "id": "ru9M87NZp4B9",
        "outputId": "71fbce8a-ec2a-471a-afc5-74c568bf76c1"
      },
      "outputs": [
        {
          "output_type": "execute_result",
          "data": {
            "text/plain": [
              "(0.005707144618527109, 0.004224464636170403, 0.4827586206896552)"
            ]
          },
          "metadata": {},
          "execution_count": 92
        }
      ],
      "source": [
        "gbp_recursive_LSTM_RMSE, gbp_recursive_LSTM_MAE, gbp_recursive_LSTM_DA"
      ]
    },
    {
      "cell_type": "markdown",
      "metadata": {
        "id": "4Jkwak57p4B9"
      },
      "source": [
        "### Rolling LSTM pred"
      ]
    },
    {
      "cell_type": "code",
      "execution_count": 93,
      "metadata": {
        "id": "VxGhz6IPp4B9"
      },
      "outputs": [],
      "source": [
        "cad_rolling_LSTM_RMSE = root_mean_squared_error(cad_rolling_LSTM_pred, cad_groundtruth)\n",
        "cad_rolling_LSTM_MAE = mean_absolute_error(cad_rolling_LSTM_pred, cad_groundtruth)\n",
        "cad_rolling_LSTM_DA = direction_accuracy(cad_rolling_LSTM_pred, cad_groundtruth)\n",
        "aud_rolling_LSTM_RMSE = root_mean_squared_error(aud_rolling_LSTM_pred, aud_groundtruth)\n",
        "aud_rolling_LSTM_MAE = mean_absolute_error(aud_rolling_LSTM_pred, aud_groundtruth)\n",
        "aud_rolling_LSTM_DA = direction_accuracy(aud_rolling_LSTM_pred, aud_groundtruth)\n",
        "gbp_rolling_LSTM_RMSE = root_mean_squared_error(gbp_rolling_LSTM_pred, gbp_groundtruth)\n",
        "gbp_rolling_LSTM_MAE = mean_absolute_error(gbp_rolling_LSTM_pred, gbp_groundtruth)\n",
        "gbp_rolling_LSTM_DA = direction_accuracy(gbp_rolling_LSTM_pred, gbp_groundtruth)"
      ]
    },
    {
      "cell_type": "code",
      "execution_count": 94,
      "metadata": {
        "colab": {
          "base_uri": "https://localhost:8080/"
        },
        "id": "BLZTqstHp4B9",
        "outputId": "9940f8a5-f34f-4262-98f3-1407b8300f69"
      },
      "outputs": [
        {
          "output_type": "execute_result",
          "data": {
            "text/plain": [
              "(0.004366874890696313, 0.003216533494752232, 0.4942528735632184)"
            ]
          },
          "metadata": {},
          "execution_count": 94
        }
      ],
      "source": [
        "cad_rolling_LSTM_RMSE, cad_rolling_LSTM_MAE, cad_rolling_LSTM_DA"
      ]
    },
    {
      "cell_type": "code",
      "execution_count": 95,
      "metadata": {
        "colab": {
          "base_uri": "https://localhost:8080/"
        },
        "id": "7gtbSQL6p4B9",
        "outputId": "ae3de31a-ab1b-41ad-d87b-0ea8bc76ba92"
      },
      "outputs": [
        {
          "output_type": "execute_result",
          "data": {
            "text/plain": [
              "(0.005779832144854624, 0.0042638320321405545, 0.5067049808429118)"
            ]
          },
          "metadata": {},
          "execution_count": 95
        }
      ],
      "source": [
        "aud_rolling_LSTM_RMSE, aud_rolling_LSTM_MAE, aud_rolling_LSTM_DA"
      ]
    },
    {
      "cell_type": "code",
      "execution_count": 96,
      "metadata": {
        "colab": {
          "base_uri": "https://localhost:8080/"
        },
        "id": "6AQn1KaKp4B-",
        "outputId": "970734f7-50e2-4bd8-f799-0e11a2ec0fb5"
      },
      "outputs": [
        {
          "output_type": "execute_result",
          "data": {
            "text/plain": [
              "(0.005705038932962677, 0.004221539465330909, 0.4827586206896552)"
            ]
          },
          "metadata": {},
          "execution_count": 96
        }
      ],
      "source": [
        "gbp_rolling_LSTM_RMSE, gbp_rolling_LSTM_MAE, gbp_rolling_LSTM_DA"
      ]
    },
    {
      "cell_type": "markdown",
      "metadata": {
        "id": "cqYWW_GFp4B-"
      },
      "source": [
        "### Recursive Self-Attention pred"
      ]
    },
    {
      "cell_type": "code",
      "execution_count": 97,
      "metadata": {
        "id": "Vg4WEtOOp4B-"
      },
      "outputs": [],
      "source": [
        "cad_recursive_Self_Attention_RMSE = root_mean_squared_error(cad_recursive_Self_Attention_pred, cad_groundtruth)\n",
        "cad_recursive_Self_Attention_MAE = mean_absolute_error(cad_recursive_Self_Attention_pred, cad_groundtruth)\n",
        "cad_recursive_Self_Attention_DA = direction_accuracy(cad_recursive_Self_Attention_pred, cad_groundtruth)\n",
        "aud_recursive_Self_Attention_RMSE = root_mean_squared_error(aud_recursive_Self_Attention_pred, aud_groundtruth)\n",
        "aud_recursive_Self_Attention_MAE = mean_absolute_error(aud_recursive_Self_Attention_pred, aud_groundtruth)\n",
        "aud_recursive_Self_Attention_DA = direction_accuracy(aud_recursive_Self_Attention_pred, aud_groundtruth)\n",
        "gbp_recursive_Self_Attention_RMSE = root_mean_squared_error(gbp_recursive_Self_Attention_pred, gbp_groundtruth)\n",
        "gbp_recursive_Self_Attention_MAE = mean_absolute_error(gbp_recursive_Self_Attention_pred, gbp_groundtruth)\n",
        "gbp_recursive_Self_Attention_DA = direction_accuracy(gbp_recursive_Self_Attention_pred, gbp_groundtruth)"
      ]
    },
    {
      "cell_type": "code",
      "execution_count": 98,
      "metadata": {
        "colab": {
          "base_uri": "https://localhost:8080/"
        },
        "id": "57WBk3Jup4B-",
        "outputId": "ef758e7b-f958-4fec-ac3f-e6aafe0818a2"
      },
      "outputs": [
        {
          "output_type": "execute_result",
          "data": {
            "text/plain": [
              "(0.004372101752788659, 0.0032285911199098094, 0.4827586206896552)"
            ]
          },
          "metadata": {},
          "execution_count": 98
        }
      ],
      "source": [
        "cad_recursive_Self_Attention_RMSE, cad_recursive_Self_Attention_MAE, cad_recursive_Self_Attention_DA"
      ]
    },
    {
      "cell_type": "code",
      "execution_count": 99,
      "metadata": {
        "colab": {
          "base_uri": "https://localhost:8080/"
        },
        "id": "CTLn_DTQp4B-",
        "outputId": "3dc83af4-46da-4ee0-bfec-c8edd903dcdb"
      },
      "outputs": [
        {
          "output_type": "execute_result",
          "data": {
            "text/plain": [
              "(0.005677499015217046, 0.004191842680823521, 0.4779693486590038)"
            ]
          },
          "metadata": {},
          "execution_count": 99
        }
      ],
      "source": [
        "aud_recursive_Self_Attention_RMSE, aud_recursive_Self_Attention_MAE, aud_recursive_Self_Attention_DA"
      ]
    },
    {
      "cell_type": "code",
      "execution_count": 100,
      "metadata": {
        "colab": {
          "base_uri": "https://localhost:8080/"
        },
        "id": "XqtAsFSEp4B-",
        "outputId": "b344827f-68ea-4347-cc64-15327758cf55"
      },
      "outputs": [
        {
          "output_type": "execute_result",
          "data": {
            "text/plain": [
              "(0.005711377556770121, 0.004226133230130194, 0.4827586206896552)"
            ]
          },
          "metadata": {},
          "execution_count": 100
        }
      ],
      "source": [
        "gbp_recursive_Self_Attention_RMSE, gbp_recursive_Self_Attention_MAE, gbp_recursive_Self_Attention_DA"
      ]
    },
    {
      "cell_type": "markdown",
      "metadata": {
        "id": "yaVBG_71p4B-"
      },
      "source": [
        "### Rolling Self-Attention pred"
      ]
    },
    {
      "cell_type": "code",
      "execution_count": 101,
      "metadata": {
        "id": "7FnwfC_Gp4B-"
      },
      "outputs": [],
      "source": [
        "cad_rolling_Self_Attention_RMSE = root_mean_squared_error(cad_rolling_Self_Attention_pred, cad_groundtruth)\n",
        "cad_rolling_Self_Attention_MAE = mean_absolute_error(cad_rolling_Self_Attention_pred, cad_groundtruth)\n",
        "cad_rolling_Self_Attention_DA = direction_accuracy(cad_rolling_Self_Attention_pred, cad_groundtruth)\n",
        "aud_rolling_Self_Attention_RMSE = root_mean_squared_error(aud_rolling_Self_Attention_pred, aud_groundtruth)\n",
        "aud_rolling_Self_Attention_MAE = mean_absolute_error(aud_rolling_Self_Attention_pred, aud_groundtruth)\n",
        "aud_rolling_Self_Attention_DA = direction_accuracy(aud_rolling_Self_Attention_pred, aud_groundtruth)\n",
        "gbp_rolling_Self_Attention_RMSE = root_mean_squared_error(gbp_rolling_Self_Attention_pred, gbp_groundtruth)\n",
        "gbp_rolling_Self_Attention_MAE = mean_absolute_error(gbp_rolling_Self_Attention_pred, gbp_groundtruth)\n",
        "gbp_rolling_Self_Attention_DA = direction_accuracy(gbp_rolling_Self_Attention_pred, gbp_groundtruth)"
      ]
    },
    {
      "cell_type": "code",
      "execution_count": 102,
      "metadata": {
        "colab": {
          "base_uri": "https://localhost:8080/"
        },
        "id": "HZuI1SRgp4B-",
        "outputId": "233439be-0d7f-4bc7-9d0a-8b8eb350a3f2"
      },
      "outputs": [
        {
          "output_type": "execute_result",
          "data": {
            "text/plain": [
              "(0.0043722193003515215, 0.0032287071559338703, 0.4827586206896552)"
            ]
          },
          "metadata": {},
          "execution_count": 102
        }
      ],
      "source": [
        "cad_rolling_Self_Attention_RMSE, cad_rolling_Self_Attention_MAE, cad_rolling_Self_Attention_DA"
      ]
    },
    {
      "cell_type": "code",
      "execution_count": 103,
      "metadata": {
        "colab": {
          "base_uri": "https://localhost:8080/"
        },
        "id": "b7C0zDi4p4B-",
        "outputId": "f1d4f95f-bda7-4550-cbbf-5a4159c2a288"
      },
      "outputs": [
        {
          "output_type": "execute_result",
          "data": {
            "text/plain": [
              "(0.0056760644260491, 0.004189750332271027, 0.4779693486590038)"
            ]
          },
          "metadata": {},
          "execution_count": 103
        }
      ],
      "source": [
        "aud_rolling_Self_Attention_RMSE, aud_rolling_Self_Attention_MAE, aud_rolling_Self_Attention_DA"
      ]
    },
    {
      "cell_type": "code",
      "execution_count": 104,
      "metadata": {
        "colab": {
          "base_uri": "https://localhost:8080/"
        },
        "id": "ej1D9HiUp4B-",
        "outputId": "f5f6ef8d-12d3-474a-8d6b-c9685271c315"
      },
      "outputs": [
        {
          "output_type": "execute_result",
          "data": {
            "text/plain": [
              "(0.005709054168491829, 0.004223106621892314, 0.48563218390804597)"
            ]
          },
          "metadata": {},
          "execution_count": 104
        }
      ],
      "source": [
        "gbp_rolling_Self_Attention_RMSE, gbp_rolling_Self_Attention_MAE, gbp_rolling_Self_Attention_DA"
      ]
    }
  ],
  "metadata": {
    "interpreter": {
      "hash": "df7b5488ca770e51839d47babcf4bff43b3ec2d4a9964e05f9d2336b92830421"
    },
    "kernelspec": {
      "display_name": "Python 3.8.8 64-bit ('quant': conda)",
      "language": "python",
      "name": "python3"
    },
    "language_info": {
      "codemirror_mode": {
        "name": "ipython",
        "version": 3
      },
      "file_extension": ".py",
      "mimetype": "text/x-python",
      "name": "python",
      "nbconvert_exporter": "python",
      "pygments_lexer": "ipython3",
      "version": "3.8.8"
    },
    "orig_nbformat": 4,
    "colab": {
      "name": "3_Prediction_Performance.ipynb",
      "provenance": []
    },
    "accelerator": "GPU"
  },
  "nbformat": 4,
  "nbformat_minor": 0
}