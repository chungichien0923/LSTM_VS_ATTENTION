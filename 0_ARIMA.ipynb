{
 "cells": [
  {
   "cell_type": "markdown",
   "metadata": {},
   "source": [
    "# 匯入函式庫"
   ]
  },
  {
   "cell_type": "code",
   "execution_count": 19,
   "metadata": {},
   "outputs": [],
   "source": [
    "import numpy as np\n",
    "import pandas as pd\n",
    "from statsmodels.tsa.arima.model import ARIMA\n",
    "from statsmodels.tsa.stattools import adfuller\n",
    "import warnings\n",
    "warnings.filterwarnings(\"ignore\")"
   ]
  },
  {
   "cell_type": "markdown",
   "metadata": {},
   "source": [
    "# 匯入資料"
   ]
  },
  {
   "cell_type": "code",
   "execution_count": 20,
   "metadata": {},
   "outputs": [
    {
     "data": {
      "text/html": [
       "<div>\n",
       "<style scoped>\n",
       "    .dataframe tbody tr th:only-of-type {\n",
       "        vertical-align: middle;\n",
       "    }\n",
       "\n",
       "    .dataframe tbody tr th {\n",
       "        vertical-align: top;\n",
       "    }\n",
       "\n",
       "    .dataframe thead th {\n",
       "        text-align: right;\n",
       "    }\n",
       "</style>\n",
       "<table border=\"1\" class=\"dataframe\">\n",
       "  <thead>\n",
       "    <tr style=\"text-align: right;\">\n",
       "      <th></th>\n",
       "      <th>CADUSD Curncy</th>\n",
       "      <th>AUDUSD Curncy</th>\n",
       "      <th>GBPUSD Curncy</th>\n",
       "    </tr>\n",
       "  </thead>\n",
       "  <tbody>\n",
       "    <tr>\n",
       "      <th>1981-01-01 00:00:00</th>\n",
       "      <td>0.8372</td>\n",
       "      <td>1.1814</td>\n",
       "      <td>2.389</td>\n",
       "    </tr>\n",
       "    <tr>\n",
       "      <th>1981-01-02 00:00:00</th>\n",
       "      <td>0.837</td>\n",
       "      <td>1.1802</td>\n",
       "      <td>2.382</td>\n",
       "    </tr>\n",
       "    <tr>\n",
       "      <th>1981-01-05 00:00:00</th>\n",
       "      <td>0.8413</td>\n",
       "      <td>1.1847</td>\n",
       "      <td>2.4155</td>\n",
       "    </tr>\n",
       "    <tr>\n",
       "      <th>1981-01-06 00:00:00</th>\n",
       "      <td>0.8416</td>\n",
       "      <td>1.189</td>\n",
       "      <td>2.4225</td>\n",
       "    </tr>\n",
       "    <tr>\n",
       "      <th>1981-01-07 00:00:00</th>\n",
       "      <td>0.8418</td>\n",
       "      <td>1.189</td>\n",
       "      <td>2.4115</td>\n",
       "    </tr>\n",
       "    <tr>\n",
       "      <th>1981-01-08 00:00:00</th>\n",
       "      <td>0.8418</td>\n",
       "      <td>1.1865</td>\n",
       "      <td>2.4035</td>\n",
       "    </tr>\n",
       "    <tr>\n",
       "      <th>1981-01-09 00:00:00</th>\n",
       "      <td>0.8415</td>\n",
       "      <td>1.1852</td>\n",
       "      <td>2.395</td>\n",
       "    </tr>\n",
       "    <tr>\n",
       "      <th>1981-01-12 00:00:00</th>\n",
       "      <td>0.8408</td>\n",
       "      <td>1.18</td>\n",
       "      <td>2.397</td>\n",
       "    </tr>\n",
       "    <tr>\n",
       "      <th>1981-01-13 00:00:00</th>\n",
       "      <td>0.8401</td>\n",
       "      <td>1.1793</td>\n",
       "      <td>2.388</td>\n",
       "    </tr>\n",
       "    <tr>\n",
       "      <th>1981-01-14 00:00:00</th>\n",
       "      <td>0.8397</td>\n",
       "      <td>1.1808</td>\n",
       "      <td>2.4025</td>\n",
       "    </tr>\n",
       "    <tr>\n",
       "      <th>1981-01-15 00:00:00</th>\n",
       "      <td>0.8405</td>\n",
       "      <td>1.1815</td>\n",
       "      <td>2.4005</td>\n",
       "    </tr>\n",
       "    <tr>\n",
       "      <th>1981-01-16 00:00:00</th>\n",
       "      <td>0.839</td>\n",
       "      <td>1.1788</td>\n",
       "      <td>2.3935</td>\n",
       "    </tr>\n",
       "    <tr>\n",
       "      <th>1981-01-19 00:00:00</th>\n",
       "      <td>0.8403</td>\n",
       "      <td>1.181</td>\n",
       "      <td>2.405</td>\n",
       "    </tr>\n",
       "    <tr>\n",
       "      <th>1981-01-20 00:00:00</th>\n",
       "      <td>0.8401</td>\n",
       "      <td>1.1817</td>\n",
       "      <td>2.4185</td>\n",
       "    </tr>\n",
       "    <tr>\n",
       "      <th>1981-01-21 00:00:00</th>\n",
       "      <td>0.8408</td>\n",
       "      <td>1.1865</td>\n",
       "      <td>2.427</td>\n",
       "    </tr>\n",
       "  </tbody>\n",
       "</table>\n",
       "</div>"
      ],
      "text/plain": [
       "                    CADUSD Curncy AUDUSD Curncy GBPUSD Curncy\n",
       "1981-01-01 00:00:00        0.8372        1.1814         2.389\n",
       "1981-01-02 00:00:00         0.837        1.1802         2.382\n",
       "1981-01-05 00:00:00        0.8413        1.1847        2.4155\n",
       "1981-01-06 00:00:00        0.8416         1.189        2.4225\n",
       "1981-01-07 00:00:00        0.8418         1.189        2.4115\n",
       "1981-01-08 00:00:00        0.8418        1.1865        2.4035\n",
       "1981-01-09 00:00:00        0.8415        1.1852         2.395\n",
       "1981-01-12 00:00:00        0.8408          1.18         2.397\n",
       "1981-01-13 00:00:00        0.8401        1.1793         2.388\n",
       "1981-01-14 00:00:00        0.8397        1.1808        2.4025\n",
       "1981-01-15 00:00:00        0.8405        1.1815        2.4005\n",
       "1981-01-16 00:00:00         0.839        1.1788        2.3935\n",
       "1981-01-19 00:00:00        0.8403         1.181         2.405\n",
       "1981-01-20 00:00:00        0.8401        1.1817        2.4185\n",
       "1981-01-21 00:00:00        0.8408        1.1865         2.427"
      ]
     },
     "execution_count": 20,
     "metadata": {},
     "output_type": "execute_result"
    }
   ],
   "source": [
    "data = pd.read_excel('./CAD_AUD_GBP.xlsx', index_col=0, skiprows=3)\n",
    "data = data.iloc[1:,:]\n",
    "data.head(15)"
   ]
  },
  {
   "cell_type": "code",
   "execution_count": 21,
   "metadata": {},
   "outputs": [],
   "source": [
    "data = data.astype('float64')\n",
    "data.index = pd.to_datetime(data.index)"
   ]
  },
  {
   "cell_type": "code",
   "execution_count": 22,
   "metadata": {},
   "outputs": [
    {
     "data": {
      "text/html": [
       "<div>\n",
       "<style scoped>\n",
       "    .dataframe tbody tr th:only-of-type {\n",
       "        vertical-align: middle;\n",
       "    }\n",
       "\n",
       "    .dataframe tbody tr th {\n",
       "        vertical-align: top;\n",
       "    }\n",
       "\n",
       "    .dataframe thead th {\n",
       "        text-align: right;\n",
       "    }\n",
       "</style>\n",
       "<table border=\"1\" class=\"dataframe\">\n",
       "  <thead>\n",
       "    <tr style=\"text-align: right;\">\n",
       "      <th></th>\n",
       "      <th>CADUSD Curncy</th>\n",
       "      <th>AUDUSD Curncy</th>\n",
       "      <th>GBPUSD Curncy</th>\n",
       "    </tr>\n",
       "  </thead>\n",
       "  <tbody>\n",
       "    <tr>\n",
       "      <th>1981-01-01</th>\n",
       "      <td>0.8372</td>\n",
       "      <td>1.1814</td>\n",
       "      <td>2.3890</td>\n",
       "    </tr>\n",
       "    <tr>\n",
       "      <th>1981-01-02</th>\n",
       "      <td>0.8370</td>\n",
       "      <td>1.1802</td>\n",
       "      <td>2.3820</td>\n",
       "    </tr>\n",
       "    <tr>\n",
       "      <th>1981-01-05</th>\n",
       "      <td>0.8413</td>\n",
       "      <td>1.1847</td>\n",
       "      <td>2.4155</td>\n",
       "    </tr>\n",
       "    <tr>\n",
       "      <th>1981-01-06</th>\n",
       "      <td>0.8416</td>\n",
       "      <td>1.1890</td>\n",
       "      <td>2.4225</td>\n",
       "    </tr>\n",
       "    <tr>\n",
       "      <th>1981-01-07</th>\n",
       "      <td>0.8418</td>\n",
       "      <td>1.1890</td>\n",
       "      <td>2.4115</td>\n",
       "    </tr>\n",
       "  </tbody>\n",
       "</table>\n",
       "</div>"
      ],
      "text/plain": [
       "            CADUSD Curncy  AUDUSD Curncy  GBPUSD Curncy\n",
       "1981-01-01         0.8372         1.1814         2.3890\n",
       "1981-01-02         0.8370         1.1802         2.3820\n",
       "1981-01-05         0.8413         1.1847         2.4155\n",
       "1981-01-06         0.8416         1.1890         2.4225\n",
       "1981-01-07         0.8418         1.1890         2.4115"
      ]
     },
     "execution_count": 22,
     "metadata": {},
     "output_type": "execute_result"
    }
   ],
   "source": [
    "data.head()"
   ]
  },
  {
   "cell_type": "code",
   "execution_count": 23,
   "metadata": {},
   "outputs": [],
   "source": [
    "# 轉成月資料\n",
    "# data = data.resample('M').ffill()"
   ]
  },
  {
   "cell_type": "markdown",
   "metadata": {},
   "source": [
    "# 資料前處理"
   ]
  },
  {
   "cell_type": "code",
   "execution_count": 24,
   "metadata": {},
   "outputs": [],
   "source": [
    "log_data = np.log(data)"
   ]
  },
  {
   "cell_type": "code",
   "execution_count": 25,
   "metadata": {},
   "outputs": [
    {
     "data": {
      "text/html": [
       "<div>\n",
       "<style scoped>\n",
       "    .dataframe tbody tr th:only-of-type {\n",
       "        vertical-align: middle;\n",
       "    }\n",
       "\n",
       "    .dataframe tbody tr th {\n",
       "        vertical-align: top;\n",
       "    }\n",
       "\n",
       "    .dataframe thead th {\n",
       "        text-align: right;\n",
       "    }\n",
       "</style>\n",
       "<table border=\"1\" class=\"dataframe\">\n",
       "  <thead>\n",
       "    <tr style=\"text-align: right;\">\n",
       "      <th></th>\n",
       "      <th>CADUSD Curncy</th>\n",
       "      <th>AUDUSD Curncy</th>\n",
       "      <th>GBPUSD Curncy</th>\n",
       "    </tr>\n",
       "  </thead>\n",
       "  <tbody>\n",
       "    <tr>\n",
       "      <th>1981-01-01</th>\n",
       "      <td>-0.177692</td>\n",
       "      <td>0.166700</td>\n",
       "      <td>0.870875</td>\n",
       "    </tr>\n",
       "    <tr>\n",
       "      <th>1981-01-02</th>\n",
       "      <td>-0.177931</td>\n",
       "      <td>0.165684</td>\n",
       "      <td>0.867940</td>\n",
       "    </tr>\n",
       "    <tr>\n",
       "      <th>1981-01-05</th>\n",
       "      <td>-0.172807</td>\n",
       "      <td>0.169490</td>\n",
       "      <td>0.881906</td>\n",
       "    </tr>\n",
       "    <tr>\n",
       "      <th>1981-01-06</th>\n",
       "      <td>-0.172450</td>\n",
       "      <td>0.173113</td>\n",
       "      <td>0.884800</td>\n",
       "    </tr>\n",
       "    <tr>\n",
       "      <th>1981-01-07</th>\n",
       "      <td>-0.172213</td>\n",
       "      <td>0.173113</td>\n",
       "      <td>0.880249</td>\n",
       "    </tr>\n",
       "  </tbody>\n",
       "</table>\n",
       "</div>"
      ],
      "text/plain": [
       "            CADUSD Curncy  AUDUSD Curncy  GBPUSD Curncy\n",
       "1981-01-01      -0.177692       0.166700       0.870875\n",
       "1981-01-02      -0.177931       0.165684       0.867940\n",
       "1981-01-05      -0.172807       0.169490       0.881906\n",
       "1981-01-06      -0.172450       0.173113       0.884800\n",
       "1981-01-07      -0.172213       0.173113       0.880249"
      ]
     },
     "execution_count": 25,
     "metadata": {},
     "output_type": "execute_result"
    }
   ],
   "source": [
    "log_data.head()"
   ]
  },
  {
   "cell_type": "code",
   "execution_count": 26,
   "metadata": {},
   "outputs": [],
   "source": [
    "diff_log_data = log_data.diff().dropna()"
   ]
  },
  {
   "cell_type": "code",
   "execution_count": 27,
   "metadata": {},
   "outputs": [
    {
     "data": {
      "text/html": [
       "<div>\n",
       "<style scoped>\n",
       "    .dataframe tbody tr th:only-of-type {\n",
       "        vertical-align: middle;\n",
       "    }\n",
       "\n",
       "    .dataframe tbody tr th {\n",
       "        vertical-align: top;\n",
       "    }\n",
       "\n",
       "    .dataframe thead th {\n",
       "        text-align: right;\n",
       "    }\n",
       "</style>\n",
       "<table border=\"1\" class=\"dataframe\">\n",
       "  <thead>\n",
       "    <tr style=\"text-align: right;\">\n",
       "      <th></th>\n",
       "      <th>CADUSD Curncy</th>\n",
       "      <th>AUDUSD Curncy</th>\n",
       "      <th>GBPUSD Curncy</th>\n",
       "    </tr>\n",
       "  </thead>\n",
       "  <tbody>\n",
       "    <tr>\n",
       "      <th>1981-01-02</th>\n",
       "      <td>-0.000239</td>\n",
       "      <td>-0.001016</td>\n",
       "      <td>-0.002934</td>\n",
       "    </tr>\n",
       "    <tr>\n",
       "      <th>1981-01-05</th>\n",
       "      <td>0.005124</td>\n",
       "      <td>0.003806</td>\n",
       "      <td>0.013966</td>\n",
       "    </tr>\n",
       "    <tr>\n",
       "      <th>1981-01-06</th>\n",
       "      <td>0.000357</td>\n",
       "      <td>0.003623</td>\n",
       "      <td>0.002894</td>\n",
       "    </tr>\n",
       "    <tr>\n",
       "      <th>1981-01-07</th>\n",
       "      <td>0.000238</td>\n",
       "      <td>0.000000</td>\n",
       "      <td>-0.004551</td>\n",
       "    </tr>\n",
       "    <tr>\n",
       "      <th>1981-01-08</th>\n",
       "      <td>0.000000</td>\n",
       "      <td>-0.002105</td>\n",
       "      <td>-0.003323</td>\n",
       "    </tr>\n",
       "  </tbody>\n",
       "</table>\n",
       "</div>"
      ],
      "text/plain": [
       "            CADUSD Curncy  AUDUSD Curncy  GBPUSD Curncy\n",
       "1981-01-02      -0.000239      -0.001016      -0.002934\n",
       "1981-01-05       0.005124       0.003806       0.013966\n",
       "1981-01-06       0.000357       0.003623       0.002894\n",
       "1981-01-07       0.000238       0.000000      -0.004551\n",
       "1981-01-08       0.000000      -0.002105      -0.003323"
      ]
     },
     "execution_count": 27,
     "metadata": {},
     "output_type": "execute_result"
    }
   ],
   "source": [
    "diff_log_data.head()"
   ]
  },
  {
   "cell_type": "code",
   "execution_count": 28,
   "metadata": {},
   "outputs": [
    {
     "name": "stdout",
     "output_type": "stream",
     "text": [
      "<class 'pandas.core.frame.DataFrame'>\n",
      "DatetimeIndex: 10435 entries, 1981-01-02 to 2020-12-31\n",
      "Data columns (total 3 columns):\n",
      " #   Column         Non-Null Count  Dtype  \n",
      "---  ------         --------------  -----  \n",
      " 0   CADUSD Curncy  10435 non-null  float64\n",
      " 1   AUDUSD Curncy  10435 non-null  float64\n",
      " 2   GBPUSD Curncy  10435 non-null  float64\n",
      "dtypes: float64(3)\n",
      "memory usage: 326.1 KB\n"
     ]
    }
   ],
   "source": [
    "diff_log_data.info()"
   ]
  },
  {
   "cell_type": "code",
   "execution_count": 29,
   "metadata": {},
   "outputs": [],
   "source": [
    "def statistic(forex_name, data):\n",
    "    if forex_name == 'cad':\n",
    "        col = 0\n",
    "    elif forex_name == 'aud':\n",
    "        col = 1\n",
    "    elif forex_name == 'gbp':\n",
    "        col = 2\n",
    "    else:\n",
    "        return 'forex_name is not available.'\n",
    "    \n",
    "    forex = data.iloc[:,col]\n",
    "    mean = forex.mean()\n",
    "    std = forex.std()\n",
    "    min = forex.min()\n",
    "    max = forex.max()\n",
    "    skew = forex.skew()\n",
    "    kurt = forex.kurtosis()\n",
    "    ADF, p_value, _1, _2, _3, _4 = adfuller(forex, autolag='BIC')\n",
    "    \n",
    "    return mean, std, min, max, skew, kurt, ADF, p_value"
   ]
  },
  {
   "cell_type": "code",
   "execution_count": 30,
   "metadata": {},
   "outputs": [
    {
     "data": {
      "text/plain": [
       "(-6.132935332152909e-06,\n",
       " 0.004435299703995574,\n",
       " -0.03251800698699961,\n",
       " 0.039808113434501136,\n",
       " -0.10472665438577913,\n",
       " 5.0083822592686165,\n",
       " -104.74110656061137,\n",
       " 0.0)"
      ]
     },
     "execution_count": 30,
     "metadata": {},
     "output_type": "execute_result"
    }
   ],
   "source": [
    "statistic('cad', diff_log_data)"
   ]
  },
  {
   "cell_type": "code",
   "execution_count": 31,
   "metadata": {},
   "outputs": [
    {
     "data": {
      "text/plain": [
       "(-4.109673833779984e-05,\n",
       " 0.007079836469999504,\n",
       " -0.10553624714057355,\n",
       " 0.08276574769364836,\n",
       " -0.7151671369350999,\n",
       " 13.802018388309214,\n",
       " -104.15950297840136,\n",
       " 0.0)"
      ]
     },
     "execution_count": 31,
     "metadata": {},
     "output_type": "execute_result"
    }
   ],
   "source": [
    "statistic('aud', diff_log_data)"
   ]
  },
  {
   "cell_type": "code",
   "execution_count": 32,
   "metadata": {},
   "outputs": [
    {
     "data": {
      "text/plain": [
       "(-5.349844854833354e-05,\n",
       " 0.0062319317649937285,\n",
       " -0.08395458606779915,\n",
       " 0.04588529647680195,\n",
       " -0.3287690203448818,\n",
       " 6.141745651216482,\n",
       " -98.74616975965519,\n",
       " 0.0)"
      ]
     },
     "execution_count": 32,
     "metadata": {},
     "output_type": "execute_result"
    }
   ],
   "source": [
    "statistic('gbp', diff_log_data)"
   ]
  },
  {
   "cell_type": "markdown",
   "metadata": {},
   "source": [
    "# p, d, q selection and linear_prediction, residue computation"
   ]
  },
  {
   "cell_type": "code",
   "execution_count": 33,
   "metadata": {},
   "outputs": [],
   "source": [
    "p_d_q_select_data = diff_log_data.loc['1981-01-01':'2016-12-31']"
   ]
  },
  {
   "cell_type": "code",
   "execution_count": 34,
   "metadata": {},
   "outputs": [
    {
     "data": {
      "text/html": [
       "<div>\n",
       "<style scoped>\n",
       "    .dataframe tbody tr th:only-of-type {\n",
       "        vertical-align: middle;\n",
       "    }\n",
       "\n",
       "    .dataframe tbody tr th {\n",
       "        vertical-align: top;\n",
       "    }\n",
       "\n",
       "    .dataframe thead th {\n",
       "        text-align: right;\n",
       "    }\n",
       "</style>\n",
       "<table border=\"1\" class=\"dataframe\">\n",
       "  <thead>\n",
       "    <tr style=\"text-align: right;\">\n",
       "      <th></th>\n",
       "      <th>CADUSD Curncy</th>\n",
       "      <th>AUDUSD Curncy</th>\n",
       "      <th>GBPUSD Curncy</th>\n",
       "    </tr>\n",
       "  </thead>\n",
       "  <tbody>\n",
       "    <tr>\n",
       "      <th>1981-01-02</th>\n",
       "      <td>-0.000239</td>\n",
       "      <td>-0.001016</td>\n",
       "      <td>-0.002934</td>\n",
       "    </tr>\n",
       "    <tr>\n",
       "      <th>1981-01-05</th>\n",
       "      <td>0.005124</td>\n",
       "      <td>0.003806</td>\n",
       "      <td>0.013966</td>\n",
       "    </tr>\n",
       "    <tr>\n",
       "      <th>1981-01-06</th>\n",
       "      <td>0.000357</td>\n",
       "      <td>0.003623</td>\n",
       "      <td>0.002894</td>\n",
       "    </tr>\n",
       "    <tr>\n",
       "      <th>1981-01-07</th>\n",
       "      <td>0.000238</td>\n",
       "      <td>0.000000</td>\n",
       "      <td>-0.004551</td>\n",
       "    </tr>\n",
       "    <tr>\n",
       "      <th>1981-01-08</th>\n",
       "      <td>0.000000</td>\n",
       "      <td>-0.002105</td>\n",
       "      <td>-0.003323</td>\n",
       "    </tr>\n",
       "    <tr>\n",
       "      <th>...</th>\n",
       "      <td>...</td>\n",
       "      <td>...</td>\n",
       "      <td>...</td>\n",
       "    </tr>\n",
       "    <tr>\n",
       "      <th>2016-12-26</th>\n",
       "      <td>0.002164</td>\n",
       "      <td>0.002227</td>\n",
       "      <td>0.000000</td>\n",
       "    </tr>\n",
       "    <tr>\n",
       "      <th>2016-12-27</th>\n",
       "      <td>-0.004875</td>\n",
       "      <td>-0.000974</td>\n",
       "      <td>-0.000896</td>\n",
       "    </tr>\n",
       "    <tr>\n",
       "      <th>2016-12-28</th>\n",
       "      <td>0.001221</td>\n",
       "      <td>-0.001114</td>\n",
       "      <td>-0.003674</td>\n",
       "    </tr>\n",
       "    <tr>\n",
       "      <th>2016-12-29</th>\n",
       "      <td>0.004195</td>\n",
       "      <td>0.005835</td>\n",
       "      <td>0.002859</td>\n",
       "    </tr>\n",
       "    <tr>\n",
       "      <th>2016-12-30</th>\n",
       "      <td>0.004715</td>\n",
       "      <td>-0.001525</td>\n",
       "      <td>0.006423</td>\n",
       "    </tr>\n",
       "  </tbody>\n",
       "</table>\n",
       "<p>9391 rows × 3 columns</p>\n",
       "</div>"
      ],
      "text/plain": [
       "            CADUSD Curncy  AUDUSD Curncy  GBPUSD Curncy\n",
       "1981-01-02      -0.000239      -0.001016      -0.002934\n",
       "1981-01-05       0.005124       0.003806       0.013966\n",
       "1981-01-06       0.000357       0.003623       0.002894\n",
       "1981-01-07       0.000238       0.000000      -0.004551\n",
       "1981-01-08       0.000000      -0.002105      -0.003323\n",
       "...                   ...            ...            ...\n",
       "2016-12-26       0.002164       0.002227       0.000000\n",
       "2016-12-27      -0.004875      -0.000974      -0.000896\n",
       "2016-12-28       0.001221      -0.001114      -0.003674\n",
       "2016-12-29       0.004195       0.005835       0.002859\n",
       "2016-12-30       0.004715      -0.001525       0.006423\n",
       "\n",
       "[9391 rows x 3 columns]"
      ]
     },
     "execution_count": 34,
     "metadata": {},
     "output_type": "execute_result"
    }
   ],
   "source": [
    "p_d_q_select_data"
   ]
  },
  {
   "cell_type": "code",
   "execution_count": 35,
   "metadata": {},
   "outputs": [],
   "source": [
    "def grid_search_p_q(data, p_list, d, q_list):\n",
    "    min_bic = 1000000\n",
    "    min_bic_order = (0, 0, 0)\n",
    "    for p in p_list:\n",
    "        for q in q_list:\n",
    "            order = (p, d, q)\n",
    "            model = ARIMA(data, order=order)\n",
    "            res = model.fit()\n",
    "            bic = res.bic\n",
    "            if bic < min_bic:\n",
    "                min_bic_order = order\n",
    "                min_bic = bic\n",
    "                print('min_bic_order:', min_bic_order)\n",
    "                print('min_bic:', min_bic)\n",
    "            else:\n",
    "                print('order:', order, 'doesn\\'t make bic smaller')\n",
    "                print('bic:', bic)\n",
    "    \n",
    "    print('min_bic_order:', min_bic_order)\n",
    "    return min_bic_order"
   ]
  },
  {
   "cell_type": "code",
   "execution_count": 36,
   "metadata": {},
   "outputs": [],
   "source": [
    "def recursive_true_linear_residue(p_d_q_select_data, order, diff_log_data, currency):\n",
    "    model = ARIMA(p_d_q_select_data, order=order)\n",
    "    model_fit = model.fit()\n",
    "    in_sample_predict = model_fit.predict()\n",
    "    in_sample_residue = model_fit.resid\n",
    "    recursive_linear_prediction = in_sample_predict.copy()\n",
    "    recursive_linear_residue = in_sample_residue.copy()\n",
    "\n",
    "    true = diff_log_data.copy()[currency]\n",
    "    for end_index in range(len(p_d_q_select_data), len(true)):\n",
    "        used_data = true[:end_index]\n",
    "        model = ARIMA(used_data, order=order)\n",
    "        model_fit = model.fit()\n",
    "        recursive_linear_prediction = recursive_linear_prediction.append(model_fit.forecast())\n",
    "        recursive_linear_residue = recursive_linear_residue.append(true[end_index] - model_fit.forecast())\n",
    "    \n",
    "    return true, recursive_linear_prediction, recursive_linear_residue"
   ]
  },
  {
   "cell_type": "code",
   "execution_count": 37,
   "metadata": {},
   "outputs": [],
   "source": [
    "def rolling_true_linear_residue(p_d_q_select_data, order, diff_log_data, currency):\n",
    "    model = ARIMA(p_d_q_select_data, order=order)\n",
    "    model_fit = model.fit()\n",
    "    in_sample_predict = model_fit.predict()\n",
    "    in_sample_residue = model_fit.resid\n",
    "    rolling_linear_prediction = in_sample_predict.copy()\n",
    "    rolling_linear_residue = in_sample_residue.copy()\n",
    "\n",
    "    true = diff_log_data.copy()[currency]\n",
    "    for end_index in range(len(p_d_q_select_data), len(true)):\n",
    "        used_data = true[end_index - len(p_d_q_select_data) : end_index]\n",
    "        model = ARIMA(used_data, order=order)\n",
    "        model_fit = model.fit()\n",
    "        rolling_linear_prediction = rolling_linear_prediction.append(model_fit.forecast())\n",
    "        rolling_linear_residue = rolling_linear_residue.append(true[end_index] - model_fit.forecast())\n",
    "    \n",
    "    return true, rolling_linear_prediction, rolling_linear_residue"
   ]
  },
  {
   "cell_type": "code",
   "execution_count": 38,
   "metadata": {},
   "outputs": [],
   "source": [
    "p_list = [0, 1, 2, 3, 4, 5, 10, 20, 60]\n",
    "q_list = [0, 1, 2, 3, 4, 5, 10, 20, 60]"
   ]
  },
  {
   "cell_type": "markdown",
   "metadata": {},
   "source": [
    "## cad"
   ]
  },
  {
   "cell_type": "code",
   "execution_count": 39,
   "metadata": {},
   "outputs": [
    {
     "data": {
      "text/plain": [
       "1981-01-02   -0.000239\n",
       "1981-01-05    0.005124\n",
       "1981-01-06    0.000357\n",
       "1981-01-07    0.000238\n",
       "1981-01-08    0.000000\n",
       "                ...   \n",
       "2016-12-26    0.002164\n",
       "2016-12-27   -0.004875\n",
       "2016-12-28    0.001221\n",
       "2016-12-29    0.004195\n",
       "2016-12-30    0.004715\n",
       "Name: CADUSD Curncy, Length: 9391, dtype: float64"
      ]
     },
     "execution_count": 39,
     "metadata": {},
     "output_type": "execute_result"
    }
   ],
   "source": [
    "p_d_q_select_cad = p_d_q_select_data.iloc[:,0]\n",
    "p_d_q_select_cad"
   ]
  },
  {
   "cell_type": "code",
   "execution_count": 40,
   "metadata": {},
   "outputs": [
    {
     "name": "stdout",
     "output_type": "stream",
     "text": [
      "0.0\n"
     ]
    }
   ],
   "source": [
    "_1, p_value, _2, _3, _4, _5 = adfuller(p_d_q_select_cad, autolag='BIC')\n",
    "print(p_value)"
   ]
  },
  {
   "cell_type": "code",
   "execution_count": 43,
   "metadata": {},
   "outputs": [],
   "source": [
    "d = 0 # p_value < 5%"
   ]
  },
  {
   "cell_type": "code",
   "execution_count": 44,
   "metadata": {},
   "outputs": [
    {
     "name": "stdout",
     "output_type": "stream",
     "text": [
      "min_bic_order: (0, 0, 0)\n",
      "min_bic: -75063.4642515508\n",
      "order: (0, 0, 1) doesn't make bic smaller\n",
      "bic: -75061.48100593289\n",
      "order: (0, 0, 2) doesn't make bic smaller\n",
      "bic: -75053.1778603082\n",
      "order: (0, 0, 3) doesn't make bic smaller\n",
      "bic: -75044.05979227813\n",
      "order: (0, 0, 4) doesn't make bic smaller\n",
      "bic: -75037.62317456333\n",
      "order: (0, 0, 5) doesn't make bic smaller\n",
      "bic: -75041.65480848728\n",
      "order: (0, 0, 10) doesn't make bic smaller\n",
      "bic: -75025.25204497507\n",
      "order: (0, 0, 20) doesn't make bic smaller\n",
      "bic: -74964.62147116702\n",
      "order: (0, 0, 60) doesn't make bic smaller\n",
      "bic: -74707.90064202817\n",
      "order: (1, 0, 0) doesn't make bic smaller\n",
      "bic: -75061.61391400915\n",
      "order: (1, 0, 1) doesn't make bic smaller\n",
      "bic: -75053.47821803983\n",
      "order: (1, 0, 2) doesn't make bic smaller\n",
      "bic: -75036.03817634698\n",
      "order: (1, 0, 3) doesn't make bic smaller\n",
      "bic: -75034.39736868483\n",
      "order: (1, 0, 4) doesn't make bic smaller\n",
      "bic: -75038.5603883536\n",
      "order: (1, 0, 5) doesn't make bic smaller\n",
      "bic: -75032.38608657129\n",
      "order: (1, 0, 10) doesn't make bic smaller\n",
      "bic: -75013.49305144645\n",
      "order: (1, 0, 20) doesn't make bic smaller\n",
      "bic: -74955.65499209687\n",
      "order: (1, 0, 60) doesn't make bic smaller\n",
      "bic: -74698.76149009545\n",
      "order: (2, 0, 0) doesn't make bic smaller\n",
      "bic: -75053.20068719426\n",
      "order: (2, 0, 1) doesn't make bic smaller\n",
      "bic: -75044.06812256904\n",
      "order: (2, 0, 2) doesn't make bic smaller\n",
      "bic: -75026.88969085702\n",
      "order: (2, 0, 3) doesn't make bic smaller\n",
      "bic: -75025.50880826078\n",
      "order: (2, 0, 4) doesn't make bic smaller\n",
      "bic: -75029.95172111786\n",
      "order: (2, 0, 5) doesn't make bic smaller\n",
      "bic: -75021.35782357512\n",
      "order: (2, 0, 10) doesn't make bic smaller\n",
      "bic: -75010.31459945513\n",
      "order: (2, 0, 20) doesn't make bic smaller\n",
      "bic: -74945.66374970925\n",
      "order: (2, 0, 60) doesn't make bic smaller\n",
      "bic: -74689.59926460826\n",
      "order: (3, 0, 0) doesn't make bic smaller\n",
      "bic: -75044.05629903066\n",
      "order: (3, 0, 1) doesn't make bic smaller\n",
      "bic: -75034.91148689916\n",
      "order: (3, 0, 2) doesn't make bic smaller\n",
      "bic: -75017.7382947955\n",
      "order: (3, 0, 3) doesn't make bic smaller\n",
      "bic: -75019.1171032528\n",
      "order: (3, 0, 4) doesn't make bic smaller\n",
      "bic: -74999.44619601678\n",
      "order: (3, 0, 5) doesn't make bic smaller\n",
      "bic: -75005.39165702736\n",
      "order: (3, 0, 10) doesn't make bic smaller\n",
      "bic: -74999.16391151641\n",
      "order: (3, 0, 20) doesn't make bic smaller\n",
      "bic: -74936.69163768305\n",
      "order: (3, 0, 60) doesn't make bic smaller\n",
      "bic: -74679.74488024614\n",
      "order: (4, 0, 0) doesn't make bic smaller\n",
      "bic: -75038.43267823028\n",
      "order: (4, 0, 1) doesn't make bic smaller\n",
      "bic: -75029.09173289356\n",
      "order: (4, 0, 2) doesn't make bic smaller\n",
      "bic: -75008.58451129138\n",
      "order: (4, 0, 3) doesn't make bic smaller\n",
      "bic: -75012.10475926581\n",
      "order: (4, 0, 4) doesn't make bic smaller\n",
      "bic: -74990.29061423245\n",
      "order: (4, 0, 5) doesn't make bic smaller\n",
      "bic: -74994.36818708072\n",
      "order: (4, 0, 10) doesn't make bic smaller\n",
      "bic: -74983.19701201729\n",
      "order: (4, 0, 20) doesn't make bic smaller\n",
      "bic: -74929.47036993118\n",
      "order: (4, 0, 60) doesn't make bic smaller\n",
      "bic: -74670.88785628988\n",
      "order: (5, 0, 0) doesn't make bic smaller\n",
      "bic: -75043.35611741923\n",
      "order: (5, 0, 1) doesn't make bic smaller\n",
      "bic: -75034.21370623492\n",
      "order: (5, 0, 2) doesn't make bic smaller\n",
      "bic: -75024.968395929\n",
      "order: (5, 0, 3) doesn't make bic smaller\n",
      "bic: -75016.34134901794\n",
      "order: (5, 0, 4) doesn't make bic smaller\n",
      "bic: -74965.90992030977\n",
      "order: (5, 0, 5) doesn't make bic smaller\n",
      "bic: -74971.98621502107\n",
      "order: (5, 0, 10) doesn't make bic smaller\n",
      "bic: -74976.13484870226\n",
      "order: (5, 0, 20) doesn't make bic smaller\n",
      "bic: -74925.57630906829\n",
      "order: (5, 0, 60) doesn't make bic smaller\n",
      "bic: -74662.16914020825\n",
      "order: (10, 0, 0) doesn't make bic smaller\n",
      "bic: -75019.54731047682\n",
      "order: (10, 0, 1) doesn't make bic smaller\n",
      "bic: -75010.39352344525\n",
      "order: (10, 0, 2) doesn't make bic smaller\n",
      "bic: -75001.25387316433\n",
      "order: (10, 0, 3) doesn't make bic smaller\n",
      "bic: -74992.06478574596\n",
      "order: (10, 0, 4) doesn't make bic smaller\n",
      "bic: -74935.41439819401\n",
      "order: (10, 0, 5) doesn't make bic smaller\n",
      "bic: -74926.26667840642\n",
      "order: (10, 0, 10) doesn't make bic smaller\n",
      "bic: -74880.52878754116\n",
      "order: (10, 0, 20) doesn't make bic smaller\n",
      "bic: -74882.67442551447\n",
      "order: (10, 0, 60) doesn't make bic smaller\n",
      "bic: -74614.92264398313\n",
      "order: (20, 0, 0) doesn't make bic smaller\n",
      "bic: -74968.65079403772\n",
      "order: (20, 0, 1) doesn't make bic smaller\n",
      "bic: -74959.51214517954\n",
      "order: (20, 0, 2) doesn't make bic smaller\n",
      "bic: -74950.38766262427\n",
      "order: (20, 0, 3) doesn't make bic smaller\n",
      "bic: -74941.24732871588\n",
      "order: (20, 0, 4) doesn't make bic smaller\n",
      "bic: -74931.99694078947\n",
      "order: (20, 0, 5) doesn't make bic smaller\n",
      "bic: -74922.4628907405\n",
      "order: (20, 0, 10) doesn't make bic smaller\n",
      "bic: -74789.05102204077\n",
      "order: (20, 0, 20) doesn't make bic smaller\n",
      "bic: -74823.12648292228\n",
      "order: (20, 0, 60) doesn't make bic smaller\n",
      "bic: -74514.11655084428\n",
      "order: (60, 0, 0) doesn't make bic smaller\n",
      "bic: -74700.46856555471\n",
      "order: (60, 0, 1) doesn't make bic smaller\n",
      "bic: -74691.32069839127\n",
      "order: (60, 0, 2) doesn't make bic smaller\n",
      "bic: -74682.17294123462\n",
      "order: (60, 0, 3) doesn't make bic smaller\n",
      "bic: -74673.03477726983\n",
      "order: (60, 0, 4) doesn't make bic smaller\n",
      "bic: -74663.90999164377\n",
      "order: (60, 0, 5) doesn't make bic smaller\n",
      "bic: -74654.81215876476\n",
      "order: (60, 0, 10) doesn't make bic smaller\n",
      "bic: -74608.82556207899\n",
      "order: (60, 0, 20) doesn't make bic smaller\n",
      "bic: -74517.46768553033\n",
      "order: (60, 0, 60) doesn't make bic smaller\n",
      "bic: -73965.79253391692\n",
      "min_bic_order: (0, 0, 0)\n"
     ]
    },
    {
     "data": {
      "text/plain": [
       "(0, 0, 0)"
      ]
     },
     "execution_count": 44,
     "metadata": {},
     "output_type": "execute_result"
    }
   ],
   "source": [
    "min_bic_order = grid_search_p_q(p_d_q_select_cad, p_list, d, q_list)"
   ]
  },
  {
   "cell_type": "code",
   "execution_count": 80,
   "metadata": {},
   "outputs": [],
   "source": [
    "# min_bic_order = (0, 0, 0)"
   ]
  },
  {
   "cell_type": "markdown",
   "metadata": {},
   "source": [
    "### recursive window"
   ]
  },
  {
   "cell_type": "code",
   "execution_count": 81,
   "metadata": {},
   "outputs": [],
   "source": [
    "cad_true, cad_recursive_linear_prediction, cad_recursive_linear_residue = recursive_true_linear_residue(p_d_q_select_cad, min_bic_order, diff_log_data, 'CADUSD Curncy')"
   ]
  },
  {
   "cell_type": "code",
   "execution_count": 82,
   "metadata": {},
   "outputs": [
    {
     "data": {
      "text/plain": [
       "1981-01-02   -0.000239\n",
       "1981-01-05    0.005124\n",
       "1981-01-06    0.000357\n",
       "1981-01-07    0.000238\n",
       "1981-01-08    0.000000\n",
       "                ...   \n",
       "2020-12-25   -0.000129\n",
       "2020-12-28    0.001414\n",
       "2020-12-29    0.002182\n",
       "2020-12-30    0.005242\n",
       "2020-12-31    0.001402\n",
       "Name: CADUSD Curncy, Length: 10435, dtype: float64"
      ]
     },
     "execution_count": 82,
     "metadata": {},
     "output_type": "execute_result"
    }
   ],
   "source": [
    "cad_true"
   ]
  },
  {
   "cell_type": "code",
   "execution_count": 83,
   "metadata": {},
   "outputs": [
    {
     "data": {
      "text/plain": [
       "1981-01-02   -0.000018\n",
       "1981-01-05   -0.000018\n",
       "1981-01-06   -0.000018\n",
       "1981-01-07   -0.000018\n",
       "1981-01-08   -0.000018\n",
       "                ...   \n",
       "2020-12-25   -0.000012\n",
       "2020-12-28   -0.000012\n",
       "2020-12-29   -0.000012\n",
       "2020-12-30   -0.000012\n",
       "2020-12-31   -0.000011\n",
       "Freq: B, Length: 10435, dtype: float64"
      ]
     },
     "execution_count": 83,
     "metadata": {},
     "output_type": "execute_result"
    }
   ],
   "source": [
    "cad_recursive_linear_prediction"
   ]
  },
  {
   "cell_type": "code",
   "execution_count": 84,
   "metadata": {},
   "outputs": [
    {
     "data": {
      "text/plain": [
       "1981-01-02   -0.000221\n",
       "1981-01-05    0.005142\n",
       "1981-01-06    0.000374\n",
       "1981-01-07    0.000255\n",
       "1981-01-08    0.000018\n",
       "                ...   \n",
       "2020-12-25   -0.000117\n",
       "2020-12-28    0.001426\n",
       "2020-12-29    0.002194\n",
       "2020-12-30    0.005254\n",
       "2020-12-31    0.001413\n",
       "Length: 10435, dtype: float64"
      ]
     },
     "execution_count": 84,
     "metadata": {},
     "output_type": "execute_result"
    }
   ],
   "source": [
    "cad_recursive_linear_residue"
   ]
  },
  {
   "cell_type": "markdown",
   "metadata": {},
   "source": [
    "### rolling window"
   ]
  },
  {
   "cell_type": "code",
   "execution_count": 85,
   "metadata": {},
   "outputs": [],
   "source": [
    "cad_true, cad_rolling_linear_prediction, cad_rolling_linear_residue = rolling_true_linear_residue(p_d_q_select_cad, min_bic_order, diff_log_data, 'CADUSD Curncy')"
   ]
  },
  {
   "cell_type": "code",
   "execution_count": 86,
   "metadata": {},
   "outputs": [
    {
     "data": {
      "text/plain": [
       "1981-01-02   -0.000239\n",
       "1981-01-05    0.005124\n",
       "1981-01-06    0.000357\n",
       "1981-01-07    0.000238\n",
       "1981-01-08    0.000000\n",
       "                ...   \n",
       "2020-12-25   -0.000129\n",
       "2020-12-28    0.001414\n",
       "2020-12-29    0.002182\n",
       "2020-12-30    0.005242\n",
       "2020-12-31    0.001402\n",
       "Name: CADUSD Curncy, Length: 10435, dtype: float64"
      ]
     },
     "execution_count": 86,
     "metadata": {},
     "output_type": "execute_result"
    }
   ],
   "source": [
    "cad_true"
   ]
  },
  {
   "cell_type": "code",
   "execution_count": 87,
   "metadata": {},
   "outputs": [
    {
     "data": {
      "text/plain": [
       "1981-01-02   -0.000018\n",
       "1981-01-05   -0.000018\n",
       "1981-01-06   -0.000018\n",
       "1981-01-07   -0.000018\n",
       "1981-01-08   -0.000018\n",
       "                ...   \n",
       "2020-12-25   -0.000002\n",
       "2020-12-28   -0.000002\n",
       "2020-12-29   -0.000002\n",
       "2020-12-30   -0.000002\n",
       "2020-12-31   -0.000001\n",
       "Freq: B, Length: 10435, dtype: float64"
      ]
     },
     "execution_count": 87,
     "metadata": {},
     "output_type": "execute_result"
    }
   ],
   "source": [
    "cad_rolling_linear_prediction"
   ]
  },
  {
   "cell_type": "code",
   "execution_count": 88,
   "metadata": {},
   "outputs": [
    {
     "data": {
      "text/plain": [
       "1981-01-02   -0.000221\n",
       "1981-01-05    0.005142\n",
       "1981-01-06    0.000374\n",
       "1981-01-07    0.000255\n",
       "1981-01-08    0.000018\n",
       "                ...   \n",
       "2020-12-25   -0.000126\n",
       "2020-12-28    0.001416\n",
       "2020-12-29    0.002184\n",
       "2020-12-30    0.005244\n",
       "2020-12-31    0.001403\n",
       "Length: 10435, dtype: float64"
      ]
     },
     "execution_count": 88,
     "metadata": {},
     "output_type": "execute_result"
    }
   ],
   "source": [
    "cad_rolling_linear_residue"
   ]
  },
  {
   "cell_type": "code",
   "execution_count": 45,
   "metadata": {},
   "outputs": [],
   "source": [
    "cad_predict = diff_log_data.copy().iloc[:,0]\n",
    "cad_predict.values[:] = 0\n",
    "cad_resid = diff_log_data.copy().iloc[:,0]"
   ]
  },
  {
   "cell_type": "markdown",
   "metadata": {},
   "source": [
    "## aud"
   ]
  },
  {
   "cell_type": "code",
   "execution_count": 46,
   "metadata": {},
   "outputs": [
    {
     "data": {
      "text/plain": [
       "1981-01-02   -0.001016\n",
       "1981-01-05    0.003806\n",
       "1981-01-06    0.003623\n",
       "1981-01-07    0.000000\n",
       "1981-01-08   -0.002105\n",
       "                ...   \n",
       "2016-12-26    0.002227\n",
       "2016-12-27   -0.000974\n",
       "2016-12-28   -0.001114\n",
       "2016-12-29    0.005835\n",
       "2016-12-30   -0.001525\n",
       "Name: AUDUSD Curncy, Length: 9391, dtype: float64"
      ]
     },
     "execution_count": 46,
     "metadata": {},
     "output_type": "execute_result"
    }
   ],
   "source": [
    "p_d_q_select_aud = p_d_q_select_data.iloc[:,1]\n",
    "p_d_q_select_aud"
   ]
  },
  {
   "cell_type": "code",
   "execution_count": 47,
   "metadata": {},
   "outputs": [
    {
     "name": "stdout",
     "output_type": "stream",
     "text": [
      "0.0\n"
     ]
    }
   ],
   "source": [
    "_1, p_value, _2, _3, _4, _5 = adfuller(p_d_q_select_aud, autolag='BIC')\n",
    "print(p_value)"
   ]
  },
  {
   "cell_type": "code",
   "execution_count": 48,
   "metadata": {},
   "outputs": [],
   "source": [
    "d = 0 # p_value < 5%"
   ]
  },
  {
   "cell_type": "code",
   "execution_count": 49,
   "metadata": {},
   "outputs": [
    {
     "name": "stdout",
     "output_type": "stream",
     "text": [
      "min_bic_order: (0, 0, 0)\n",
      "min_bic: -65942.34037527566\n",
      "order: (0, 0, 1) doesn't make bic smaller\n",
      "bic: -65939.89207053914\n",
      "order: (0, 0, 2) doesn't make bic smaller\n",
      "bic: -65931.881700208\n",
      "order: (0, 0, 3) doesn't make bic smaller\n",
      "bic: -65926.12723605333\n",
      "order: (0, 0, 4) doesn't make bic smaller\n",
      "bic: -65919.63493552755\n",
      "order: (0, 0, 5) doesn't make bic smaller\n",
      "bic: -65911.1771524505\n",
      "order: (0, 0, 10) doesn't make bic smaller\n",
      "bic: -65868.96103871781\n",
      "order: (0, 0, 20) doesn't make bic smaller\n",
      "bic: -65802.29855802434\n",
      "order: (0, 0, 60) doesn't make bic smaller\n",
      "bic: -65489.40608211919\n",
      "order: (1, 0, 0) doesn't make bic smaller\n",
      "bic: -65939.74447577412\n",
      "order: (1, 0, 1) doesn't make bic smaller\n",
      "bic: -65932.16677623239\n",
      "order: (1, 0, 2) doesn't make bic smaller\n",
      "bic: -65920.71829712941\n",
      "order: (1, 0, 3) doesn't make bic smaller\n",
      "bic: -65919.01014748907\n",
      "order: (1, 0, 4) doesn't make bic smaller\n",
      "bic: -65910.8793186062\n",
      "order: (1, 0, 5) doesn't make bic smaller\n",
      "bic: -65902.03678736169\n",
      "order: (1, 0, 10) doesn't make bic smaller\n",
      "bic: -65860.10472074182\n",
      "order: (1, 0, 20) doesn't make bic smaller\n",
      "bic: -65793.15209556083\n",
      "order: (1, 0, 60) doesn't make bic smaller\n",
      "bic: -65479.49853252317\n",
      "order: (2, 0, 0) doesn't make bic smaller\n",
      "bic: -65931.70711383007\n",
      "order: (2, 0, 1) doesn't make bic smaller\n",
      "bic: -65914.90775489085\n",
      "order: (2, 0, 2) doesn't make bic smaller\n",
      "bic: -65914.57565155522\n",
      "order: (2, 0, 3) doesn't make bic smaller\n",
      "bic: -65911.18941466979\n",
      "order: (2, 0, 4) doesn't make bic smaller\n",
      "bic: -65902.40986122978\n",
      "order: (2, 0, 5) doesn't make bic smaller\n",
      "bic: -65894.30796638614\n",
      "order: (2, 0, 10) doesn't make bic smaller\n",
      "bic: -65850.23445789982\n",
      "order: (2, 0, 20) doesn't make bic smaller\n",
      "bic: -65784.0010510702\n",
      "order: (2, 0, 60) doesn't make bic smaller\n",
      "bic: -65470.35113972578\n",
      "order: (3, 0, 0) doesn't make bic smaller\n",
      "bic: -65926.39299282855\n",
      "order: (3, 0, 1) doesn't make bic smaller\n",
      "bic: -65917.16293166224\n",
      "order: (3, 0, 2) doesn't make bic smaller\n",
      "bic: -65910.57204456197\n",
      "order: (3, 0, 3) doesn't make bic smaller\n",
      "bic: -65899.10532308299\n",
      "order: (3, 0, 4) doesn't make bic smaller\n",
      "bic: -65893.47964829115\n",
      "order: (3, 0, 5) doesn't make bic smaller\n",
      "bic: -65880.07350810069\n",
      "order: (3, 0, 10) doesn't make bic smaller\n",
      "bic: -65839.57825154133\n",
      "order: (3, 0, 20) doesn't make bic smaller\n",
      "bic: -65774.99772035539\n",
      "order: (3, 0, 60) doesn't make bic smaller\n",
      "bic: -65461.52944039364\n",
      "order: (4, 0, 0) doesn't make bic smaller\n",
      "bic: -65919.60534385296\n",
      "order: (4, 0, 1) doesn't make bic smaller\n",
      "bic: -65910.42107766666\n",
      "order: (4, 0, 2) doesn't make bic smaller\n",
      "bic: -65901.33985780594\n",
      "order: (4, 0, 3) doesn't make bic smaller\n",
      "bic: -65878.31934602889\n",
      "order: (4, 0, 4) doesn't make bic smaller\n",
      "bic: -65885.50871564093\n",
      "order: (4, 0, 5) doesn't make bic smaller\n",
      "bic: -65877.31870519074\n",
      "order: (4, 0, 10) doesn't make bic smaller\n",
      "bic: -65830.46314168286\n",
      "order: (4, 0, 20) doesn't make bic smaller\n",
      "bic: -65765.74266971342\n",
      "order: (4, 0, 60) doesn't make bic smaller\n",
      "bic: -65452.807296458\n",
      "order: (5, 0, 0) doesn't make bic smaller\n",
      "bic: -65911.20909694543\n",
      "order: (5, 0, 1) doesn't make bic smaller\n",
      "bic: -65902.06820094492\n",
      "order: (5, 0, 2) doesn't make bic smaller\n",
      "bic: -65893.79339347925\n",
      "order: (5, 0, 3) doesn't make bic smaller\n",
      "bic: -65869.1716842508\n",
      "order: (5, 0, 4) doesn't make bic smaller\n",
      "bic: -65875.33088176453\n",
      "order: (5, 0, 5) doesn't make bic smaller\n",
      "bic: -65858.72295419752\n",
      "order: (5, 0, 10) doesn't make bic smaller\n",
      "bic: -65821.48939502315\n",
      "order: (5, 0, 20) doesn't make bic smaller\n",
      "bic: -65756.5839938016\n",
      "order: (5, 0, 60) doesn't make bic smaller\n",
      "bic: -65443.69256055247\n",
      "order: (10, 0, 0) doesn't make bic smaller\n",
      "bic: -65869.05659696663\n",
      "order: (10, 0, 1) doesn't make bic smaller\n",
      "bic: -65859.89289927173\n",
      "order: (10, 0, 2) doesn't make bic smaller\n",
      "bic: -65850.7306187174\n",
      "order: (10, 0, 3) doesn't make bic smaller\n",
      "bic: -65823.43407755857\n",
      "order: (10, 0, 4) doesn't make bic smaller\n",
      "bic: -65837.55542470414\n",
      "order: (10, 0, 5) doesn't make bic smaller\n",
      "bic: -65805.1366378792\n",
      "order: (10, 0, 10) doesn't make bic smaller\n",
      "bic: -65773.30954336781\n",
      "order: (10, 0, 20) doesn't make bic smaller\n",
      "bic: -65711.18027219054\n",
      "order: (10, 0, 60) doesn't make bic smaller\n",
      "bic: -65403.88997657854\n",
      "order: (20, 0, 0) doesn't make bic smaller\n",
      "bic: -65802.6483074369\n",
      "order: (20, 0, 1) doesn't make bic smaller\n",
      "bic: -65793.49812265806\n",
      "order: (20, 0, 2) doesn't make bic smaller\n",
      "bic: -65784.35670883747\n",
      "order: (20, 0, 3) doesn't make bic smaller\n",
      "bic: -65775.19677922106\n",
      "order: (20, 0, 4) doesn't make bic smaller\n",
      "bic: -65766.04047480859\n",
      "order: (20, 0, 5) doesn't make bic smaller\n",
      "bic: -65756.86392800661\n",
      "order: (20, 0, 10) doesn't make bic smaller\n",
      "bic: -65711.0697024064\n",
      "order: (20, 0, 20) doesn't make bic smaller\n",
      "bic: -65621.93370317544\n",
      "order: (20, 0, 60) doesn't make bic smaller\n",
      "bic: -65318.59102550323\n",
      "order: (60, 0, 0) doesn't make bic smaller\n",
      "bic: -65489.85432332123\n",
      "order: (60, 0, 1) doesn't make bic smaller\n",
      "bic: -65480.65124486192\n",
      "order: (60, 0, 2) doesn't make bic smaller\n",
      "bic: -65471.50240483317\n",
      "order: (60, 0, 3) doesn't make bic smaller\n",
      "bic: -65462.35748194388\n",
      "order: (60, 0, 4) doesn't make bic smaller\n",
      "bic: -65453.21323955952\n",
      "order: (60, 0, 5) doesn't make bic smaller\n",
      "bic: -65444.05243034455\n",
      "order: (60, 0, 10) doesn't make bic smaller\n",
      "bic: -65398.065310547674\n",
      "order: (60, 0, 20) doesn't make bic smaller\n",
      "bic: -65296.17650893142\n",
      "order: (60, 0, 60) doesn't make bic smaller\n",
      "bic: -64941.24008759343\n",
      "min_bic_order: (0, 0, 0)\n"
     ]
    },
    {
     "data": {
      "text/plain": [
       "(0, 0, 0)"
      ]
     },
     "execution_count": 49,
     "metadata": {},
     "output_type": "execute_result"
    }
   ],
   "source": [
    "min_bic_order = grid_search_p_q(p_d_q_select_aud, p_list, d, q_list)"
   ]
  },
  {
   "cell_type": "code",
   "execution_count": 89,
   "metadata": {},
   "outputs": [],
   "source": [
    "# min_bic_order = (0, 0, 0)"
   ]
  },
  {
   "cell_type": "markdown",
   "metadata": {},
   "source": [
    "### recursive window"
   ]
  },
  {
   "cell_type": "code",
   "execution_count": 90,
   "metadata": {},
   "outputs": [],
   "source": [
    "aud_true, aud_recursive_linear_prediction, aud_recursive_linear_residue = recursive_true_linear_residue(p_d_q_select_aud, min_bic_order, diff_log_data, 'AUDUSD Curncy')"
   ]
  },
  {
   "cell_type": "code",
   "execution_count": 91,
   "metadata": {},
   "outputs": [
    {
     "data": {
      "text/plain": [
       "1981-01-02   -0.001016\n",
       "1981-01-05    0.003806\n",
       "1981-01-06    0.003623\n",
       "1981-01-07    0.000000\n",
       "1981-01-08   -0.002105\n",
       "                ...   \n",
       "2020-12-25    0.001052\n",
       "2020-12-28   -0.003425\n",
       "2020-12-29    0.003556\n",
       "2020-12-30    0.010463\n",
       "2020-12-31    0.001040\n",
       "Name: AUDUSD Curncy, Length: 10435, dtype: float64"
      ]
     },
     "execution_count": 91,
     "metadata": {},
     "output_type": "execute_result"
    }
   ],
   "source": [
    "aud_true"
   ]
  },
  {
   "cell_type": "code",
   "execution_count": 92,
   "metadata": {},
   "outputs": [
    {
     "data": {
      "text/plain": [
       "1981-01-02   -0.000058\n",
       "1981-01-05   -0.000058\n",
       "1981-01-06   -0.000058\n",
       "1981-01-07   -0.000058\n",
       "1981-01-08   -0.000058\n",
       "                ...   \n",
       "2020-12-25   -0.000047\n",
       "2020-12-28   -0.000047\n",
       "2020-12-29   -0.000048\n",
       "2020-12-30   -0.000047\n",
       "2020-12-31   -0.000046\n",
       "Freq: B, Length: 10435, dtype: float64"
      ]
     },
     "execution_count": 92,
     "metadata": {},
     "output_type": "execute_result"
    }
   ],
   "source": [
    "aud_recursive_linear_prediction"
   ]
  },
  {
   "cell_type": "code",
   "execution_count": 93,
   "metadata": {},
   "outputs": [
    {
     "data": {
      "text/plain": [
       "1981-01-02   -0.000959\n",
       "1981-01-05    0.003863\n",
       "1981-01-06    0.003681\n",
       "1981-01-07    0.000058\n",
       "1981-01-08   -0.002047\n",
       "                ...   \n",
       "2020-12-25    0.001100\n",
       "2020-12-28   -0.003377\n",
       "2020-12-29    0.003604\n",
       "2020-12-30    0.010510\n",
       "2020-12-31    0.001087\n",
       "Length: 10435, dtype: float64"
      ]
     },
     "execution_count": 93,
     "metadata": {},
     "output_type": "execute_result"
    }
   ],
   "source": [
    "aud_recursive_linear_residue"
   ]
  },
  {
   "cell_type": "markdown",
   "metadata": {},
   "source": [
    "### rolling window"
   ]
  },
  {
   "cell_type": "code",
   "execution_count": 94,
   "metadata": {},
   "outputs": [],
   "source": [
    "aud_true, aud_rolling_linear_prediction, aud_rolling_linear_residue = rolling_true_linear_residue(p_d_q_select_aud, min_bic_order, diff_log_data, 'AUDUSD Curncy')"
   ]
  },
  {
   "cell_type": "code",
   "execution_count": 95,
   "metadata": {},
   "outputs": [
    {
     "data": {
      "text/plain": [
       "1981-01-02   -0.001016\n",
       "1981-01-05    0.003806\n",
       "1981-01-06    0.003623\n",
       "1981-01-07    0.000000\n",
       "1981-01-08   -0.002105\n",
       "                ...   \n",
       "2020-12-25    0.001052\n",
       "2020-12-28   -0.003425\n",
       "2020-12-29    0.003556\n",
       "2020-12-30    0.010463\n",
       "2020-12-31    0.001040\n",
       "Name: AUDUSD Curncy, Length: 10435, dtype: float64"
      ]
     },
     "execution_count": 95,
     "metadata": {},
     "output_type": "execute_result"
    }
   ],
   "source": [
    "aud_true"
   ]
  },
  {
   "cell_type": "code",
   "execution_count": 96,
   "metadata": {},
   "outputs": [
    {
     "data": {
      "text/plain": [
       "1981-01-02   -0.000058\n",
       "1981-01-05   -0.000058\n",
       "1981-01-06   -0.000058\n",
       "1981-01-07   -0.000058\n",
       "1981-01-08   -0.000058\n",
       "                ...   \n",
       "2020-12-25   -0.000015\n",
       "2020-12-28   -0.000014\n",
       "2020-12-29   -0.000014\n",
       "2020-12-30   -0.000014\n",
       "2020-12-31   -0.000013\n",
       "Freq: B, Length: 10435, dtype: float64"
      ]
     },
     "execution_count": 96,
     "metadata": {},
     "output_type": "execute_result"
    }
   ],
   "source": [
    "aud_rolling_linear_prediction"
   ]
  },
  {
   "cell_type": "code",
   "execution_count": 97,
   "metadata": {},
   "outputs": [
    {
     "data": {
      "text/plain": [
       "1981-01-02   -0.000959\n",
       "1981-01-05    0.003863\n",
       "1981-01-06    0.003681\n",
       "1981-01-07    0.000058\n",
       "1981-01-08   -0.002047\n",
       "                ...   \n",
       "2020-12-25    0.001068\n",
       "2020-12-28   -0.003410\n",
       "2020-12-29    0.003571\n",
       "2020-12-30    0.010477\n",
       "2020-12-31    0.001053\n",
       "Length: 10435, dtype: float64"
      ]
     },
     "execution_count": 97,
     "metadata": {},
     "output_type": "execute_result"
    }
   ],
   "source": [
    "aud_rolling_linear_residue"
   ]
  },
  {
   "cell_type": "code",
   "execution_count": 50,
   "metadata": {},
   "outputs": [],
   "source": [
    "aud_predict = diff_log_data.copy().iloc[:,1]\n",
    "aud_predict.values[:] = 0\n",
    "aud_resid = diff_log_data.copy().iloc[:,1]"
   ]
  },
  {
   "cell_type": "markdown",
   "metadata": {},
   "source": [
    "## gbp"
   ]
  },
  {
   "cell_type": "code",
   "execution_count": null,
   "metadata": {},
   "outputs": [
    {
     "data": {
      "text/plain": [
       "1981-01-02   -0.002934\n",
       "1981-01-05    0.013966\n",
       "1981-01-06    0.002894\n",
       "1981-01-07   -0.004551\n",
       "1981-01-08   -0.003323\n",
       "                ...   \n",
       "2016-12-26    0.000000\n",
       "2016-12-27   -0.000896\n",
       "2016-12-28   -0.003674\n",
       "2016-12-29    0.002859\n",
       "2016-12-30    0.006423\n",
       "Name: GBPUSD Curncy, Length: 9391, dtype: float64"
      ]
     },
     "execution_count": 51,
     "metadata": {},
     "output_type": "execute_result"
    }
   ],
   "source": [
    "p_d_q_select_gbp = p_d_q_select_data['GBPUSD Curncy']\n",
    "p_d_q_select_gbp"
   ]
  },
  {
   "cell_type": "code",
   "execution_count": 52,
   "metadata": {},
   "outputs": [
    {
     "name": "stdout",
     "output_type": "stream",
     "text": [
      "0.0\n"
     ]
    }
   ],
   "source": [
    "_1, p_value, _2, _3, _4, _5 = adfuller(p_d_q_select_gbp, autolag='BIC')\n",
    "print(p_value)"
   ]
  },
  {
   "cell_type": "code",
   "execution_count": 53,
   "metadata": {},
   "outputs": [],
   "source": [
    "d = 0 # p_value < 5%"
   ]
  },
  {
   "cell_type": "code",
   "execution_count": 54,
   "metadata": {},
   "outputs": [
    {
     "name": "stdout",
     "output_type": "stream",
     "text": [
      "min_bic_order: (0, 0, 0)\n",
      "min_bic: -68536.26970613962\n",
      "min_bic_order: (0, 0, 1)\n",
      "min_bic: -68537.66858170732\n",
      "order: (0, 0, 2) doesn't make bic smaller\n",
      "bic: -68528.60715367614\n",
      "order: (0, 0, 3) doesn't make bic smaller\n",
      "bic: -68520.32147711997\n",
      "order: (0, 0, 4) doesn't make bic smaller\n",
      "bic: -68511.38754931251\n",
      "order: (0, 0, 5) doesn't make bic smaller\n",
      "bic: -68502.78687593\n",
      "order: (0, 0, 10) doesn't make bic smaller\n",
      "bic: -68459.22018785166\n",
      "order: (0, 0, 20) doesn't make bic smaller\n",
      "bic: -68389.29487447883\n",
      "order: (0, 0, 60) doesn't make bic smaller\n",
      "bic: -68056.45883222729\n",
      "min_bic_order: (1, 0, 0)\n",
      "min_bic: -68537.71380950132\n",
      "order: (1, 0, 1) doesn't make bic smaller\n",
      "bic: -68528.57496592814\n",
      "order: (1, 0, 2) doesn't make bic smaller\n",
      "bic: -68519.51525467078\n",
      "order: (1, 0, 3) doesn't make bic smaller\n",
      "bic: -68510.8187103863\n",
      "order: (1, 0, 4) doesn't make bic smaller\n",
      "bic: -68502.9180285212\n",
      "order: (1, 0, 5) doesn't make bic smaller\n",
      "bic: -68493.3199722996\n",
      "order: (1, 0, 10) doesn't make bic smaller\n",
      "bic: -68450.90889596057\n",
      "order: (1, 0, 20) doesn't make bic smaller\n",
      "bic: -68380.18919911029\n",
      "order: (1, 0, 60) doesn't make bic smaller\n",
      "bic: -68047.31631290588\n",
      "order: (2, 0, 0) doesn't make bic smaller\n",
      "bic: -68528.58010333955\n",
      "order: (2, 0, 1) doesn't make bic smaller\n",
      "bic: -68508.82683435032\n",
      "order: (2, 0, 2) doesn't make bic smaller\n",
      "bic: -68511.44604234463\n",
      "order: (2, 0, 3) doesn't make bic smaller\n",
      "bic: -68502.20274686914\n",
      "order: (2, 0, 4) doesn't make bic smaller\n",
      "bic: -68493.76044375243\n",
      "order: (2, 0, 5) doesn't make bic smaller\n",
      "bic: -68484.18361850816\n",
      "order: (2, 0, 10) doesn't make bic smaller\n",
      "bic: -68441.67851461474\n",
      "order: (2, 0, 20) doesn't make bic smaller\n",
      "bic: -68370.83528392015\n",
      "order: (2, 0, 60) doesn't make bic smaller\n",
      "bic: -68038.18139205065\n",
      "order: (3, 0, 0) doesn't make bic smaller\n",
      "bic: -68520.35591372523\n",
      "order: (3, 0, 1) doesn't make bic smaller\n",
      "bic: -68511.19630567517\n",
      "order: (3, 0, 2) doesn't make bic smaller\n",
      "bic: -68502.25890846753\n",
      "order: (3, 0, 3) doesn't make bic smaller\n",
      "bic: -68481.38926511974\n",
      "order: (3, 0, 4) doesn't make bic smaller\n",
      "bic: -68472.2419667328\n",
      "order: (3, 0, 5) doesn't make bic smaller\n",
      "bic: -68475.28022926424\n",
      "order: (3, 0, 10) doesn't make bic smaller\n",
      "bic: -68433.18529566262\n",
      "order: (3, 0, 20) doesn't make bic smaller\n",
      "bic: -68361.97625830531\n",
      "order: (3, 0, 60) doesn't make bic smaller\n",
      "bic: -68028.96767144161\n",
      "order: (4, 0, 0) doesn't make bic smaller\n",
      "bic: -68511.33719213898\n",
      "order: (4, 0, 1) doesn't make bic smaller\n",
      "bic: -68502.19784750968\n",
      "order: (4, 0, 2) doesn't make bic smaller\n",
      "bic: -68481.38705722483\n",
      "order: (4, 0, 3) doesn't make bic smaller\n",
      "bic: -68485.17578559386\n",
      "order: (4, 0, 4) doesn't make bic smaller\n",
      "bic: -68463.09445269489\n",
      "order: (4, 0, 5) doesn't make bic smaller\n",
      "bic: -68453.94807112307\n",
      "order: (4, 0, 10) doesn't make bic smaller\n",
      "bic: -68424.72866914436\n",
      "order: (4, 0, 20) doesn't make bic smaller\n",
      "bic: -68352.82380326926\n",
      "order: (4, 0, 60) doesn't make bic smaller\n",
      "bic: -68019.2886350162\n",
      "order: (5, 0, 0) doesn't make bic smaller\n",
      "bic: -68502.70006076014\n",
      "order: (5, 0, 1) doesn't make bic smaller\n",
      "bic: -68493.5683018615\n",
      "order: (5, 0, 2) doesn't make bic smaller\n",
      "bic: -68472.23955016202\n",
      "order: (5, 0, 3) doesn't make bic smaller\n",
      "bic: -68463.0941220499\n",
      "order: (5, 0, 4) doesn't make bic smaller\n",
      "bic: -68453.94599825604\n",
      "order: (5, 0, 5) doesn't make bic smaller\n",
      "bic: -68444.79067095125\n",
      "order: (5, 0, 10) doesn't make bic smaller\n",
      "bic: -68415.76301737278\n",
      "order: (5, 0, 20) doesn't make bic smaller\n",
      "bic: -68343.8538556595\n",
      "order: (5, 0, 60) doesn't make bic smaller\n",
      "bic: -68010.38205534001\n",
      "order: (10, 0, 0) doesn't make bic smaller\n",
      "bic: -68459.55507368252\n",
      "order: (10, 0, 1) doesn't make bic smaller\n",
      "bic: -68450.33165241379\n",
      "order: (10, 0, 2) doesn't make bic smaller\n",
      "bic: -68441.18438123843\n",
      "order: (10, 0, 3) doesn't make bic smaller\n",
      "bic: -68432.02487146792\n",
      "order: (10, 0, 4) doesn't make bic smaller\n",
      "bic: -68408.20143886325\n",
      "order: (10, 0, 5) doesn't make bic smaller\n",
      "bic: -68399.06021195243\n",
      "order: (10, 0, 10) doesn't make bic smaller\n",
      "bic: -68374.0451556349\n",
      "order: (10, 0, 20) doesn't make bic smaller\n",
      "bic: -68295.54080443885\n",
      "order: (10, 0, 60) doesn't make bic smaller\n",
      "bic: -67963.9512793803\n",
      "order: (20, 0, 0) doesn't make bic smaller\n",
      "bic: -68389.66690769572\n",
      "order: (20, 0, 1) doesn't make bic smaller\n",
      "bic: -68380.49806996089\n",
      "order: (20, 0, 2) doesn't make bic smaller\n",
      "bic: -68335.02576388806\n",
      "order: (20, 0, 3) doesn't make bic smaller\n",
      "bic: -68362.19222412263\n",
      "order: (20, 0, 4) doesn't make bic smaller\n",
      "bic: -68316.73093972332\n",
      "order: (20, 0, 5) doesn't make bic smaller\n",
      "bic: -68307.58357497233\n",
      "order: (20, 0, 10) doesn't make bic smaller\n",
      "bic: -68261.85214593899\n",
      "order: (20, 0, 20) doesn't make bic smaller\n",
      "bic: -68170.37683859751\n",
      "order: (20, 0, 60) doesn't make bic smaller\n",
      "bic: -67878.36242038151\n",
      "order: (60, 0, 0) doesn't make bic smaller\n",
      "bic: -68060.02120853685\n",
      "order: (60, 0, 1) doesn't make bic smaller\n",
      "bic: -68050.84381451506\n",
      "order: (60, 0, 2) doesn't make bic smaller\n",
      "bic: -68041.6858955375\n",
      "order: (60, 0, 3) doesn't make bic smaller\n",
      "bic: -68032.52837043433\n",
      "order: (60, 0, 4) doesn't make bic smaller\n",
      "bic: -68023.3576910861\n",
      "order: (60, 0, 5) doesn't make bic smaller\n",
      "bic: -67941.68885693874\n",
      "order: (60, 0, 10) doesn't make bic smaller\n",
      "bic: -67895.9514233404\n",
      "order: (60, 0, 20) doesn't make bic smaller\n",
      "bic: -67804.47729535348\n",
      "order: (60, 0, 60) doesn't make bic smaller\n",
      "bic: -67511.81253934499\n",
      "min_bic_order: (1, 0, 0)\n"
     ]
    },
    {
     "data": {
      "text/plain": [
       "(1, 0, 0)"
      ]
     },
     "execution_count": 54,
     "metadata": {},
     "output_type": "execute_result"
    }
   ],
   "source": [
    "min_bic_order = grid_search_p_q(p_d_q_select_gbp, p_list, d, q_list)"
   ]
  },
  {
   "cell_type": "code",
   "execution_count": null,
   "metadata": {},
   "outputs": [],
   "source": [
    "# min_bic_order = (1, 0, 0)"
   ]
  },
  {
   "cell_type": "markdown",
   "metadata": {},
   "source": [
    "### recursive window"
   ]
  },
  {
   "cell_type": "code",
   "execution_count": 72,
   "metadata": {},
   "outputs": [],
   "source": [
    "gbp_true, gbp_recursive_linear_prediction, gbp_recursive_linear_residue = recursive_true_linear_residue(p_d_q_select_gbp, min_bic_order, diff_log_data, 'GBPUSD Curncy')"
   ]
  },
  {
   "cell_type": "code",
   "execution_count": 73,
   "metadata": {},
   "outputs": [
    {
     "data": {
      "text/plain": [
       "1981-01-02   -0.002934\n",
       "1981-01-05    0.013966\n",
       "1981-01-06    0.002894\n",
       "1981-01-07   -0.004551\n",
       "1981-01-08   -0.003323\n",
       "                ...   \n",
       "2020-12-25    0.000148\n",
       "2020-12-28   -0.007996\n",
       "2020-12-29    0.003784\n",
       "2020-12-30    0.008994\n",
       "2020-12-31    0.003297\n",
       "Name: GBPUSD Curncy, Length: 10435, dtype: float64"
      ]
     },
     "execution_count": 73,
     "metadata": {},
     "output_type": "execute_result"
    }
   ],
   "source": [
    "gbp_true"
   ]
  },
  {
   "cell_type": "code",
   "execution_count": 74,
   "metadata": {},
   "outputs": [
    {
     "data": {
      "text/plain": [
       "1981-01-02   -0.000071\n",
       "1981-01-05   -0.000167\n",
       "1981-01-06    0.000401\n",
       "1981-01-07    0.000029\n",
       "1981-01-08   -0.000221\n",
       "                ...   \n",
       "2020-12-25    0.000109\n",
       "2020-12-28   -0.000048\n",
       "2020-12-29   -0.000323\n",
       "2020-12-30    0.000074\n",
       "2020-12-31    0.000251\n",
       "Freq: B, Length: 10435, dtype: float64"
      ]
     },
     "execution_count": 74,
     "metadata": {},
     "output_type": "execute_result"
    }
   ],
   "source": [
    "gbp_recursive_linear_prediction"
   ]
  },
  {
   "cell_type": "code",
   "execution_count": 75,
   "metadata": {},
   "outputs": [
    {
     "data": {
      "text/plain": [
       "1981-01-02   -0.002864\n",
       "1981-01-05    0.014132\n",
       "1981-01-06    0.002493\n",
       "1981-01-07   -0.004580\n",
       "1981-01-08   -0.003102\n",
       "                ...   \n",
       "2020-12-25    0.000038\n",
       "2020-12-28   -0.007949\n",
       "2020-12-29    0.004107\n",
       "2020-12-30    0.008920\n",
       "2020-12-31    0.003047\n",
       "Length: 10435, dtype: float64"
      ]
     },
     "execution_count": 75,
     "metadata": {},
     "output_type": "execute_result"
    }
   ],
   "source": [
    "gbp_recursive_linear_residue"
   ]
  },
  {
   "cell_type": "markdown",
   "metadata": {},
   "source": [
    "### rolling window"
   ]
  },
  {
   "cell_type": "code",
   "execution_count": 76,
   "metadata": {},
   "outputs": [],
   "source": [
    "gbp_true, gbp_rolling_linear_prediction, gbp_rolling_linear_residue = rolling_true_linear_residue(p_d_q_select_gbp, min_bic_order, diff_log_data, 'GBPUSD Curncy')"
   ]
  },
  {
   "cell_type": "code",
   "execution_count": 77,
   "metadata": {},
   "outputs": [
    {
     "data": {
      "text/plain": [
       "1981-01-02   -0.002934\n",
       "1981-01-05    0.013966\n",
       "1981-01-06    0.002894\n",
       "1981-01-07   -0.004551\n",
       "1981-01-08   -0.003323\n",
       "                ...   \n",
       "2020-12-25    0.000148\n",
       "2020-12-28   -0.007996\n",
       "2020-12-29    0.003784\n",
       "2020-12-30    0.008994\n",
       "2020-12-31    0.003297\n",
       "Name: GBPUSD Curncy, Length: 10435, dtype: float64"
      ]
     },
     "execution_count": 77,
     "metadata": {},
     "output_type": "execute_result"
    }
   ],
   "source": [
    "gbp_true"
   ]
  },
  {
   "cell_type": "code",
   "execution_count": 78,
   "metadata": {},
   "outputs": [
    {
     "data": {
      "text/plain": [
       "1981-01-02   -0.000071\n",
       "1981-01-05   -0.000167\n",
       "1981-01-06    0.000401\n",
       "1981-01-07    0.000029\n",
       "1981-01-08   -0.000221\n",
       "                ...   \n",
       "2020-12-25    0.000171\n",
       "2020-12-28    0.000020\n",
       "2020-12-29   -0.000245\n",
       "2020-12-30    0.000138\n",
       "2020-12-31    0.000309\n",
       "Freq: B, Length: 10435, dtype: float64"
      ]
     },
     "execution_count": 78,
     "metadata": {},
     "output_type": "execute_result"
    }
   ],
   "source": [
    "gbp_rolling_linear_prediction"
   ]
  },
  {
   "cell_type": "code",
   "execution_count": 79,
   "metadata": {},
   "outputs": [
    {
     "data": {
      "text/plain": [
       "1981-01-02   -0.002864\n",
       "1981-01-05    0.014132\n",
       "1981-01-06    0.002493\n",
       "1981-01-07   -0.004580\n",
       "1981-01-08   -0.003102\n",
       "                ...   \n",
       "2020-12-25   -0.000024\n",
       "2020-12-28   -0.008017\n",
       "2020-12-29    0.004029\n",
       "2020-12-30    0.008856\n",
       "2020-12-31    0.002988\n",
       "Length: 10435, dtype: float64"
      ]
     },
     "execution_count": 79,
     "metadata": {},
     "output_type": "execute_result"
    }
   ],
   "source": [
    "gbp_rolling_linear_residue"
   ]
  },
  {
   "cell_type": "markdown",
   "metadata": {},
   "source": [
    "# Recursive linear_prediction and linear_residue"
   ]
  },
  {
   "cell_type": "code",
   "execution_count": 110,
   "metadata": {},
   "outputs": [
    {
     "data": {
      "text/html": [
       "<div>\n",
       "<style scoped>\n",
       "    .dataframe tbody tr th:only-of-type {\n",
       "        vertical-align: middle;\n",
       "    }\n",
       "\n",
       "    .dataframe tbody tr th {\n",
       "        vertical-align: top;\n",
       "    }\n",
       "\n",
       "    .dataframe thead th {\n",
       "        text-align: right;\n",
       "    }\n",
       "</style>\n",
       "<table border=\"1\" class=\"dataframe\">\n",
       "  <thead>\n",
       "    <tr style=\"text-align: right;\">\n",
       "      <th></th>\n",
       "      <th>cad_recursive_linear_prediction</th>\n",
       "      <th>aud_recursive_linear_prediction</th>\n",
       "      <th>gbp_recursive_linear_prediction</th>\n",
       "    </tr>\n",
       "  </thead>\n",
       "  <tbody>\n",
       "    <tr>\n",
       "      <th>1981-01-02</th>\n",
       "      <td>-0.000018</td>\n",
       "      <td>-0.000058</td>\n",
       "      <td>-0.000071</td>\n",
       "    </tr>\n",
       "    <tr>\n",
       "      <th>1981-01-05</th>\n",
       "      <td>-0.000018</td>\n",
       "      <td>-0.000058</td>\n",
       "      <td>-0.000167</td>\n",
       "    </tr>\n",
       "    <tr>\n",
       "      <th>1981-01-06</th>\n",
       "      <td>-0.000018</td>\n",
       "      <td>-0.000058</td>\n",
       "      <td>0.000401</td>\n",
       "    </tr>\n",
       "    <tr>\n",
       "      <th>1981-01-07</th>\n",
       "      <td>-0.000018</td>\n",
       "      <td>-0.000058</td>\n",
       "      <td>0.000029</td>\n",
       "    </tr>\n",
       "    <tr>\n",
       "      <th>1981-01-08</th>\n",
       "      <td>-0.000018</td>\n",
       "      <td>-0.000058</td>\n",
       "      <td>-0.000221</td>\n",
       "    </tr>\n",
       "    <tr>\n",
       "      <th>...</th>\n",
       "      <td>...</td>\n",
       "      <td>...</td>\n",
       "      <td>...</td>\n",
       "    </tr>\n",
       "    <tr>\n",
       "      <th>2020-12-25</th>\n",
       "      <td>-0.000012</td>\n",
       "      <td>-0.000047</td>\n",
       "      <td>0.000109</td>\n",
       "    </tr>\n",
       "    <tr>\n",
       "      <th>2020-12-28</th>\n",
       "      <td>-0.000012</td>\n",
       "      <td>-0.000047</td>\n",
       "      <td>-0.000048</td>\n",
       "    </tr>\n",
       "    <tr>\n",
       "      <th>2020-12-29</th>\n",
       "      <td>-0.000012</td>\n",
       "      <td>-0.000048</td>\n",
       "      <td>-0.000323</td>\n",
       "    </tr>\n",
       "    <tr>\n",
       "      <th>2020-12-30</th>\n",
       "      <td>-0.000012</td>\n",
       "      <td>-0.000047</td>\n",
       "      <td>0.000074</td>\n",
       "    </tr>\n",
       "    <tr>\n",
       "      <th>2020-12-31</th>\n",
       "      <td>-0.000011</td>\n",
       "      <td>-0.000046</td>\n",
       "      <td>0.000251</td>\n",
       "    </tr>\n",
       "  </tbody>\n",
       "</table>\n",
       "<p>10435 rows × 3 columns</p>\n",
       "</div>"
      ],
      "text/plain": [
       "            cad_recursive_linear_prediction  aud_recursive_linear_prediction  \\\n",
       "1981-01-02                        -0.000018                        -0.000058   \n",
       "1981-01-05                        -0.000018                        -0.000058   \n",
       "1981-01-06                        -0.000018                        -0.000058   \n",
       "1981-01-07                        -0.000018                        -0.000058   \n",
       "1981-01-08                        -0.000018                        -0.000058   \n",
       "...                                     ...                              ...   \n",
       "2020-12-25                        -0.000012                        -0.000047   \n",
       "2020-12-28                        -0.000012                        -0.000047   \n",
       "2020-12-29                        -0.000012                        -0.000048   \n",
       "2020-12-30                        -0.000012                        -0.000047   \n",
       "2020-12-31                        -0.000011                        -0.000046   \n",
       "\n",
       "            gbp_recursive_linear_prediction  \n",
       "1981-01-02                        -0.000071  \n",
       "1981-01-05                        -0.000167  \n",
       "1981-01-06                         0.000401  \n",
       "1981-01-07                         0.000029  \n",
       "1981-01-08                        -0.000221  \n",
       "...                                     ...  \n",
       "2020-12-25                         0.000109  \n",
       "2020-12-28                        -0.000048  \n",
       "2020-12-29                        -0.000323  \n",
       "2020-12-30                         0.000074  \n",
       "2020-12-31                         0.000251  \n",
       "\n",
       "[10435 rows x 3 columns]"
      ]
     },
     "execution_count": 110,
     "metadata": {},
     "output_type": "execute_result"
    }
   ],
   "source": [
    "recursive_linear_prediction = pd.concat([cad_recursive_linear_prediction, aud_recursive_linear_prediction, gbp_recursive_linear_prediction], axis=1)\n",
    "recursive_linear_prediction.columns = ['cad_recursive_linear_prediction', 'aud_recursive_linear_prediction', 'gbp_recursive_linear_prediction']\n",
    "recursive_linear_prediction"
   ]
  },
  {
   "cell_type": "code",
   "execution_count": 111,
   "metadata": {},
   "outputs": [],
   "source": [
    "recursive_linear_prediction.to_csv('./recursive_linear_prediction.csv')"
   ]
  },
  {
   "cell_type": "code",
   "execution_count": 109,
   "metadata": {},
   "outputs": [
    {
     "data": {
      "text/html": [
       "<div>\n",
       "<style scoped>\n",
       "    .dataframe tbody tr th:only-of-type {\n",
       "        vertical-align: middle;\n",
       "    }\n",
       "\n",
       "    .dataframe tbody tr th {\n",
       "        vertical-align: top;\n",
       "    }\n",
       "\n",
       "    .dataframe thead th {\n",
       "        text-align: right;\n",
       "    }\n",
       "</style>\n",
       "<table border=\"1\" class=\"dataframe\">\n",
       "  <thead>\n",
       "    <tr style=\"text-align: right;\">\n",
       "      <th></th>\n",
       "      <th>cad_recursive_linear_residue</th>\n",
       "      <th>aud_recursive_linear_residue</th>\n",
       "      <th>gbp_recursive_linear_residue</th>\n",
       "    </tr>\n",
       "  </thead>\n",
       "  <tbody>\n",
       "    <tr>\n",
       "      <th>1981-01-02</th>\n",
       "      <td>-0.000221</td>\n",
       "      <td>-0.000959</td>\n",
       "      <td>-0.002864</td>\n",
       "    </tr>\n",
       "    <tr>\n",
       "      <th>1981-01-05</th>\n",
       "      <td>0.005142</td>\n",
       "      <td>0.003863</td>\n",
       "      <td>0.014132</td>\n",
       "    </tr>\n",
       "    <tr>\n",
       "      <th>1981-01-06</th>\n",
       "      <td>0.000374</td>\n",
       "      <td>0.003681</td>\n",
       "      <td>0.002493</td>\n",
       "    </tr>\n",
       "    <tr>\n",
       "      <th>1981-01-07</th>\n",
       "      <td>0.000255</td>\n",
       "      <td>0.000058</td>\n",
       "      <td>-0.004580</td>\n",
       "    </tr>\n",
       "    <tr>\n",
       "      <th>1981-01-08</th>\n",
       "      <td>0.000018</td>\n",
       "      <td>-0.002047</td>\n",
       "      <td>-0.003102</td>\n",
       "    </tr>\n",
       "    <tr>\n",
       "      <th>...</th>\n",
       "      <td>...</td>\n",
       "      <td>...</td>\n",
       "      <td>...</td>\n",
       "    </tr>\n",
       "    <tr>\n",
       "      <th>2020-12-25</th>\n",
       "      <td>-0.000117</td>\n",
       "      <td>0.001100</td>\n",
       "      <td>0.000038</td>\n",
       "    </tr>\n",
       "    <tr>\n",
       "      <th>2020-12-28</th>\n",
       "      <td>0.001426</td>\n",
       "      <td>-0.003377</td>\n",
       "      <td>-0.007949</td>\n",
       "    </tr>\n",
       "    <tr>\n",
       "      <th>2020-12-29</th>\n",
       "      <td>0.002194</td>\n",
       "      <td>0.003604</td>\n",
       "      <td>0.004107</td>\n",
       "    </tr>\n",
       "    <tr>\n",
       "      <th>2020-12-30</th>\n",
       "      <td>0.005254</td>\n",
       "      <td>0.010510</td>\n",
       "      <td>0.008920</td>\n",
       "    </tr>\n",
       "    <tr>\n",
       "      <th>2020-12-31</th>\n",
       "      <td>0.001413</td>\n",
       "      <td>0.001087</td>\n",
       "      <td>0.003047</td>\n",
       "    </tr>\n",
       "  </tbody>\n",
       "</table>\n",
       "<p>10435 rows × 3 columns</p>\n",
       "</div>"
      ],
      "text/plain": [
       "            cad_recursive_linear_residue  aud_recursive_linear_residue  \\\n",
       "1981-01-02                     -0.000221                     -0.000959   \n",
       "1981-01-05                      0.005142                      0.003863   \n",
       "1981-01-06                      0.000374                      0.003681   \n",
       "1981-01-07                      0.000255                      0.000058   \n",
       "1981-01-08                      0.000018                     -0.002047   \n",
       "...                                  ...                           ...   \n",
       "2020-12-25                     -0.000117                      0.001100   \n",
       "2020-12-28                      0.001426                     -0.003377   \n",
       "2020-12-29                      0.002194                      0.003604   \n",
       "2020-12-30                      0.005254                      0.010510   \n",
       "2020-12-31                      0.001413                      0.001087   \n",
       "\n",
       "            gbp_recursive_linear_residue  \n",
       "1981-01-02                     -0.002864  \n",
       "1981-01-05                      0.014132  \n",
       "1981-01-06                      0.002493  \n",
       "1981-01-07                     -0.004580  \n",
       "1981-01-08                     -0.003102  \n",
       "...                                  ...  \n",
       "2020-12-25                      0.000038  \n",
       "2020-12-28                     -0.007949  \n",
       "2020-12-29                      0.004107  \n",
       "2020-12-30                      0.008920  \n",
       "2020-12-31                      0.003047  \n",
       "\n",
       "[10435 rows x 3 columns]"
      ]
     },
     "execution_count": 109,
     "metadata": {},
     "output_type": "execute_result"
    }
   ],
   "source": [
    "recursive_linear_residue = pd.concat([cad_recursive_linear_residue, aud_recursive_linear_residue, gbp_recursive_linear_residue], axis=1)\n",
    "recursive_linear_residue.columns = ['cad_recursive_linear_residue', 'aud_recursive_linear_residue', 'gbp_recursive_linear_residue']\n",
    "recursive_linear_residue"
   ]
  },
  {
   "cell_type": "code",
   "execution_count": 112,
   "metadata": {},
   "outputs": [],
   "source": [
    "recursive_linear_residue.to_csv('./recursive_linear_residue.csv')"
   ]
  },
  {
   "cell_type": "markdown",
   "metadata": {},
   "source": [
    "# Rolling linear_prediction and linear_residue"
   ]
  },
  {
   "cell_type": "code",
   "execution_count": 108,
   "metadata": {},
   "outputs": [
    {
     "data": {
      "text/html": [
       "<div>\n",
       "<style scoped>\n",
       "    .dataframe tbody tr th:only-of-type {\n",
       "        vertical-align: middle;\n",
       "    }\n",
       "\n",
       "    .dataframe tbody tr th {\n",
       "        vertical-align: top;\n",
       "    }\n",
       "\n",
       "    .dataframe thead th {\n",
       "        text-align: right;\n",
       "    }\n",
       "</style>\n",
       "<table border=\"1\" class=\"dataframe\">\n",
       "  <thead>\n",
       "    <tr style=\"text-align: right;\">\n",
       "      <th></th>\n",
       "      <th>cad_rolling_linear_prediction</th>\n",
       "      <th>aud_rolling_linear_prediction</th>\n",
       "      <th>gbp_rolling_linear_prediction</th>\n",
       "    </tr>\n",
       "  </thead>\n",
       "  <tbody>\n",
       "    <tr>\n",
       "      <th>1981-01-02</th>\n",
       "      <td>-0.000018</td>\n",
       "      <td>-0.000058</td>\n",
       "      <td>-0.000071</td>\n",
       "    </tr>\n",
       "    <tr>\n",
       "      <th>1981-01-05</th>\n",
       "      <td>-0.000018</td>\n",
       "      <td>-0.000058</td>\n",
       "      <td>-0.000167</td>\n",
       "    </tr>\n",
       "    <tr>\n",
       "      <th>1981-01-06</th>\n",
       "      <td>-0.000018</td>\n",
       "      <td>-0.000058</td>\n",
       "      <td>0.000401</td>\n",
       "    </tr>\n",
       "    <tr>\n",
       "      <th>1981-01-07</th>\n",
       "      <td>-0.000018</td>\n",
       "      <td>-0.000058</td>\n",
       "      <td>0.000029</td>\n",
       "    </tr>\n",
       "    <tr>\n",
       "      <th>1981-01-08</th>\n",
       "      <td>-0.000018</td>\n",
       "      <td>-0.000058</td>\n",
       "      <td>-0.000221</td>\n",
       "    </tr>\n",
       "    <tr>\n",
       "      <th>...</th>\n",
       "      <td>...</td>\n",
       "      <td>...</td>\n",
       "      <td>...</td>\n",
       "    </tr>\n",
       "    <tr>\n",
       "      <th>2020-12-25</th>\n",
       "      <td>-0.000002</td>\n",
       "      <td>-0.000015</td>\n",
       "      <td>0.000171</td>\n",
       "    </tr>\n",
       "    <tr>\n",
       "      <th>2020-12-28</th>\n",
       "      <td>-0.000002</td>\n",
       "      <td>-0.000014</td>\n",
       "      <td>0.000020</td>\n",
       "    </tr>\n",
       "    <tr>\n",
       "      <th>2020-12-29</th>\n",
       "      <td>-0.000002</td>\n",
       "      <td>-0.000014</td>\n",
       "      <td>-0.000245</td>\n",
       "    </tr>\n",
       "    <tr>\n",
       "      <th>2020-12-30</th>\n",
       "      <td>-0.000002</td>\n",
       "      <td>-0.000014</td>\n",
       "      <td>0.000138</td>\n",
       "    </tr>\n",
       "    <tr>\n",
       "      <th>2020-12-31</th>\n",
       "      <td>-0.000001</td>\n",
       "      <td>-0.000013</td>\n",
       "      <td>0.000309</td>\n",
       "    </tr>\n",
       "  </tbody>\n",
       "</table>\n",
       "<p>10435 rows × 3 columns</p>\n",
       "</div>"
      ],
      "text/plain": [
       "            cad_rolling_linear_prediction  aud_rolling_linear_prediction  \\\n",
       "1981-01-02                      -0.000018                      -0.000058   \n",
       "1981-01-05                      -0.000018                      -0.000058   \n",
       "1981-01-06                      -0.000018                      -0.000058   \n",
       "1981-01-07                      -0.000018                      -0.000058   \n",
       "1981-01-08                      -0.000018                      -0.000058   \n",
       "...                                   ...                            ...   \n",
       "2020-12-25                      -0.000002                      -0.000015   \n",
       "2020-12-28                      -0.000002                      -0.000014   \n",
       "2020-12-29                      -0.000002                      -0.000014   \n",
       "2020-12-30                      -0.000002                      -0.000014   \n",
       "2020-12-31                      -0.000001                      -0.000013   \n",
       "\n",
       "            gbp_rolling_linear_prediction  \n",
       "1981-01-02                      -0.000071  \n",
       "1981-01-05                      -0.000167  \n",
       "1981-01-06                       0.000401  \n",
       "1981-01-07                       0.000029  \n",
       "1981-01-08                      -0.000221  \n",
       "...                                   ...  \n",
       "2020-12-25                       0.000171  \n",
       "2020-12-28                       0.000020  \n",
       "2020-12-29                      -0.000245  \n",
       "2020-12-30                       0.000138  \n",
       "2020-12-31                       0.000309  \n",
       "\n",
       "[10435 rows x 3 columns]"
      ]
     },
     "execution_count": 108,
     "metadata": {},
     "output_type": "execute_result"
    }
   ],
   "source": [
    "rolling_linear_prediction = pd.concat([cad_rolling_linear_prediction, aud_rolling_linear_prediction, gbp_rolling_linear_prediction], axis=1)\n",
    "rolling_linear_prediction.columns = ['cad_rolling_linear_prediction', 'aud_rolling_linear_prediction', 'gbp_rolling_linear_prediction']\n",
    "rolling_linear_prediction"
   ]
  },
  {
   "cell_type": "code",
   "execution_count": 113,
   "metadata": {},
   "outputs": [],
   "source": [
    "rolling_linear_prediction.to_csv('./rolling_linear_prediction.csv')"
   ]
  },
  {
   "cell_type": "code",
   "execution_count": 107,
   "metadata": {},
   "outputs": [
    {
     "data": {
      "text/html": [
       "<div>\n",
       "<style scoped>\n",
       "    .dataframe tbody tr th:only-of-type {\n",
       "        vertical-align: middle;\n",
       "    }\n",
       "\n",
       "    .dataframe tbody tr th {\n",
       "        vertical-align: top;\n",
       "    }\n",
       "\n",
       "    .dataframe thead th {\n",
       "        text-align: right;\n",
       "    }\n",
       "</style>\n",
       "<table border=\"1\" class=\"dataframe\">\n",
       "  <thead>\n",
       "    <tr style=\"text-align: right;\">\n",
       "      <th></th>\n",
       "      <th>cad_rolling_linear_residue</th>\n",
       "      <th>aud_rolling_linear_residue</th>\n",
       "      <th>gbp_rolling_linear_residue</th>\n",
       "    </tr>\n",
       "  </thead>\n",
       "  <tbody>\n",
       "    <tr>\n",
       "      <th>1981-01-02</th>\n",
       "      <td>-0.000221</td>\n",
       "      <td>-0.000959</td>\n",
       "      <td>-0.002864</td>\n",
       "    </tr>\n",
       "    <tr>\n",
       "      <th>1981-01-05</th>\n",
       "      <td>0.005142</td>\n",
       "      <td>0.003863</td>\n",
       "      <td>0.014132</td>\n",
       "    </tr>\n",
       "    <tr>\n",
       "      <th>1981-01-06</th>\n",
       "      <td>0.000374</td>\n",
       "      <td>0.003681</td>\n",
       "      <td>0.002493</td>\n",
       "    </tr>\n",
       "    <tr>\n",
       "      <th>1981-01-07</th>\n",
       "      <td>0.000255</td>\n",
       "      <td>0.000058</td>\n",
       "      <td>-0.004580</td>\n",
       "    </tr>\n",
       "    <tr>\n",
       "      <th>1981-01-08</th>\n",
       "      <td>0.000018</td>\n",
       "      <td>-0.002047</td>\n",
       "      <td>-0.003102</td>\n",
       "    </tr>\n",
       "    <tr>\n",
       "      <th>...</th>\n",
       "      <td>...</td>\n",
       "      <td>...</td>\n",
       "      <td>...</td>\n",
       "    </tr>\n",
       "    <tr>\n",
       "      <th>2020-12-25</th>\n",
       "      <td>-0.000126</td>\n",
       "      <td>0.001068</td>\n",
       "      <td>-0.000024</td>\n",
       "    </tr>\n",
       "    <tr>\n",
       "      <th>2020-12-28</th>\n",
       "      <td>0.001416</td>\n",
       "      <td>-0.003410</td>\n",
       "      <td>-0.008017</td>\n",
       "    </tr>\n",
       "    <tr>\n",
       "      <th>2020-12-29</th>\n",
       "      <td>0.002184</td>\n",
       "      <td>0.003571</td>\n",
       "      <td>0.004029</td>\n",
       "    </tr>\n",
       "    <tr>\n",
       "      <th>2020-12-30</th>\n",
       "      <td>0.005244</td>\n",
       "      <td>0.010477</td>\n",
       "      <td>0.008856</td>\n",
       "    </tr>\n",
       "    <tr>\n",
       "      <th>2020-12-31</th>\n",
       "      <td>0.001403</td>\n",
       "      <td>0.001053</td>\n",
       "      <td>0.002988</td>\n",
       "    </tr>\n",
       "  </tbody>\n",
       "</table>\n",
       "<p>10435 rows × 3 columns</p>\n",
       "</div>"
      ],
      "text/plain": [
       "            cad_rolling_linear_residue  aud_rolling_linear_residue  \\\n",
       "1981-01-02                   -0.000221                   -0.000959   \n",
       "1981-01-05                    0.005142                    0.003863   \n",
       "1981-01-06                    0.000374                    0.003681   \n",
       "1981-01-07                    0.000255                    0.000058   \n",
       "1981-01-08                    0.000018                   -0.002047   \n",
       "...                                ...                         ...   \n",
       "2020-12-25                   -0.000126                    0.001068   \n",
       "2020-12-28                    0.001416                   -0.003410   \n",
       "2020-12-29                    0.002184                    0.003571   \n",
       "2020-12-30                    0.005244                    0.010477   \n",
       "2020-12-31                    0.001403                    0.001053   \n",
       "\n",
       "            gbp_rolling_linear_residue  \n",
       "1981-01-02                   -0.002864  \n",
       "1981-01-05                    0.014132  \n",
       "1981-01-06                    0.002493  \n",
       "1981-01-07                   -0.004580  \n",
       "1981-01-08                   -0.003102  \n",
       "...                                ...  \n",
       "2020-12-25                   -0.000024  \n",
       "2020-12-28                   -0.008017  \n",
       "2020-12-29                    0.004029  \n",
       "2020-12-30                    0.008856  \n",
       "2020-12-31                    0.002988  \n",
       "\n",
       "[10435 rows x 3 columns]"
      ]
     },
     "execution_count": 107,
     "metadata": {},
     "output_type": "execute_result"
    }
   ],
   "source": [
    "rolling_linear_residue = pd.concat([cad_rolling_linear_residue, aud_rolling_linear_residue, gbp_rolling_linear_residue], axis=1)\n",
    "rolling_linear_residue.columns = ['cad_rolling_linear_residue', 'aud_rolling_linear_residue', 'gbp_rolling_linear_residue']\n",
    "rolling_linear_residue"
   ]
  },
  {
   "cell_type": "code",
   "execution_count": 114,
   "metadata": {},
   "outputs": [],
   "source": [
    "rolling_linear_residue.to_csv('./rolling_linear_residue.csv')"
   ]
  }
 ],
 "metadata": {
  "interpreter": {
   "hash": "df7b5488ca770e51839d47babcf4bff43b3ec2d4a9964e05f9d2336b92830421"
  },
  "kernelspec": {
   "display_name": "Python 3.8.8 64-bit ('quant': conda)",
   "language": "python",
   "name": "python3"
  },
  "language_info": {
   "codemirror_mode": {
    "name": "ipython",
    "version": 3
   },
   "file_extension": ".py",
   "mimetype": "text/x-python",
   "name": "python",
   "nbconvert_exporter": "python",
   "pygments_lexer": "ipython3",
   "version": "3.8.8"
  },
  "orig_nbformat": 4
 },
 "nbformat": 4,
 "nbformat_minor": 2
}
